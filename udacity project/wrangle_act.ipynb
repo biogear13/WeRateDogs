{
 "cells": [
  {
   "cell_type": "markdown",
   "metadata": {
    "extensions": {
     "jupyter_dashboards": {
      "version": 1,
      "views": {
       "grid_default": {
        "col": 0,
        "height": 4,
        "hidden": false,
        "row": 0,
        "width": 4
       },
       "report_default": {
        "hidden": false
       }
      }
     }
    }
   },
   "source": [
    "# Project: Wrangling and Analyze Data"
   ]
  },
  {
   "cell_type": "markdown",
   "metadata": {},
   "source": [
    "## Data Gathering\n",
    "In the cell below, gather **all** three pieces of data for this project and load them in the notebook. **Note:** the methods required to gather each data are different.\n",
    "1. Directly download the WeRateDogs Twitter archive data (twitter_archive_enhanced.csv)"
   ]
  },
  {
   "cell_type": "code",
   "execution_count": 208,
   "metadata": {
    "extensions": {
     "jupyter_dashboards": {
      "version": 1,
      "views": {
       "grid_default": {
        "hidden": true
       },
       "report_default": {
        "hidden": true
       }
      }
     }
    }
   },
   "outputs": [],
   "source": [
    "import pandas as pd\n",
    "import numpy as np"
   ]
  },
  {
   "cell_type": "code",
   "execution_count": 209,
   "metadata": {},
   "outputs": [
    {
     "data": {
      "text/html": [
       "<div>\n",
       "<style scoped>\n",
       "    .dataframe tbody tr th:only-of-type {\n",
       "        vertical-align: middle;\n",
       "    }\n",
       "\n",
       "    .dataframe tbody tr th {\n",
       "        vertical-align: top;\n",
       "    }\n",
       "\n",
       "    .dataframe thead th {\n",
       "        text-align: right;\n",
       "    }\n",
       "</style>\n",
       "<table border=\"1\" class=\"dataframe\">\n",
       "  <thead>\n",
       "    <tr style=\"text-align: right;\">\n",
       "      <th></th>\n",
       "      <th>tweet_id</th>\n",
       "      <th>in_reply_to_status_id</th>\n",
       "      <th>in_reply_to_user_id</th>\n",
       "      <th>timestamp</th>\n",
       "      <th>source</th>\n",
       "      <th>text</th>\n",
       "      <th>retweeted_status_id</th>\n",
       "      <th>retweeted_status_user_id</th>\n",
       "      <th>retweeted_status_timestamp</th>\n",
       "      <th>expanded_urls</th>\n",
       "      <th>rating_numerator</th>\n",
       "      <th>rating_denominator</th>\n",
       "      <th>name</th>\n",
       "      <th>doggo</th>\n",
       "      <th>floofer</th>\n",
       "      <th>pupper</th>\n",
       "      <th>puppo</th>\n",
       "    </tr>\n",
       "  </thead>\n",
       "  <tbody>\n",
       "    <tr>\n",
       "      <th>0</th>\n",
       "      <td>892420643555336193</td>\n",
       "      <td>NaN</td>\n",
       "      <td>NaN</td>\n",
       "      <td>2017-08-01 16:23:56 +0000</td>\n",
       "      <td>&lt;a href=\"http://twitter.com/download/iphone\" r...</td>\n",
       "      <td>This is Phineas. He's a mystical boy. Only eve...</td>\n",
       "      <td>NaN</td>\n",
       "      <td>NaN</td>\n",
       "      <td>NaN</td>\n",
       "      <td>https://twitter.com/dog_rates/status/892420643...</td>\n",
       "      <td>13</td>\n",
       "      <td>10</td>\n",
       "      <td>Phineas</td>\n",
       "      <td>None</td>\n",
       "      <td>None</td>\n",
       "      <td>None</td>\n",
       "      <td>None</td>\n",
       "    </tr>\n",
       "    <tr>\n",
       "      <th>1</th>\n",
       "      <td>892177421306343426</td>\n",
       "      <td>NaN</td>\n",
       "      <td>NaN</td>\n",
       "      <td>2017-08-01 00:17:27 +0000</td>\n",
       "      <td>&lt;a href=\"http://twitter.com/download/iphone\" r...</td>\n",
       "      <td>This is Tilly. She's just checking pup on you....</td>\n",
       "      <td>NaN</td>\n",
       "      <td>NaN</td>\n",
       "      <td>NaN</td>\n",
       "      <td>https://twitter.com/dog_rates/status/892177421...</td>\n",
       "      <td>13</td>\n",
       "      <td>10</td>\n",
       "      <td>Tilly</td>\n",
       "      <td>None</td>\n",
       "      <td>None</td>\n",
       "      <td>None</td>\n",
       "      <td>None</td>\n",
       "    </tr>\n",
       "    <tr>\n",
       "      <th>2</th>\n",
       "      <td>891815181378084864</td>\n",
       "      <td>NaN</td>\n",
       "      <td>NaN</td>\n",
       "      <td>2017-07-31 00:18:03 +0000</td>\n",
       "      <td>&lt;a href=\"http://twitter.com/download/iphone\" r...</td>\n",
       "      <td>This is Archie. He is a rare Norwegian Pouncin...</td>\n",
       "      <td>NaN</td>\n",
       "      <td>NaN</td>\n",
       "      <td>NaN</td>\n",
       "      <td>https://twitter.com/dog_rates/status/891815181...</td>\n",
       "      <td>12</td>\n",
       "      <td>10</td>\n",
       "      <td>Archie</td>\n",
       "      <td>None</td>\n",
       "      <td>None</td>\n",
       "      <td>None</td>\n",
       "      <td>None</td>\n",
       "    </tr>\n",
       "    <tr>\n",
       "      <th>3</th>\n",
       "      <td>891689557279858688</td>\n",
       "      <td>NaN</td>\n",
       "      <td>NaN</td>\n",
       "      <td>2017-07-30 15:58:51 +0000</td>\n",
       "      <td>&lt;a href=\"http://twitter.com/download/iphone\" r...</td>\n",
       "      <td>This is Darla. She commenced a snooze mid meal...</td>\n",
       "      <td>NaN</td>\n",
       "      <td>NaN</td>\n",
       "      <td>NaN</td>\n",
       "      <td>https://twitter.com/dog_rates/status/891689557...</td>\n",
       "      <td>13</td>\n",
       "      <td>10</td>\n",
       "      <td>Darla</td>\n",
       "      <td>None</td>\n",
       "      <td>None</td>\n",
       "      <td>None</td>\n",
       "      <td>None</td>\n",
       "    </tr>\n",
       "    <tr>\n",
       "      <th>4</th>\n",
       "      <td>891327558926688256</td>\n",
       "      <td>NaN</td>\n",
       "      <td>NaN</td>\n",
       "      <td>2017-07-29 16:00:24 +0000</td>\n",
       "      <td>&lt;a href=\"http://twitter.com/download/iphone\" r...</td>\n",
       "      <td>This is Franklin. He would like you to stop ca...</td>\n",
       "      <td>NaN</td>\n",
       "      <td>NaN</td>\n",
       "      <td>NaN</td>\n",
       "      <td>https://twitter.com/dog_rates/status/891327558...</td>\n",
       "      <td>12</td>\n",
       "      <td>10</td>\n",
       "      <td>Franklin</td>\n",
       "      <td>None</td>\n",
       "      <td>None</td>\n",
       "      <td>None</td>\n",
       "      <td>None</td>\n",
       "    </tr>\n",
       "  </tbody>\n",
       "</table>\n",
       "</div>"
      ],
      "text/plain": [
       "             tweet_id  in_reply_to_status_id  in_reply_to_user_id  \\\n",
       "0  892420643555336193                    NaN                  NaN   \n",
       "1  892177421306343426                    NaN                  NaN   \n",
       "2  891815181378084864                    NaN                  NaN   \n",
       "3  891689557279858688                    NaN                  NaN   \n",
       "4  891327558926688256                    NaN                  NaN   \n",
       "\n",
       "                   timestamp  \\\n",
       "0  2017-08-01 16:23:56 +0000   \n",
       "1  2017-08-01 00:17:27 +0000   \n",
       "2  2017-07-31 00:18:03 +0000   \n",
       "3  2017-07-30 15:58:51 +0000   \n",
       "4  2017-07-29 16:00:24 +0000   \n",
       "\n",
       "                                              source  \\\n",
       "0  <a href=\"http://twitter.com/download/iphone\" r...   \n",
       "1  <a href=\"http://twitter.com/download/iphone\" r...   \n",
       "2  <a href=\"http://twitter.com/download/iphone\" r...   \n",
       "3  <a href=\"http://twitter.com/download/iphone\" r...   \n",
       "4  <a href=\"http://twitter.com/download/iphone\" r...   \n",
       "\n",
       "                                                text  retweeted_status_id  \\\n",
       "0  This is Phineas. He's a mystical boy. Only eve...                  NaN   \n",
       "1  This is Tilly. She's just checking pup on you....                  NaN   \n",
       "2  This is Archie. He is a rare Norwegian Pouncin...                  NaN   \n",
       "3  This is Darla. She commenced a snooze mid meal...                  NaN   \n",
       "4  This is Franklin. He would like you to stop ca...                  NaN   \n",
       "\n",
       "   retweeted_status_user_id retweeted_status_timestamp  \\\n",
       "0                       NaN                        NaN   \n",
       "1                       NaN                        NaN   \n",
       "2                       NaN                        NaN   \n",
       "3                       NaN                        NaN   \n",
       "4                       NaN                        NaN   \n",
       "\n",
       "                                       expanded_urls  rating_numerator  \\\n",
       "0  https://twitter.com/dog_rates/status/892420643...                13   \n",
       "1  https://twitter.com/dog_rates/status/892177421...                13   \n",
       "2  https://twitter.com/dog_rates/status/891815181...                12   \n",
       "3  https://twitter.com/dog_rates/status/891689557...                13   \n",
       "4  https://twitter.com/dog_rates/status/891327558...                12   \n",
       "\n",
       "   rating_denominator      name doggo floofer pupper puppo  \n",
       "0                  10   Phineas  None    None   None  None  \n",
       "1                  10     Tilly  None    None   None  None  \n",
       "2                  10    Archie  None    None   None  None  \n",
       "3                  10     Darla  None    None   None  None  \n",
       "4                  10  Franklin  None    None   None  None  "
      ]
     },
     "execution_count": 209,
     "metadata": {},
     "output_type": "execute_result"
    }
   ],
   "source": [
    "twitter_archive = pd.read_csv('twitter-archive-enhanced.csv')\n",
    "twitter_archive.head()"
   ]
  },
  {
   "cell_type": "markdown",
   "metadata": {},
   "source": [
    "2. Use the Requests library to download the tweet image prediction (image_predictions.tsv)"
   ]
  },
  {
   "cell_type": "code",
   "execution_count": 210,
   "metadata": {},
   "outputs": [],
   "source": [
    "import requests"
   ]
  },
  {
   "cell_type": "code",
   "execution_count": 211,
   "metadata": {},
   "outputs": [],
   "source": [
    "# download the file\n",
    "URL = 'https://d17h27t6h515a5.cloudfront.net/topher/2017/August/599fd2ad_image-predictions/image-predictions.tsv'\n",
    "image_predictions = requests.get(URL)"
   ]
  },
  {
   "cell_type": "code",
   "execution_count": 212,
   "metadata": {},
   "outputs": [],
   "source": [
    "# write the downloaded date to a tsv file\n",
    "with open('image_predictions.tsv','w') as write_tsv:\n",
    "    write_tsv.write(image_predictions.text)"
   ]
  },
  {
   "cell_type": "code",
   "execution_count": 213,
   "metadata": {},
   "outputs": [
    {
     "data": {
      "text/html": [
       "<div>\n",
       "<style scoped>\n",
       "    .dataframe tbody tr th:only-of-type {\n",
       "        vertical-align: middle;\n",
       "    }\n",
       "\n",
       "    .dataframe tbody tr th {\n",
       "        vertical-align: top;\n",
       "    }\n",
       "\n",
       "    .dataframe thead th {\n",
       "        text-align: right;\n",
       "    }\n",
       "</style>\n",
       "<table border=\"1\" class=\"dataframe\">\n",
       "  <thead>\n",
       "    <tr style=\"text-align: right;\">\n",
       "      <th></th>\n",
       "      <th>tweet_id</th>\n",
       "      <th>jpg_url</th>\n",
       "      <th>img_num</th>\n",
       "      <th>p1</th>\n",
       "      <th>p1_conf</th>\n",
       "      <th>p1_dog</th>\n",
       "      <th>p2</th>\n",
       "      <th>p2_conf</th>\n",
       "      <th>p2_dog</th>\n",
       "      <th>p3</th>\n",
       "      <th>p3_conf</th>\n",
       "      <th>p3_dog</th>\n",
       "    </tr>\n",
       "  </thead>\n",
       "  <tbody>\n",
       "    <tr>\n",
       "      <th>0</th>\n",
       "      <td>666020888022790149</td>\n",
       "      <td>https://pbs.twimg.com/media/CT4udn0WwAA0aMy.jpg</td>\n",
       "      <td>1</td>\n",
       "      <td>Welsh_springer_spaniel</td>\n",
       "      <td>0.465074</td>\n",
       "      <td>True</td>\n",
       "      <td>collie</td>\n",
       "      <td>0.156665</td>\n",
       "      <td>True</td>\n",
       "      <td>Shetland_sheepdog</td>\n",
       "      <td>0.061428</td>\n",
       "      <td>True</td>\n",
       "    </tr>\n",
       "    <tr>\n",
       "      <th>1</th>\n",
       "      <td>666029285002620928</td>\n",
       "      <td>https://pbs.twimg.com/media/CT42GRgUYAA5iDo.jpg</td>\n",
       "      <td>1</td>\n",
       "      <td>redbone</td>\n",
       "      <td>0.506826</td>\n",
       "      <td>True</td>\n",
       "      <td>miniature_pinscher</td>\n",
       "      <td>0.074192</td>\n",
       "      <td>True</td>\n",
       "      <td>Rhodesian_ridgeback</td>\n",
       "      <td>0.072010</td>\n",
       "      <td>True</td>\n",
       "    </tr>\n",
       "    <tr>\n",
       "      <th>2</th>\n",
       "      <td>666033412701032449</td>\n",
       "      <td>https://pbs.twimg.com/media/CT4521TWwAEvMyu.jpg</td>\n",
       "      <td>1</td>\n",
       "      <td>German_shepherd</td>\n",
       "      <td>0.596461</td>\n",
       "      <td>True</td>\n",
       "      <td>malinois</td>\n",
       "      <td>0.138584</td>\n",
       "      <td>True</td>\n",
       "      <td>bloodhound</td>\n",
       "      <td>0.116197</td>\n",
       "      <td>True</td>\n",
       "    </tr>\n",
       "    <tr>\n",
       "      <th>3</th>\n",
       "      <td>666044226329800704</td>\n",
       "      <td>https://pbs.twimg.com/media/CT5Dr8HUEAA-lEu.jpg</td>\n",
       "      <td>1</td>\n",
       "      <td>Rhodesian_ridgeback</td>\n",
       "      <td>0.408143</td>\n",
       "      <td>True</td>\n",
       "      <td>redbone</td>\n",
       "      <td>0.360687</td>\n",
       "      <td>True</td>\n",
       "      <td>miniature_pinscher</td>\n",
       "      <td>0.222752</td>\n",
       "      <td>True</td>\n",
       "    </tr>\n",
       "    <tr>\n",
       "      <th>4</th>\n",
       "      <td>666049248165822465</td>\n",
       "      <td>https://pbs.twimg.com/media/CT5IQmsXIAAKY4A.jpg</td>\n",
       "      <td>1</td>\n",
       "      <td>miniature_pinscher</td>\n",
       "      <td>0.560311</td>\n",
       "      <td>True</td>\n",
       "      <td>Rottweiler</td>\n",
       "      <td>0.243682</td>\n",
       "      <td>True</td>\n",
       "      <td>Doberman</td>\n",
       "      <td>0.154629</td>\n",
       "      <td>True</td>\n",
       "    </tr>\n",
       "  </tbody>\n",
       "</table>\n",
       "</div>"
      ],
      "text/plain": [
       "             tweet_id                                          jpg_url  \\\n",
       "0  666020888022790149  https://pbs.twimg.com/media/CT4udn0WwAA0aMy.jpg   \n",
       "1  666029285002620928  https://pbs.twimg.com/media/CT42GRgUYAA5iDo.jpg   \n",
       "2  666033412701032449  https://pbs.twimg.com/media/CT4521TWwAEvMyu.jpg   \n",
       "3  666044226329800704  https://pbs.twimg.com/media/CT5Dr8HUEAA-lEu.jpg   \n",
       "4  666049248165822465  https://pbs.twimg.com/media/CT5IQmsXIAAKY4A.jpg   \n",
       "\n",
       "   img_num                      p1   p1_conf  p1_dog                  p2  \\\n",
       "0        1  Welsh_springer_spaniel  0.465074    True              collie   \n",
       "1        1                 redbone  0.506826    True  miniature_pinscher   \n",
       "2        1         German_shepherd  0.596461    True            malinois   \n",
       "3        1     Rhodesian_ridgeback  0.408143    True             redbone   \n",
       "4        1      miniature_pinscher  0.560311    True          Rottweiler   \n",
       "\n",
       "    p2_conf  p2_dog                   p3   p3_conf  p3_dog  \n",
       "0  0.156665    True    Shetland_sheepdog  0.061428    True  \n",
       "1  0.074192    True  Rhodesian_ridgeback  0.072010    True  \n",
       "2  0.138584    True           bloodhound  0.116197    True  \n",
       "3  0.360687    True   miniature_pinscher  0.222752    True  \n",
       "4  0.243682    True             Doberman  0.154629    True  "
      ]
     },
     "execution_count": 213,
     "metadata": {},
     "output_type": "execute_result"
    }
   ],
   "source": [
    "# create a pandas dataframe from the tsv file\n",
    "image_predictions = pd.read_csv('image_predictions.tsv', sep = '\\t')\n",
    "image_predictions.head()"
   ]
  },
  {
   "cell_type": "markdown",
   "metadata": {},
   "source": [
    "3. Use the Tweepy library to query additional data via the Twitter API (tweet_json.txt)"
   ]
  },
  {
   "cell_type": "markdown",
   "metadata": {},
   "source": [
    "Installation of tweepy"
   ]
  },
  {
   "cell_type": "code",
   "execution_count": 214,
   "metadata": {},
   "outputs": [],
   "source": [
    "# pip install tweepy"
   ]
  },
  {
   "cell_type": "markdown",
   "metadata": {},
   "source": [
    "Since I created a configfile for to store my API details, I also installed configparser"
   ]
  },
  {
   "cell_type": "code",
   "execution_count": 215,
   "metadata": {},
   "outputs": [],
   "source": [
    "# pip install configparser"
   ]
  },
  {
   "cell_type": "markdown",
   "metadata": {},
   "source": [
    "Import the nesessary packages"
   ]
  },
  {
   "cell_type": "code",
   "execution_count": 216,
   "metadata": {},
   "outputs": [],
   "source": [
    "import configparser\n",
    "import tweepy"
   ]
  },
  {
   "cell_type": "markdown",
   "metadata": {},
   "source": [
    "Get the necessary tokens authorization"
   ]
  },
  {
   "cell_type": "code",
   "execution_count": 217,
   "metadata": {},
   "outputs": [],
   "source": [
    "# get tokens\n",
    "config = configparser.ConfigParser()\n",
    "config.read('configfile.ini')\n",
    "api_key = config['twitter']['api_key']\n",
    "api_key_secret = config['twitter']['api_key_secret']\n",
    "# authenticate\n",
    "auth = tweepy.OAuth2AppHandler(api_key, api_key_secret)"
   ]
  },
  {
   "cell_type": "markdown",
   "metadata": {},
   "source": [
    "Get the api"
   ]
  },
  {
   "cell_type": "code",
   "execution_count": 218,
   "metadata": {},
   "outputs": [],
   "source": [
    "api = tweepy.API(auth, wait_on_rate_limit=True)"
   ]
  },
  {
   "cell_type": "markdown",
   "metadata": {},
   "source": [
    "Get the data for the tweets"
   ]
  },
  {
   "cell_type": "code",
   "execution_count": 219,
   "metadata": {},
   "outputs": [],
   "source": [
    "# get the tweet ids\n",
    "tweet_ids = twitter_archive['tweet_id']"
   ]
  },
  {
   "cell_type": "code",
   "execution_count": 220,
   "metadata": {},
   "outputs": [
    {
     "data": {
      "text/plain": [
       "0       892420643555336193\n",
       "1       892177421306343426\n",
       "2       891815181378084864\n",
       "3       891689557279858688\n",
       "4       891327558926688256\n",
       "               ...        \n",
       "2351    666049248165822465\n",
       "2352    666044226329800704\n",
       "2353    666033412701032449\n",
       "2354    666029285002620928\n",
       "2355    666020888022790149\n",
       "Name: tweet_id, Length: 2356, dtype: int64"
      ]
     },
     "execution_count": 220,
     "metadata": {},
     "output_type": "execute_result"
    }
   ],
   "source": [
    "tweet_ids\n"
   ]
  },
  {
   "cell_type": "code",
   "execution_count": 221,
   "metadata": {},
   "outputs": [],
   "source": [
    "# since the output would be json file import the json package\n",
    "import json\n"
   ]
  },
  {
   "cell_type": "code",
   "execution_count": 222,
   "metadata": {},
   "outputs": [],
   "source": [
    "# create a function to get the tweet data, store it in a json file, create a dataframe for the result\n",
    "def get_tweets(tweet_ids):\n",
    "    num_of_tweets = len(tweet_ids)\n",
    "    #create a counter\n",
    "    counter = 0\n",
    "    #dataframe for the tweets that failed to get\n",
    "    failed_to_get_id = []\n",
    "    failed_to_get_error = []\n",
    "    with open('tweet.json','w') as outfile:\n",
    "        for tweet_id in tweet_ids:\n",
    "            counter += 1\n",
    "            print(f'{counter} of {num_of_tweets}: {tweet_id}')\n",
    "            try:\n",
    "                tweet = api.get_status(tweet_id, tweet_mode = 'extended')\n",
    "                json.dump(tweet._json, outfile)\n",
    "                print(\"Success\")\n",
    "                outfile.write('\\n')\n",
    "            except Exception as e:\n",
    "                print(\"Fail\")\n",
    "                failed_to_get_id.append(tweet_id)\n",
    "                failed_to_get_error.append(e)\n",
    "        print(pd.DataFrame(list(zip(failed_to_get_id, failed_to_get_error)), columns =['tweet_id', 'error']))\n",
    "    return"
   ]
  },
  {
   "cell_type": "code",
   "execution_count": 223,
   "metadata": {},
   "outputs": [
    {
     "name": "stdout",
     "output_type": "stream",
     "text": [
      "CPU times: user 2 µs, sys: 1e+03 ns, total: 3 µs\n",
      "Wall time: 4.05 µs\n"
     ]
    }
   ],
   "source": [
    "%%time\n",
    "#get_tweets(tweet_ids)"
   ]
  },
  {
   "cell_type": "code",
   "execution_count": 224,
   "metadata": {},
   "outputs": [],
   "source": [
    "tweet_from_api = pd.read_json('tweet.json', lines=True)"
   ]
  },
  {
   "cell_type": "markdown",
   "metadata": {
    "extensions": {
     "jupyter_dashboards": {
      "version": 1,
      "views": {
       "grid_default": {
        "col": 4,
        "height": 4,
        "hidden": false,
        "row": 28,
        "width": 4
       },
       "report_default": {
        "hidden": false
       }
      }
     }
    }
   },
   "source": [
    "## Assessing Data\n",
    "In this section, detect and document at least **eight (8) quality issues and two (2) tidiness issue**. You must use **both** visual assessment\n",
    "programmatic assessement to assess the data.\n",
    "\n",
    "**Note:** pay attention to the following key points when you access the data.\n",
    "\n",
    "* You only want original ratings (no retweets) that have images. Though there are 5000+ tweets in the dataset, not all are dog ratings and some are retweets.\n",
    "* Assessing and cleaning the entire dataset completely would require a lot of time, and is not necessary to practice and demonstrate your skills in data wrangling. Therefore, the requirements of this project are only to assess and clean at least 8 quality issues and at least 2 tidiness issues in this dataset.\n",
    "* The fact that the rating numerators are greater than the denominators does not need to be cleaned. This [unique rating system](http://knowyourmeme.com/memes/theyre-good-dogs-brent) is a big part of the popularity of WeRateDogs.\n",
    "* You do not need to gather the tweets beyond August 1st, 2017. You can, but note that you won't be able to gather the image predictions for these tweets since you don't have access to the algorithm used.\n",
    "\n"
   ]
  },
  {
   "cell_type": "markdown",
   "metadata": {},
   "source": [
    "Data quality dimensions\n",
    "\n",
    "    Completeness: do we have all of the records that we should? Do we have missing records or not? Are there specific rows, columns, or cells missing?\n",
    "    Validity: we have the records, but they're not valid, i.e., they don't conform to a defined schema. A schema is a defined set of rules for data. These rules can be real-world constraints (e.g. negative height is impossible) and table-specific constraints (e.g. unique key constraints in tables).\n",
    "    Accuracy: inaccurate data is wrong data that is valid. It adheres to the defined schema, but it is still incorrect. Example: a patient's weight that is 5 lbs too heavy because the scale was faulty.\n",
    "    Consistency: inconsistent data is both valid and accurate, but there are multiple correct ways of referring to the same thing. Consistency, i.e., a standard format, in columns that represent the same data across tables and/or within tables is desired.\n"
   ]
  },
  {
   "attachments": {},
   "cell_type": "markdown",
   "metadata": {},
   "source": [
    "##### Visual assessment"
   ]
  },
  {
   "cell_type": "code",
   "execution_count": 225,
   "metadata": {},
   "outputs": [
    {
     "data": {
      "text/html": [
       "<div>\n",
       "<style scoped>\n",
       "    .dataframe tbody tr th:only-of-type {\n",
       "        vertical-align: middle;\n",
       "    }\n",
       "\n",
       "    .dataframe tbody tr th {\n",
       "        vertical-align: top;\n",
       "    }\n",
       "\n",
       "    .dataframe thead th {\n",
       "        text-align: right;\n",
       "    }\n",
       "</style>\n",
       "<table border=\"1\" class=\"dataframe\">\n",
       "  <thead>\n",
       "    <tr style=\"text-align: right;\">\n",
       "      <th></th>\n",
       "      <th>tweet_id</th>\n",
       "      <th>in_reply_to_status_id</th>\n",
       "      <th>in_reply_to_user_id</th>\n",
       "      <th>timestamp</th>\n",
       "      <th>source</th>\n",
       "      <th>text</th>\n",
       "      <th>retweeted_status_id</th>\n",
       "      <th>retweeted_status_user_id</th>\n",
       "      <th>retweeted_status_timestamp</th>\n",
       "      <th>expanded_urls</th>\n",
       "      <th>rating_numerator</th>\n",
       "      <th>rating_denominator</th>\n",
       "      <th>name</th>\n",
       "      <th>doggo</th>\n",
       "      <th>floofer</th>\n",
       "      <th>pupper</th>\n",
       "      <th>puppo</th>\n",
       "    </tr>\n",
       "  </thead>\n",
       "  <tbody>\n",
       "    <tr>\n",
       "      <th>0</th>\n",
       "      <td>892420643555336193</td>\n",
       "      <td>NaN</td>\n",
       "      <td>NaN</td>\n",
       "      <td>2017-08-01 16:23:56 +0000</td>\n",
       "      <td>&lt;a href=\"http://twitter.com/download/iphone\" r...</td>\n",
       "      <td>This is Phineas. He's a mystical boy. Only eve...</td>\n",
       "      <td>NaN</td>\n",
       "      <td>NaN</td>\n",
       "      <td>NaN</td>\n",
       "      <td>https://twitter.com/dog_rates/status/892420643...</td>\n",
       "      <td>13</td>\n",
       "      <td>10</td>\n",
       "      <td>Phineas</td>\n",
       "      <td>None</td>\n",
       "      <td>None</td>\n",
       "      <td>None</td>\n",
       "      <td>None</td>\n",
       "    </tr>\n",
       "    <tr>\n",
       "      <th>1</th>\n",
       "      <td>892177421306343426</td>\n",
       "      <td>NaN</td>\n",
       "      <td>NaN</td>\n",
       "      <td>2017-08-01 00:17:27 +0000</td>\n",
       "      <td>&lt;a href=\"http://twitter.com/download/iphone\" r...</td>\n",
       "      <td>This is Tilly. She's just checking pup on you....</td>\n",
       "      <td>NaN</td>\n",
       "      <td>NaN</td>\n",
       "      <td>NaN</td>\n",
       "      <td>https://twitter.com/dog_rates/status/892177421...</td>\n",
       "      <td>13</td>\n",
       "      <td>10</td>\n",
       "      <td>Tilly</td>\n",
       "      <td>None</td>\n",
       "      <td>None</td>\n",
       "      <td>None</td>\n",
       "      <td>None</td>\n",
       "    </tr>\n",
       "    <tr>\n",
       "      <th>2</th>\n",
       "      <td>891815181378084864</td>\n",
       "      <td>NaN</td>\n",
       "      <td>NaN</td>\n",
       "      <td>2017-07-31 00:18:03 +0000</td>\n",
       "      <td>&lt;a href=\"http://twitter.com/download/iphone\" r...</td>\n",
       "      <td>This is Archie. He is a rare Norwegian Pouncin...</td>\n",
       "      <td>NaN</td>\n",
       "      <td>NaN</td>\n",
       "      <td>NaN</td>\n",
       "      <td>https://twitter.com/dog_rates/status/891815181...</td>\n",
       "      <td>12</td>\n",
       "      <td>10</td>\n",
       "      <td>Archie</td>\n",
       "      <td>None</td>\n",
       "      <td>None</td>\n",
       "      <td>None</td>\n",
       "      <td>None</td>\n",
       "    </tr>\n",
       "    <tr>\n",
       "      <th>3</th>\n",
       "      <td>891689557279858688</td>\n",
       "      <td>NaN</td>\n",
       "      <td>NaN</td>\n",
       "      <td>2017-07-30 15:58:51 +0000</td>\n",
       "      <td>&lt;a href=\"http://twitter.com/download/iphone\" r...</td>\n",
       "      <td>This is Darla. She commenced a snooze mid meal...</td>\n",
       "      <td>NaN</td>\n",
       "      <td>NaN</td>\n",
       "      <td>NaN</td>\n",
       "      <td>https://twitter.com/dog_rates/status/891689557...</td>\n",
       "      <td>13</td>\n",
       "      <td>10</td>\n",
       "      <td>Darla</td>\n",
       "      <td>None</td>\n",
       "      <td>None</td>\n",
       "      <td>None</td>\n",
       "      <td>None</td>\n",
       "    </tr>\n",
       "    <tr>\n",
       "      <th>4</th>\n",
       "      <td>891327558926688256</td>\n",
       "      <td>NaN</td>\n",
       "      <td>NaN</td>\n",
       "      <td>2017-07-29 16:00:24 +0000</td>\n",
       "      <td>&lt;a href=\"http://twitter.com/download/iphone\" r...</td>\n",
       "      <td>This is Franklin. He would like you to stop ca...</td>\n",
       "      <td>NaN</td>\n",
       "      <td>NaN</td>\n",
       "      <td>NaN</td>\n",
       "      <td>https://twitter.com/dog_rates/status/891327558...</td>\n",
       "      <td>12</td>\n",
       "      <td>10</td>\n",
       "      <td>Franklin</td>\n",
       "      <td>None</td>\n",
       "      <td>None</td>\n",
       "      <td>None</td>\n",
       "      <td>None</td>\n",
       "    </tr>\n",
       "    <tr>\n",
       "      <th>...</th>\n",
       "      <td>...</td>\n",
       "      <td>...</td>\n",
       "      <td>...</td>\n",
       "      <td>...</td>\n",
       "      <td>...</td>\n",
       "      <td>...</td>\n",
       "      <td>...</td>\n",
       "      <td>...</td>\n",
       "      <td>...</td>\n",
       "      <td>...</td>\n",
       "      <td>...</td>\n",
       "      <td>...</td>\n",
       "      <td>...</td>\n",
       "      <td>...</td>\n",
       "      <td>...</td>\n",
       "      <td>...</td>\n",
       "      <td>...</td>\n",
       "    </tr>\n",
       "    <tr>\n",
       "      <th>2351</th>\n",
       "      <td>666049248165822465</td>\n",
       "      <td>NaN</td>\n",
       "      <td>NaN</td>\n",
       "      <td>2015-11-16 00:24:50 +0000</td>\n",
       "      <td>&lt;a href=\"http://twitter.com/download/iphone\" r...</td>\n",
       "      <td>Here we have a 1949 1st generation vulpix. Enj...</td>\n",
       "      <td>NaN</td>\n",
       "      <td>NaN</td>\n",
       "      <td>NaN</td>\n",
       "      <td>https://twitter.com/dog_rates/status/666049248...</td>\n",
       "      <td>5</td>\n",
       "      <td>10</td>\n",
       "      <td>None</td>\n",
       "      <td>None</td>\n",
       "      <td>None</td>\n",
       "      <td>None</td>\n",
       "      <td>None</td>\n",
       "    </tr>\n",
       "    <tr>\n",
       "      <th>2352</th>\n",
       "      <td>666044226329800704</td>\n",
       "      <td>NaN</td>\n",
       "      <td>NaN</td>\n",
       "      <td>2015-11-16 00:04:52 +0000</td>\n",
       "      <td>&lt;a href=\"http://twitter.com/download/iphone\" r...</td>\n",
       "      <td>This is a purebred Piers Morgan. Loves to Netf...</td>\n",
       "      <td>NaN</td>\n",
       "      <td>NaN</td>\n",
       "      <td>NaN</td>\n",
       "      <td>https://twitter.com/dog_rates/status/666044226...</td>\n",
       "      <td>6</td>\n",
       "      <td>10</td>\n",
       "      <td>a</td>\n",
       "      <td>None</td>\n",
       "      <td>None</td>\n",
       "      <td>None</td>\n",
       "      <td>None</td>\n",
       "    </tr>\n",
       "    <tr>\n",
       "      <th>2353</th>\n",
       "      <td>666033412701032449</td>\n",
       "      <td>NaN</td>\n",
       "      <td>NaN</td>\n",
       "      <td>2015-11-15 23:21:54 +0000</td>\n",
       "      <td>&lt;a href=\"http://twitter.com/download/iphone\" r...</td>\n",
       "      <td>Here is a very happy pup. Big fan of well-main...</td>\n",
       "      <td>NaN</td>\n",
       "      <td>NaN</td>\n",
       "      <td>NaN</td>\n",
       "      <td>https://twitter.com/dog_rates/status/666033412...</td>\n",
       "      <td>9</td>\n",
       "      <td>10</td>\n",
       "      <td>a</td>\n",
       "      <td>None</td>\n",
       "      <td>None</td>\n",
       "      <td>None</td>\n",
       "      <td>None</td>\n",
       "    </tr>\n",
       "    <tr>\n",
       "      <th>2354</th>\n",
       "      <td>666029285002620928</td>\n",
       "      <td>NaN</td>\n",
       "      <td>NaN</td>\n",
       "      <td>2015-11-15 23:05:30 +0000</td>\n",
       "      <td>&lt;a href=\"http://twitter.com/download/iphone\" r...</td>\n",
       "      <td>This is a western brown Mitsubishi terrier. Up...</td>\n",
       "      <td>NaN</td>\n",
       "      <td>NaN</td>\n",
       "      <td>NaN</td>\n",
       "      <td>https://twitter.com/dog_rates/status/666029285...</td>\n",
       "      <td>7</td>\n",
       "      <td>10</td>\n",
       "      <td>a</td>\n",
       "      <td>None</td>\n",
       "      <td>None</td>\n",
       "      <td>None</td>\n",
       "      <td>None</td>\n",
       "    </tr>\n",
       "    <tr>\n",
       "      <th>2355</th>\n",
       "      <td>666020888022790149</td>\n",
       "      <td>NaN</td>\n",
       "      <td>NaN</td>\n",
       "      <td>2015-11-15 22:32:08 +0000</td>\n",
       "      <td>&lt;a href=\"http://twitter.com/download/iphone\" r...</td>\n",
       "      <td>Here we have a Japanese Irish Setter. Lost eye...</td>\n",
       "      <td>NaN</td>\n",
       "      <td>NaN</td>\n",
       "      <td>NaN</td>\n",
       "      <td>https://twitter.com/dog_rates/status/666020888...</td>\n",
       "      <td>8</td>\n",
       "      <td>10</td>\n",
       "      <td>None</td>\n",
       "      <td>None</td>\n",
       "      <td>None</td>\n",
       "      <td>None</td>\n",
       "      <td>None</td>\n",
       "    </tr>\n",
       "  </tbody>\n",
       "</table>\n",
       "<p>2356 rows × 17 columns</p>\n",
       "</div>"
      ],
      "text/plain": [
       "                tweet_id  in_reply_to_status_id  in_reply_to_user_id  \\\n",
       "0     892420643555336193                    NaN                  NaN   \n",
       "1     892177421306343426                    NaN                  NaN   \n",
       "2     891815181378084864                    NaN                  NaN   \n",
       "3     891689557279858688                    NaN                  NaN   \n",
       "4     891327558926688256                    NaN                  NaN   \n",
       "...                  ...                    ...                  ...   \n",
       "2351  666049248165822465                    NaN                  NaN   \n",
       "2352  666044226329800704                    NaN                  NaN   \n",
       "2353  666033412701032449                    NaN                  NaN   \n",
       "2354  666029285002620928                    NaN                  NaN   \n",
       "2355  666020888022790149                    NaN                  NaN   \n",
       "\n",
       "                      timestamp  \\\n",
       "0     2017-08-01 16:23:56 +0000   \n",
       "1     2017-08-01 00:17:27 +0000   \n",
       "2     2017-07-31 00:18:03 +0000   \n",
       "3     2017-07-30 15:58:51 +0000   \n",
       "4     2017-07-29 16:00:24 +0000   \n",
       "...                         ...   \n",
       "2351  2015-11-16 00:24:50 +0000   \n",
       "2352  2015-11-16 00:04:52 +0000   \n",
       "2353  2015-11-15 23:21:54 +0000   \n",
       "2354  2015-11-15 23:05:30 +0000   \n",
       "2355  2015-11-15 22:32:08 +0000   \n",
       "\n",
       "                                                 source  \\\n",
       "0     <a href=\"http://twitter.com/download/iphone\" r...   \n",
       "1     <a href=\"http://twitter.com/download/iphone\" r...   \n",
       "2     <a href=\"http://twitter.com/download/iphone\" r...   \n",
       "3     <a href=\"http://twitter.com/download/iphone\" r...   \n",
       "4     <a href=\"http://twitter.com/download/iphone\" r...   \n",
       "...                                                 ...   \n",
       "2351  <a href=\"http://twitter.com/download/iphone\" r...   \n",
       "2352  <a href=\"http://twitter.com/download/iphone\" r...   \n",
       "2353  <a href=\"http://twitter.com/download/iphone\" r...   \n",
       "2354  <a href=\"http://twitter.com/download/iphone\" r...   \n",
       "2355  <a href=\"http://twitter.com/download/iphone\" r...   \n",
       "\n",
       "                                                   text  retweeted_status_id  \\\n",
       "0     This is Phineas. He's a mystical boy. Only eve...                  NaN   \n",
       "1     This is Tilly. She's just checking pup on you....                  NaN   \n",
       "2     This is Archie. He is a rare Norwegian Pouncin...                  NaN   \n",
       "3     This is Darla. She commenced a snooze mid meal...                  NaN   \n",
       "4     This is Franklin. He would like you to stop ca...                  NaN   \n",
       "...                                                 ...                  ...   \n",
       "2351  Here we have a 1949 1st generation vulpix. Enj...                  NaN   \n",
       "2352  This is a purebred Piers Morgan. Loves to Netf...                  NaN   \n",
       "2353  Here is a very happy pup. Big fan of well-main...                  NaN   \n",
       "2354  This is a western brown Mitsubishi terrier. Up...                  NaN   \n",
       "2355  Here we have a Japanese Irish Setter. Lost eye...                  NaN   \n",
       "\n",
       "      retweeted_status_user_id retweeted_status_timestamp  \\\n",
       "0                          NaN                        NaN   \n",
       "1                          NaN                        NaN   \n",
       "2                          NaN                        NaN   \n",
       "3                          NaN                        NaN   \n",
       "4                          NaN                        NaN   \n",
       "...                        ...                        ...   \n",
       "2351                       NaN                        NaN   \n",
       "2352                       NaN                        NaN   \n",
       "2353                       NaN                        NaN   \n",
       "2354                       NaN                        NaN   \n",
       "2355                       NaN                        NaN   \n",
       "\n",
       "                                          expanded_urls  rating_numerator  \\\n",
       "0     https://twitter.com/dog_rates/status/892420643...                13   \n",
       "1     https://twitter.com/dog_rates/status/892177421...                13   \n",
       "2     https://twitter.com/dog_rates/status/891815181...                12   \n",
       "3     https://twitter.com/dog_rates/status/891689557...                13   \n",
       "4     https://twitter.com/dog_rates/status/891327558...                12   \n",
       "...                                                 ...               ...   \n",
       "2351  https://twitter.com/dog_rates/status/666049248...                 5   \n",
       "2352  https://twitter.com/dog_rates/status/666044226...                 6   \n",
       "2353  https://twitter.com/dog_rates/status/666033412...                 9   \n",
       "2354  https://twitter.com/dog_rates/status/666029285...                 7   \n",
       "2355  https://twitter.com/dog_rates/status/666020888...                 8   \n",
       "\n",
       "      rating_denominator      name doggo floofer pupper puppo  \n",
       "0                     10   Phineas  None    None   None  None  \n",
       "1                     10     Tilly  None    None   None  None  \n",
       "2                     10    Archie  None    None   None  None  \n",
       "3                     10     Darla  None    None   None  None  \n",
       "4                     10  Franklin  None    None   None  None  \n",
       "...                  ...       ...   ...     ...    ...   ...  \n",
       "2351                  10      None  None    None   None  None  \n",
       "2352                  10         a  None    None   None  None  \n",
       "2353                  10         a  None    None   None  None  \n",
       "2354                  10         a  None    None   None  None  \n",
       "2355                  10      None  None    None   None  None  \n",
       "\n",
       "[2356 rows x 17 columns]"
      ]
     },
     "execution_count": 225,
     "metadata": {},
     "output_type": "execute_result"
    }
   ],
   "source": [
    "twitter_archive"
   ]
  },
  {
   "attachments": {},
   "cell_type": "markdown",
   "metadata": {},
   "source": [
    "1. It could be seen that in some of the columns there are a lot of null values.\n",
    "2. For dog name, there are entries that only have the letter 'a'"
   ]
  },
  {
   "cell_type": "code",
   "execution_count": 226,
   "metadata": {},
   "outputs": [
    {
     "data": {
      "text/html": [
       "<div>\n",
       "<style scoped>\n",
       "    .dataframe tbody tr th:only-of-type {\n",
       "        vertical-align: middle;\n",
       "    }\n",
       "\n",
       "    .dataframe tbody tr th {\n",
       "        vertical-align: top;\n",
       "    }\n",
       "\n",
       "    .dataframe thead th {\n",
       "        text-align: right;\n",
       "    }\n",
       "</style>\n",
       "<table border=\"1\" class=\"dataframe\">\n",
       "  <thead>\n",
       "    <tr style=\"text-align: right;\">\n",
       "      <th></th>\n",
       "      <th>tweet_id</th>\n",
       "      <th>jpg_url</th>\n",
       "      <th>img_num</th>\n",
       "      <th>p1</th>\n",
       "      <th>p1_conf</th>\n",
       "      <th>p1_dog</th>\n",
       "      <th>p2</th>\n",
       "      <th>p2_conf</th>\n",
       "      <th>p2_dog</th>\n",
       "      <th>p3</th>\n",
       "      <th>p3_conf</th>\n",
       "      <th>p3_dog</th>\n",
       "    </tr>\n",
       "  </thead>\n",
       "  <tbody>\n",
       "    <tr>\n",
       "      <th>0</th>\n",
       "      <td>666020888022790149</td>\n",
       "      <td>https://pbs.twimg.com/media/CT4udn0WwAA0aMy.jpg</td>\n",
       "      <td>1</td>\n",
       "      <td>Welsh_springer_spaniel</td>\n",
       "      <td>0.465074</td>\n",
       "      <td>True</td>\n",
       "      <td>collie</td>\n",
       "      <td>0.156665</td>\n",
       "      <td>True</td>\n",
       "      <td>Shetland_sheepdog</td>\n",
       "      <td>0.061428</td>\n",
       "      <td>True</td>\n",
       "    </tr>\n",
       "    <tr>\n",
       "      <th>1</th>\n",
       "      <td>666029285002620928</td>\n",
       "      <td>https://pbs.twimg.com/media/CT42GRgUYAA5iDo.jpg</td>\n",
       "      <td>1</td>\n",
       "      <td>redbone</td>\n",
       "      <td>0.506826</td>\n",
       "      <td>True</td>\n",
       "      <td>miniature_pinscher</td>\n",
       "      <td>0.074192</td>\n",
       "      <td>True</td>\n",
       "      <td>Rhodesian_ridgeback</td>\n",
       "      <td>0.072010</td>\n",
       "      <td>True</td>\n",
       "    </tr>\n",
       "    <tr>\n",
       "      <th>2</th>\n",
       "      <td>666033412701032449</td>\n",
       "      <td>https://pbs.twimg.com/media/CT4521TWwAEvMyu.jpg</td>\n",
       "      <td>1</td>\n",
       "      <td>German_shepherd</td>\n",
       "      <td>0.596461</td>\n",
       "      <td>True</td>\n",
       "      <td>malinois</td>\n",
       "      <td>0.138584</td>\n",
       "      <td>True</td>\n",
       "      <td>bloodhound</td>\n",
       "      <td>0.116197</td>\n",
       "      <td>True</td>\n",
       "    </tr>\n",
       "    <tr>\n",
       "      <th>3</th>\n",
       "      <td>666044226329800704</td>\n",
       "      <td>https://pbs.twimg.com/media/CT5Dr8HUEAA-lEu.jpg</td>\n",
       "      <td>1</td>\n",
       "      <td>Rhodesian_ridgeback</td>\n",
       "      <td>0.408143</td>\n",
       "      <td>True</td>\n",
       "      <td>redbone</td>\n",
       "      <td>0.360687</td>\n",
       "      <td>True</td>\n",
       "      <td>miniature_pinscher</td>\n",
       "      <td>0.222752</td>\n",
       "      <td>True</td>\n",
       "    </tr>\n",
       "    <tr>\n",
       "      <th>4</th>\n",
       "      <td>666049248165822465</td>\n",
       "      <td>https://pbs.twimg.com/media/CT5IQmsXIAAKY4A.jpg</td>\n",
       "      <td>1</td>\n",
       "      <td>miniature_pinscher</td>\n",
       "      <td>0.560311</td>\n",
       "      <td>True</td>\n",
       "      <td>Rottweiler</td>\n",
       "      <td>0.243682</td>\n",
       "      <td>True</td>\n",
       "      <td>Doberman</td>\n",
       "      <td>0.154629</td>\n",
       "      <td>True</td>\n",
       "    </tr>\n",
       "    <tr>\n",
       "      <th>...</th>\n",
       "      <td>...</td>\n",
       "      <td>...</td>\n",
       "      <td>...</td>\n",
       "      <td>...</td>\n",
       "      <td>...</td>\n",
       "      <td>...</td>\n",
       "      <td>...</td>\n",
       "      <td>...</td>\n",
       "      <td>...</td>\n",
       "      <td>...</td>\n",
       "      <td>...</td>\n",
       "      <td>...</td>\n",
       "    </tr>\n",
       "    <tr>\n",
       "      <th>2070</th>\n",
       "      <td>891327558926688256</td>\n",
       "      <td>https://pbs.twimg.com/media/DF6hr6BUMAAzZgT.jpg</td>\n",
       "      <td>2</td>\n",
       "      <td>basset</td>\n",
       "      <td>0.555712</td>\n",
       "      <td>True</td>\n",
       "      <td>English_springer</td>\n",
       "      <td>0.225770</td>\n",
       "      <td>True</td>\n",
       "      <td>German_short-haired_pointer</td>\n",
       "      <td>0.175219</td>\n",
       "      <td>True</td>\n",
       "    </tr>\n",
       "    <tr>\n",
       "      <th>2071</th>\n",
       "      <td>891689557279858688</td>\n",
       "      <td>https://pbs.twimg.com/media/DF_q7IAWsAEuuN8.jpg</td>\n",
       "      <td>1</td>\n",
       "      <td>paper_towel</td>\n",
       "      <td>0.170278</td>\n",
       "      <td>False</td>\n",
       "      <td>Labrador_retriever</td>\n",
       "      <td>0.168086</td>\n",
       "      <td>True</td>\n",
       "      <td>spatula</td>\n",
       "      <td>0.040836</td>\n",
       "      <td>False</td>\n",
       "    </tr>\n",
       "    <tr>\n",
       "      <th>2072</th>\n",
       "      <td>891815181378084864</td>\n",
       "      <td>https://pbs.twimg.com/media/DGBdLU1WsAANxJ9.jpg</td>\n",
       "      <td>1</td>\n",
       "      <td>Chihuahua</td>\n",
       "      <td>0.716012</td>\n",
       "      <td>True</td>\n",
       "      <td>malamute</td>\n",
       "      <td>0.078253</td>\n",
       "      <td>True</td>\n",
       "      <td>kelpie</td>\n",
       "      <td>0.031379</td>\n",
       "      <td>True</td>\n",
       "    </tr>\n",
       "    <tr>\n",
       "      <th>2073</th>\n",
       "      <td>892177421306343426</td>\n",
       "      <td>https://pbs.twimg.com/media/DGGmoV4XsAAUL6n.jpg</td>\n",
       "      <td>1</td>\n",
       "      <td>Chihuahua</td>\n",
       "      <td>0.323581</td>\n",
       "      <td>True</td>\n",
       "      <td>Pekinese</td>\n",
       "      <td>0.090647</td>\n",
       "      <td>True</td>\n",
       "      <td>papillon</td>\n",
       "      <td>0.068957</td>\n",
       "      <td>True</td>\n",
       "    </tr>\n",
       "    <tr>\n",
       "      <th>2074</th>\n",
       "      <td>892420643555336193</td>\n",
       "      <td>https://pbs.twimg.com/media/DGKD1-bXoAAIAUK.jpg</td>\n",
       "      <td>1</td>\n",
       "      <td>orange</td>\n",
       "      <td>0.097049</td>\n",
       "      <td>False</td>\n",
       "      <td>bagel</td>\n",
       "      <td>0.085851</td>\n",
       "      <td>False</td>\n",
       "      <td>banana</td>\n",
       "      <td>0.076110</td>\n",
       "      <td>False</td>\n",
       "    </tr>\n",
       "  </tbody>\n",
       "</table>\n",
       "<p>2075 rows × 12 columns</p>\n",
       "</div>"
      ],
      "text/plain": [
       "                tweet_id                                          jpg_url  \\\n",
       "0     666020888022790149  https://pbs.twimg.com/media/CT4udn0WwAA0aMy.jpg   \n",
       "1     666029285002620928  https://pbs.twimg.com/media/CT42GRgUYAA5iDo.jpg   \n",
       "2     666033412701032449  https://pbs.twimg.com/media/CT4521TWwAEvMyu.jpg   \n",
       "3     666044226329800704  https://pbs.twimg.com/media/CT5Dr8HUEAA-lEu.jpg   \n",
       "4     666049248165822465  https://pbs.twimg.com/media/CT5IQmsXIAAKY4A.jpg   \n",
       "...                  ...                                              ...   \n",
       "2070  891327558926688256  https://pbs.twimg.com/media/DF6hr6BUMAAzZgT.jpg   \n",
       "2071  891689557279858688  https://pbs.twimg.com/media/DF_q7IAWsAEuuN8.jpg   \n",
       "2072  891815181378084864  https://pbs.twimg.com/media/DGBdLU1WsAANxJ9.jpg   \n",
       "2073  892177421306343426  https://pbs.twimg.com/media/DGGmoV4XsAAUL6n.jpg   \n",
       "2074  892420643555336193  https://pbs.twimg.com/media/DGKD1-bXoAAIAUK.jpg   \n",
       "\n",
       "      img_num                      p1   p1_conf  p1_dog                  p2  \\\n",
       "0           1  Welsh_springer_spaniel  0.465074    True              collie   \n",
       "1           1                 redbone  0.506826    True  miniature_pinscher   \n",
       "2           1         German_shepherd  0.596461    True            malinois   \n",
       "3           1     Rhodesian_ridgeback  0.408143    True             redbone   \n",
       "4           1      miniature_pinscher  0.560311    True          Rottweiler   \n",
       "...       ...                     ...       ...     ...                 ...   \n",
       "2070        2                  basset  0.555712    True    English_springer   \n",
       "2071        1             paper_towel  0.170278   False  Labrador_retriever   \n",
       "2072        1               Chihuahua  0.716012    True            malamute   \n",
       "2073        1               Chihuahua  0.323581    True            Pekinese   \n",
       "2074        1                  orange  0.097049   False               bagel   \n",
       "\n",
       "       p2_conf  p2_dog                           p3   p3_conf  p3_dog  \n",
       "0     0.156665    True            Shetland_sheepdog  0.061428    True  \n",
       "1     0.074192    True          Rhodesian_ridgeback  0.072010    True  \n",
       "2     0.138584    True                   bloodhound  0.116197    True  \n",
       "3     0.360687    True           miniature_pinscher  0.222752    True  \n",
       "4     0.243682    True                     Doberman  0.154629    True  \n",
       "...        ...     ...                          ...       ...     ...  \n",
       "2070  0.225770    True  German_short-haired_pointer  0.175219    True  \n",
       "2071  0.168086    True                      spatula  0.040836   False  \n",
       "2072  0.078253    True                       kelpie  0.031379    True  \n",
       "2073  0.090647    True                     papillon  0.068957    True  \n",
       "2074  0.085851   False                       banana  0.076110   False  \n",
       "\n",
       "[2075 rows x 12 columns]"
      ]
     },
     "execution_count": 226,
     "metadata": {},
     "output_type": "execute_result"
    }
   ],
   "source": [
    "image_predictions"
   ]
  },
  {
   "attachments": {},
   "cell_type": "markdown",
   "metadata": {},
   "source": [
    "1. For the predicted values, there are items that are not dog_breeds and are false such as paper_towel and orange"
   ]
  },
  {
   "cell_type": "code",
   "execution_count": 227,
   "metadata": {},
   "outputs": [
    {
     "data": {
      "text/html": [
       "<div>\n",
       "<style scoped>\n",
       "    .dataframe tbody tr th:only-of-type {\n",
       "        vertical-align: middle;\n",
       "    }\n",
       "\n",
       "    .dataframe tbody tr th {\n",
       "        vertical-align: top;\n",
       "    }\n",
       "\n",
       "    .dataframe thead th {\n",
       "        text-align: right;\n",
       "    }\n",
       "</style>\n",
       "<table border=\"1\" class=\"dataframe\">\n",
       "  <thead>\n",
       "    <tr style=\"text-align: right;\">\n",
       "      <th></th>\n",
       "      <th>created_at</th>\n",
       "      <th>id</th>\n",
       "      <th>id_str</th>\n",
       "      <th>full_text</th>\n",
       "      <th>truncated</th>\n",
       "      <th>display_text_range</th>\n",
       "      <th>entities</th>\n",
       "      <th>extended_entities</th>\n",
       "      <th>source</th>\n",
       "      <th>in_reply_to_status_id</th>\n",
       "      <th>...</th>\n",
       "      <th>favorited</th>\n",
       "      <th>retweeted</th>\n",
       "      <th>possibly_sensitive</th>\n",
       "      <th>possibly_sensitive_appealable</th>\n",
       "      <th>lang</th>\n",
       "      <th>retweeted_status</th>\n",
       "      <th>quoted_status_id</th>\n",
       "      <th>quoted_status_id_str</th>\n",
       "      <th>quoted_status_permalink</th>\n",
       "      <th>quoted_status</th>\n",
       "    </tr>\n",
       "  </thead>\n",
       "  <tbody>\n",
       "    <tr>\n",
       "      <th>0</th>\n",
       "      <td>2017-08-01 16:23:56+00:00</td>\n",
       "      <td>892420643555336193</td>\n",
       "      <td>892420643555336192</td>\n",
       "      <td>This is Phineas. He's a mystical boy. Only eve...</td>\n",
       "      <td>False</td>\n",
       "      <td>[0, 85]</td>\n",
       "      <td>{'hashtags': [], 'symbols': [], 'user_mentions...</td>\n",
       "      <td>{'media': [{'id': 892420639486877696, 'id_str'...</td>\n",
       "      <td>&lt;a href=\"http://twitter.com/download/iphone\" r...</td>\n",
       "      <td>NaN</td>\n",
       "      <td>...</td>\n",
       "      <td>False</td>\n",
       "      <td>False</td>\n",
       "      <td>0.0</td>\n",
       "      <td>0.0</td>\n",
       "      <td>en</td>\n",
       "      <td>NaN</td>\n",
       "      <td>NaN</td>\n",
       "      <td>NaN</td>\n",
       "      <td>NaN</td>\n",
       "      <td>NaN</td>\n",
       "    </tr>\n",
       "    <tr>\n",
       "      <th>1</th>\n",
       "      <td>2017-08-01 00:17:27+00:00</td>\n",
       "      <td>892177421306343426</td>\n",
       "      <td>892177421306343424</td>\n",
       "      <td>This is Tilly. She's just checking pup on you....</td>\n",
       "      <td>False</td>\n",
       "      <td>[0, 138]</td>\n",
       "      <td>{'hashtags': [], 'symbols': [], 'user_mentions...</td>\n",
       "      <td>{'media': [{'id': 892177413194625024, 'id_str'...</td>\n",
       "      <td>&lt;a href=\"http://twitter.com/download/iphone\" r...</td>\n",
       "      <td>NaN</td>\n",
       "      <td>...</td>\n",
       "      <td>False</td>\n",
       "      <td>False</td>\n",
       "      <td>0.0</td>\n",
       "      <td>0.0</td>\n",
       "      <td>en</td>\n",
       "      <td>NaN</td>\n",
       "      <td>NaN</td>\n",
       "      <td>NaN</td>\n",
       "      <td>NaN</td>\n",
       "      <td>NaN</td>\n",
       "    </tr>\n",
       "    <tr>\n",
       "      <th>2</th>\n",
       "      <td>2017-07-31 00:18:03+00:00</td>\n",
       "      <td>891815181378084864</td>\n",
       "      <td>891815181378084864</td>\n",
       "      <td>This is Archie. He is a rare Norwegian Pouncin...</td>\n",
       "      <td>False</td>\n",
       "      <td>[0, 121]</td>\n",
       "      <td>{'hashtags': [], 'symbols': [], 'user_mentions...</td>\n",
       "      <td>{'media': [{'id': 891815175371796480, 'id_str'...</td>\n",
       "      <td>&lt;a href=\"http://twitter.com/download/iphone\" r...</td>\n",
       "      <td>NaN</td>\n",
       "      <td>...</td>\n",
       "      <td>False</td>\n",
       "      <td>False</td>\n",
       "      <td>0.0</td>\n",
       "      <td>0.0</td>\n",
       "      <td>en</td>\n",
       "      <td>NaN</td>\n",
       "      <td>NaN</td>\n",
       "      <td>NaN</td>\n",
       "      <td>NaN</td>\n",
       "      <td>NaN</td>\n",
       "    </tr>\n",
       "    <tr>\n",
       "      <th>3</th>\n",
       "      <td>2017-07-30 15:58:51+00:00</td>\n",
       "      <td>891689557279858688</td>\n",
       "      <td>891689557279858688</td>\n",
       "      <td>This is Darla. She commenced a snooze mid meal...</td>\n",
       "      <td>False</td>\n",
       "      <td>[0, 79]</td>\n",
       "      <td>{'hashtags': [], 'symbols': [], 'user_mentions...</td>\n",
       "      <td>{'media': [{'id': 891689552724799489, 'id_str'...</td>\n",
       "      <td>&lt;a href=\"http://twitter.com/download/iphone\" r...</td>\n",
       "      <td>NaN</td>\n",
       "      <td>...</td>\n",
       "      <td>False</td>\n",
       "      <td>False</td>\n",
       "      <td>0.0</td>\n",
       "      <td>0.0</td>\n",
       "      <td>en</td>\n",
       "      <td>NaN</td>\n",
       "      <td>NaN</td>\n",
       "      <td>NaN</td>\n",
       "      <td>NaN</td>\n",
       "      <td>NaN</td>\n",
       "    </tr>\n",
       "    <tr>\n",
       "      <th>4</th>\n",
       "      <td>2017-07-29 16:00:24+00:00</td>\n",
       "      <td>891327558926688256</td>\n",
       "      <td>891327558926688256</td>\n",
       "      <td>This is Franklin. He would like you to stop ca...</td>\n",
       "      <td>False</td>\n",
       "      <td>[0, 138]</td>\n",
       "      <td>{'hashtags': [{'text': 'BarkWeek', 'indices': ...</td>\n",
       "      <td>{'media': [{'id': 891327551943041024, 'id_str'...</td>\n",
       "      <td>&lt;a href=\"http://twitter.com/download/iphone\" r...</td>\n",
       "      <td>NaN</td>\n",
       "      <td>...</td>\n",
       "      <td>False</td>\n",
       "      <td>False</td>\n",
       "      <td>0.0</td>\n",
       "      <td>0.0</td>\n",
       "      <td>en</td>\n",
       "      <td>NaN</td>\n",
       "      <td>NaN</td>\n",
       "      <td>NaN</td>\n",
       "      <td>NaN</td>\n",
       "      <td>NaN</td>\n",
       "    </tr>\n",
       "    <tr>\n",
       "      <th>...</th>\n",
       "      <td>...</td>\n",
       "      <td>...</td>\n",
       "      <td>...</td>\n",
       "      <td>...</td>\n",
       "      <td>...</td>\n",
       "      <td>...</td>\n",
       "      <td>...</td>\n",
       "      <td>...</td>\n",
       "      <td>...</td>\n",
       "      <td>...</td>\n",
       "      <td>...</td>\n",
       "      <td>...</td>\n",
       "      <td>...</td>\n",
       "      <td>...</td>\n",
       "      <td>...</td>\n",
       "      <td>...</td>\n",
       "      <td>...</td>\n",
       "      <td>...</td>\n",
       "      <td>...</td>\n",
       "      <td>...</td>\n",
       "      <td>...</td>\n",
       "    </tr>\n",
       "    <tr>\n",
       "      <th>330</th>\n",
       "      <td>2017-02-15 01:04:21+00:00</td>\n",
       "      <td>831670449226514432</td>\n",
       "      <td>831670449226514432</td>\n",
       "      <td>This is Daisy. She has a heart on her butt. 13...</td>\n",
       "      <td>False</td>\n",
       "      <td>[0, 60]</td>\n",
       "      <td>{'hashtags': [], 'symbols': [], 'user_mentions...</td>\n",
       "      <td>{'media': [{'id': 831670443132252160, 'id_str'...</td>\n",
       "      <td>&lt;a href=\"http://twitter.com/download/iphone\" r...</td>\n",
       "      <td>NaN</td>\n",
       "      <td>...</td>\n",
       "      <td>False</td>\n",
       "      <td>False</td>\n",
       "      <td>0.0</td>\n",
       "      <td>0.0</td>\n",
       "      <td>en</td>\n",
       "      <td>NaN</td>\n",
       "      <td>NaN</td>\n",
       "      <td>NaN</td>\n",
       "      <td>NaN</td>\n",
       "      <td>NaN</td>\n",
       "    </tr>\n",
       "    <tr>\n",
       "      <th>331</th>\n",
       "      <td>2017-02-14 23:43:18+00:00</td>\n",
       "      <td>831650051525054464</td>\n",
       "      <td>831650051525054464</td>\n",
       "      <td>I usually only share these on Friday's, but th...</td>\n",
       "      <td>False</td>\n",
       "      <td>[0, 138]</td>\n",
       "      <td>{'hashtags': [], 'symbols': [], 'user_mentions...</td>\n",
       "      <td>{'media': [{'id': 831650039864885250, 'id_str'...</td>\n",
       "      <td>&lt;a href=\"http://twitter.com/download/iphone\" r...</td>\n",
       "      <td>NaN</td>\n",
       "      <td>...</td>\n",
       "      <td>False</td>\n",
       "      <td>False</td>\n",
       "      <td>0.0</td>\n",
       "      <td>0.0</td>\n",
       "      <td>en</td>\n",
       "      <td>NaN</td>\n",
       "      <td>NaN</td>\n",
       "      <td>NaN</td>\n",
       "      <td>NaN</td>\n",
       "      <td>NaN</td>\n",
       "    </tr>\n",
       "    <tr>\n",
       "      <th>332</th>\n",
       "      <td>2017-02-14 17:17:22+00:00</td>\n",
       "      <td>831552930092285952</td>\n",
       "      <td>831552930092285952</td>\n",
       "      <td>This is Dutch. He dressed up as his favorite e...</td>\n",
       "      <td>False</td>\n",
       "      <td>[0, 117]</td>\n",
       "      <td>{'hashtags': [], 'symbols': [], 'user_mentions...</td>\n",
       "      <td>{'media': [{'id': 831552915512901632, 'id_str'...</td>\n",
       "      <td>&lt;a href=\"http://twitter.com/download/iphone\" r...</td>\n",
       "      <td>NaN</td>\n",
       "      <td>...</td>\n",
       "      <td>False</td>\n",
       "      <td>False</td>\n",
       "      <td>0.0</td>\n",
       "      <td>0.0</td>\n",
       "      <td>en</td>\n",
       "      <td>NaN</td>\n",
       "      <td>NaN</td>\n",
       "      <td>NaN</td>\n",
       "      <td>NaN</td>\n",
       "      <td>NaN</td>\n",
       "    </tr>\n",
       "    <tr>\n",
       "      <th>333</th>\n",
       "      <td>2017-02-14 02:02:51+00:00</td>\n",
       "      <td>831322785565769729</td>\n",
       "      <td>831322785565769728</td>\n",
       "      <td>This is Pete. He has no eyes. Needs a guide do...</td>\n",
       "      <td>False</td>\n",
       "      <td>[0, 116]</td>\n",
       "      <td>{'hashtags': [], 'symbols': [], 'user_mentions...</td>\n",
       "      <td>{'media': [{'id': 831322776149430272, 'id_str'...</td>\n",
       "      <td>&lt;a href=\"http://twitter.com/download/iphone\" r...</td>\n",
       "      <td>NaN</td>\n",
       "      <td>...</td>\n",
       "      <td>False</td>\n",
       "      <td>False</td>\n",
       "      <td>0.0</td>\n",
       "      <td>0.0</td>\n",
       "      <td>en</td>\n",
       "      <td>NaN</td>\n",
       "      <td>NaN</td>\n",
       "      <td>NaN</td>\n",
       "      <td>NaN</td>\n",
       "      <td>NaN</td>\n",
       "    </tr>\n",
       "    <tr>\n",
       "      <th>334</th>\n",
       "      <td>2017-02-14 01:35:49+00:00</td>\n",
       "      <td>831315979191906304</td>\n",
       "      <td>831315979191906304</td>\n",
       "      <td>I couldn't make it to the #WKCDogShow BUT I ha...</td>\n",
       "      <td>False</td>\n",
       "      <td>[0, 134]</td>\n",
       "      <td>{'hashtags': [{'text': 'WKCDogShow', 'indices'...</td>\n",
       "      <td>{'media': [{'id': 831314890077908992, 'id_str'...</td>\n",
       "      <td>&lt;a href=\"http://twitter.com\" rel=\"nofollow\"&gt;Tw...</td>\n",
       "      <td>NaN</td>\n",
       "      <td>...</td>\n",
       "      <td>False</td>\n",
       "      <td>False</td>\n",
       "      <td>0.0</td>\n",
       "      <td>0.0</td>\n",
       "      <td>en</td>\n",
       "      <td>NaN</td>\n",
       "      <td>NaN</td>\n",
       "      <td>NaN</td>\n",
       "      <td>NaN</td>\n",
       "      <td>NaN</td>\n",
       "    </tr>\n",
       "  </tbody>\n",
       "</table>\n",
       "<p>335 rows × 32 columns</p>\n",
       "</div>"
      ],
      "text/plain": [
       "                   created_at                  id              id_str  \\\n",
       "0   2017-08-01 16:23:56+00:00  892420643555336193  892420643555336192   \n",
       "1   2017-08-01 00:17:27+00:00  892177421306343426  892177421306343424   \n",
       "2   2017-07-31 00:18:03+00:00  891815181378084864  891815181378084864   \n",
       "3   2017-07-30 15:58:51+00:00  891689557279858688  891689557279858688   \n",
       "4   2017-07-29 16:00:24+00:00  891327558926688256  891327558926688256   \n",
       "..                        ...                 ...                 ...   \n",
       "330 2017-02-15 01:04:21+00:00  831670449226514432  831670449226514432   \n",
       "331 2017-02-14 23:43:18+00:00  831650051525054464  831650051525054464   \n",
       "332 2017-02-14 17:17:22+00:00  831552930092285952  831552930092285952   \n",
       "333 2017-02-14 02:02:51+00:00  831322785565769729  831322785565769728   \n",
       "334 2017-02-14 01:35:49+00:00  831315979191906304  831315979191906304   \n",
       "\n",
       "                                             full_text  truncated  \\\n",
       "0    This is Phineas. He's a mystical boy. Only eve...      False   \n",
       "1    This is Tilly. She's just checking pup on you....      False   \n",
       "2    This is Archie. He is a rare Norwegian Pouncin...      False   \n",
       "3    This is Darla. She commenced a snooze mid meal...      False   \n",
       "4    This is Franklin. He would like you to stop ca...      False   \n",
       "..                                                 ...        ...   \n",
       "330  This is Daisy. She has a heart on her butt. 13...      False   \n",
       "331  I usually only share these on Friday's, but th...      False   \n",
       "332  This is Dutch. He dressed up as his favorite e...      False   \n",
       "333  This is Pete. He has no eyes. Needs a guide do...      False   \n",
       "334  I couldn't make it to the #WKCDogShow BUT I ha...      False   \n",
       "\n",
       "    display_text_range                                           entities  \\\n",
       "0              [0, 85]  {'hashtags': [], 'symbols': [], 'user_mentions...   \n",
       "1             [0, 138]  {'hashtags': [], 'symbols': [], 'user_mentions...   \n",
       "2             [0, 121]  {'hashtags': [], 'symbols': [], 'user_mentions...   \n",
       "3              [0, 79]  {'hashtags': [], 'symbols': [], 'user_mentions...   \n",
       "4             [0, 138]  {'hashtags': [{'text': 'BarkWeek', 'indices': ...   \n",
       "..                 ...                                                ...   \n",
       "330            [0, 60]  {'hashtags': [], 'symbols': [], 'user_mentions...   \n",
       "331           [0, 138]  {'hashtags': [], 'symbols': [], 'user_mentions...   \n",
       "332           [0, 117]  {'hashtags': [], 'symbols': [], 'user_mentions...   \n",
       "333           [0, 116]  {'hashtags': [], 'symbols': [], 'user_mentions...   \n",
       "334           [0, 134]  {'hashtags': [{'text': 'WKCDogShow', 'indices'...   \n",
       "\n",
       "                                     extended_entities  \\\n",
       "0    {'media': [{'id': 892420639486877696, 'id_str'...   \n",
       "1    {'media': [{'id': 892177413194625024, 'id_str'...   \n",
       "2    {'media': [{'id': 891815175371796480, 'id_str'...   \n",
       "3    {'media': [{'id': 891689552724799489, 'id_str'...   \n",
       "4    {'media': [{'id': 891327551943041024, 'id_str'...   \n",
       "..                                                 ...   \n",
       "330  {'media': [{'id': 831670443132252160, 'id_str'...   \n",
       "331  {'media': [{'id': 831650039864885250, 'id_str'...   \n",
       "332  {'media': [{'id': 831552915512901632, 'id_str'...   \n",
       "333  {'media': [{'id': 831322776149430272, 'id_str'...   \n",
       "334  {'media': [{'id': 831314890077908992, 'id_str'...   \n",
       "\n",
       "                                                source  in_reply_to_status_id  \\\n",
       "0    <a href=\"http://twitter.com/download/iphone\" r...                    NaN   \n",
       "1    <a href=\"http://twitter.com/download/iphone\" r...                    NaN   \n",
       "2    <a href=\"http://twitter.com/download/iphone\" r...                    NaN   \n",
       "3    <a href=\"http://twitter.com/download/iphone\" r...                    NaN   \n",
       "4    <a href=\"http://twitter.com/download/iphone\" r...                    NaN   \n",
       "..                                                 ...                    ...   \n",
       "330  <a href=\"http://twitter.com/download/iphone\" r...                    NaN   \n",
       "331  <a href=\"http://twitter.com/download/iphone\" r...                    NaN   \n",
       "332  <a href=\"http://twitter.com/download/iphone\" r...                    NaN   \n",
       "333  <a href=\"http://twitter.com/download/iphone\" r...                    NaN   \n",
       "334  <a href=\"http://twitter.com\" rel=\"nofollow\">Tw...                    NaN   \n",
       "\n",
       "     ...  favorited  retweeted  possibly_sensitive  \\\n",
       "0    ...      False      False                 0.0   \n",
       "1    ...      False      False                 0.0   \n",
       "2    ...      False      False                 0.0   \n",
       "3    ...      False      False                 0.0   \n",
       "4    ...      False      False                 0.0   \n",
       "..   ...        ...        ...                 ...   \n",
       "330  ...      False      False                 0.0   \n",
       "331  ...      False      False                 0.0   \n",
       "332  ...      False      False                 0.0   \n",
       "333  ...      False      False                 0.0   \n",
       "334  ...      False      False                 0.0   \n",
       "\n",
       "    possibly_sensitive_appealable lang  retweeted_status  quoted_status_id  \\\n",
       "0                             0.0   en               NaN               NaN   \n",
       "1                             0.0   en               NaN               NaN   \n",
       "2                             0.0   en               NaN               NaN   \n",
       "3                             0.0   en               NaN               NaN   \n",
       "4                             0.0   en               NaN               NaN   \n",
       "..                            ...  ...               ...               ...   \n",
       "330                           0.0   en               NaN               NaN   \n",
       "331                           0.0   en               NaN               NaN   \n",
       "332                           0.0   en               NaN               NaN   \n",
       "333                           0.0   en               NaN               NaN   \n",
       "334                           0.0   en               NaN               NaN   \n",
       "\n",
       "     quoted_status_id_str  quoted_status_permalink  quoted_status  \n",
       "0                     NaN                      NaN            NaN  \n",
       "1                     NaN                      NaN            NaN  \n",
       "2                     NaN                      NaN            NaN  \n",
       "3                     NaN                      NaN            NaN  \n",
       "4                     NaN                      NaN            NaN  \n",
       "..                    ...                      ...            ...  \n",
       "330                   NaN                      NaN            NaN  \n",
       "331                   NaN                      NaN            NaN  \n",
       "332                   NaN                      NaN            NaN  \n",
       "333                   NaN                      NaN            NaN  \n",
       "334                   NaN                      NaN            NaN  \n",
       "\n",
       "[335 rows x 32 columns]"
      ]
     },
     "execution_count": 227,
     "metadata": {},
     "output_type": "execute_result"
    }
   ],
   "source": [
    "tweet_from_api"
   ]
  },
  {
   "attachments": {},
   "cell_type": "markdown",
   "metadata": {},
   "source": [
    "1. There are columns that are duplicates of each other\n",
    "2. Some columns are list and some are dictionaries\n",
    "3. The column source is an html code"
   ]
  },
  {
   "attachments": {},
   "cell_type": "markdown",
   "metadata": {},
   "source": [
    "#### Programatic assessment"
   ]
  },
  {
   "cell_type": "code",
   "execution_count": 228,
   "metadata": {},
   "outputs": [
    {
     "name": "stdout",
     "output_type": "stream",
     "text": [
      "<class 'pandas.core.frame.DataFrame'>\n",
      "RangeIndex: 2356 entries, 0 to 2355\n",
      "Data columns (total 17 columns):\n",
      " #   Column                      Non-Null Count  Dtype  \n",
      "---  ------                      --------------  -----  \n",
      " 0   tweet_id                    2356 non-null   int64  \n",
      " 1   in_reply_to_status_id       78 non-null     float64\n",
      " 2   in_reply_to_user_id         78 non-null     float64\n",
      " 3   timestamp                   2356 non-null   object \n",
      " 4   source                      2356 non-null   object \n",
      " 5   text                        2356 non-null   object \n",
      " 6   retweeted_status_id         181 non-null    float64\n",
      " 7   retweeted_status_user_id    181 non-null    float64\n",
      " 8   retweeted_status_timestamp  181 non-null    object \n",
      " 9   expanded_urls               2297 non-null   object \n",
      " 10  rating_numerator            2356 non-null   int64  \n",
      " 11  rating_denominator          2356 non-null   int64  \n",
      " 12  name                        2356 non-null   object \n",
      " 13  doggo                       2356 non-null   object \n",
      " 14  floofer                     2356 non-null   object \n",
      " 15  pupper                      2356 non-null   object \n",
      " 16  puppo                       2356 non-null   object \n",
      "dtypes: float64(4), int64(3), object(10)\n",
      "memory usage: 313.0+ KB\n"
     ]
    }
   ],
   "source": [
    "twitter_archive.info()"
   ]
  },
  {
   "cell_type": "code",
   "execution_count": 229,
   "metadata": {},
   "outputs": [
    {
     "name": "stdout",
     "output_type": "stream",
     "text": [
      "<class 'pandas.core.frame.DataFrame'>\n",
      "RangeIndex: 335 entries, 0 to 334\n",
      "Data columns (total 32 columns):\n",
      " #   Column                         Non-Null Count  Dtype              \n",
      "---  ------                         --------------  -----              \n",
      " 0   created_at                     335 non-null    datetime64[ns, UTC]\n",
      " 1   id                             335 non-null    int64              \n",
      " 2   id_str                         335 non-null    int64              \n",
      " 3   full_text                      335 non-null    object             \n",
      " 4   truncated                      335 non-null    bool               \n",
      " 5   display_text_range             335 non-null    object             \n",
      " 6   entities                       335 non-null    object             \n",
      " 7   extended_entities              268 non-null    object             \n",
      " 8   source                         335 non-null    object             \n",
      " 9   in_reply_to_status_id          20 non-null     float64            \n",
      " 10  in_reply_to_status_id_str      20 non-null     float64            \n",
      " 11  in_reply_to_user_id            20 non-null     float64            \n",
      " 12  in_reply_to_user_id_str        20 non-null     float64            \n",
      " 13  in_reply_to_screen_name        20 non-null     object             \n",
      " 14  user                           335 non-null    object             \n",
      " 15  geo                            0 non-null      float64            \n",
      " 16  coordinates                    0 non-null      float64            \n",
      " 17  place                          0 non-null      float64            \n",
      " 18  contributors                   0 non-null      float64            \n",
      " 19  is_quote_status                335 non-null    bool               \n",
      " 20  retweet_count                  335 non-null    int64              \n",
      " 21  favorite_count                 335 non-null    int64              \n",
      " 22  favorited                      335 non-null    bool               \n",
      " 23  retweeted                      335 non-null    bool               \n",
      " 24  possibly_sensitive             287 non-null    float64            \n",
      " 25  possibly_sensitive_appealable  287 non-null    float64            \n",
      " 26  lang                           335 non-null    object             \n",
      " 27  retweeted_status               41 non-null     object             \n",
      " 28  quoted_status_id               13 non-null     float64            \n",
      " 29  quoted_status_id_str           13 non-null     float64            \n",
      " 30  quoted_status_permalink        13 non-null     object             \n",
      " 31  quoted_status                  12 non-null     object             \n",
      "dtypes: bool(4), datetime64[ns, UTC](1), float64(12), int64(4), object(11)\n",
      "memory usage: 74.7+ KB\n"
     ]
    }
   ],
   "source": [
    "tweet_from_api.info()"
   ]
  },
  {
   "cell_type": "code",
   "execution_count": 230,
   "metadata": {},
   "outputs": [
    {
     "name": "stdout",
     "output_type": "stream",
     "text": [
      "<class 'pandas.core.frame.DataFrame'>\n",
      "RangeIndex: 2075 entries, 0 to 2074\n",
      "Data columns (total 12 columns):\n",
      " #   Column    Non-Null Count  Dtype  \n",
      "---  ------    --------------  -----  \n",
      " 0   tweet_id  2075 non-null   int64  \n",
      " 1   jpg_url   2075 non-null   object \n",
      " 2   img_num   2075 non-null   int64  \n",
      " 3   p1        2075 non-null   object \n",
      " 4   p1_conf   2075 non-null   float64\n",
      " 5   p1_dog    2075 non-null   bool   \n",
      " 6   p2        2075 non-null   object \n",
      " 7   p2_conf   2075 non-null   float64\n",
      " 8   p2_dog    2075 non-null   bool   \n",
      " 9   p3        2075 non-null   object \n",
      " 10  p3_conf   2075 non-null   float64\n",
      " 11  p3_dog    2075 non-null   bool   \n",
      "dtypes: bool(3), float64(3), int64(2), object(4)\n",
      "memory usage: 152.1+ KB\n"
     ]
    }
   ],
   "source": [
    "image_predictions.info()"
   ]
  },
  {
   "attachments": {},
   "cell_type": "markdown",
   "metadata": {},
   "source": [
    "1. The number of rows between tables are different\n",
    "2. There are tables that have wrong datatype\n",
    "3. There are still retweets\n",
    "4. There empty or near empty columns\n",
    "5. There are columns that is the same from one table to another"
   ]
  },
  {
   "cell_type": "code",
   "execution_count": 231,
   "metadata": {},
   "outputs": [
    {
     "data": {
      "text/plain": [
       "2075"
      ]
     },
     "execution_count": 231,
     "metadata": {},
     "output_type": "execute_result"
    }
   ],
   "source": [
    "# Check how many unique tweet_id\n",
    "len(set(image_predictions['tweet_id']))"
   ]
  },
  {
   "cell_type": "markdown",
   "metadata": {},
   "source": [
    "Check each of the columns in the tables"
   ]
  },
  {
   "cell_type": "code",
   "execution_count": 232,
   "metadata": {},
   "outputs": [
    {
     "name": "stderr",
     "output_type": "stream",
     "text": [
      "/tmp/ipykernel_869/2201165250.py:1: FutureWarning: Treating datetime data as categorical rather than numeric in `.describe` is deprecated and will be removed in a future version of pandas. Specify `datetime_is_numeric=True` to silence this warning and adopt the future behavior now.\n",
      "  tweet_from_api['created_at'].describe()\n"
     ]
    },
    {
     "data": {
      "text/plain": [
       "count                           335\n",
       "unique                          335\n",
       "top       2017-08-01 16:23:56+00:00\n",
       "freq                              1\n",
       "first     2017-02-14 01:35:49+00:00\n",
       "last      2017-08-01 16:23:56+00:00\n",
       "Name: created_at, dtype: object"
      ]
     },
     "execution_count": 232,
     "metadata": {},
     "output_type": "execute_result"
    }
   ],
   "source": [
    "tweet_from_api['created_at'].describe()"
   ]
  },
  {
   "cell_type": "code",
   "execution_count": 233,
   "metadata": {},
   "outputs": [
    {
     "data": {
      "text/plain": [
       "truncated\n",
       "False    335\n",
       "Name: id, dtype: int64"
      ]
     },
     "execution_count": 233,
     "metadata": {},
     "output_type": "execute_result"
    }
   ],
   "source": [
    "tweet_from_api.groupby(['truncated'])['id'].count()"
   ]
  },
  {
   "cell_type": "code",
   "execution_count": 234,
   "metadata": {},
   "outputs": [
    {
     "data": {
      "text/plain": [
       "24     [0, 129]\n",
       "50     [0, 114]\n",
       "263    [0, 133]\n",
       "242     [0, 48]\n",
       "212    [0, 136]\n",
       "264    [0, 100]\n",
       "118    [0, 140]\n",
       "201    [0, 140]\n",
       "211    [0, 107]\n",
       "140    [0, 128]\n",
       "Name: display_text_range, dtype: object"
      ]
     },
     "execution_count": 234,
     "metadata": {},
     "output_type": "execute_result"
    }
   ],
   "source": [
    "tweet_from_api['display_text_range'].sample(10)"
   ]
  },
  {
   "cell_type": "code",
   "execution_count": 235,
   "metadata": {},
   "outputs": [
    {
     "data": {
      "text/plain": [
       "72     {'hashtags': [], 'symbols': [], 'user_mentions...\n",
       "112    {'hashtags': [], 'symbols': [], 'user_mentions...\n",
       "192    {'hashtags': [], 'symbols': [], 'user_mentions...\n",
       "120    {'hashtags': [], 'symbols': [], 'user_mentions...\n",
       "251    {'hashtags': [], 'symbols': [], 'user_mentions...\n",
       "297    {'hashtags': [], 'symbols': [], 'user_mentions...\n",
       "257    {'hashtags': [], 'symbols': [], 'user_mentions...\n",
       "156    {'hashtags': [], 'symbols': [], 'user_mentions...\n",
       "167    {'hashtags': [], 'symbols': [], 'user_mentions...\n",
       "229    {'hashtags': [], 'symbols': [], 'user_mentions...\n",
       "Name: entities, dtype: object"
      ]
     },
     "execution_count": 235,
     "metadata": {},
     "output_type": "execute_result"
    }
   ],
   "source": [
    "tweet_from_api['entities'].sample(10)"
   ]
  },
  {
   "cell_type": "code",
   "execution_count": 236,
   "metadata": {},
   "outputs": [
    {
     "data": {
      "text/plain": [
       "{'hashtags': [],\n",
       " 'symbols': [],\n",
       " 'user_mentions': [],\n",
       " 'urls': [],\n",
       " 'media': [{'id': 892420639486877696,\n",
       "   'id_str': '892420639486877696',\n",
       "   'indices': [86, 109],\n",
       "   'media_url': 'http://pbs.twimg.com/media/DGKD1-bXoAAIAUK.jpg',\n",
       "   'media_url_https': 'https://pbs.twimg.com/media/DGKD1-bXoAAIAUK.jpg',\n",
       "   'url': 'https://t.co/MgUWQ76dJU',\n",
       "   'display_url': 'pic.twitter.com/MgUWQ76dJU',\n",
       "   'expanded_url': 'https://twitter.com/dog_rates/status/892420643555336193/photo/1',\n",
       "   'type': 'photo',\n",
       "   'sizes': {'thumb': {'w': 150, 'h': 150, 'resize': 'crop'},\n",
       "    'medium': {'w': 540, 'h': 528, 'resize': 'fit'},\n",
       "    'small': {'w': 540, 'h': 528, 'resize': 'fit'},\n",
       "    'large': {'w': 540, 'h': 528, 'resize': 'fit'}}}]}"
      ]
     },
     "execution_count": 236,
     "metadata": {},
     "output_type": "execute_result"
    }
   ],
   "source": [
    "tweet_from_api['entities'][0]"
   ]
  },
  {
   "cell_type": "code",
   "execution_count": 237,
   "metadata": {},
   "outputs": [
    {
     "data": {
      "text/html": [
       "<div>\n",
       "<style scoped>\n",
       "    .dataframe tbody tr th:only-of-type {\n",
       "        vertical-align: middle;\n",
       "    }\n",
       "\n",
       "    .dataframe tbody tr th {\n",
       "        vertical-align: top;\n",
       "    }\n",
       "\n",
       "    .dataframe thead th {\n",
       "        text-align: right;\n",
       "    }\n",
       "</style>\n",
       "<table border=\"1\" class=\"dataframe\">\n",
       "  <thead>\n",
       "    <tr style=\"text-align: right;\">\n",
       "      <th></th>\n",
       "      <th>hashtags</th>\n",
       "      <th>symbols</th>\n",
       "      <th>user_mentions</th>\n",
       "      <th>urls</th>\n",
       "      <th>media</th>\n",
       "    </tr>\n",
       "  </thead>\n",
       "  <tbody>\n",
       "    <tr>\n",
       "      <th>0</th>\n",
       "      <td>[]</td>\n",
       "      <td>[]</td>\n",
       "      <td>[]</td>\n",
       "      <td>[]</td>\n",
       "      <td>[{'id': 892420639486877696, 'id_str': '8924206...</td>\n",
       "    </tr>\n",
       "    <tr>\n",
       "      <th>1</th>\n",
       "      <td>[]</td>\n",
       "      <td>[]</td>\n",
       "      <td>[]</td>\n",
       "      <td>[]</td>\n",
       "      <td>[{'id': 892177413194625024, 'id_str': '8921774...</td>\n",
       "    </tr>\n",
       "    <tr>\n",
       "      <th>2</th>\n",
       "      <td>[]</td>\n",
       "      <td>[]</td>\n",
       "      <td>[]</td>\n",
       "      <td>[]</td>\n",
       "      <td>[{'id': 891815175371796480, 'id_str': '8918151...</td>\n",
       "    </tr>\n",
       "    <tr>\n",
       "      <th>3</th>\n",
       "      <td>[]</td>\n",
       "      <td>[]</td>\n",
       "      <td>[]</td>\n",
       "      <td>[]</td>\n",
       "      <td>[{'id': 891689552724799489, 'id_str': '8916895...</td>\n",
       "    </tr>\n",
       "    <tr>\n",
       "      <th>4</th>\n",
       "      <td>[{'text': 'BarkWeek', 'indices': [129, 138]}]</td>\n",
       "      <td>[]</td>\n",
       "      <td>[]</td>\n",
       "      <td>[]</td>\n",
       "      <td>[{'id': 891327551943041024, 'id_str': '8913275...</td>\n",
       "    </tr>\n",
       "  </tbody>\n",
       "</table>\n",
       "</div>"
      ],
      "text/plain": [
       "                                        hashtags symbols user_mentions urls  \\\n",
       "0                                             []      []            []   []   \n",
       "1                                             []      []            []   []   \n",
       "2                                             []      []            []   []   \n",
       "3                                             []      []            []   []   \n",
       "4  [{'text': 'BarkWeek', 'indices': [129, 138]}]      []            []   []   \n",
       "\n",
       "                                               media  \n",
       "0  [{'id': 892420639486877696, 'id_str': '8924206...  \n",
       "1  [{'id': 892177413194625024, 'id_str': '8921774...  \n",
       "2  [{'id': 891815175371796480, 'id_str': '8918151...  \n",
       "3  [{'id': 891689552724799489, 'id_str': '8916895...  \n",
       "4  [{'id': 891327551943041024, 'id_str': '8913275...  "
      ]
     },
     "execution_count": 237,
     "metadata": {},
     "output_type": "execute_result"
    }
   ],
   "source": [
    "entities_df=pd.json_normalize(tweet_from_api['entities'])\n",
    "entities_df.head()"
   ]
  },
  {
   "cell_type": "code",
   "execution_count": 238,
   "metadata": {},
   "outputs": [
    {
     "data": {
      "text/plain": [
       "269    {'media': [{'id': 838905954309529600, 'id_str'...\n",
       "297    {'media': [{'id': 835152428160978949, 'id_str'...\n",
       "310    {'media': [{'id': 833722895578886144, 'id_str'...\n",
       "170    {'media': [{'id': 857263152219791360, 'id_str'...\n",
       "54                                                   NaN\n",
       "93     {'media': [{'id': 873580279771926529, 'id_str'...\n",
       "82     {'media': [{'id': 876484043352588288, 'id_str'...\n",
       "226    {'media': [{'id': 847116177323253760, 'id_str'...\n",
       "41                                                   NaN\n",
       "265    {'media': [{'id': 839549305585295362, 'id_str'...\n",
       "Name: extended_entities, dtype: object"
      ]
     },
     "execution_count": 238,
     "metadata": {},
     "output_type": "execute_result"
    }
   ],
   "source": [
    "tweet_from_api['extended_entities'].sample(10)"
   ]
  },
  {
   "cell_type": "code",
   "execution_count": 239,
   "metadata": {},
   "outputs": [
    {
     "data": {
      "text/plain": [
       "{'media': [{'id': 892420639486877696,\n",
       "   'id_str': '892420639486877696',\n",
       "   'indices': [86, 109],\n",
       "   'media_url': 'http://pbs.twimg.com/media/DGKD1-bXoAAIAUK.jpg',\n",
       "   'media_url_https': 'https://pbs.twimg.com/media/DGKD1-bXoAAIAUK.jpg',\n",
       "   'url': 'https://t.co/MgUWQ76dJU',\n",
       "   'display_url': 'pic.twitter.com/MgUWQ76dJU',\n",
       "   'expanded_url': 'https://twitter.com/dog_rates/status/892420643555336193/photo/1',\n",
       "   'type': 'photo',\n",
       "   'sizes': {'thumb': {'w': 150, 'h': 150, 'resize': 'crop'},\n",
       "    'medium': {'w': 540, 'h': 528, 'resize': 'fit'},\n",
       "    'small': {'w': 540, 'h': 528, 'resize': 'fit'},\n",
       "    'large': {'w': 540, 'h': 528, 'resize': 'fit'}}}]}"
      ]
     },
     "execution_count": 239,
     "metadata": {},
     "output_type": "execute_result"
    }
   ],
   "source": [
    "tweet_from_api['extended_entities'][0]"
   ]
  },
  {
   "cell_type": "code",
   "execution_count": 240,
   "metadata": {},
   "outputs": [
    {
     "data": {
      "text/plain": [
       "164    <a href=\"http://twitter.com/download/iphone\" r...\n",
       "53     <a href=\"http://twitter.com/download/iphone\" r...\n",
       "326    <a href=\"http://twitter.com/download/iphone\" r...\n",
       "293    <a href=\"http://twitter.com/download/iphone\" r...\n",
       "296    <a href=\"http://twitter.com/download/iphone\" r...\n",
       "322    <a href=\"http://twitter.com/download/iphone\" r...\n",
       "188    <a href=\"http://twitter.com/download/iphone\" r...\n",
       "22     <a href=\"http://twitter.com/download/iphone\" r...\n",
       "200    <a href=\"http://twitter.com/download/iphone\" r...\n",
       "252    <a href=\"http://twitter.com/download/iphone\" r...\n",
       "Name: source, dtype: object"
      ]
     },
     "execution_count": 240,
     "metadata": {},
     "output_type": "execute_result"
    }
   ],
   "source": [
    "tweet_from_api['source'].sample(10)"
   ]
  },
  {
   "cell_type": "code",
   "execution_count": 241,
   "metadata": {},
   "outputs": [
    {
     "data": {
      "text/plain": [
       "source\n",
       "<a href=\"http://twitter.com\" rel=\"nofollow\">Twitter Web Client</a>                      4\n",
       "<a href=\"http://twitter.com/download/iphone\" rel=\"nofollow\">Twitter for iPhone</a>    331\n",
       "Name: id, dtype: int64"
      ]
     },
     "execution_count": 241,
     "metadata": {},
     "output_type": "execute_result"
    }
   ],
   "source": [
    "tweet_from_api.groupby(['source'])['id'].count()"
   ]
  },
  {
   "cell_type": "code",
   "execution_count": 242,
   "metadata": {},
   "outputs": [
    {
     "data": {
      "text/plain": [
       "in_reply_to_status_id\n",
       "6.671522e+17    1\n",
       "7.590995e+17    1\n",
       "8.319030e+17    1\n",
       "8.320875e+17    1\n",
       "8.352460e+17    1\n",
       "8.380855e+17    1\n",
       "8.381455e+17    1\n",
       "8.406983e+17    1\n",
       "8.476062e+17    1\n",
       "8.482121e+17    1\n",
       "8.503288e+17    1\n",
       "8.558181e+17    1\n",
       "8.558585e+17    1\n",
       "8.558616e+17    1\n",
       "8.571567e+17    1\n",
       "8.634256e+17    1\n",
       "8.707262e+17    1\n",
       "8.795538e+17    1\n",
       "8.816070e+17    1\n",
       "8.862664e+17    1\n",
       "Name: id, dtype: int64"
      ]
     },
     "execution_count": 242,
     "metadata": {},
     "output_type": "execute_result"
    }
   ],
   "source": [
    "tweet_from_api.groupby(['in_reply_to_status_id'])['id'].count()"
   ]
  },
  {
   "cell_type": "code",
   "execution_count": 243,
   "metadata": {},
   "outputs": [
    {
     "data": {
      "text/plain": [
       "in_reply_to_user_id\n",
       "1.361572e+07    1\n",
       "1.648776e+07    1\n",
       "2.068372e+07    1\n",
       "2.195506e+07    2\n",
       "2.625958e+07    1\n",
       "3.058208e+07    1\n",
       "4.738443e+07    1\n",
       "7.759620e+07    1\n",
       "1.806710e+08    1\n",
       "1.943518e+08    1\n",
       "2.281182e+09    1\n",
       "2.894131e+09    1\n",
       "3.105441e+09    1\n",
       "4.196984e+09    5\n",
       "8.405479e+17    1\n",
       "Name: id, dtype: int64"
      ]
     },
     "execution_count": 243,
     "metadata": {},
     "output_type": "execute_result"
    }
   ],
   "source": [
    "tweet_from_api.groupby(['in_reply_to_user_id'])['id'].count()"
   ]
  },
  {
   "cell_type": "code",
   "execution_count": 244,
   "metadata": {},
   "outputs": [
    {
     "data": {
      "text/plain": [
       "in_reply_to_screen_name\n",
       "0_kelvin_0        1\n",
       "ComplicitOwl      1\n",
       "Jacksepticeye     1\n",
       "Marc_IRL          1\n",
       "PresidentDawg     1\n",
       "RFKracing         1\n",
       "RealKentMurphy    1\n",
       "SweetsyPeets      1\n",
       "UNC               1\n",
       "dhmontgomery      1\n",
       "docmisterio       1\n",
       "dog_rates         5\n",
       "jonnysun          1\n",
       "markhoppus        2\n",
       "s8n               1\n",
       "Name: id, dtype: int64"
      ]
     },
     "execution_count": 244,
     "metadata": {},
     "output_type": "execute_result"
    }
   ],
   "source": [
    "tweet_from_api.groupby(['in_reply_to_screen_name'])['id'].count()"
   ]
  },
  {
   "cell_type": "code",
   "execution_count": 245,
   "metadata": {},
   "outputs": [
    {
     "data": {
      "text/plain": [
       "183    {'id': 4196983835, 'id_str': '4196983835', 'na...\n",
       "108    {'id': 4196983835, 'id_str': '4196983835', 'na...\n",
       "266    {'id': 4196983835, 'id_str': '4196983835', 'na...\n",
       "33     {'id': 4196983835, 'id_str': '4196983835', 'na...\n",
       "317    {'id': 4196983835, 'id_str': '4196983835', 'na...\n",
       "154    {'id': 4196983835, 'id_str': '4196983835', 'na...\n",
       "43     {'id': 4196983835, 'id_str': '4196983835', 'na...\n",
       "6      {'id': 4196983835, 'id_str': '4196983835', 'na...\n",
       "186    {'id': 4196983835, 'id_str': '4196983835', 'na...\n",
       "29     {'id': 4196983835, 'id_str': '4196983835', 'na...\n",
       "Name: user, dtype: object"
      ]
     },
     "execution_count": 245,
     "metadata": {},
     "output_type": "execute_result"
    }
   ],
   "source": [
    "tweet_from_api['user'].sample(10)"
   ]
  },
  {
   "cell_type": "code",
   "execution_count": 246,
   "metadata": {},
   "outputs": [
    {
     "data": {
      "text/plain": [
       "{'id': 4196983835,\n",
       " 'id_str': '4196983835',\n",
       " 'name': 'WeRateDogs®',\n",
       " 'screen_name': 'dog_rates',\n",
       " 'location': '',\n",
       " 'description': 'Your Only Source For Professional Dog Ratings Instagram and Facebook ➜ WeRateDogs partnerships@weratedogs.com | nonprofit: @15outof10 ⠀⠀⠀⠀⠀⠀⠀⠀⠀⠀⠀⠀',\n",
       " 'url': 'https://t.co/YPc2Xq4Va2',\n",
       " 'entities': {'url': {'urls': [{'url': 'https://t.co/YPc2Xq4Va2',\n",
       "     'expanded_url': 'http://links.weratedogs.com',\n",
       "     'display_url': 'links.weratedogs.com',\n",
       "     'indices': [0, 23]}]},\n",
       "  'description': {'urls': []}},\n",
       " 'protected': False,\n",
       " 'followers_count': 9377120,\n",
       " 'friends_count': 21,\n",
       " 'listed_count': 7829,\n",
       " 'created_at': 'Sun Nov 15 21:41:29 +0000 2015',\n",
       " 'favourites_count': 147455,\n",
       " 'utc_offset': None,\n",
       " 'time_zone': None,\n",
       " 'geo_enabled': True,\n",
       " 'verified': True,\n",
       " 'statuses_count': 17599,\n",
       " 'lang': None,\n",
       " 'contributors_enabled': False,\n",
       " 'is_translator': False,\n",
       " 'is_translation_enabled': False,\n",
       " 'profile_background_color': '000000',\n",
       " 'profile_background_image_url': 'http://abs.twimg.com/images/themes/theme1/bg.png',\n",
       " 'profile_background_image_url_https': 'https://abs.twimg.com/images/themes/theme1/bg.png',\n",
       " 'profile_background_tile': False,\n",
       " 'profile_image_url': 'http://pbs.twimg.com/profile_images/1598368568168497159/u0Mq-oDh_normal.jpg',\n",
       " 'profile_image_url_https': 'https://pbs.twimg.com/profile_images/1598368568168497159/u0Mq-oDh_normal.jpg',\n",
       " 'profile_banner_url': 'https://pbs.twimg.com/profile_banners/4196983835/1661991479',\n",
       " 'profile_link_color': 'F5ABB5',\n",
       " 'profile_sidebar_border_color': '000000',\n",
       " 'profile_sidebar_fill_color': '000000',\n",
       " 'profile_text_color': '000000',\n",
       " 'profile_use_background_image': False,\n",
       " 'has_extended_profile': False,\n",
       " 'default_profile': False,\n",
       " 'default_profile_image': False,\n",
       " 'following': None,\n",
       " 'follow_request_sent': None,\n",
       " 'notifications': None,\n",
       " 'translator_type': 'none',\n",
       " 'withheld_in_countries': []}"
      ]
     },
     "execution_count": 246,
     "metadata": {},
     "output_type": "execute_result"
    }
   ],
   "source": [
    "tweet_from_api['user'][0]"
   ]
  },
  {
   "cell_type": "code",
   "execution_count": 247,
   "metadata": {},
   "outputs": [
    {
     "data": {
      "text/plain": [
       "is_quote_status\n",
       "False    318\n",
       "True      17\n",
       "Name: id, dtype: int64"
      ]
     },
     "execution_count": 247,
     "metadata": {},
     "output_type": "execute_result"
    }
   ],
   "source": [
    "tweet_from_api.groupby(['is_quote_status'])['id'].count()"
   ]
  },
  {
   "cell_type": "code",
   "execution_count": 248,
   "metadata": {},
   "outputs": [
    {
     "data": {
      "text/plain": [
       "count      335.000000\n",
       "mean      4654.277612\n",
       "std       4548.672512\n",
       "min          0.000000\n",
       "25%       2164.000000\n",
       "50%       3513.000000\n",
       "75%       5366.500000\n",
       "max      36736.000000\n",
       "Name: retweet_count, dtype: float64"
      ]
     },
     "execution_count": 248,
     "metadata": {},
     "output_type": "execute_result"
    }
   ],
   "source": [
    "tweet_from_api['retweet_count'].describe()"
   ]
  },
  {
   "cell_type": "code",
   "execution_count": 249,
   "metadata": {},
   "outputs": [
    {
     "data": {
      "text/plain": [
       "count       335.000000\n",
       "mean      17752.122388\n",
       "std       14280.967582\n",
       "min           0.000000\n",
       "25%       10102.500000\n",
       "50%       17271.000000\n",
       "75%       23469.500000\n",
       "max      105912.000000\n",
       "Name: favorite_count, dtype: float64"
      ]
     },
     "execution_count": 249,
     "metadata": {},
     "output_type": "execute_result"
    }
   ],
   "source": [
    "tweet_from_api['favorite_count'].describe()"
   ]
  },
  {
   "cell_type": "code",
   "execution_count": 250,
   "metadata": {},
   "outputs": [
    {
     "data": {
      "text/plain": [
       "favorited\n",
       "False    335\n",
       "Name: id, dtype: int64"
      ]
     },
     "execution_count": 250,
     "metadata": {},
     "output_type": "execute_result"
    }
   ],
   "source": [
    "tweet_from_api.groupby(['favorited'])['id'].count()"
   ]
  },
  {
   "cell_type": "code",
   "execution_count": 251,
   "metadata": {},
   "outputs": [
    {
     "data": {
      "text/plain": [
       "retweeted\n",
       "False    335\n",
       "Name: id, dtype: int64"
      ]
     },
     "execution_count": 251,
     "metadata": {},
     "output_type": "execute_result"
    }
   ],
   "source": [
    "tweet_from_api.groupby(['retweeted'])['id'].count()"
   ]
  },
  {
   "cell_type": "code",
   "execution_count": 252,
   "metadata": {},
   "outputs": [
    {
     "data": {
      "text/plain": [
       "possibly_sensitive\n",
       "0.0    287\n",
       "Name: id, dtype: int64"
      ]
     },
     "execution_count": 252,
     "metadata": {},
     "output_type": "execute_result"
    }
   ],
   "source": [
    "tweet_from_api.groupby(['possibly_sensitive'])['id'].count()"
   ]
  },
  {
   "cell_type": "code",
   "execution_count": 253,
   "metadata": {},
   "outputs": [
    {
     "data": {
      "text/plain": [
       "possibly_sensitive_appealable\n",
       "0.0    287\n",
       "Name: id, dtype: int64"
      ]
     },
     "execution_count": 253,
     "metadata": {},
     "output_type": "execute_result"
    }
   ],
   "source": [
    "tweet_from_api.groupby(['possibly_sensitive_appealable'])['id'].count()"
   ]
  },
  {
   "cell_type": "code",
   "execution_count": 254,
   "metadata": {},
   "outputs": [
    {
     "data": {
      "text/html": [
       "<div>\n",
       "<style scoped>\n",
       "    .dataframe tbody tr th:only-of-type {\n",
       "        vertical-align: middle;\n",
       "    }\n",
       "\n",
       "    .dataframe tbody tr th {\n",
       "        vertical-align: top;\n",
       "    }\n",
       "\n",
       "    .dataframe thead th {\n",
       "        text-align: right;\n",
       "    }\n",
       "</style>\n",
       "<table border=\"1\" class=\"dataframe\">\n",
       "  <thead>\n",
       "    <tr style=\"text-align: right;\">\n",
       "      <th></th>\n",
       "      <th>possibly_sensitive</th>\n",
       "      <th>possibly_sensitive_appealable</th>\n",
       "    </tr>\n",
       "  </thead>\n",
       "  <tbody>\n",
       "    <tr>\n",
       "      <th>29</th>\n",
       "      <td>NaN</td>\n",
       "      <td>NaN</td>\n",
       "    </tr>\n",
       "    <tr>\n",
       "      <th>54</th>\n",
       "      <td>NaN</td>\n",
       "      <td>NaN</td>\n",
       "    </tr>\n",
       "    <tr>\n",
       "      <th>63</th>\n",
       "      <td>NaN</td>\n",
       "      <td>NaN</td>\n",
       "    </tr>\n",
       "    <tr>\n",
       "      <th>67</th>\n",
       "      <td>NaN</td>\n",
       "      <td>NaN</td>\n",
       "    </tr>\n",
       "    <tr>\n",
       "      <th>72</th>\n",
       "      <td>NaN</td>\n",
       "      <td>NaN</td>\n",
       "    </tr>\n",
       "    <tr>\n",
       "      <th>73</th>\n",
       "      <td>NaN</td>\n",
       "      <td>NaN</td>\n",
       "    </tr>\n",
       "    <tr>\n",
       "      <th>89</th>\n",
       "      <td>NaN</td>\n",
       "      <td>NaN</td>\n",
       "    </tr>\n",
       "    <tr>\n",
       "      <th>94</th>\n",
       "      <td>NaN</td>\n",
       "      <td>NaN</td>\n",
       "    </tr>\n",
       "    <tr>\n",
       "      <th>104</th>\n",
       "      <td>NaN</td>\n",
       "      <td>NaN</td>\n",
       "    </tr>\n",
       "    <tr>\n",
       "      <th>108</th>\n",
       "      <td>NaN</td>\n",
       "      <td>NaN</td>\n",
       "    </tr>\n",
       "    <tr>\n",
       "      <th>118</th>\n",
       "      <td>NaN</td>\n",
       "      <td>NaN</td>\n",
       "    </tr>\n",
       "    <tr>\n",
       "      <th>130</th>\n",
       "      <td>NaN</td>\n",
       "      <td>NaN</td>\n",
       "    </tr>\n",
       "    <tr>\n",
       "      <th>139</th>\n",
       "      <td>NaN</td>\n",
       "      <td>NaN</td>\n",
       "    </tr>\n",
       "    <tr>\n",
       "      <th>141</th>\n",
       "      <td>NaN</td>\n",
       "      <td>NaN</td>\n",
       "    </tr>\n",
       "    <tr>\n",
       "      <th>151</th>\n",
       "      <td>NaN</td>\n",
       "      <td>NaN</td>\n",
       "    </tr>\n",
       "    <tr>\n",
       "      <th>157</th>\n",
       "      <td>NaN</td>\n",
       "      <td>NaN</td>\n",
       "    </tr>\n",
       "    <tr>\n",
       "      <th>163</th>\n",
       "      <td>NaN</td>\n",
       "      <td>NaN</td>\n",
       "    </tr>\n",
       "    <tr>\n",
       "      <th>171</th>\n",
       "      <td>NaN</td>\n",
       "      <td>NaN</td>\n",
       "    </tr>\n",
       "    <tr>\n",
       "      <th>172</th>\n",
       "      <td>NaN</td>\n",
       "      <td>NaN</td>\n",
       "    </tr>\n",
       "    <tr>\n",
       "      <th>176</th>\n",
       "      <td>NaN</td>\n",
       "      <td>NaN</td>\n",
       "    </tr>\n",
       "    <tr>\n",
       "      <th>178</th>\n",
       "      <td>NaN</td>\n",
       "      <td>NaN</td>\n",
       "    </tr>\n",
       "    <tr>\n",
       "      <th>179</th>\n",
       "      <td>NaN</td>\n",
       "      <td>NaN</td>\n",
       "    </tr>\n",
       "    <tr>\n",
       "      <th>184</th>\n",
       "      <td>NaN</td>\n",
       "      <td>NaN</td>\n",
       "    </tr>\n",
       "    <tr>\n",
       "      <th>185</th>\n",
       "      <td>NaN</td>\n",
       "      <td>NaN</td>\n",
       "    </tr>\n",
       "    <tr>\n",
       "      <th>194</th>\n",
       "      <td>NaN</td>\n",
       "      <td>NaN</td>\n",
       "    </tr>\n",
       "    <tr>\n",
       "      <th>206</th>\n",
       "      <td>NaN</td>\n",
       "      <td>NaN</td>\n",
       "    </tr>\n",
       "    <tr>\n",
       "      <th>210</th>\n",
       "      <td>NaN</td>\n",
       "      <td>NaN</td>\n",
       "    </tr>\n",
       "    <tr>\n",
       "      <th>216</th>\n",
       "      <td>NaN</td>\n",
       "      <td>NaN</td>\n",
       "    </tr>\n",
       "    <tr>\n",
       "      <th>218</th>\n",
       "      <td>NaN</td>\n",
       "      <td>NaN</td>\n",
       "    </tr>\n",
       "    <tr>\n",
       "      <th>222</th>\n",
       "      <td>NaN</td>\n",
       "      <td>NaN</td>\n",
       "    </tr>\n",
       "    <tr>\n",
       "      <th>237</th>\n",
       "      <td>NaN</td>\n",
       "      <td>NaN</td>\n",
       "    </tr>\n",
       "    <tr>\n",
       "      <th>257</th>\n",
       "      <td>NaN</td>\n",
       "      <td>NaN</td>\n",
       "    </tr>\n",
       "    <tr>\n",
       "      <th>258</th>\n",
       "      <td>NaN</td>\n",
       "      <td>NaN</td>\n",
       "    </tr>\n",
       "    <tr>\n",
       "      <th>259</th>\n",
       "      <td>NaN</td>\n",
       "      <td>NaN</td>\n",
       "    </tr>\n",
       "    <tr>\n",
       "      <th>270</th>\n",
       "      <td>NaN</td>\n",
       "      <td>NaN</td>\n",
       "    </tr>\n",
       "    <tr>\n",
       "      <th>273</th>\n",
       "      <td>NaN</td>\n",
       "      <td>NaN</td>\n",
       "    </tr>\n",
       "    <tr>\n",
       "      <th>274</th>\n",
       "      <td>NaN</td>\n",
       "      <td>NaN</td>\n",
       "    </tr>\n",
       "    <tr>\n",
       "      <th>275</th>\n",
       "      <td>NaN</td>\n",
       "      <td>NaN</td>\n",
       "    </tr>\n",
       "    <tr>\n",
       "      <th>284</th>\n",
       "      <td>NaN</td>\n",
       "      <td>NaN</td>\n",
       "    </tr>\n",
       "    <tr>\n",
       "      <th>285</th>\n",
       "      <td>NaN</td>\n",
       "      <td>NaN</td>\n",
       "    </tr>\n",
       "    <tr>\n",
       "      <th>289</th>\n",
       "      <td>NaN</td>\n",
       "      <td>NaN</td>\n",
       "    </tr>\n",
       "    <tr>\n",
       "      <th>291</th>\n",
       "      <td>NaN</td>\n",
       "      <td>NaN</td>\n",
       "    </tr>\n",
       "    <tr>\n",
       "      <th>295</th>\n",
       "      <td>NaN</td>\n",
       "      <td>NaN</td>\n",
       "    </tr>\n",
       "    <tr>\n",
       "      <th>301</th>\n",
       "      <td>NaN</td>\n",
       "      <td>NaN</td>\n",
       "    </tr>\n",
       "    <tr>\n",
       "      <th>309</th>\n",
       "      <td>NaN</td>\n",
       "      <td>NaN</td>\n",
       "    </tr>\n",
       "    <tr>\n",
       "      <th>322</th>\n",
       "      <td>NaN</td>\n",
       "      <td>NaN</td>\n",
       "    </tr>\n",
       "    <tr>\n",
       "      <th>324</th>\n",
       "      <td>NaN</td>\n",
       "      <td>NaN</td>\n",
       "    </tr>\n",
       "    <tr>\n",
       "      <th>328</th>\n",
       "      <td>NaN</td>\n",
       "      <td>NaN</td>\n",
       "    </tr>\n",
       "  </tbody>\n",
       "</table>\n",
       "</div>"
      ],
      "text/plain": [
       "     possibly_sensitive  possibly_sensitive_appealable\n",
       "29                  NaN                            NaN\n",
       "54                  NaN                            NaN\n",
       "63                  NaN                            NaN\n",
       "67                  NaN                            NaN\n",
       "72                  NaN                            NaN\n",
       "73                  NaN                            NaN\n",
       "89                  NaN                            NaN\n",
       "94                  NaN                            NaN\n",
       "104                 NaN                            NaN\n",
       "108                 NaN                            NaN\n",
       "118                 NaN                            NaN\n",
       "130                 NaN                            NaN\n",
       "139                 NaN                            NaN\n",
       "141                 NaN                            NaN\n",
       "151                 NaN                            NaN\n",
       "157                 NaN                            NaN\n",
       "163                 NaN                            NaN\n",
       "171                 NaN                            NaN\n",
       "172                 NaN                            NaN\n",
       "176                 NaN                            NaN\n",
       "178                 NaN                            NaN\n",
       "179                 NaN                            NaN\n",
       "184                 NaN                            NaN\n",
       "185                 NaN                            NaN\n",
       "194                 NaN                            NaN\n",
       "206                 NaN                            NaN\n",
       "210                 NaN                            NaN\n",
       "216                 NaN                            NaN\n",
       "218                 NaN                            NaN\n",
       "222                 NaN                            NaN\n",
       "237                 NaN                            NaN\n",
       "257                 NaN                            NaN\n",
       "258                 NaN                            NaN\n",
       "259                 NaN                            NaN\n",
       "270                 NaN                            NaN\n",
       "273                 NaN                            NaN\n",
       "274                 NaN                            NaN\n",
       "275                 NaN                            NaN\n",
       "284                 NaN                            NaN\n",
       "285                 NaN                            NaN\n",
       "289                 NaN                            NaN\n",
       "291                 NaN                            NaN\n",
       "295                 NaN                            NaN\n",
       "301                 NaN                            NaN\n",
       "309                 NaN                            NaN\n",
       "322                 NaN                            NaN\n",
       "324                 NaN                            NaN\n",
       "328                 NaN                            NaN"
      ]
     },
     "execution_count": 254,
     "metadata": {},
     "output_type": "execute_result"
    }
   ],
   "source": [
    "tweet_from_api[tweet_from_api['possibly_sensitive']!=tweet_from_api['possibly_sensitive_appealable']][['possibly_sensitive','possibly_sensitive_appealable']]"
   ]
  },
  {
   "cell_type": "code",
   "execution_count": 255,
   "metadata": {},
   "outputs": [
    {
     "data": {
      "text/plain": [
       "lang\n",
       "en     332\n",
       "in       1\n",
       "und      2\n",
       "Name: id, dtype: int64"
      ]
     },
     "execution_count": 255,
     "metadata": {},
     "output_type": "execute_result"
    }
   ],
   "source": [
    "tweet_from_api.groupby(['lang'])['id'].count()"
   ]
  },
  {
   "cell_type": "code",
   "execution_count": 256,
   "metadata": {},
   "outputs": [
    {
     "data": {
      "text/html": [
       "<div>\n",
       "<style scoped>\n",
       "    .dataframe tbody tr th:only-of-type {\n",
       "        vertical-align: middle;\n",
       "    }\n",
       "\n",
       "    .dataframe tbody tr th {\n",
       "        vertical-align: top;\n",
       "    }\n",
       "\n",
       "    .dataframe thead th {\n",
       "        text-align: right;\n",
       "    }\n",
       "</style>\n",
       "<table border=\"1\" class=\"dataframe\">\n",
       "  <thead>\n",
       "    <tr style=\"text-align: right;\">\n",
       "      <th></th>\n",
       "      <th>retweeted_status</th>\n",
       "    </tr>\n",
       "  </thead>\n",
       "  <tbody>\n",
       "    <tr>\n",
       "      <th>31</th>\n",
       "      <td>{'created_at': 'Sat Jul 15 02:44:07 +0000 2017...</td>\n",
       "    </tr>\n",
       "    <tr>\n",
       "      <th>35</th>\n",
       "      <td>{'created_at': 'Sun Feb 12 01:04:29 +0000 2017...</td>\n",
       "    </tr>\n",
       "    <tr>\n",
       "      <th>67</th>\n",
       "      <td>{'created_at': 'Fri Jun 23 01:10:23 +0000 2017...</td>\n",
       "    </tr>\n",
       "    <tr>\n",
       "      <th>72</th>\n",
       "      <td>{'created_at': 'Fri Jun 23 16:00:04 +0000 2017...</td>\n",
       "    </tr>\n",
       "    <tr>\n",
       "      <th>73</th>\n",
       "      <td>{'created_at': 'Tue Nov 24 03:51:38 +0000 2015...</td>\n",
       "    </tr>\n",
       "    <tr>\n",
       "      <th>89</th>\n",
       "      <td>{'created_at': 'Sun May 21 16:48:45 +0000 2017...</td>\n",
       "    </tr>\n",
       "    <tr>\n",
       "      <th>94</th>\n",
       "      <td>{'created_at': 'Fri Jun 09 16:22:42 +0000 2017...</td>\n",
       "    </tr>\n",
       "    <tr>\n",
       "      <th>104</th>\n",
       "      <td>{'created_at': 'Mon Mar 13 00:02:39 +0000 2017...</td>\n",
       "    </tr>\n",
       "    <tr>\n",
       "      <th>118</th>\n",
       "      <td>{'created_at': 'Sat May 27 19:39:34 +0000 2017...</td>\n",
       "    </tr>\n",
       "    <tr>\n",
       "      <th>124</th>\n",
       "      <td>{'created_at': 'Thu May 18 01:17:25 +0000 2017...</td>\n",
       "    </tr>\n",
       "    <tr>\n",
       "      <th>130</th>\n",
       "      <td>{'created_at': 'Sat Mar 04 00:21:08 +0000 2017...</td>\n",
       "    </tr>\n",
       "    <tr>\n",
       "      <th>139</th>\n",
       "      <td>{'created_at': 'Fri May 12 16:05:02 +0000 2017...</td>\n",
       "    </tr>\n",
       "    <tr>\n",
       "      <th>151</th>\n",
       "      <td>{'created_at': 'Fri May 05 18:36:06 +0000 2017...</td>\n",
       "    </tr>\n",
       "    <tr>\n",
       "      <th>152</th>\n",
       "      <td>{'created_at': 'Sat May 06 17:49:42 +0000 2017...</td>\n",
       "    </tr>\n",
       "    <tr>\n",
       "      <th>157</th>\n",
       "      <td>{'created_at': 'Fri Aug 05 21:19:27 +0000 2016...</td>\n",
       "    </tr>\n",
       "    <tr>\n",
       "      <th>163</th>\n",
       "      <td>{'created_at': 'Wed Mar 08 18:52:12 +0000 2017...</td>\n",
       "    </tr>\n",
       "    <tr>\n",
       "      <th>172</th>\n",
       "      <td>{'created_at': 'Wed Apr 26 02:37:47 +0000 2017...</td>\n",
       "    </tr>\n",
       "    <tr>\n",
       "      <th>184</th>\n",
       "      <td>{'created_at': 'Thu Mar 16 00:00:07 +0000 2017...</td>\n",
       "    </tr>\n",
       "    <tr>\n",
       "      <th>185</th>\n",
       "      <td>{'created_at': 'Thu Apr 20 18:14:33 +0000 2017...</td>\n",
       "    </tr>\n",
       "    <tr>\n",
       "      <th>194</th>\n",
       "      <td>{'created_at': 'Tue Feb 14 23:43:18 +0000 2017...</td>\n",
       "    </tr>\n",
       "    <tr>\n",
       "      <th>210</th>\n",
       "      <td>{'created_at': 'Sun Feb 19 01:23:00 +0000 2017...</td>\n",
       "    </tr>\n",
       "    <tr>\n",
       "      <th>218</th>\n",
       "      <td>{'created_at': 'Thu Feb 16 23:23:38 +0000 2017...</td>\n",
       "    </tr>\n",
       "    <tr>\n",
       "      <th>219</th>\n",
       "      <td>{'created_at': 'Sat Apr 01 00:36:55 +0000 2017...</td>\n",
       "    </tr>\n",
       "    <tr>\n",
       "      <th>237</th>\n",
       "      <td>{'created_at': 'Tue Sep 06 23:56:05 +0000 2016...</td>\n",
       "    </tr>\n",
       "    <tr>\n",
       "      <th>251</th>\n",
       "      <td>{'created_at': 'Fri Jan 06 17:33:29 +0000 2017...</td>\n",
       "    </tr>\n",
       "    <tr>\n",
       "      <th>257</th>\n",
       "      <td>{'created_at': 'Sat Mar 11 18:35:42 +0000 2017...</td>\n",
       "    </tr>\n",
       "    <tr>\n",
       "      <th>258</th>\n",
       "      <td>{'created_at': 'Thu Nov 19 01:27:25 +0000 2015...</td>\n",
       "    </tr>\n",
       "    <tr>\n",
       "      <th>269</th>\n",
       "      <td>{'created_at': 'Tue Mar 07 00:15:46 +0000 2017...</td>\n",
       "    </tr>\n",
       "    <tr>\n",
       "      <th>270</th>\n",
       "      <td>{'created_at': 'Thu Oct 06 01:23:05 +0000 2016...</td>\n",
       "    </tr>\n",
       "    <tr>\n",
       "      <th>273</th>\n",
       "      <td>{'created_at': 'Sun Jan 15 21:49:15 +0000 2017...</td>\n",
       "    </tr>\n",
       "    <tr>\n",
       "      <th>284</th>\n",
       "      <td>{'created_at': 'Tue Feb 28 18:43:57 +0000 2017...</td>\n",
       "    </tr>\n",
       "    <tr>\n",
       "      <th>285</th>\n",
       "      <td>{'created_at': 'Sat Jan 07 20:18:46 +0000 2017...</td>\n",
       "    </tr>\n",
       "    <tr>\n",
       "      <th>289</th>\n",
       "      <td>{'created_at': 'Fri Oct 14 16:13:10 +0000 2016...</td>\n",
       "    </tr>\n",
       "    <tr>\n",
       "      <th>291</th>\n",
       "      <td>{'created_at': 'Fri Feb 24 23:04:14 +0000 2017...</td>\n",
       "    </tr>\n",
       "    <tr>\n",
       "      <th>292</th>\n",
       "      <td>{'created_at': 'Wed Jul 13 01:34:21 +0000 2016...</td>\n",
       "    </tr>\n",
       "    <tr>\n",
       "      <th>301</th>\n",
       "      <td>{'created_at': 'Thu Feb 09 01:27:41 +0000 2017...</td>\n",
       "    </tr>\n",
       "    <tr>\n",
       "      <th>309</th>\n",
       "      <td>{'created_at': 'Fri Feb 17 03:39:51 +0000 2017...</td>\n",
       "    </tr>\n",
       "    <tr>\n",
       "      <th>314</th>\n",
       "      <td>{'created_at': 'Sat Feb 18 01:39:12 +0000 2017...</td>\n",
       "    </tr>\n",
       "    <tr>\n",
       "      <th>322</th>\n",
       "      <td>{'created_at': 'Thu Oct 13 23:23:56 +0000 2016...</td>\n",
       "    </tr>\n",
       "    <tr>\n",
       "      <th>323</th>\n",
       "      <td>{'created_at': 'Tue Nov 01 03:00:09 +0000 2016...</td>\n",
       "    </tr>\n",
       "    <tr>\n",
       "      <th>325</th>\n",
       "      <td>{'created_at': 'Sun Aug 28 16:51:16 +0000 2016...</td>\n",
       "    </tr>\n",
       "  </tbody>\n",
       "</table>\n",
       "</div>"
      ],
      "text/plain": [
       "                                      retweeted_status\n",
       "31   {'created_at': 'Sat Jul 15 02:44:07 +0000 2017...\n",
       "35   {'created_at': 'Sun Feb 12 01:04:29 +0000 2017...\n",
       "67   {'created_at': 'Fri Jun 23 01:10:23 +0000 2017...\n",
       "72   {'created_at': 'Fri Jun 23 16:00:04 +0000 2017...\n",
       "73   {'created_at': 'Tue Nov 24 03:51:38 +0000 2015...\n",
       "89   {'created_at': 'Sun May 21 16:48:45 +0000 2017...\n",
       "94   {'created_at': 'Fri Jun 09 16:22:42 +0000 2017...\n",
       "104  {'created_at': 'Mon Mar 13 00:02:39 +0000 2017...\n",
       "118  {'created_at': 'Sat May 27 19:39:34 +0000 2017...\n",
       "124  {'created_at': 'Thu May 18 01:17:25 +0000 2017...\n",
       "130  {'created_at': 'Sat Mar 04 00:21:08 +0000 2017...\n",
       "139  {'created_at': 'Fri May 12 16:05:02 +0000 2017...\n",
       "151  {'created_at': 'Fri May 05 18:36:06 +0000 2017...\n",
       "152  {'created_at': 'Sat May 06 17:49:42 +0000 2017...\n",
       "157  {'created_at': 'Fri Aug 05 21:19:27 +0000 2016...\n",
       "163  {'created_at': 'Wed Mar 08 18:52:12 +0000 2017...\n",
       "172  {'created_at': 'Wed Apr 26 02:37:47 +0000 2017...\n",
       "184  {'created_at': 'Thu Mar 16 00:00:07 +0000 2017...\n",
       "185  {'created_at': 'Thu Apr 20 18:14:33 +0000 2017...\n",
       "194  {'created_at': 'Tue Feb 14 23:43:18 +0000 2017...\n",
       "210  {'created_at': 'Sun Feb 19 01:23:00 +0000 2017...\n",
       "218  {'created_at': 'Thu Feb 16 23:23:38 +0000 2017...\n",
       "219  {'created_at': 'Sat Apr 01 00:36:55 +0000 2017...\n",
       "237  {'created_at': 'Tue Sep 06 23:56:05 +0000 2016...\n",
       "251  {'created_at': 'Fri Jan 06 17:33:29 +0000 2017...\n",
       "257  {'created_at': 'Sat Mar 11 18:35:42 +0000 2017...\n",
       "258  {'created_at': 'Thu Nov 19 01:27:25 +0000 2015...\n",
       "269  {'created_at': 'Tue Mar 07 00:15:46 +0000 2017...\n",
       "270  {'created_at': 'Thu Oct 06 01:23:05 +0000 2016...\n",
       "273  {'created_at': 'Sun Jan 15 21:49:15 +0000 2017...\n",
       "284  {'created_at': 'Tue Feb 28 18:43:57 +0000 2017...\n",
       "285  {'created_at': 'Sat Jan 07 20:18:46 +0000 2017...\n",
       "289  {'created_at': 'Fri Oct 14 16:13:10 +0000 2016...\n",
       "291  {'created_at': 'Fri Feb 24 23:04:14 +0000 2017...\n",
       "292  {'created_at': 'Wed Jul 13 01:34:21 +0000 2016...\n",
       "301  {'created_at': 'Thu Feb 09 01:27:41 +0000 2017...\n",
       "309  {'created_at': 'Fri Feb 17 03:39:51 +0000 2017...\n",
       "314  {'created_at': 'Sat Feb 18 01:39:12 +0000 2017...\n",
       "322  {'created_at': 'Thu Oct 13 23:23:56 +0000 2016...\n",
       "323  {'created_at': 'Tue Nov 01 03:00:09 +0000 2016...\n",
       "325  {'created_at': 'Sun Aug 28 16:51:16 +0000 2016..."
      ]
     },
     "execution_count": 256,
     "metadata": {},
     "output_type": "execute_result"
    }
   ],
   "source": [
    "tweet_from_api[tweet_from_api['retweeted_status'].notnull()][['retweeted_status']]"
   ]
  },
  {
   "cell_type": "code",
   "execution_count": 257,
   "metadata": {},
   "outputs": [
    {
     "data": {
      "text/plain": [
       "{'created_at': 'Sun Feb 12 01:04:29 +0000 2017',\n",
       " 'id': 830583320585068544,\n",
       " 'id_str': '830583320585068544',\n",
       " 'full_text': 'This is Lilly. She just parallel barked. Kindly requests a reward now. 13/10 would pet so well https://t.co/SATN4If5H5',\n",
       " 'truncated': False,\n",
       " 'display_text_range': [0, 94],\n",
       " 'entities': {'hashtags': [],\n",
       "  'symbols': [],\n",
       "  'user_mentions': [],\n",
       "  'urls': [],\n",
       "  'media': [{'id': 830583314243268608,\n",
       "    'id_str': '830583314243268608',\n",
       "    'indices': [95, 118],\n",
       "    'media_url': 'http://pbs.twimg.com/media/C4bTH6nWMAAX_bJ.jpg',\n",
       "    'media_url_https': 'https://pbs.twimg.com/media/C4bTH6nWMAAX_bJ.jpg',\n",
       "    'url': 'https://t.co/SATN4If5H5',\n",
       "    'display_url': 'pic.twitter.com/SATN4If5H5',\n",
       "    'expanded_url': 'https://twitter.com/dog_rates/status/830583320585068544/photo/1',\n",
       "    'type': 'photo',\n",
       "    'sizes': {'thumb': {'w': 150, 'h': 150, 'resize': 'crop'},\n",
       "     'large': {'w': 1536, 'h': 2048, 'resize': 'fit'},\n",
       "     'medium': {'w': 900, 'h': 1200, 'resize': 'fit'},\n",
       "     'small': {'w': 510, 'h': 680, 'resize': 'fit'}}}]},\n",
       " 'extended_entities': {'media': [{'id': 830583314243268608,\n",
       "    'id_str': '830583314243268608',\n",
       "    'indices': [95, 118],\n",
       "    'media_url': 'http://pbs.twimg.com/media/C4bTH6nWMAAX_bJ.jpg',\n",
       "    'media_url_https': 'https://pbs.twimg.com/media/C4bTH6nWMAAX_bJ.jpg',\n",
       "    'url': 'https://t.co/SATN4If5H5',\n",
       "    'display_url': 'pic.twitter.com/SATN4If5H5',\n",
       "    'expanded_url': 'https://twitter.com/dog_rates/status/830583320585068544/photo/1',\n",
       "    'type': 'photo',\n",
       "    'sizes': {'thumb': {'w': 150, 'h': 150, 'resize': 'crop'},\n",
       "     'large': {'w': 1536, 'h': 2048, 'resize': 'fit'},\n",
       "     'medium': {'w': 900, 'h': 1200, 'resize': 'fit'},\n",
       "     'small': {'w': 510, 'h': 680, 'resize': 'fit'}}},\n",
       "   {'id': 830583314213896192,\n",
       "    'id_str': '830583314213896192',\n",
       "    'indices': [95, 118],\n",
       "    'media_url': 'http://pbs.twimg.com/media/C4bTH6gWAAAV2ex.jpg',\n",
       "    'media_url_https': 'https://pbs.twimg.com/media/C4bTH6gWAAAV2ex.jpg',\n",
       "    'url': 'https://t.co/SATN4If5H5',\n",
       "    'display_url': 'pic.twitter.com/SATN4If5H5',\n",
       "    'expanded_url': 'https://twitter.com/dog_rates/status/830583320585068544/photo/1',\n",
       "    'type': 'photo',\n",
       "    'sizes': {'thumb': {'w': 150, 'h': 150, 'resize': 'crop'},\n",
       "     'small': {'w': 510, 'h': 680, 'resize': 'fit'},\n",
       "     'medium': {'w': 900, 'h': 1200, 'resize': 'fit'},\n",
       "     'large': {'w': 1536, 'h': 2048, 'resize': 'fit'}}}]},\n",
       " 'source': '<a href=\"http://twitter.com/download/iphone\" rel=\"nofollow\">Twitter for iPhone</a>',\n",
       " 'in_reply_to_status_id': None,\n",
       " 'in_reply_to_status_id_str': None,\n",
       " 'in_reply_to_user_id': None,\n",
       " 'in_reply_to_user_id_str': None,\n",
       " 'in_reply_to_screen_name': None,\n",
       " 'user': {'id': 4196983835,\n",
       "  'id_str': '4196983835',\n",
       "  'name': 'WeRateDogs®',\n",
       "  'screen_name': 'dog_rates',\n",
       "  'location': '',\n",
       "  'description': 'Your Only Source For Professional Dog Ratings Instagram and Facebook ➜ WeRateDogs partnerships@weratedogs.com | nonprofit: @15outof10 ⠀⠀⠀⠀⠀⠀⠀⠀⠀⠀⠀⠀',\n",
       "  'url': 'https://t.co/YPc2Xq4Va2',\n",
       "  'entities': {'url': {'urls': [{'url': 'https://t.co/YPc2Xq4Va2',\n",
       "      'expanded_url': 'http://links.weratedogs.com',\n",
       "      'display_url': 'links.weratedogs.com',\n",
       "      'indices': [0, 23]}]},\n",
       "   'description': {'urls': []}},\n",
       "  'protected': False,\n",
       "  'followers_count': 9377120,\n",
       "  'friends_count': 21,\n",
       "  'listed_count': 7829,\n",
       "  'created_at': 'Sun Nov 15 21:41:29 +0000 2015',\n",
       "  'favourites_count': 147455,\n",
       "  'utc_offset': None,\n",
       "  'time_zone': None,\n",
       "  'geo_enabled': True,\n",
       "  'verified': True,\n",
       "  'statuses_count': 17599,\n",
       "  'lang': None,\n",
       "  'contributors_enabled': False,\n",
       "  'is_translator': False,\n",
       "  'is_translation_enabled': False,\n",
       "  'profile_background_color': '000000',\n",
       "  'profile_background_image_url': 'http://abs.twimg.com/images/themes/theme1/bg.png',\n",
       "  'profile_background_image_url_https': 'https://abs.twimg.com/images/themes/theme1/bg.png',\n",
       "  'profile_background_tile': False,\n",
       "  'profile_image_url': 'http://pbs.twimg.com/profile_images/1598368568168497159/u0Mq-oDh_normal.jpg',\n",
       "  'profile_image_url_https': 'https://pbs.twimg.com/profile_images/1598368568168497159/u0Mq-oDh_normal.jpg',\n",
       "  'profile_banner_url': 'https://pbs.twimg.com/profile_banners/4196983835/1661991479',\n",
       "  'profile_link_color': 'F5ABB5',\n",
       "  'profile_sidebar_border_color': '000000',\n",
       "  'profile_sidebar_fill_color': '000000',\n",
       "  'profile_text_color': '000000',\n",
       "  'profile_use_background_image': False,\n",
       "  'has_extended_profile': False,\n",
       "  'default_profile': False,\n",
       "  'default_profile_image': False,\n",
       "  'following': None,\n",
       "  'follow_request_sent': None,\n",
       "  'notifications': None,\n",
       "  'translator_type': 'none',\n",
       "  'withheld_in_countries': []},\n",
       " 'geo': None,\n",
       " 'coordinates': None,\n",
       " 'place': None,\n",
       " 'contributors': None,\n",
       " 'is_quote_status': False,\n",
       " 'retweet_count': 15168,\n",
       " 'favorite_count': 60911,\n",
       " 'favorited': False,\n",
       " 'retweeted': False,\n",
       " 'possibly_sensitive': False,\n",
       " 'possibly_sensitive_appealable': False,\n",
       " 'lang': 'en'}"
      ]
     },
     "execution_count": 257,
     "metadata": {},
     "output_type": "execute_result"
    }
   ],
   "source": [
    "tweet_from_api['retweeted_status'][35]"
   ]
  },
  {
   "cell_type": "code",
   "execution_count": 258,
   "metadata": {},
   "outputs": [
    {
     "data": {
      "text/plain": [
       "'RT @dog_rates: This is Lilly. She just parallel barked. Kindly requests a reward now. 13/10 would pet so well https://t.co/SATN4If5H5'"
      ]
     },
     "execution_count": 258,
     "metadata": {},
     "output_type": "execute_result"
    }
   ],
   "source": [
    "tweet_from_api['full_text'][35]"
   ]
  },
  {
   "cell_type": "code",
   "execution_count": 259,
   "metadata": {},
   "outputs": [
    {
     "data": {
      "text/html": [
       "<div>\n",
       "<style scoped>\n",
       "    .dataframe tbody tr th:only-of-type {\n",
       "        vertical-align: middle;\n",
       "    }\n",
       "\n",
       "    .dataframe tbody tr th {\n",
       "        vertical-align: top;\n",
       "    }\n",
       "\n",
       "    .dataframe thead th {\n",
       "        text-align: right;\n",
       "    }\n",
       "</style>\n",
       "<table border=\"1\" class=\"dataframe\">\n",
       "  <thead>\n",
       "    <tr style=\"text-align: right;\">\n",
       "      <th></th>\n",
       "      <th>quoted_status_permalink</th>\n",
       "    </tr>\n",
       "  </thead>\n",
       "  <tbody>\n",
       "    <tr>\n",
       "      <th>31</th>\n",
       "      <td>{'url': 'https://t.co/WxwJmvjfxo', 'expanded':...</td>\n",
       "    </tr>\n",
       "    <tr>\n",
       "      <th>41</th>\n",
       "      <td>{'url': 'https://t.co/uF3pQ8Wubj', 'expanded':...</td>\n",
       "    </tr>\n",
       "    <tr>\n",
       "      <th>71</th>\n",
       "      <td>{'url': 'https://t.co/9uABQXgjwa', 'expanded':...</td>\n",
       "    </tr>\n",
       "    <tr>\n",
       "      <th>81</th>\n",
       "      <td>{'url': 'https://t.co/8yoc1CNTsu', 'expanded':...</td>\n",
       "    </tr>\n",
       "    <tr>\n",
       "      <th>86</th>\n",
       "      <td>{'url': 'https://t.co/PFp4MghzBW', 'expanded':...</td>\n",
       "    </tr>\n",
       "    <tr>\n",
       "      <th>105</th>\n",
       "      <td>{'url': 'https://t.co/AbBLh2FZCH', 'expanded':...</td>\n",
       "    </tr>\n",
       "    <tr>\n",
       "      <th>126</th>\n",
       "      <td>{'url': 'https://t.co/Q8mVwWN3f4', 'expanded':...</td>\n",
       "    </tr>\n",
       "    <tr>\n",
       "      <th>182</th>\n",
       "      <td>{'url': 'https://t.co/5BEjzT2Tth', 'expanded':...</td>\n",
       "    </tr>\n",
       "    <tr>\n",
       "      <th>229</th>\n",
       "      <td>{'url': 'https://t.co/GJ8rozumsy', 'expanded':...</td>\n",
       "    </tr>\n",
       "    <tr>\n",
       "      <th>231</th>\n",
       "      <td>{'url': 'https://t.co/4ctgpGcqAd', 'expanded':...</td>\n",
       "    </tr>\n",
       "    <tr>\n",
       "      <th>254</th>\n",
       "      <td>{'url': 'https://t.co/cEORXhwZ5K', 'expanded':...</td>\n",
       "    </tr>\n",
       "    <tr>\n",
       "      <th>267</th>\n",
       "      <td>{'url': 'https://t.co/ngAxYLVYHP', 'expanded':...</td>\n",
       "    </tr>\n",
       "    <tr>\n",
       "      <th>316</th>\n",
       "      <td>{'url': 'https://t.co/8YlD5lxPbQ', 'expanded':...</td>\n",
       "    </tr>\n",
       "  </tbody>\n",
       "</table>\n",
       "</div>"
      ],
      "text/plain": [
       "                               quoted_status_permalink\n",
       "31   {'url': 'https://t.co/WxwJmvjfxo', 'expanded':...\n",
       "41   {'url': 'https://t.co/uF3pQ8Wubj', 'expanded':...\n",
       "71   {'url': 'https://t.co/9uABQXgjwa', 'expanded':...\n",
       "81   {'url': 'https://t.co/8yoc1CNTsu', 'expanded':...\n",
       "86   {'url': 'https://t.co/PFp4MghzBW', 'expanded':...\n",
       "105  {'url': 'https://t.co/AbBLh2FZCH', 'expanded':...\n",
       "126  {'url': 'https://t.co/Q8mVwWN3f4', 'expanded':...\n",
       "182  {'url': 'https://t.co/5BEjzT2Tth', 'expanded':...\n",
       "229  {'url': 'https://t.co/GJ8rozumsy', 'expanded':...\n",
       "231  {'url': 'https://t.co/4ctgpGcqAd', 'expanded':...\n",
       "254  {'url': 'https://t.co/cEORXhwZ5K', 'expanded':...\n",
       "267  {'url': 'https://t.co/ngAxYLVYHP', 'expanded':...\n",
       "316  {'url': 'https://t.co/8YlD5lxPbQ', 'expanded':..."
      ]
     },
     "execution_count": 259,
     "metadata": {},
     "output_type": "execute_result"
    }
   ],
   "source": [
    "tweet_from_api[tweet_from_api['quoted_status_permalink'].notnull()][['quoted_status_permalink']]"
   ]
  },
  {
   "cell_type": "code",
   "execution_count": 260,
   "metadata": {},
   "outputs": [
    {
     "data": {
      "text/plain": [
       "{'url': 'https://t.co/WxwJmvjfxo',\n",
       " 'expanded': 'https://twitter.com/dog_rates/status/886053434075471873',\n",
       " 'display': 'twitter.com/dog_rates/stat…'}"
      ]
     },
     "execution_count": 260,
     "metadata": {},
     "output_type": "execute_result"
    }
   ],
   "source": [
    "tweet_from_api['quoted_status_permalink'][31]"
   ]
  },
  {
   "cell_type": "code",
   "execution_count": 261,
   "metadata": {},
   "outputs": [
    {
     "data": {
      "text/html": [
       "<div>\n",
       "<style scoped>\n",
       "    .dataframe tbody tr th:only-of-type {\n",
       "        vertical-align: middle;\n",
       "    }\n",
       "\n",
       "    .dataframe tbody tr th {\n",
       "        vertical-align: top;\n",
       "    }\n",
       "\n",
       "    .dataframe thead th {\n",
       "        text-align: right;\n",
       "    }\n",
       "</style>\n",
       "<table border=\"1\" class=\"dataframe\">\n",
       "  <thead>\n",
       "    <tr style=\"text-align: right;\">\n",
       "      <th></th>\n",
       "      <th>quoted_status</th>\n",
       "    </tr>\n",
       "  </thead>\n",
       "  <tbody>\n",
       "    <tr>\n",
       "      <th>41</th>\n",
       "      <td>{'created_at': 'Sun Jul 09 08:26:49 +0000 2017...</td>\n",
       "    </tr>\n",
       "    <tr>\n",
       "      <th>71</th>\n",
       "      <td>{'created_at': 'Sat Jun 24 13:05:06 +0000 2017...</td>\n",
       "    </tr>\n",
       "    <tr>\n",
       "      <th>81</th>\n",
       "      <td>{'created_at': 'Sat Jun 17 19:41:50 +0000 2017...</td>\n",
       "    </tr>\n",
       "    <tr>\n",
       "      <th>86</th>\n",
       "      <td>{'created_at': 'Mon Jun 12 23:49:34 +0000 2017...</td>\n",
       "    </tr>\n",
       "    <tr>\n",
       "      <th>105</th>\n",
       "      <td>{'created_at': 'Sat Jun 03 18:46:59 +0000 2017...</td>\n",
       "    </tr>\n",
       "    <tr>\n",
       "      <th>126</th>\n",
       "      <td>{'created_at': 'Mon May 22 01:00:31 +0000 2017...</td>\n",
       "    </tr>\n",
       "    <tr>\n",
       "      <th>182</th>\n",
       "      <td>{'created_at': 'Sat Apr 22 05:36:05 +0000 2017...</td>\n",
       "    </tr>\n",
       "    <tr>\n",
       "      <th>229</th>\n",
       "      <td>{'created_at': 'Mon Mar 27 22:11:17 +0000 2017...</td>\n",
       "    </tr>\n",
       "    <tr>\n",
       "      <th>231</th>\n",
       "      <td>{'created_at': 'Sun Mar 26 19:56:27 +0000 2017...</td>\n",
       "    </tr>\n",
       "    <tr>\n",
       "      <th>254</th>\n",
       "      <td>{'created_at': 'Mon Mar 13 15:34:02 +0000 2017...</td>\n",
       "    </tr>\n",
       "    <tr>\n",
       "      <th>267</th>\n",
       "      <td>{'created_at': 'Tue Mar 07 03:05:35 +0000 2017...</td>\n",
       "    </tr>\n",
       "    <tr>\n",
       "      <th>316</th>\n",
       "      <td>{'created_at': 'Thu Feb 16 16:40:00 +0000 2017...</td>\n",
       "    </tr>\n",
       "  </tbody>\n",
       "</table>\n",
       "</div>"
      ],
      "text/plain": [
       "                                         quoted_status\n",
       "41   {'created_at': 'Sun Jul 09 08:26:49 +0000 2017...\n",
       "71   {'created_at': 'Sat Jun 24 13:05:06 +0000 2017...\n",
       "81   {'created_at': 'Sat Jun 17 19:41:50 +0000 2017...\n",
       "86   {'created_at': 'Mon Jun 12 23:49:34 +0000 2017...\n",
       "105  {'created_at': 'Sat Jun 03 18:46:59 +0000 2017...\n",
       "126  {'created_at': 'Mon May 22 01:00:31 +0000 2017...\n",
       "182  {'created_at': 'Sat Apr 22 05:36:05 +0000 2017...\n",
       "229  {'created_at': 'Mon Mar 27 22:11:17 +0000 2017...\n",
       "231  {'created_at': 'Sun Mar 26 19:56:27 +0000 2017...\n",
       "254  {'created_at': 'Mon Mar 13 15:34:02 +0000 2017...\n",
       "267  {'created_at': 'Tue Mar 07 03:05:35 +0000 2017...\n",
       "316  {'created_at': 'Thu Feb 16 16:40:00 +0000 2017..."
      ]
     },
     "execution_count": 261,
     "metadata": {},
     "output_type": "execute_result"
    }
   ],
   "source": [
    "tweet_from_api[tweet_from_api['quoted_status'].notnull()][['quoted_status']]"
   ]
  },
  {
   "cell_type": "code",
   "execution_count": 262,
   "metadata": {},
   "outputs": [
    {
     "data": {
      "text/plain": [
       "{'created_at': 'Sun Jul 09 08:26:49 +0000 2017',\n",
       " 'id': 883965650754039809,\n",
       " 'id_str': '883965650754039809',\n",
       " 'full_text': 'Have you ever seen a more guilty pug?😂 https://t.co/Lhf4ECt1uL',\n",
       " 'truncated': False,\n",
       " 'display_text_range': [0, 38],\n",
       " 'entities': {'hashtags': [],\n",
       "  'symbols': [],\n",
       "  'user_mentions': [],\n",
       "  'urls': [],\n",
       "  'media': [{'id': 883965641492922369,\n",
       "    'id_str': '883965641492922369',\n",
       "    'indices': [39, 62],\n",
       "    'media_url': 'http://pbs.twimg.com/media/DER6EUbWAAEOY9Z.jpg',\n",
       "    'media_url_https': 'https://pbs.twimg.com/media/DER6EUbWAAEOY9Z.jpg',\n",
       "    'url': 'https://t.co/Lhf4ECt1uL',\n",
       "    'display_url': 'pic.twitter.com/Lhf4ECt1uL',\n",
       "    'expanded_url': 'https://twitter.com/Kaijohnson_19/status/883965650754039809/photo/1',\n",
       "    'type': 'photo',\n",
       "    'sizes': {'thumb': {'w': 150, 'h': 150, 'resize': 'crop'},\n",
       "     'small': {'w': 510, 'h': 680, 'resize': 'fit'},\n",
       "     'medium': {'w': 720, 'h': 960, 'resize': 'fit'},\n",
       "     'large': {'w': 720, 'h': 960, 'resize': 'fit'}}}]},\n",
       " 'extended_entities': {'media': [{'id': 883965641492922369,\n",
       "    'id_str': '883965641492922369',\n",
       "    'indices': [39, 62],\n",
       "    'media_url': 'http://pbs.twimg.com/media/DER6EUbWAAEOY9Z.jpg',\n",
       "    'media_url_https': 'https://pbs.twimg.com/media/DER6EUbWAAEOY9Z.jpg',\n",
       "    'url': 'https://t.co/Lhf4ECt1uL',\n",
       "    'display_url': 'pic.twitter.com/Lhf4ECt1uL',\n",
       "    'expanded_url': 'https://twitter.com/Kaijohnson_19/status/883965650754039809/photo/1',\n",
       "    'type': 'photo',\n",
       "    'sizes': {'thumb': {'w': 150, 'h': 150, 'resize': 'crop'},\n",
       "     'small': {'w': 510, 'h': 680, 'resize': 'fit'},\n",
       "     'medium': {'w': 720, 'h': 960, 'resize': 'fit'},\n",
       "     'large': {'w': 720, 'h': 960, 'resize': 'fit'}}},\n",
       "   {'id': 883965641421725696,\n",
       "    'id_str': '883965641421725696',\n",
       "    'indices': [39, 62],\n",
       "    'media_url': 'http://pbs.twimg.com/media/DER6EUKXoAA1t3B.jpg',\n",
       "    'media_url_https': 'https://pbs.twimg.com/media/DER6EUKXoAA1t3B.jpg',\n",
       "    'url': 'https://t.co/Lhf4ECt1uL',\n",
       "    'display_url': 'pic.twitter.com/Lhf4ECt1uL',\n",
       "    'expanded_url': 'https://twitter.com/Kaijohnson_19/status/883965650754039809/photo/1',\n",
       "    'type': 'photo',\n",
       "    'sizes': {'thumb': {'w': 150, 'h': 150, 'resize': 'crop'},\n",
       "     'small': {'w': 510, 'h': 680, 'resize': 'fit'},\n",
       "     'medium': {'w': 720, 'h': 960, 'resize': 'fit'},\n",
       "     'large': {'w': 720, 'h': 960, 'resize': 'fit'}}}]},\n",
       " 'source': '<a href=\"http://twitter.com/download/iphone\" rel=\"nofollow\">Twitter for iPhone</a>',\n",
       " 'in_reply_to_status_id': None,\n",
       " 'in_reply_to_status_id_str': None,\n",
       " 'in_reply_to_user_id': None,\n",
       " 'in_reply_to_user_id_str': None,\n",
       " 'in_reply_to_screen_name': None,\n",
       " 'user': {'id': 3097795571,\n",
       "  'id_str': '3097795571',\n",
       "  'name': 'Kai Johnson',\n",
       "  'screen_name': 'Kaijohnson_19',\n",
       "  'location': 'Scotland, United Kingdom',\n",
       "  'description': 'Forensics student🤓 Citeh💙',\n",
       "  'url': 'https://t.co/pk8FMRc1OM',\n",
       "  'entities': {'url': {'urls': [{'url': 'https://t.co/pk8FMRc1OM',\n",
       "      'expanded_url': 'https://www.instagram.com/kaijohnson_19/',\n",
       "      'display_url': 'instagram.com/kaijohnson_19/',\n",
       "      'indices': [0, 23]}]},\n",
       "   'description': {'urls': []}},\n",
       "  'protected': False,\n",
       "  'followers_count': 175,\n",
       "  'friends_count': 222,\n",
       "  'listed_count': 1,\n",
       "  'created_at': 'Thu Mar 19 21:55:32 +0000 2015',\n",
       "  'favourites_count': 524,\n",
       "  'utc_offset': None,\n",
       "  'time_zone': None,\n",
       "  'geo_enabled': True,\n",
       "  'verified': False,\n",
       "  'statuses_count': 28,\n",
       "  'lang': None,\n",
       "  'contributors_enabled': False,\n",
       "  'is_translator': False,\n",
       "  'is_translation_enabled': False,\n",
       "  'profile_background_color': 'C0DEED',\n",
       "  'profile_background_image_url': 'http://abs.twimg.com/images/themes/theme1/bg.png',\n",
       "  'profile_background_image_url_https': 'https://abs.twimg.com/images/themes/theme1/bg.png',\n",
       "  'profile_background_tile': False,\n",
       "  'profile_image_url': 'http://pbs.twimg.com/profile_images/1422844775426842625/k0SlCske_normal.jpg',\n",
       "  'profile_image_url_https': 'https://pbs.twimg.com/profile_images/1422844775426842625/k0SlCske_normal.jpg',\n",
       "  'profile_banner_url': 'https://pbs.twimg.com/profile_banners/3097795571/1636155439',\n",
       "  'profile_link_color': '1DA1F2',\n",
       "  'profile_sidebar_border_color': 'C0DEED',\n",
       "  'profile_sidebar_fill_color': 'DDEEF6',\n",
       "  'profile_text_color': '333333',\n",
       "  'profile_use_background_image': True,\n",
       "  'has_extended_profile': True,\n",
       "  'default_profile': True,\n",
       "  'default_profile_image': False,\n",
       "  'following': None,\n",
       "  'follow_request_sent': None,\n",
       "  'notifications': None,\n",
       "  'translator_type': 'none',\n",
       "  'withheld_in_countries': []},\n",
       " 'geo': None,\n",
       " 'coordinates': None,\n",
       " 'place': None,\n",
       " 'contributors': None,\n",
       " 'is_quote_status': False,\n",
       " 'retweet_count': 56255,\n",
       " 'favorite_count': 188223,\n",
       " 'favorited': False,\n",
       " 'retweeted': False,\n",
       " 'possibly_sensitive': False,\n",
       " 'possibly_sensitive_appealable': False,\n",
       " 'lang': 'en'}"
      ]
     },
     "execution_count": 262,
     "metadata": {},
     "output_type": "execute_result"
    }
   ],
   "source": [
    "tweet_from_api['quoted_status'][41]"
   ]
  },
  {
   "cell_type": "code",
   "execution_count": 263,
   "metadata": {},
   "outputs": [
    {
     "data": {
      "text/plain": [
       "\"OMG HE DIDN'T MEAN TO HE WAS JUST TRYING A LITTLE BARKOUR HE'S SUPER SORRY 13/10 WOULD FORGIVE IMMEDIATE https://t.co/uF3pQ8Wubj\""
      ]
     },
     "execution_count": 263,
     "metadata": {},
     "output_type": "execute_result"
    }
   ],
   "source": [
    "tweet_from_api['full_text'][41]"
   ]
  },
  {
   "cell_type": "code",
   "execution_count": 264,
   "metadata": {},
   "outputs": [
    {
     "data": {
      "text/plain": [
       "count    2356.000000\n",
       "mean       13.126486\n",
       "std        45.876648\n",
       "min         0.000000\n",
       "25%        10.000000\n",
       "50%        11.000000\n",
       "75%        12.000000\n",
       "max      1776.000000\n",
       "Name: rating_numerator, dtype: float64"
      ]
     },
     "execution_count": 264,
     "metadata": {},
     "output_type": "execute_result"
    }
   ],
   "source": [
    "twitter_archive['rating_numerator'].describe()"
   ]
  },
  {
   "cell_type": "code",
   "execution_count": 265,
   "metadata": {},
   "outputs": [
    {
     "data": {
      "text/plain": [
       "rating_numerator\n",
       "0         2\n",
       "1         9\n",
       "2         9\n",
       "3        19\n",
       "4        17\n",
       "5        37\n",
       "6        32\n",
       "7        55\n",
       "8       102\n",
       "9       158\n",
       "10      461\n",
       "11      464\n",
       "12      558\n",
       "13      351\n",
       "14       54\n",
       "15        2\n",
       "17        1\n",
       "20        1\n",
       "24        1\n",
       "26        1\n",
       "27        1\n",
       "44        1\n",
       "45        1\n",
       "50        1\n",
       "60        1\n",
       "75        2\n",
       "80        1\n",
       "84        1\n",
       "88        1\n",
       "99        1\n",
       "121       1\n",
       "143       1\n",
       "144       1\n",
       "165       1\n",
       "182       1\n",
       "204       1\n",
       "420       2\n",
       "666       1\n",
       "960       1\n",
       "1776      1\n",
       "Name: tweet_id, dtype: int64"
      ]
     },
     "execution_count": 265,
     "metadata": {},
     "output_type": "execute_result"
    }
   ],
   "source": [
    "twitter_archive.groupby(['rating_numerator'])['tweet_id'].count()"
   ]
  },
  {
   "cell_type": "code",
   "execution_count": 266,
   "metadata": {},
   "outputs": [
    {
     "data": {
      "text/plain": [
       "count    2356.000000\n",
       "mean       10.455433\n",
       "std         6.745237\n",
       "min         0.000000\n",
       "25%        10.000000\n",
       "50%        10.000000\n",
       "75%        10.000000\n",
       "max       170.000000\n",
       "Name: rating_denominator, dtype: float64"
      ]
     },
     "execution_count": 266,
     "metadata": {},
     "output_type": "execute_result"
    }
   ],
   "source": [
    "twitter_archive['rating_denominator'].describe()"
   ]
  },
  {
   "cell_type": "code",
   "execution_count": 267,
   "metadata": {},
   "outputs": [
    {
     "data": {
      "text/plain": [
       "rating_denominator\n",
       "0         1\n",
       "2         1\n",
       "7         1\n",
       "10     2333\n",
       "11        3\n",
       "15        1\n",
       "16        1\n",
       "20        2\n",
       "40        1\n",
       "50        3\n",
       "70        1\n",
       "80        2\n",
       "90        1\n",
       "110       1\n",
       "120       1\n",
       "130       1\n",
       "150       1\n",
       "170       1\n",
       "Name: tweet_id, dtype: int64"
      ]
     },
     "execution_count": 267,
     "metadata": {},
     "output_type": "execute_result"
    }
   ],
   "source": [
    "twitter_archive.groupby(['rating_denominator'])['tweet_id'].count()"
   ]
  },
  {
   "cell_type": "code",
   "execution_count": 268,
   "metadata": {},
   "outputs": [
    {
     "data": {
      "text/plain": [
       "rating_denominator    23\n",
       "dtype: int64"
      ]
     },
     "execution_count": 268,
     "metadata": {},
     "output_type": "execute_result"
    }
   ],
   "source": [
    "twitter_archive[twitter_archive['rating_denominator']!=10][['rating_denominator']].count()"
   ]
  },
  {
   "cell_type": "code",
   "execution_count": 269,
   "metadata": {},
   "outputs": [
    {
     "data": {
      "text/html": [
       "<div>\n",
       "<style scoped>\n",
       "    .dataframe tbody tr th:only-of-type {\n",
       "        vertical-align: middle;\n",
       "    }\n",
       "\n",
       "    .dataframe tbody tr th {\n",
       "        vertical-align: top;\n",
       "    }\n",
       "\n",
       "    .dataframe thead th {\n",
       "        text-align: right;\n",
       "    }\n",
       "</style>\n",
       "<table border=\"1\" class=\"dataframe\">\n",
       "  <thead>\n",
       "    <tr style=\"text-align: right;\">\n",
       "      <th></th>\n",
       "      <th>rating_numerator</th>\n",
       "      <th>rating_denominator</th>\n",
       "    </tr>\n",
       "  </thead>\n",
       "  <tbody>\n",
       "    <tr>\n",
       "      <th>45</th>\n",
       "      <td>5</td>\n",
       "      <td>10</td>\n",
       "    </tr>\n",
       "    <tr>\n",
       "      <th>229</th>\n",
       "      <td>6</td>\n",
       "      <td>10</td>\n",
       "    </tr>\n",
       "    <tr>\n",
       "      <th>315</th>\n",
       "      <td>0</td>\n",
       "      <td>10</td>\n",
       "    </tr>\n",
       "    <tr>\n",
       "      <th>387</th>\n",
       "      <td>7</td>\n",
       "      <td>10</td>\n",
       "    </tr>\n",
       "    <tr>\n",
       "      <th>462</th>\n",
       "      <td>7</td>\n",
       "      <td>10</td>\n",
       "    </tr>\n",
       "    <tr>\n",
       "      <th>...</th>\n",
       "      <td>...</td>\n",
       "      <td>...</td>\n",
       "    </tr>\n",
       "    <tr>\n",
       "      <th>2351</th>\n",
       "      <td>5</td>\n",
       "      <td>10</td>\n",
       "    </tr>\n",
       "    <tr>\n",
       "      <th>2352</th>\n",
       "      <td>6</td>\n",
       "      <td>10</td>\n",
       "    </tr>\n",
       "    <tr>\n",
       "      <th>2353</th>\n",
       "      <td>9</td>\n",
       "      <td>10</td>\n",
       "    </tr>\n",
       "    <tr>\n",
       "      <th>2354</th>\n",
       "      <td>7</td>\n",
       "      <td>10</td>\n",
       "    </tr>\n",
       "    <tr>\n",
       "      <th>2355</th>\n",
       "      <td>8</td>\n",
       "      <td>10</td>\n",
       "    </tr>\n",
       "  </tbody>\n",
       "</table>\n",
       "<p>440 rows × 2 columns</p>\n",
       "</div>"
      ],
      "text/plain": [
       "      rating_numerator  rating_denominator\n",
       "45                   5                  10\n",
       "229                  6                  10\n",
       "315                  0                  10\n",
       "387                  7                  10\n",
       "462                  7                  10\n",
       "...                ...                 ...\n",
       "2351                 5                  10\n",
       "2352                 6                  10\n",
       "2353                 9                  10\n",
       "2354                 7                  10\n",
       "2355                 8                  10\n",
       "\n",
       "[440 rows x 2 columns]"
      ]
     },
     "execution_count": 269,
     "metadata": {},
     "output_type": "execute_result"
    }
   ],
   "source": [
    "twitter_archive[twitter_archive['rating_numerator']<10][['rating_numerator', 'rating_denominator']]"
   ]
  },
  {
   "cell_type": "code",
   "execution_count": 270,
   "metadata": {},
   "outputs": [
    {
     "data": {
      "text/html": [
       "<div>\n",
       "<style scoped>\n",
       "    .dataframe tbody tr th:only-of-type {\n",
       "        vertical-align: middle;\n",
       "    }\n",
       "\n",
       "    .dataframe tbody tr th {\n",
       "        vertical-align: top;\n",
       "    }\n",
       "\n",
       "    .dataframe thead th {\n",
       "        text-align: right;\n",
       "    }\n",
       "</style>\n",
       "<table border=\"1\" class=\"dataframe\">\n",
       "  <thead>\n",
       "    <tr style=\"text-align: right;\">\n",
       "      <th></th>\n",
       "      <th>tweet_id</th>\n",
       "      <th>in_reply_to_status_id</th>\n",
       "      <th>in_reply_to_user_id</th>\n",
       "      <th>timestamp</th>\n",
       "      <th>source</th>\n",
       "      <th>text</th>\n",
       "      <th>retweeted_status_id</th>\n",
       "      <th>retweeted_status_user_id</th>\n",
       "      <th>retweeted_status_timestamp</th>\n",
       "      <th>expanded_urls</th>\n",
       "      <th>rating_numerator</th>\n",
       "      <th>rating_denominator</th>\n",
       "      <th>name</th>\n",
       "      <th>doggo</th>\n",
       "      <th>floofer</th>\n",
       "      <th>pupper</th>\n",
       "      <th>puppo</th>\n",
       "    </tr>\n",
       "  </thead>\n",
       "  <tbody>\n",
       "    <tr>\n",
       "      <th>313</th>\n",
       "      <td>835246439529840640</td>\n",
       "      <td>8.352460e+17</td>\n",
       "      <td>26259576.0</td>\n",
       "      <td>2017-02-24 21:54:03 +0000</td>\n",
       "      <td>&lt;a href=\"http://twitter.com/download/iphone\" r...</td>\n",
       "      <td>@jonnysun @Lin_Manuel ok jomny I know you're e...</td>\n",
       "      <td>NaN</td>\n",
       "      <td>NaN</td>\n",
       "      <td>NaN</td>\n",
       "      <td>NaN</td>\n",
       "      <td>960</td>\n",
       "      <td>0</td>\n",
       "      <td>None</td>\n",
       "      <td>None</td>\n",
       "      <td>None</td>\n",
       "      <td>None</td>\n",
       "      <td>None</td>\n",
       "    </tr>\n",
       "  </tbody>\n",
       "</table>\n",
       "</div>"
      ],
      "text/plain": [
       "               tweet_id  in_reply_to_status_id  in_reply_to_user_id  \\\n",
       "313  835246439529840640           8.352460e+17           26259576.0   \n",
       "\n",
       "                     timestamp  \\\n",
       "313  2017-02-24 21:54:03 +0000   \n",
       "\n",
       "                                                source  \\\n",
       "313  <a href=\"http://twitter.com/download/iphone\" r...   \n",
       "\n",
       "                                                  text  retweeted_status_id  \\\n",
       "313  @jonnysun @Lin_Manuel ok jomny I know you're e...                  NaN   \n",
       "\n",
       "     retweeted_status_user_id retweeted_status_timestamp expanded_urls  \\\n",
       "313                       NaN                        NaN           NaN   \n",
       "\n",
       "     rating_numerator  rating_denominator  name doggo floofer pupper puppo  \n",
       "313               960                   0  None  None    None   None  None  "
      ]
     },
     "execution_count": 270,
     "metadata": {},
     "output_type": "execute_result"
    }
   ],
   "source": [
    "twitter_archive[twitter_archive['rating_denominator']==0]"
   ]
  },
  {
   "cell_type": "code",
   "execution_count": 271,
   "metadata": {},
   "outputs": [
    {
     "data": {
      "text/html": [
       "<div>\n",
       "<style scoped>\n",
       "    .dataframe tbody tr th:only-of-type {\n",
       "        vertical-align: middle;\n",
       "    }\n",
       "\n",
       "    .dataframe tbody tr th {\n",
       "        vertical-align: top;\n",
       "    }\n",
       "\n",
       "    .dataframe thead th {\n",
       "        text-align: right;\n",
       "    }\n",
       "</style>\n",
       "<table border=\"1\" class=\"dataframe\">\n",
       "  <thead>\n",
       "    <tr style=\"text-align: right;\">\n",
       "      <th></th>\n",
       "      <th>text</th>\n",
       "    </tr>\n",
       "  </thead>\n",
       "  <tbody>\n",
       "    <tr>\n",
       "      <th>313</th>\n",
       "      <td>@jonnysun @Lin_Manuel ok jomny I know you're e...</td>\n",
       "    </tr>\n",
       "  </tbody>\n",
       "</table>\n",
       "</div>"
      ],
      "text/plain": [
       "                                                  text\n",
       "313  @jonnysun @Lin_Manuel ok jomny I know you're e..."
      ]
     },
     "execution_count": 271,
     "metadata": {},
     "output_type": "execute_result"
    }
   ],
   "source": [
    "twitter_archive[twitter_archive['rating_denominator']==0][['text']]"
   ]
  },
  {
   "cell_type": "code",
   "execution_count": 272,
   "metadata": {},
   "outputs": [
    {
     "data": {
      "text/html": [
       "<div>\n",
       "<style scoped>\n",
       "    .dataframe tbody tr th:only-of-type {\n",
       "        vertical-align: middle;\n",
       "    }\n",
       "\n",
       "    .dataframe tbody tr th {\n",
       "        vertical-align: top;\n",
       "    }\n",
       "\n",
       "    .dataframe thead th {\n",
       "        text-align: right;\n",
       "    }\n",
       "</style>\n",
       "<table border=\"1\" class=\"dataframe\">\n",
       "  <thead>\n",
       "    <tr style=\"text-align: right;\">\n",
       "      <th></th>\n",
       "      <th>created_at</th>\n",
       "      <th>id</th>\n",
       "      <th>id_str</th>\n",
       "      <th>full_text</th>\n",
       "      <th>truncated</th>\n",
       "      <th>display_text_range</th>\n",
       "      <th>entities</th>\n",
       "      <th>extended_entities</th>\n",
       "      <th>source</th>\n",
       "      <th>in_reply_to_status_id</th>\n",
       "      <th>...</th>\n",
       "      <th>favorited</th>\n",
       "      <th>retweeted</th>\n",
       "      <th>possibly_sensitive</th>\n",
       "      <th>possibly_sensitive_appealable</th>\n",
       "      <th>lang</th>\n",
       "      <th>retweeted_status</th>\n",
       "      <th>quoted_status_id</th>\n",
       "      <th>quoted_status_id_str</th>\n",
       "      <th>quoted_status_permalink</th>\n",
       "      <th>quoted_status</th>\n",
       "    </tr>\n",
       "  </thead>\n",
       "  <tbody>\n",
       "    <tr>\n",
       "      <th>295</th>\n",
       "      <td>2017-02-24 21:54:03+00:00</td>\n",
       "      <td>835246439529840640</td>\n",
       "      <td>835246439529840640</td>\n",
       "      <td>@jonnysun @Lin_Manuel ok jomny I know you're e...</td>\n",
       "      <td>False</td>\n",
       "      <td>[22, 98]</td>\n",
       "      <td>{'hashtags': [], 'symbols': [], 'user_mentions...</td>\n",
       "      <td>NaN</td>\n",
       "      <td>&lt;a href=\"http://twitter.com/download/iphone\" r...</td>\n",
       "      <td>8.352460e+17</td>\n",
       "      <td>...</td>\n",
       "      <td>False</td>\n",
       "      <td>False</td>\n",
       "      <td>NaN</td>\n",
       "      <td>NaN</td>\n",
       "      <td>en</td>\n",
       "      <td>NaN</td>\n",
       "      <td>NaN</td>\n",
       "      <td>NaN</td>\n",
       "      <td>NaN</td>\n",
       "      <td>NaN</td>\n",
       "    </tr>\n",
       "  </tbody>\n",
       "</table>\n",
       "<p>1 rows × 32 columns</p>\n",
       "</div>"
      ],
      "text/plain": [
       "                   created_at                  id              id_str  \\\n",
       "295 2017-02-24 21:54:03+00:00  835246439529840640  835246439529840640   \n",
       "\n",
       "                                             full_text  truncated  \\\n",
       "295  @jonnysun @Lin_Manuel ok jomny I know you're e...      False   \n",
       "\n",
       "    display_text_range                                           entities  \\\n",
       "295           [22, 98]  {'hashtags': [], 'symbols': [], 'user_mentions...   \n",
       "\n",
       "    extended_entities                                             source  \\\n",
       "295               NaN  <a href=\"http://twitter.com/download/iphone\" r...   \n",
       "\n",
       "     in_reply_to_status_id  ...  favorited  retweeted  possibly_sensitive  \\\n",
       "295           8.352460e+17  ...      False      False                 NaN   \n",
       "\n",
       "    possibly_sensitive_appealable lang  retweeted_status  quoted_status_id  \\\n",
       "295                           NaN   en               NaN               NaN   \n",
       "\n",
       "     quoted_status_id_str  quoted_status_permalink  quoted_status  \n",
       "295                   NaN                      NaN            NaN  \n",
       "\n",
       "[1 rows x 32 columns]"
      ]
     },
     "execution_count": 272,
     "metadata": {},
     "output_type": "execute_result"
    }
   ],
   "source": [
    "tweet_from_api[tweet_from_api['id']==835246439529840640\t]"
   ]
  },
  {
   "cell_type": "code",
   "execution_count": 273,
   "metadata": {},
   "outputs": [
    {
     "data": {
      "text/html": [
       "<div>\n",
       "<style scoped>\n",
       "    .dataframe tbody tr th:only-of-type {\n",
       "        vertical-align: middle;\n",
       "    }\n",
       "\n",
       "    .dataframe tbody tr th {\n",
       "        vertical-align: top;\n",
       "    }\n",
       "\n",
       "    .dataframe thead th {\n",
       "        text-align: right;\n",
       "    }\n",
       "</style>\n",
       "<table border=\"1\" class=\"dataframe\">\n",
       "  <thead>\n",
       "    <tr style=\"text-align: right;\">\n",
       "      <th></th>\n",
       "      <th>full_text</th>\n",
       "    </tr>\n",
       "  </thead>\n",
       "  <tbody>\n",
       "    <tr>\n",
       "      <th>295</th>\n",
       "      <td>@jonnysun @Lin_Manuel ok jomny I know you're e...</td>\n",
       "    </tr>\n",
       "  </tbody>\n",
       "</table>\n",
       "</div>"
      ],
      "text/plain": [
       "                                             full_text\n",
       "295  @jonnysun @Lin_Manuel ok jomny I know you're e..."
      ]
     },
     "execution_count": 273,
     "metadata": {},
     "output_type": "execute_result"
    }
   ],
   "source": [
    "tweet_from_api[tweet_from_api['id']==835246439529840640\t][['full_text']]"
   ]
  },
  {
   "cell_type": "code",
   "execution_count": 274,
   "metadata": {},
   "outputs": [
    {
     "data": {
      "text/plain": [
       "name\n",
       "Abby            2\n",
       "Ace             1\n",
       "Acro            1\n",
       "Adele           1\n",
       "Aiden           1\n",
       "               ..\n",
       "such            1\n",
       "the             8\n",
       "this            1\n",
       "unacceptable    1\n",
       "very            5\n",
       "Name: tweet_id, Length: 957, dtype: int64"
      ]
     },
     "execution_count": 274,
     "metadata": {},
     "output_type": "execute_result"
    }
   ],
   "source": [
    "twitter_archive.groupby(['name'])['tweet_id'].count()"
   ]
  },
  {
   "cell_type": "code",
   "execution_count": 275,
   "metadata": {},
   "outputs": [
    {
     "data": {
      "text/plain": [
       "array(['Abby', 'Ace', 'Acro', 'Adele', 'Aiden', 'Aja', 'Akumi', 'Al',\n",
       "       'Albert', 'Albus', 'Aldrick', 'Alejandro', 'Alexander',\n",
       "       'Alexanderson', 'Alf', 'Alfie', 'Alfy', 'Alice', 'Amber',\n",
       "       'Ambrose', 'Amy', 'Amélie', 'Anakin', 'Andru', 'Andy', 'Angel',\n",
       "       'Anna', 'Anthony', 'Antony', 'Apollo', 'Aqua', 'Archie', 'Arlen',\n",
       "       'Arlo', 'Arnie', 'Arnold', 'Arya', 'Ash', 'Asher', 'Ashleigh',\n",
       "       'Aspen', 'Astrid', 'Atlas', 'Atticus', 'Aubie', 'Augie', 'Autumn',\n",
       "       'Ava', 'Axel', 'Bailey', 'Baloo', 'Balto', 'Banditt', 'Banjo',\n",
       "       'Barclay', 'Barney', 'Baron', 'Barry', 'Batdog', 'Bauer', 'Baxter',\n",
       "       'Bayley', 'BeBe', 'Bear', 'Beau', 'Beckham', 'Beebop', 'Beemo',\n",
       "       'Bell', 'Bella', 'Belle', 'Ben', 'Benedict', 'Benji', 'Benny',\n",
       "       'Bentley', 'Berb', 'Berkeley', 'Bernie', 'Bert', 'Bertson',\n",
       "       'Betty', 'Beya', 'Biden', 'Bilbo', 'Billl', 'Billy', 'Binky',\n",
       "       'Birf', 'Bisquick', 'Blakely', 'Blanket', 'Blipson', 'Blitz',\n",
       "       'Bloo', 'Bloop', 'Blu', 'Blue', 'Bluebert', 'Bo', 'Bob', 'Bobb',\n",
       "       'Bobbay', 'Bobble', 'Bobby', 'Bode', 'Bodie', 'Bonaparte', 'Bones',\n",
       "       'Bookstore', 'Boomer', 'Boots', 'Boston', 'Bowie', 'Brad',\n",
       "       'Bradlay', 'Bradley', 'Brady', 'Brandi', 'Brandonald', 'Brandy',\n",
       "       'Brat', 'Brian', 'Brockly', 'Brody', 'Bronte', 'Brooks', 'Brownie',\n",
       "       'Bruce', 'Brudge', 'Bruiser', 'Bruno', 'Brutus', 'Bubba',\n",
       "       'Bubbles', 'Buckley', 'Buddah', 'Buddy', 'Bungalo', 'Burt',\n",
       "       'Butter', 'Butters', 'Cal', 'Calbert', 'Cali', 'Callie', 'Calvin',\n",
       "       'Canela', 'Cannon', 'Carbon', 'Carl', 'Carll', 'Carly', 'Carper',\n",
       "       'Carter', 'Caryl', 'Cash', 'Cassie', 'CeCe', 'Cecil', 'Cedrick',\n",
       "       'Cermet', 'Chadrick', 'Champ', 'Charl', 'Charles', 'Charleson',\n",
       "       'Charlie', 'Chase', 'Chaz', 'Cheesy', 'Chef', 'Chelsea', 'Cheryl',\n",
       "       'Chesney', 'Chester', 'Chesterson', 'Chet', 'Chevy', 'Chip',\n",
       "       'Chipson', 'Chloe', 'Chompsky', 'Christoper', 'Chubbs', 'Chuck',\n",
       "       'Chuckles', 'Chuq', 'Churlie', 'Cilantro', 'Clarence', 'Clark',\n",
       "       'Clarkus', 'Clarq', 'Claude', 'Cleopatricia', 'Clifford', 'Clybe',\n",
       "       'Clyde', 'Coco', 'Cody', 'Colby', 'Coleman', 'Colin', 'Combo',\n",
       "       'Comet', 'Cooper', 'Coops', 'Coopson', 'Cora', 'Corey', 'Covach',\n",
       "       'Craig', 'Crawford', 'Creg', 'Crimson', 'Crouton', 'Crumpet',\n",
       "       'Crystal', 'Cuddles', 'Cupcake', 'Cupid', 'Curtis', 'Daisy',\n",
       "       'Dakota', 'Dale', 'Dallas', 'Damon', 'Daniel', 'Danny', 'Dante',\n",
       "       'Darby', 'Darla', 'Darrel', 'Dash', 'Dave', 'Davey', 'Dawn',\n",
       "       'DayZ', 'Deacon', 'Derby', 'Derek', 'Devón', 'Dewey', 'Dex',\n",
       "       'Dexter', 'Dido', 'Dietrich', 'Diogi', 'Divine', 'Dixie', 'Django',\n",
       "       'Dobby', 'Doc', 'DonDon', 'Donny', 'Doobert', 'Dook', 'Dot',\n",
       "       'Dotsy', 'Doug', 'Duchess', 'Duddles', 'Dudley', 'Dug', 'Duke',\n",
       "       'Dunkin', 'Durg', 'Dutch', 'Dwight', 'Dylan', 'Earl', 'Eazy',\n",
       "       'Ebby', 'Ed', 'Edd', 'Edgar', 'Edmund', 'Eevee', 'Einstein',\n",
       "       'Eleanor', 'Eli', 'Ellie', 'Elliot', 'Emanuel', 'Ember', 'Emma',\n",
       "       'Emmie', 'Emmy', 'Enchilada', 'Erik', 'Eriq', 'Ester', 'Eugene',\n",
       "       'Eve', 'Evy', 'Fabio', 'Farfle', 'Ferg', 'Fido', 'Fiji', 'Fillup',\n",
       "       'Filup', 'Finley', 'Finn', 'Finnegus', 'Fiona', 'Fizz', 'Flash',\n",
       "       'Fletcher', 'Florence', 'Flurpson', 'Flávio', 'Frank', 'Frankie',\n",
       "       'Franklin', 'Franq', 'Fred', 'Freddery', 'Frönq', 'Furzey', 'Fwed',\n",
       "       'Fynn', 'Gabby', 'Gabe', 'Gary', 'General', 'Genevieve', 'Geno',\n",
       "       'Geoff', 'George', 'Georgie', 'Gerald', 'Gerbald', 'Gert',\n",
       "       'Gidget', 'Gilbert', 'Gin', 'Ginger', 'Gizmo', 'Glacier', 'Glenn',\n",
       "       'Godi', 'Godzilla', 'Goliath', 'Goose', 'Gordon', 'Grady', 'Grey',\n",
       "       'Griffin', 'Griswold', 'Grizz', 'Grizzie', 'Grizzwald', 'Gromit',\n",
       "       'Gunner', 'Gus', 'Gustaf', 'Gustav', 'Gòrdón', 'Hall', 'Halo',\n",
       "       'Hammond', 'Hamrick', 'Hank', 'Hanz', 'Happy', 'Harlso', 'Harnold',\n",
       "       'Harold', 'Harper', 'Harrison', 'Harry', 'Harvey', 'Hazel',\n",
       "       'Hector', 'Heinrich', 'Henry', 'Herald', 'Herb', 'Hercules',\n",
       "       'Herm', 'Hermione', 'Hero', 'Herschel', 'Hobbes', 'Holly',\n",
       "       'Horace', 'Howie', 'Hubertson', 'Huck', 'Humphrey', 'Hunter',\n",
       "       'Hurley', 'Huxley', 'Iggy', 'Ike', 'Indie', 'Iroh', 'Ito', 'Ivar',\n",
       "       'Izzy', 'JD', 'Jack', 'Jackie', 'Jackson', 'Jameson', 'Jamesy',\n",
       "       'Jangle', 'Jareld', 'Jarod', 'Jarvis', 'Jaspers', 'Jax', 'Jay',\n",
       "       'Jaycob', 'Jazz', 'Jazzy', 'Jeb', 'Jebberson', 'Jed', 'Jeffrey',\n",
       "       'Jeffri', 'Jeffrie', 'Jennifur', 'Jeph', 'Jeremy', 'Jerome',\n",
       "       'Jerry', 'Jersey', 'Jesse', 'Jessifer', 'Jessiga', 'Jett', 'Jim',\n",
       "       'Jimbo', 'Jiminus', 'Jiminy', 'Jimison', 'Jimothy', 'Jo',\n",
       "       'Jockson', 'Joey', 'Jomathan', 'Jonah', 'Jordy', 'Josep', 'Joshwa',\n",
       "       'Juckson', 'Julio', 'Julius', 'Juno', 'Kaia', 'Kaiya', 'Kallie',\n",
       "       'Kane', 'Kanu', 'Kara', 'Karl', 'Karll', 'Karma', 'Kathmandu',\n",
       "       'Katie', 'Kawhi', 'Kayla', 'Keet', 'Keith', 'Kellogg', 'Ken',\n",
       "       'Kendall', 'Kenneth', 'Kenny', 'Kenzie', 'Keurig', 'Kevin',\n",
       "       'Kevon', 'Kial', 'Kilo', 'Kingsley', 'Kirby', 'Kirk', 'Klein',\n",
       "       'Klevin', 'Kloey', 'Kobe', 'Koda', 'Kody', 'Koko', 'Kollin',\n",
       "       'Kona', 'Kota', 'Kramer', 'Kreg', 'Kreggory', 'Kulet', 'Kuyu',\n",
       "       'Kyle', 'Kyro', 'Lacy', 'Laela', 'Laika', 'Lambeau', 'Lance',\n",
       "       'Larry', 'Lassie', 'Layla', 'Leela', 'Lennon', 'Lenny', 'Lenox',\n",
       "       'Leo', 'Leonard', 'Leonidas', 'Levi', 'Liam', 'Lilah', 'Lili',\n",
       "       'Lilli', 'Lillie', 'Lilly', 'Lily', 'Lincoln', 'Linda', 'Link',\n",
       "       'Linus', 'Lipton', 'Livvie', 'Lizzie', 'Logan', 'Loki', 'Lola',\n",
       "       'Lolo', 'Longfellow', 'Loomis', 'Lorelei', 'Lorenzo', 'Lou',\n",
       "       'Louie', 'Louis', 'Luca', 'Lucia', 'Lucky', 'Lucy', 'Lugan',\n",
       "       'Lulu', 'Luna', 'Lupe', 'Luther', 'Mabel', 'Mac', 'Mack', 'Maddie',\n",
       "       'Maggie', 'Mairi', 'Maisey', 'Major', 'Maks', 'Malcolm', 'Malikai',\n",
       "       'Margo', 'Mark', 'Marlee', 'Marley', 'Marq', 'Marty', 'Marvin',\n",
       "       'Mary', 'Mason', 'Mattie', 'Maude', 'Mauve', 'Max', 'Maxaroni',\n",
       "       'Maximus', 'Maxwell', 'Maya', 'Meatball', 'Meera', 'Meyer', 'Mia',\n",
       "       'Michelangelope', 'Miguel', 'Mike', 'Miley', 'Milky', 'Millie',\n",
       "       'Milo', 'Mimosa', 'Mingus', 'Mister', 'Misty', 'Mitch', 'Mo',\n",
       "       'Moe', 'Mojo', 'Mollie', 'Molly', 'Mona', 'Monkey', 'Monster',\n",
       "       'Monty', 'Moofasa', 'Mookie', 'Moose', 'Moreton', 'Mosby',\n",
       "       'Murphy', 'Mutt', 'Mya', 'Nala', 'Naphaniel', 'Napolean', 'Nelly',\n",
       "       'Neptune', 'Newt', 'Nico', 'Nida', 'Nigel', 'Nimbus', 'Noah',\n",
       "       'Nollie', 'None', 'Noosh', 'Norman', 'Nugget', 'O', 'Oakley',\n",
       "       'Obi', 'Obie', 'Oddie', 'Odie', 'Odin', 'Olaf', 'Ole', 'Olive',\n",
       "       'Oliver', 'Olivia', 'Oliviér', 'Ollie', 'Opal', 'Opie', 'Oreo',\n",
       "       'Orion', 'Oscar', 'Oshie', 'Otis', 'Ozzie', 'Ozzy', 'Pablo',\n",
       "       'Paisley', 'Pancake', 'Panda', 'Patch', 'Patrick', 'Paull',\n",
       "       'Pavlov', 'Pawnd', 'Peaches', 'Peanut', 'Penelope', 'Penny',\n",
       "       'Pepper', 'Percy', 'Perry', 'Pete', 'Petrick', 'Pherb', 'Phil',\n",
       "       'Philbert', 'Philippe', 'Phineas', 'Phred', 'Pickles', 'Pilot',\n",
       "       'Pinot', 'Pip', 'Piper', 'Pippa', 'Pippin', 'Pipsy', 'Pluto',\n",
       "       'Poppy', 'Pubert', 'Puff', 'Pumpkin', 'Pupcasso', 'Quinn', 'Ralf',\n",
       "       'Ralph', 'Ralpher', 'Ralphie', 'Ralphson', 'Ralphus', 'Ralphy',\n",
       "       'Ralphé', 'Rambo', 'Randall', 'Raphael', 'Rascal', 'Raymond',\n",
       "       'Reagan', 'Reese', 'Reggie', 'Reginald', 'Remington', 'Remus',\n",
       "       'Remy', 'Reptar', 'Rey', 'Rhino', 'Richie', 'Ricky', 'Ridley',\n",
       "       'Riley', 'Rilo', 'Rinna', 'River', 'Rizzo', 'Rizzy', 'Robin',\n",
       "       'Rocco', 'Rocky', 'Rodman', 'Rodney', 'Rolf', 'Romeo', 'Ron',\n",
       "       'Ronduh', 'Ronnie', 'Rontu', 'Rooney', 'Roosevelt', 'Rorie',\n",
       "       'Rory', 'Roscoe', 'Rose', 'Rosie', 'Rover', 'Rubio', 'Ruby',\n",
       "       'Rudy', 'Rueben', 'Ruffles', 'Rufio', 'Rufus', 'Rumble', 'Rumpole',\n",
       "       'Rupert', 'Rusty', 'Sadie', 'Sage', 'Sailer', 'Sailor', 'Sam',\n",
       "       'Sammy', 'Sampson', 'Samsom', 'Samson', 'Sandra', 'Sandy', 'Sansa',\n",
       "       'Sarge', 'Saydee', 'Schnitzel', 'Schnozz', 'Scooter', 'Scott',\n",
       "       'Scout', 'Scruffers', 'Seamus', 'Sebastian', 'Sephie', 'Severus',\n",
       "       'Shadoe', 'Shadow', 'Shaggy', 'Shakespeare', 'Shawwn', 'Shelby',\n",
       "       'Shikha', 'Shiloh', 'Shnuggles', 'Shooter', 'Siba', 'Sid',\n",
       "       'Sierra', 'Simba', 'Skittle', 'Skittles', 'Sky', 'Skye', 'Smiley',\n",
       "       'Smokey', 'Snickers', 'Snicku', 'Snoop', 'Snoopy', 'Sobe', 'Socks',\n",
       "       'Sojourner', 'Solomon', 'Sonny', 'Sophie', 'Sora', 'Spanky',\n",
       "       'Spark', 'Sparky', 'Spencer', 'Sprinkles', 'Sprout', 'Staniel',\n",
       "       'Stanley', 'Stark', 'Stefan', 'Stella', 'Stephan', 'Stephanus',\n",
       "       'Steve', 'Steven', 'Stewie', 'Storkson', 'Stormy', 'Strider',\n",
       "       'Striker', 'Strudel', 'Stu', 'Stuart', 'Stubert', 'Sugar', 'Suki',\n",
       "       'Sully', 'Sundance', 'Sunny', 'Sunshine', 'Superpup', 'Swagger',\n",
       "       'Sweet', 'Sweets', 'Taco', 'Tango', 'Tanner', 'Tassy', 'Tater',\n",
       "       'Tayzie', 'Taz', 'Tebow', 'Ted', 'Tedders', 'Teddy', 'Tedrick',\n",
       "       'Terrance', 'Terrenth', 'Terry', 'Tess', 'Tessa', 'Theo',\n",
       "       'Theodore', 'Thor', 'Thumas', 'Tiger', 'Tilly', 'Timber',\n",
       "       'Timison', 'Timmy', 'Timofy', 'Tino', 'Titan', 'Tito', 'Tobi',\n",
       "       'Toby', 'Todo', 'Toffee', 'Tom', 'Tommy', 'Tonks', 'Torque',\n",
       "       'Tove', 'Travis', 'Traviss', 'Trevith', 'Trigger', 'Trip', 'Tripp',\n",
       "       'Trooper', 'Tuck', 'Tucker', 'Tuco', 'Tug', 'Tupawc', 'Tycho',\n",
       "       'Tyr', 'Tyrone', 'Tyrus', 'Ulysses', 'Venti', 'Vince', 'Vincent',\n",
       "       'Vinnie', 'Vinscent', 'Vixen', 'Wafer', 'Waffles', 'Walker',\n",
       "       'Wallace', 'Wally', 'Walter', 'Watson', 'Wesley', 'Wiggles',\n",
       "       'Willem', 'William', 'Willie', 'Willow', 'Willy', 'Wilson',\n",
       "       'Winifred', 'Winnie', 'Winston', 'Wishes', 'Wyatt', 'Yoda', 'Yogi',\n",
       "       'Yukon', 'Zara', 'Zeek', 'Zeke', 'Zeus', 'Ziva', 'Zoe', 'Zoey',\n",
       "       'Zooey', 'Zuzu', 'a', 'actually', 'all', 'an', 'by', 'getting',\n",
       "       'his', 'incredibly', 'infuriating', 'just', 'life', 'light', 'mad',\n",
       "       'my', 'not', 'officially', 'old', 'one', 'quite', 'space', 'such',\n",
       "       'the', 'this', 'unacceptable', 'very'], dtype=object)"
      ]
     },
     "execution_count": 275,
     "metadata": {},
     "output_type": "execute_result"
    }
   ],
   "source": [
    "twitter_archive['name'].sort_values().unique()"
   ]
  },
  {
   "cell_type": "code",
   "execution_count": 276,
   "metadata": {},
   "outputs": [
    {
     "data": {
      "text/html": [
       "<div>\n",
       "<style scoped>\n",
       "    .dataframe tbody tr th:only-of-type {\n",
       "        vertical-align: middle;\n",
       "    }\n",
       "\n",
       "    .dataframe tbody tr th {\n",
       "        vertical-align: top;\n",
       "    }\n",
       "\n",
       "    .dataframe thead th {\n",
       "        text-align: right;\n",
       "    }\n",
       "</style>\n",
       "<table border=\"1\" class=\"dataframe\">\n",
       "  <thead>\n",
       "    <tr style=\"text-align: right;\">\n",
       "      <th></th>\n",
       "      <th>doggo</th>\n",
       "      <th>floofer</th>\n",
       "      <th>pupper</th>\n",
       "      <th>puppo</th>\n",
       "      <th>tweet_id</th>\n",
       "    </tr>\n",
       "  </thead>\n",
       "  <tbody>\n",
       "    <tr>\n",
       "      <th>0</th>\n",
       "      <td>None</td>\n",
       "      <td>None</td>\n",
       "      <td>None</td>\n",
       "      <td>None</td>\n",
       "      <td>1976</td>\n",
       "    </tr>\n",
       "    <tr>\n",
       "      <th>1</th>\n",
       "      <td>None</td>\n",
       "      <td>None</td>\n",
       "      <td>None</td>\n",
       "      <td>puppo</td>\n",
       "      <td>29</td>\n",
       "    </tr>\n",
       "    <tr>\n",
       "      <th>2</th>\n",
       "      <td>None</td>\n",
       "      <td>None</td>\n",
       "      <td>pupper</td>\n",
       "      <td>None</td>\n",
       "      <td>245</td>\n",
       "    </tr>\n",
       "    <tr>\n",
       "      <th>3</th>\n",
       "      <td>None</td>\n",
       "      <td>floofer</td>\n",
       "      <td>None</td>\n",
       "      <td>None</td>\n",
       "      <td>9</td>\n",
       "    </tr>\n",
       "    <tr>\n",
       "      <th>4</th>\n",
       "      <td>doggo</td>\n",
       "      <td>None</td>\n",
       "      <td>None</td>\n",
       "      <td>None</td>\n",
       "      <td>83</td>\n",
       "    </tr>\n",
       "    <tr>\n",
       "      <th>5</th>\n",
       "      <td>doggo</td>\n",
       "      <td>None</td>\n",
       "      <td>None</td>\n",
       "      <td>puppo</td>\n",
       "      <td>1</td>\n",
       "    </tr>\n",
       "    <tr>\n",
       "      <th>6</th>\n",
       "      <td>doggo</td>\n",
       "      <td>None</td>\n",
       "      <td>pupper</td>\n",
       "      <td>None</td>\n",
       "      <td>12</td>\n",
       "    </tr>\n",
       "    <tr>\n",
       "      <th>7</th>\n",
       "      <td>doggo</td>\n",
       "      <td>floofer</td>\n",
       "      <td>None</td>\n",
       "      <td>None</td>\n",
       "      <td>1</td>\n",
       "    </tr>\n",
       "  </tbody>\n",
       "</table>\n",
       "</div>"
      ],
      "text/plain": [
       "   doggo  floofer  pupper  puppo  tweet_id\n",
       "0   None     None    None   None      1976\n",
       "1   None     None    None  puppo        29\n",
       "2   None     None  pupper   None       245\n",
       "3   None  floofer    None   None         9\n",
       "4  doggo     None    None   None        83\n",
       "5  doggo     None    None  puppo         1\n",
       "6  doggo     None  pupper   None        12\n",
       "7  doggo  floofer    None   None         1"
      ]
     },
     "execution_count": 276,
     "metadata": {},
     "output_type": "execute_result"
    }
   ],
   "source": [
    "twitter_archive.groupby(['doggo','floofer','pupper','puppo'])['tweet_id'].count().reset_index()"
   ]
  },
  {
   "cell_type": "code",
   "execution_count": 277,
   "metadata": {},
   "outputs": [
    {
     "data": {
      "text/html": [
       "<div>\n",
       "<style scoped>\n",
       "    .dataframe tbody tr th:only-of-type {\n",
       "        vertical-align: middle;\n",
       "    }\n",
       "\n",
       "    .dataframe tbody tr th {\n",
       "        vertical-align: top;\n",
       "    }\n",
       "\n",
       "    .dataframe thead th {\n",
       "        text-align: right;\n",
       "    }\n",
       "</style>\n",
       "<table border=\"1\" class=\"dataframe\">\n",
       "  <thead>\n",
       "    <tr style=\"text-align: right;\">\n",
       "      <th></th>\n",
       "      <th>timestamp</th>\n",
       "      <th>retweeted_status_timestamp</th>\n",
       "    </tr>\n",
       "  </thead>\n",
       "  <tbody>\n",
       "    <tr>\n",
       "      <th>19</th>\n",
       "      <td>2017-07-21 01:02:36 +0000</td>\n",
       "      <td>2017-07-19 00:47:34 +0000</td>\n",
       "    </tr>\n",
       "    <tr>\n",
       "      <th>32</th>\n",
       "      <td>2017-07-15 02:45:48 +0000</td>\n",
       "      <td>2017-07-15 02:44:07 +0000</td>\n",
       "    </tr>\n",
       "    <tr>\n",
       "      <th>36</th>\n",
       "      <td>2017-07-13 01:35:06 +0000</td>\n",
       "      <td>2017-02-12 01:04:29 +0000</td>\n",
       "    </tr>\n",
       "    <tr>\n",
       "      <th>68</th>\n",
       "      <td>2017-06-26 00:13:58 +0000</td>\n",
       "      <td>2017-06-23 01:10:23 +0000</td>\n",
       "    </tr>\n",
       "    <tr>\n",
       "      <th>73</th>\n",
       "      <td>2017-06-24 00:09:53 +0000</td>\n",
       "      <td>2017-06-23 16:00:04 +0000</td>\n",
       "    </tr>\n",
       "    <tr>\n",
       "      <th>...</th>\n",
       "      <td>...</td>\n",
       "      <td>...</td>\n",
       "    </tr>\n",
       "    <tr>\n",
       "      <th>1023</th>\n",
       "      <td>2016-06-25 01:52:36 +0000</td>\n",
       "      <td>2015-11-21 00:46:50 +0000</td>\n",
       "    </tr>\n",
       "    <tr>\n",
       "      <th>1043</th>\n",
       "      <td>2016-06-17 16:01:16 +0000</td>\n",
       "      <td>2015-11-19 00:32:12 +0000</td>\n",
       "    </tr>\n",
       "    <tr>\n",
       "      <th>1242</th>\n",
       "      <td>2016-03-21 19:31:59 +0000</td>\n",
       "      <td>2016-03-21 19:29:52 +0000</td>\n",
       "    </tr>\n",
       "    <tr>\n",
       "      <th>2259</th>\n",
       "      <td>2015-11-20 03:51:52 +0000</td>\n",
       "      <td>2015-11-20 03:43:06 +0000</td>\n",
       "    </tr>\n",
       "    <tr>\n",
       "      <th>2260</th>\n",
       "      <td>2015-11-20 03:51:47 +0000</td>\n",
       "      <td>2015-11-20 03:41:59 +0000</td>\n",
       "    </tr>\n",
       "  </tbody>\n",
       "</table>\n",
       "<p>181 rows × 2 columns</p>\n",
       "</div>"
      ],
      "text/plain": [
       "                      timestamp retweeted_status_timestamp\n",
       "19    2017-07-21 01:02:36 +0000  2017-07-19 00:47:34 +0000\n",
       "32    2017-07-15 02:45:48 +0000  2017-07-15 02:44:07 +0000\n",
       "36    2017-07-13 01:35:06 +0000  2017-02-12 01:04:29 +0000\n",
       "68    2017-06-26 00:13:58 +0000  2017-06-23 01:10:23 +0000\n",
       "73    2017-06-24 00:09:53 +0000  2017-06-23 16:00:04 +0000\n",
       "...                         ...                        ...\n",
       "1023  2016-06-25 01:52:36 +0000  2015-11-21 00:46:50 +0000\n",
       "1043  2016-06-17 16:01:16 +0000  2015-11-19 00:32:12 +0000\n",
       "1242  2016-03-21 19:31:59 +0000  2016-03-21 19:29:52 +0000\n",
       "2259  2015-11-20 03:51:52 +0000  2015-11-20 03:43:06 +0000\n",
       "2260  2015-11-20 03:51:47 +0000  2015-11-20 03:41:59 +0000\n",
       "\n",
       "[181 rows x 2 columns]"
      ]
     },
     "execution_count": 277,
     "metadata": {},
     "output_type": "execute_result"
    }
   ],
   "source": [
    "twitter_archive[twitter_archive['retweeted_status_timestamp'].notnull()][['timestamp','retweeted_status_timestamp']]"
   ]
  },
  {
   "cell_type": "code",
   "execution_count": 278,
   "metadata": {},
   "outputs": [
    {
     "data": {
      "text/plain": [
       "1788    https://twitter.com/dog_rates/status/677557565...\n",
       "594     https://twitter.com/dog_rates/status/740676976...\n",
       "758     https://twitter.com/dog_rates/status/778408200...\n",
       "872     https://twitter.com/dog_rates/status/711694788...\n",
       "2121    https://twitter.com/dog_rates/status/670408998...\n",
       "2       https://twitter.com/dog_rates/status/891815181...\n",
       "1574    https://twitter.com/dog_rates/status/687480748...\n",
       "472     https://twitter.com/dog_rates/status/816450570...\n",
       "1936    https://twitter.com/dog_rates/status/673956914...\n",
       "627     https://twitter.com/dog_rates/status/789530877...\n",
       "Name: expanded_urls, dtype: object"
      ]
     },
     "execution_count": 278,
     "metadata": {},
     "output_type": "execute_result"
    }
   ],
   "source": [
    "twitter_archive['expanded_urls'].sample(10)"
   ]
  },
  {
   "cell_type": "code",
   "execution_count": 279,
   "metadata": {},
   "outputs": [
    {
     "data": {
      "text/html": [
       "<div>\n",
       "<style scoped>\n",
       "    .dataframe tbody tr th:only-of-type {\n",
       "        vertical-align: middle;\n",
       "    }\n",
       "\n",
       "    .dataframe tbody tr th {\n",
       "        vertical-align: top;\n",
       "    }\n",
       "\n",
       "    .dataframe thead th {\n",
       "        text-align: right;\n",
       "    }\n",
       "</style>\n",
       "<table border=\"1\" class=\"dataframe\">\n",
       "  <thead>\n",
       "    <tr style=\"text-align: right;\">\n",
       "      <th></th>\n",
       "      <th>p1</th>\n",
       "      <th>p1_dog</th>\n",
       "      <th>tweet_id</th>\n",
       "    </tr>\n",
       "  </thead>\n",
       "  <tbody>\n",
       "    <tr>\n",
       "      <th>0</th>\n",
       "      <td>Afghan_hound</td>\n",
       "      <td>True</td>\n",
       "      <td>4</td>\n",
       "    </tr>\n",
       "    <tr>\n",
       "      <th>1</th>\n",
       "      <td>African_crocodile</td>\n",
       "      <td>False</td>\n",
       "      <td>1</td>\n",
       "    </tr>\n",
       "    <tr>\n",
       "      <th>2</th>\n",
       "      <td>African_grey</td>\n",
       "      <td>False</td>\n",
       "      <td>1</td>\n",
       "    </tr>\n",
       "    <tr>\n",
       "      <th>3</th>\n",
       "      <td>African_hunting_dog</td>\n",
       "      <td>False</td>\n",
       "      <td>1</td>\n",
       "    </tr>\n",
       "    <tr>\n",
       "      <th>4</th>\n",
       "      <td>Airedale</td>\n",
       "      <td>True</td>\n",
       "      <td>12</td>\n",
       "    </tr>\n",
       "    <tr>\n",
       "      <th>...</th>\n",
       "      <td>...</td>\n",
       "      <td>...</td>\n",
       "      <td>...</td>\n",
       "    </tr>\n",
       "    <tr>\n",
       "      <th>373</th>\n",
       "      <td>wombat</td>\n",
       "      <td>False</td>\n",
       "      <td>4</td>\n",
       "    </tr>\n",
       "    <tr>\n",
       "      <th>374</th>\n",
       "      <td>wood_rabbit</td>\n",
       "      <td>False</td>\n",
       "      <td>3</td>\n",
       "    </tr>\n",
       "    <tr>\n",
       "      <th>375</th>\n",
       "      <td>wooden_spoon</td>\n",
       "      <td>False</td>\n",
       "      <td>1</td>\n",
       "    </tr>\n",
       "    <tr>\n",
       "      <th>376</th>\n",
       "      <td>wool</td>\n",
       "      <td>False</td>\n",
       "      <td>2</td>\n",
       "    </tr>\n",
       "    <tr>\n",
       "      <th>377</th>\n",
       "      <td>zebra</td>\n",
       "      <td>False</td>\n",
       "      <td>1</td>\n",
       "    </tr>\n",
       "  </tbody>\n",
       "</table>\n",
       "<p>378 rows × 3 columns</p>\n",
       "</div>"
      ],
      "text/plain": [
       "                      p1  p1_dog  tweet_id\n",
       "0           Afghan_hound    True         4\n",
       "1      African_crocodile   False         1\n",
       "2           African_grey   False         1\n",
       "3    African_hunting_dog   False         1\n",
       "4               Airedale    True        12\n",
       "..                   ...     ...       ...\n",
       "373               wombat   False         4\n",
       "374          wood_rabbit   False         3\n",
       "375         wooden_spoon   False         1\n",
       "376                 wool   False         2\n",
       "377                zebra   False         1\n",
       "\n",
       "[378 rows x 3 columns]"
      ]
     },
     "execution_count": 279,
     "metadata": {},
     "output_type": "execute_result"
    }
   ],
   "source": [
    "image_predictions.groupby(['p1','p1_dog'])['tweet_id'].count().reset_index()"
   ]
  },
  {
   "cell_type": "code",
   "execution_count": 280,
   "metadata": {},
   "outputs": [
    {
     "data": {
      "text/html": [
       "<div>\n",
       "<style scoped>\n",
       "    .dataframe tbody tr th:only-of-type {\n",
       "        vertical-align: middle;\n",
       "    }\n",
       "\n",
       "    .dataframe tbody tr th {\n",
       "        vertical-align: top;\n",
       "    }\n",
       "\n",
       "    .dataframe thead th {\n",
       "        text-align: right;\n",
       "    }\n",
       "</style>\n",
       "<table border=\"1\" class=\"dataframe\">\n",
       "  <thead>\n",
       "    <tr style=\"text-align: right;\">\n",
       "      <th></th>\n",
       "      <th>p2</th>\n",
       "      <th>p2_dog</th>\n",
       "      <th>tweet_id</th>\n",
       "    </tr>\n",
       "  </thead>\n",
       "  <tbody>\n",
       "    <tr>\n",
       "      <th>0</th>\n",
       "      <td>Afghan_hound</td>\n",
       "      <td>True</td>\n",
       "      <td>5</td>\n",
       "    </tr>\n",
       "    <tr>\n",
       "      <th>1</th>\n",
       "      <td>African_hunting_dog</td>\n",
       "      <td>False</td>\n",
       "      <td>1</td>\n",
       "    </tr>\n",
       "    <tr>\n",
       "      <th>2</th>\n",
       "      <td>Airedale</td>\n",
       "      <td>True</td>\n",
       "      <td>7</td>\n",
       "    </tr>\n",
       "    <tr>\n",
       "      <th>3</th>\n",
       "      <td>American_Staffordshire_terrier</td>\n",
       "      <td>True</td>\n",
       "      <td>21</td>\n",
       "    </tr>\n",
       "    <tr>\n",
       "      <th>4</th>\n",
       "      <td>American_alligator</td>\n",
       "      <td>False</td>\n",
       "      <td>2</td>\n",
       "    </tr>\n",
       "    <tr>\n",
       "      <th>...</th>\n",
       "      <td>...</td>\n",
       "      <td>...</td>\n",
       "      <td>...</td>\n",
       "    </tr>\n",
       "    <tr>\n",
       "      <th>400</th>\n",
       "      <td>window_screen</td>\n",
       "      <td>False</td>\n",
       "      <td>4</td>\n",
       "    </tr>\n",
       "    <tr>\n",
       "      <th>401</th>\n",
       "      <td>window_shade</td>\n",
       "      <td>False</td>\n",
       "      <td>1</td>\n",
       "    </tr>\n",
       "    <tr>\n",
       "      <th>402</th>\n",
       "      <td>wire-haired_fox_terrier</td>\n",
       "      <td>True</td>\n",
       "      <td>4</td>\n",
       "    </tr>\n",
       "    <tr>\n",
       "      <th>403</th>\n",
       "      <td>wombat</td>\n",
       "      <td>False</td>\n",
       "      <td>1</td>\n",
       "    </tr>\n",
       "    <tr>\n",
       "      <th>404</th>\n",
       "      <td>wood_rabbit</td>\n",
       "      <td>False</td>\n",
       "      <td>1</td>\n",
       "    </tr>\n",
       "  </tbody>\n",
       "</table>\n",
       "<p>405 rows × 3 columns</p>\n",
       "</div>"
      ],
      "text/plain": [
       "                                 p2  p2_dog  tweet_id\n",
       "0                      Afghan_hound    True         5\n",
       "1               African_hunting_dog   False         1\n",
       "2                          Airedale    True         7\n",
       "3    American_Staffordshire_terrier    True        21\n",
       "4                American_alligator   False         2\n",
       "..                              ...     ...       ...\n",
       "400                   window_screen   False         4\n",
       "401                    window_shade   False         1\n",
       "402         wire-haired_fox_terrier    True         4\n",
       "403                          wombat   False         1\n",
       "404                     wood_rabbit   False         1\n",
       "\n",
       "[405 rows x 3 columns]"
      ]
     },
     "execution_count": 280,
     "metadata": {},
     "output_type": "execute_result"
    }
   ],
   "source": [
    "image_predictions.groupby(['p2','p2_dog'])['tweet_id'].count().reset_index()"
   ]
  },
  {
   "cell_type": "code",
   "execution_count": 281,
   "metadata": {},
   "outputs": [
    {
     "data": {
      "text/html": [
       "<div>\n",
       "<style scoped>\n",
       "    .dataframe tbody tr th:only-of-type {\n",
       "        vertical-align: middle;\n",
       "    }\n",
       "\n",
       "    .dataframe tbody tr th {\n",
       "        vertical-align: top;\n",
       "    }\n",
       "\n",
       "    .dataframe thead th {\n",
       "        text-align: right;\n",
       "    }\n",
       "</style>\n",
       "<table border=\"1\" class=\"dataframe\">\n",
       "  <thead>\n",
       "    <tr style=\"text-align: right;\">\n",
       "      <th></th>\n",
       "      <th>p3</th>\n",
       "      <th>p3_dog</th>\n",
       "      <th>tweet_id</th>\n",
       "    </tr>\n",
       "  </thead>\n",
       "  <tbody>\n",
       "    <tr>\n",
       "      <th>0</th>\n",
       "      <td>Afghan_hound</td>\n",
       "      <td>True</td>\n",
       "      <td>4</td>\n",
       "    </tr>\n",
       "    <tr>\n",
       "      <th>1</th>\n",
       "      <td>African_chameleon</td>\n",
       "      <td>False</td>\n",
       "      <td>1</td>\n",
       "    </tr>\n",
       "    <tr>\n",
       "      <th>2</th>\n",
       "      <td>African_grey</td>\n",
       "      <td>False</td>\n",
       "      <td>1</td>\n",
       "    </tr>\n",
       "    <tr>\n",
       "      <th>3</th>\n",
       "      <td>Airedale</td>\n",
       "      <td>True</td>\n",
       "      <td>11</td>\n",
       "    </tr>\n",
       "    <tr>\n",
       "      <th>4</th>\n",
       "      <td>American_Staffordshire_terrier</td>\n",
       "      <td>True</td>\n",
       "      <td>24</td>\n",
       "    </tr>\n",
       "    <tr>\n",
       "      <th>...</th>\n",
       "      <td>...</td>\n",
       "      <td>...</td>\n",
       "      <td>...</td>\n",
       "    </tr>\n",
       "    <tr>\n",
       "      <th>403</th>\n",
       "      <td>wombat</td>\n",
       "      <td>False</td>\n",
       "      <td>1</td>\n",
       "    </tr>\n",
       "    <tr>\n",
       "      <th>404</th>\n",
       "      <td>wood_rabbit</td>\n",
       "      <td>False</td>\n",
       "      <td>3</td>\n",
       "    </tr>\n",
       "    <tr>\n",
       "      <th>405</th>\n",
       "      <td>wool</td>\n",
       "      <td>False</td>\n",
       "      <td>3</td>\n",
       "    </tr>\n",
       "    <tr>\n",
       "      <th>406</th>\n",
       "      <td>wreck</td>\n",
       "      <td>False</td>\n",
       "      <td>2</td>\n",
       "    </tr>\n",
       "    <tr>\n",
       "      <th>407</th>\n",
       "      <td>zebra</td>\n",
       "      <td>False</td>\n",
       "      <td>1</td>\n",
       "    </tr>\n",
       "  </tbody>\n",
       "</table>\n",
       "<p>408 rows × 3 columns</p>\n",
       "</div>"
      ],
      "text/plain": [
       "                                 p3  p3_dog  tweet_id\n",
       "0                      Afghan_hound    True         4\n",
       "1                 African_chameleon   False         1\n",
       "2                      African_grey   False         1\n",
       "3                          Airedale    True        11\n",
       "4    American_Staffordshire_terrier    True        24\n",
       "..                              ...     ...       ...\n",
       "403                          wombat   False         1\n",
       "404                     wood_rabbit   False         3\n",
       "405                            wool   False         3\n",
       "406                           wreck   False         2\n",
       "407                           zebra   False         1\n",
       "\n",
       "[408 rows x 3 columns]"
      ]
     },
     "execution_count": 281,
     "metadata": {},
     "output_type": "execute_result"
    }
   ],
   "source": [
    "image_predictions.groupby(['p3','p3_dog'])['tweet_id'].count().reset_index()"
   ]
  },
  {
   "cell_type": "code",
   "execution_count": 282,
   "metadata": {},
   "outputs": [
    {
     "data": {
      "text/plain": [
       "count    2075.000000\n",
       "mean        0.594548\n",
       "std         0.271174\n",
       "min         0.044333\n",
       "25%         0.364412\n",
       "50%         0.588230\n",
       "75%         0.843855\n",
       "max         1.000000\n",
       "Name: p1_conf, dtype: float64"
      ]
     },
     "execution_count": 282,
     "metadata": {},
     "output_type": "execute_result"
    }
   ],
   "source": [
    "image_predictions['p1_conf'].describe()"
   ]
  },
  {
   "cell_type": "code",
   "execution_count": 283,
   "metadata": {},
   "outputs": [
    {
     "data": {
      "text/plain": [
       "count    2.075000e+03\n",
       "mean     1.345886e-01\n",
       "std      1.006657e-01\n",
       "min      1.011300e-08\n",
       "25%      5.388625e-02\n",
       "50%      1.181810e-01\n",
       "75%      1.955655e-01\n",
       "max      4.880140e-01\n",
       "Name: p2_conf, dtype: float64"
      ]
     },
     "execution_count": 283,
     "metadata": {},
     "output_type": "execute_result"
    }
   ],
   "source": [
    "image_predictions['p2_conf'].describe()"
   ]
  },
  {
   "cell_type": "code",
   "execution_count": 284,
   "metadata": {},
   "outputs": [
    {
     "data": {
      "text/plain": [
       "count    2.075000e+03\n",
       "mean     6.032417e-02\n",
       "std      5.090593e-02\n",
       "min      1.740170e-10\n",
       "25%      1.622240e-02\n",
       "50%      4.944380e-02\n",
       "75%      9.180755e-02\n",
       "max      2.734190e-01\n",
       "Name: p3_conf, dtype: float64"
      ]
     },
     "execution_count": 284,
     "metadata": {},
     "output_type": "execute_result"
    }
   ],
   "source": [
    "image_predictions['p3_conf'].describe()"
   ]
  },
  {
   "attachments": {},
   "cell_type": "markdown",
   "metadata": {},
   "source": [
    "### Quality issues\n",
    "1. The current tables still have retweets. There are 159 retweets from the tweet_from_api table and 181 tweets from twitter_archive.\n",
    "2. The columns p1, p2, p3, p1_dog, p2_dog, p3_dog, p1_conf, p2_cof, p3_conf though giving a lot of information regarding the models used and the predictions, it is hard to see what dog breed the dog is most likely to be since they also include non-dog predictions and predictions that the model deemed false. As an alternative we could create 3 columns, the most likely dog_breed, the model used to determine the breed and the confidence interval for the prediction.\n",
    "3. There are unneeded columns:\n",
    "- There are columns that are empty or almost nearly empty: \n",
    "    - for empty columns: \n",
    "        - tweet_from_api_copy ['geo', 'coordinates', 'contributors'] \n",
    "    - for nearly empty:\n",
    "        - tweet_from_api_copy['place'] has only 1 non null entry\n",
    "- There are columns that are duplicates:\n",
    "    - The following columns are duplicates: \n",
    "        - 'id_str', 'extended_enteties', 'in_reply_to_status_id_str', 'in_reply_to_user_id_str', 'possibly_sensitive_appealabl\n",
    "4. The following columns should be a string ['tweet_id','in_reply_to_status_id','in_reply_to_user_id']\n",
    "5. The column possibly_sensitive should be a bool.\n",
    "6. The following items in the name of dogs 'a', 'actually', 'all', 'an', 'by', 'getting', 'his', 'incredibly', 'infuriating', 'just', 'life', 'light', 'mad', 'my', 'not', 'officially', 'old', 'one', 'quite', 'space', 'such', 'the', 'this', 'unacceptable', 'very' are not names.\n",
    "7. The column source is in html format. There is a need to extract the source:\n",
    "    - Twitter for iPhone\n",
    "    - Twitter for Web Client\n",
    "    - TweetDeck\n",
    "8. The following columns have more than one value\n",
    "    - The column display_text_range is a list. \n",
    "    - The column entities is a dictionary\n",
    "    - The column user is a dictionary"
   ]
  },
  {
   "attachments": {},
   "cell_type": "markdown",
   "metadata": {
    "extensions": {
     "jupyter_dashboards": {
      "version": 1,
      "views": {
       "grid_default": {
        "col": 0,
        "height": 7,
        "hidden": false,
        "row": 40,
        "width": 12
       },
       "report_default": {
        "hidden": false
       }
      }
     }
    }
   },
   "source": [
    "### Tidiness issues\n",
    "1. There are currently three tables but they could be joined into one. twitter_archive columns ['rating_numerator', 'rating_denominator', 'name', 'doggo', 'floofer','pupper', 'puppo', 'expanded_urls'], image_prediction columns could be joined with tweet_from_api\n",
    "2. The kind of dog (doggo, floofer, pupper and puppo) should only be in one column\n",
    "e'"
   ]
  },
  {
   "cell_type": "markdown",
   "metadata": {
    "extensions": {
     "jupyter_dashboards": {
      "version": 1,
      "views": {
       "grid_default": {
        "col": 4,
        "height": 4,
        "hidden": false,
        "row": 32,
        "width": 4
       },
       "report_default": {
        "hidden": false
       }
      }
     }
    }
   },
   "source": [
    "## Cleaning Data\n",
    "In this section, clean **all** of the issues you documented while assessing. \n",
    "\n",
    "**Note:** Make a copy of the original data before cleaning. Cleaning includes merging individual pieces of data according to the rules of [tidy data](https://cran.r-project.org/web/packages/tidyr/vignettes/tidy-data.html). The result should be a high-quality and tidy master pandas DataFrame (or DataFrames, if appropriate)."
   ]
  },
  {
   "cell_type": "code",
   "execution_count": 285,
   "metadata": {},
   "outputs": [],
   "source": [
    "# Make copies of original pieces of data\n",
    "twitter_archive_copy = twitter_archive.copy()\n",
    "tweet_from_api_copy = tweet_from_api.copy()\n",
    "image_predictions_copy = image_predictions.copy()"
   ]
  },
  {
   "cell_type": "code",
   "execution_count": 286,
   "metadata": {},
   "outputs": [],
   "source": [
    "# To start, rename the column id in tweet_from_api to be the same with the other tables\n",
    "tweet_from_api_copy.rename({'id':'tweet_id'}, axis=1, inplace=True)"
   ]
  },
  {
   "attachments": {},
   "cell_type": "markdown",
   "metadata": {},
   "source": [
    "### Issue #1: The current tables still have retweets. There are 159 retweets from the tweet_from_api table and 181 tweets from twitter_archive."
   ]
  },
  {
   "cell_type": "markdown",
   "metadata": {
    "collapsed": true,
    "extensions": {
     "jupyter_dashboards": {
      "version": 1,
      "views": {
       "grid_default": {
        "hidden": true
       },
       "report_default": {
        "hidden": true
       }
      }
     }
    }
   },
   "source": [
    "#### Define"
   ]
  },
  {
   "cell_type": "markdown",
   "metadata": {},
   "source": [
    "1. Get a list of tweet_id of retweets from table1 and table 2\n",
    "2. Using that list filter table1,table2,table3"
   ]
  },
  {
   "cell_type": "markdown",
   "metadata": {},
   "source": [
    "#### Code"
   ]
  },
  {
   "cell_type": "code",
   "execution_count": 287,
   "metadata": {},
   "outputs": [
    {
     "name": "stdout",
     "output_type": "stream",
     "text": [
      "181\n",
      "222\n",
      "181\n"
     ]
    }
   ],
   "source": [
    "# Get the tweet_id of the retweets in twitter_archive_copy by looking at the rows that have retweeted_status_id\n",
    "tweet_ids = twitter_archive_copy[twitter_archive_copy['retweeted_status_id'].notnull()]['tweet_id'].unique()\n",
    "print(len(tweet_ids))\n",
    "# Append the tweet_id of the retweets in tweet_from_api_copy by looking at the rows that have retweeted_status_id\n",
    "tweet_ids = np.append(tweet_ids,tweet_from_api_copy[tweet_from_api_copy['retweeted_status'].notnull()]['tweet_id'].unique())\n",
    "print(len(tweet_ids))\n",
    "# Remove duplicate tweet_ids\n",
    "tweet_ids = set(tweet_ids)\n",
    "print(len(tweet_ids))"
   ]
  },
  {
   "cell_type": "code",
   "execution_count": 288,
   "metadata": {},
   "outputs": [],
   "source": [
    "# Filter the three tables using the tweet_ids\n",
    "twitter_archive_copy = twitter_archive_copy[~twitter_archive_copy['tweet_id'].isin(tweet_ids)]\n",
    "tweet_from_api_copy = tweet_from_api_copy[~tweet_from_api_copy['tweet_id'].isin(tweet_ids)]\n",
    "image_predictions_copy = image_predictions_copy[~image_predictions_copy['tweet_id'].isin(tweet_ids)]"
   ]
  },
  {
   "cell_type": "markdown",
   "metadata": {},
   "source": [
    "#### Test"
   ]
  },
  {
   "cell_type": "code",
   "execution_count": 289,
   "metadata": {},
   "outputs": [
    {
     "name": "stdout",
     "output_type": "stream",
     "text": [
      "The number of rows of the different tables:\n",
      "twitter_archive_copy: 2175\n",
      "tweet_from_api_copy: 294\n",
      "image_predictions_copy: 1994\n"
     ]
    }
   ],
   "source": [
    "# Check the size of the different tables\n",
    "print(f\"The number of rows of the different tables:\\ntwitter_archive_copy: {twitter_archive_copy['tweet_id'].size}\\ntweet_from_api_copy: {tweet_from_api_copy['tweet_id'].size}\\nimage_predictions_copy: {image_predictions_copy['tweet_id'].size}\")"
   ]
  },
  {
   "attachments": {},
   "cell_type": "markdown",
   "metadata": {},
   "source": [
    "### Issue #2: There are unneeded columns:\n",
    "- There are columns that are empty or almost nearly empty: \n",
    "    - for empty columns: \n",
    "        - tweet_from_api_copy ['geo', 'coordinates', 'contributors'] \n",
    "    - for nearly empty:\n",
    "        - tweet_from_api_copy['place'] has only 1 non null entry\n",
    "- There are columns that are duplicates:\n",
    "    - The following columns are duplicates: \n",
    "        - 'id_str', 'extended_enteties', 'in_reply_to_status_id_str', 'in_reply_to_user_id_str', 'possibly_sensitive_appealable'"
   ]
  },
  {
   "cell_type": "markdown",
   "metadata": {},
   "source": [
    "#### Define"
   ]
  },
  {
   "attachments": {},
   "cell_type": "markdown",
   "metadata": {},
   "source": [
    "* Use dropna function to drop columns that have at most 1 non null entry\n",
    "* Drop the following columns:\n",
    "['id_str', 'extended_enteties', 'in_reply_to_status_id_str', 'in_reply_to_user_id_str', 'possibly_sensitive_appealable']"
   ]
  },
  {
   "cell_type": "markdown",
   "metadata": {},
   "source": [
    "#### Code"
   ]
  },
  {
   "cell_type": "code",
   "execution_count": 290,
   "metadata": {},
   "outputs": [],
   "source": [
    "# Use dropna function to drop columns that have at most 1 non null entry\n",
    "twitter_archive_copy.dropna(axis=1,thresh=2,inplace=True)\n",
    "tweet_from_api_copy.dropna(axis=1,thresh=2,inplace=True)"
   ]
  },
  {
   "cell_type": "code",
   "execution_count": 291,
   "metadata": {},
   "outputs": [],
   "source": [
    "# Use the drop function\n",
    "tweet_from_api_copy = tweet_from_api_copy.drop(columns=['id_str', 'extended_entities', 'in_reply_to_status_id_str', 'in_reply_to_user_id_str', 'possibly_sensitive_appealable'])"
   ]
  },
  {
   "cell_type": "markdown",
   "metadata": {},
   "source": [
    "#### Test"
   ]
  },
  {
   "cell_type": "code",
   "execution_count": 292,
   "metadata": {},
   "outputs": [
    {
     "name": "stdout",
     "output_type": "stream",
     "text": [
      "Column names:\n",
      "table_archive_copy:\n",
      "Index(['tweet_id', 'in_reply_to_status_id', 'in_reply_to_user_id', 'timestamp',\n",
      "       'source', 'text', 'expanded_urls', 'rating_numerator',\n",
      "       'rating_denominator', 'name', 'doggo', 'floofer', 'pupper', 'puppo'],\n",
      "      dtype='object')\n",
      "Table2:\n",
      "Index(['created_at', 'tweet_id', 'full_text', 'truncated',\n",
      "       'display_text_range', 'entities', 'source', 'in_reply_to_status_id',\n",
      "       'in_reply_to_user_id', 'in_reply_to_screen_name', 'user',\n",
      "       'is_quote_status', 'retweet_count', 'favorite_count', 'favorited',\n",
      "       'retweeted', 'possibly_sensitive', 'lang', 'quoted_status_id',\n",
      "       'quoted_status_id_str', 'quoted_status_permalink', 'quoted_status'],\n",
      "      dtype='object')\n"
     ]
    }
   ],
   "source": [
    "# Check the columns names from table_archive_copy and tweet_from_api_copy\n",
    "print(f'Column names:\\ntable_archive_copy:\\n{twitter_archive_copy.columns}\\nTable2:\\n{tweet_from_api_copy.columns}')"
   ]
  },
  {
   "cell_type": "code",
   "execution_count": 293,
   "metadata": {},
   "outputs": [
    {
     "name": "stdout",
     "output_type": "stream",
     "text": [
      "'id_str', 'extended_entities', 'in_reply_to_status_id_str', 'in_reply_to_user_id_str', 'possibly_sensitive_appealable' are no longer in the dataframe.\n",
      "\n"
     ]
    }
   ],
   "source": [
    "# Try to print if the deleted columns are still in the dataframe\n",
    "try:\n",
    "    print(dog_rating_tweets[['id_str', 'extended_entities', 'in_reply_to_status_id_str', 'in_reply_to_user_id_str', 'possibly_sensitive_appealable']])\n",
    "except:\n",
    "    print(\"'id_str', 'extended_entities', 'in_reply_to_status_id_str', 'in_reply_to_user_id_str', 'possibly_sensitive_appealable' are no longer in the dataframe.\\n\")"
   ]
  },
  {
   "attachments": {},
   "cell_type": "markdown",
   "metadata": {},
   "source": [
    "### Issue #3: There are currently three tables but they could be joined into one. twitter_archive columns ['rating_numerator', 'rating_denominator', 'name', 'doggo', 'floofer','pupper', 'puppo', 'expanded_urls'], image_prediction columns could be joined with tweet_from_api"
   ]
  },
  {
   "cell_type": "markdown",
   "metadata": {},
   "source": [
    "#### Define"
   ]
  },
  {
   "cell_type": "markdown",
   "metadata": {},
   "source": [
    "1. Select the columns: ['tweet_id','expanded_urls','rating numerator', 'rating denominator', 'name', 'doggo', 'floofer','pupper', 'puppo'] from the twitter_archive_copy\n",
    "2. Merge through left join tweeter_archive_copy and image_predictions_copy with tweet_from_api by tweet_id to form a unified dataframe named dog_rating_tweets"
   ]
  },
  {
   "cell_type": "markdown",
   "metadata": {},
   "source": [
    "#### Code"
   ]
  },
  {
   "cell_type": "code",
   "execution_count": 294,
   "metadata": {},
   "outputs": [],
   "source": [
    "# Select the columns: ['tweet_id','expanded_urls','rating numerator', 'rating denominator', 'name', 'doggo', 'floofer','pupper', 'puppo'] from the twitter_archive_copy\n",
    "twitter_archive_copy = twitter_archive_copy[['tweet_id','expanded_urls','rating_numerator', 'rating_denominator', 'name', 'doggo', 'floofer','pupper', 'puppo']]"
   ]
  },
  {
   "cell_type": "code",
   "execution_count": 295,
   "metadata": {},
   "outputs": [],
   "source": [
    "# Merge through left join tweeter_archive_copy and image_predictions_copy with tweet_from_api by tweet_id to form a unified dataframe named dog_rating_tweets\n",
    "dog_rating_tweets = tweet_from_api_copy.merge(twitter_archive_copy, how='left', on='tweet_id').merge(image_predictions_copy, how='left', on='tweet_id')"
   ]
  },
  {
   "cell_type": "markdown",
   "metadata": {},
   "source": [
    "#### Test"
   ]
  },
  {
   "cell_type": "code",
   "execution_count": 296,
   "metadata": {},
   "outputs": [
    {
     "data": {
      "text/html": [
       "<div>\n",
       "<style scoped>\n",
       "    .dataframe tbody tr th:only-of-type {\n",
       "        vertical-align: middle;\n",
       "    }\n",
       "\n",
       "    .dataframe tbody tr th {\n",
       "        vertical-align: top;\n",
       "    }\n",
       "\n",
       "    .dataframe thead th {\n",
       "        text-align: right;\n",
       "    }\n",
       "</style>\n",
       "<table border=\"1\" class=\"dataframe\">\n",
       "  <thead>\n",
       "    <tr style=\"text-align: right;\">\n",
       "      <th></th>\n",
       "      <th>created_at</th>\n",
       "      <th>tweet_id</th>\n",
       "      <th>full_text</th>\n",
       "      <th>truncated</th>\n",
       "      <th>display_text_range</th>\n",
       "      <th>entities</th>\n",
       "      <th>source</th>\n",
       "      <th>in_reply_to_status_id</th>\n",
       "      <th>in_reply_to_user_id</th>\n",
       "      <th>in_reply_to_screen_name</th>\n",
       "      <th>...</th>\n",
       "      <th>img_num</th>\n",
       "      <th>p1</th>\n",
       "      <th>p1_conf</th>\n",
       "      <th>p1_dog</th>\n",
       "      <th>p2</th>\n",
       "      <th>p2_conf</th>\n",
       "      <th>p2_dog</th>\n",
       "      <th>p3</th>\n",
       "      <th>p3_conf</th>\n",
       "      <th>p3_dog</th>\n",
       "    </tr>\n",
       "  </thead>\n",
       "  <tbody>\n",
       "    <tr>\n",
       "      <th>0</th>\n",
       "      <td>2017-08-01 16:23:56+00:00</td>\n",
       "      <td>892420643555336193</td>\n",
       "      <td>This is Phineas. He's a mystical boy. Only eve...</td>\n",
       "      <td>False</td>\n",
       "      <td>[0, 85]</td>\n",
       "      <td>{'hashtags': [], 'symbols': [], 'user_mentions...</td>\n",
       "      <td>&lt;a href=\"http://twitter.com/download/iphone\" r...</td>\n",
       "      <td>NaN</td>\n",
       "      <td>NaN</td>\n",
       "      <td>None</td>\n",
       "      <td>...</td>\n",
       "      <td>1.0</td>\n",
       "      <td>orange</td>\n",
       "      <td>0.097049</td>\n",
       "      <td>False</td>\n",
       "      <td>bagel</td>\n",
       "      <td>0.085851</td>\n",
       "      <td>False</td>\n",
       "      <td>banana</td>\n",
       "      <td>0.076110</td>\n",
       "      <td>False</td>\n",
       "    </tr>\n",
       "    <tr>\n",
       "      <th>1</th>\n",
       "      <td>2017-08-01 00:17:27+00:00</td>\n",
       "      <td>892177421306343426</td>\n",
       "      <td>This is Tilly. She's just checking pup on you....</td>\n",
       "      <td>False</td>\n",
       "      <td>[0, 138]</td>\n",
       "      <td>{'hashtags': [], 'symbols': [], 'user_mentions...</td>\n",
       "      <td>&lt;a href=\"http://twitter.com/download/iphone\" r...</td>\n",
       "      <td>NaN</td>\n",
       "      <td>NaN</td>\n",
       "      <td>None</td>\n",
       "      <td>...</td>\n",
       "      <td>1.0</td>\n",
       "      <td>Chihuahua</td>\n",
       "      <td>0.323581</td>\n",
       "      <td>True</td>\n",
       "      <td>Pekinese</td>\n",
       "      <td>0.090647</td>\n",
       "      <td>True</td>\n",
       "      <td>papillon</td>\n",
       "      <td>0.068957</td>\n",
       "      <td>True</td>\n",
       "    </tr>\n",
       "    <tr>\n",
       "      <th>2</th>\n",
       "      <td>2017-07-31 00:18:03+00:00</td>\n",
       "      <td>891815181378084864</td>\n",
       "      <td>This is Archie. He is a rare Norwegian Pouncin...</td>\n",
       "      <td>False</td>\n",
       "      <td>[0, 121]</td>\n",
       "      <td>{'hashtags': [], 'symbols': [], 'user_mentions...</td>\n",
       "      <td>&lt;a href=\"http://twitter.com/download/iphone\" r...</td>\n",
       "      <td>NaN</td>\n",
       "      <td>NaN</td>\n",
       "      <td>None</td>\n",
       "      <td>...</td>\n",
       "      <td>1.0</td>\n",
       "      <td>Chihuahua</td>\n",
       "      <td>0.716012</td>\n",
       "      <td>True</td>\n",
       "      <td>malamute</td>\n",
       "      <td>0.078253</td>\n",
       "      <td>True</td>\n",
       "      <td>kelpie</td>\n",
       "      <td>0.031379</td>\n",
       "      <td>True</td>\n",
       "    </tr>\n",
       "    <tr>\n",
       "      <th>3</th>\n",
       "      <td>2017-07-30 15:58:51+00:00</td>\n",
       "      <td>891689557279858688</td>\n",
       "      <td>This is Darla. She commenced a snooze mid meal...</td>\n",
       "      <td>False</td>\n",
       "      <td>[0, 79]</td>\n",
       "      <td>{'hashtags': [], 'symbols': [], 'user_mentions...</td>\n",
       "      <td>&lt;a href=\"http://twitter.com/download/iphone\" r...</td>\n",
       "      <td>NaN</td>\n",
       "      <td>NaN</td>\n",
       "      <td>None</td>\n",
       "      <td>...</td>\n",
       "      <td>1.0</td>\n",
       "      <td>paper_towel</td>\n",
       "      <td>0.170278</td>\n",
       "      <td>False</td>\n",
       "      <td>Labrador_retriever</td>\n",
       "      <td>0.168086</td>\n",
       "      <td>True</td>\n",
       "      <td>spatula</td>\n",
       "      <td>0.040836</td>\n",
       "      <td>False</td>\n",
       "    </tr>\n",
       "    <tr>\n",
       "      <th>4</th>\n",
       "      <td>2017-07-29 16:00:24+00:00</td>\n",
       "      <td>891327558926688256</td>\n",
       "      <td>This is Franklin. He would like you to stop ca...</td>\n",
       "      <td>False</td>\n",
       "      <td>[0, 138]</td>\n",
       "      <td>{'hashtags': [{'text': 'BarkWeek', 'indices': ...</td>\n",
       "      <td>&lt;a href=\"http://twitter.com/download/iphone\" r...</td>\n",
       "      <td>NaN</td>\n",
       "      <td>NaN</td>\n",
       "      <td>None</td>\n",
       "      <td>...</td>\n",
       "      <td>2.0</td>\n",
       "      <td>basset</td>\n",
       "      <td>0.555712</td>\n",
       "      <td>True</td>\n",
       "      <td>English_springer</td>\n",
       "      <td>0.225770</td>\n",
       "      <td>True</td>\n",
       "      <td>German_short-haired_pointer</td>\n",
       "      <td>0.175219</td>\n",
       "      <td>True</td>\n",
       "    </tr>\n",
       "    <tr>\n",
       "      <th>...</th>\n",
       "      <td>...</td>\n",
       "      <td>...</td>\n",
       "      <td>...</td>\n",
       "      <td>...</td>\n",
       "      <td>...</td>\n",
       "      <td>...</td>\n",
       "      <td>...</td>\n",
       "      <td>...</td>\n",
       "      <td>...</td>\n",
       "      <td>...</td>\n",
       "      <td>...</td>\n",
       "      <td>...</td>\n",
       "      <td>...</td>\n",
       "      <td>...</td>\n",
       "      <td>...</td>\n",
       "      <td>...</td>\n",
       "      <td>...</td>\n",
       "      <td>...</td>\n",
       "      <td>...</td>\n",
       "      <td>...</td>\n",
       "      <td>...</td>\n",
       "    </tr>\n",
       "    <tr>\n",
       "      <th>289</th>\n",
       "      <td>2017-02-15 01:04:21+00:00</td>\n",
       "      <td>831670449226514432</td>\n",
       "      <td>This is Daisy. She has a heart on her butt. 13...</td>\n",
       "      <td>False</td>\n",
       "      <td>[0, 60]</td>\n",
       "      <td>{'hashtags': [], 'symbols': [], 'user_mentions...</td>\n",
       "      <td>&lt;a href=\"http://twitter.com/download/iphone\" r...</td>\n",
       "      <td>NaN</td>\n",
       "      <td>NaN</td>\n",
       "      <td>None</td>\n",
       "      <td>...</td>\n",
       "      <td>1.0</td>\n",
       "      <td>Pembroke</td>\n",
       "      <td>0.624802</td>\n",
       "      <td>True</td>\n",
       "      <td>Cardigan</td>\n",
       "      <td>0.362861</td>\n",
       "      <td>True</td>\n",
       "      <td>Appenzeller</td>\n",
       "      <td>0.003926</td>\n",
       "      <td>True</td>\n",
       "    </tr>\n",
       "    <tr>\n",
       "      <th>290</th>\n",
       "      <td>2017-02-14 23:43:18+00:00</td>\n",
       "      <td>831650051525054464</td>\n",
       "      <td>I usually only share these on Friday's, but th...</td>\n",
       "      <td>False</td>\n",
       "      <td>[0, 138]</td>\n",
       "      <td>{'hashtags': [], 'symbols': [], 'user_mentions...</td>\n",
       "      <td>&lt;a href=\"http://twitter.com/download/iphone\" r...</td>\n",
       "      <td>NaN</td>\n",
       "      <td>NaN</td>\n",
       "      <td>None</td>\n",
       "      <td>...</td>\n",
       "      <td>1.0</td>\n",
       "      <td>Eskimo_dog</td>\n",
       "      <td>0.530416</td>\n",
       "      <td>True</td>\n",
       "      <td>Siberian_husky</td>\n",
       "      <td>0.180335</td>\n",
       "      <td>True</td>\n",
       "      <td>Norwegian_elkhound</td>\n",
       "      <td>0.104314</td>\n",
       "      <td>True</td>\n",
       "    </tr>\n",
       "    <tr>\n",
       "      <th>291</th>\n",
       "      <td>2017-02-14 17:17:22+00:00</td>\n",
       "      <td>831552930092285952</td>\n",
       "      <td>This is Dutch. He dressed up as his favorite e...</td>\n",
       "      <td>False</td>\n",
       "      <td>[0, 117]</td>\n",
       "      <td>{'hashtags': [], 'symbols': [], 'user_mentions...</td>\n",
       "      <td>&lt;a href=\"http://twitter.com/download/iphone\" r...</td>\n",
       "      <td>NaN</td>\n",
       "      <td>NaN</td>\n",
       "      <td>None</td>\n",
       "      <td>...</td>\n",
       "      <td>1.0</td>\n",
       "      <td>Chihuahua</td>\n",
       "      <td>0.257415</td>\n",
       "      <td>True</td>\n",
       "      <td>Pembroke</td>\n",
       "      <td>0.161442</td>\n",
       "      <td>True</td>\n",
       "      <td>French_bulldog</td>\n",
       "      <td>0.092143</td>\n",
       "      <td>True</td>\n",
       "    </tr>\n",
       "    <tr>\n",
       "      <th>292</th>\n",
       "      <td>2017-02-14 02:02:51+00:00</td>\n",
       "      <td>831322785565769729</td>\n",
       "      <td>This is Pete. He has no eyes. Needs a guide do...</td>\n",
       "      <td>False</td>\n",
       "      <td>[0, 116]</td>\n",
       "      <td>{'hashtags': [], 'symbols': [], 'user_mentions...</td>\n",
       "      <td>&lt;a href=\"http://twitter.com/download/iphone\" r...</td>\n",
       "      <td>NaN</td>\n",
       "      <td>NaN</td>\n",
       "      <td>None</td>\n",
       "      <td>...</td>\n",
       "      <td>1.0</td>\n",
       "      <td>Old_English_sheepdog</td>\n",
       "      <td>0.999715</td>\n",
       "      <td>True</td>\n",
       "      <td>Tibetan_terrier</td>\n",
       "      <td>0.000046</td>\n",
       "      <td>True</td>\n",
       "      <td>guinea_pig</td>\n",
       "      <td>0.000041</td>\n",
       "      <td>False</td>\n",
       "    </tr>\n",
       "    <tr>\n",
       "      <th>293</th>\n",
       "      <td>2017-02-14 01:35:49+00:00</td>\n",
       "      <td>831315979191906304</td>\n",
       "      <td>I couldn't make it to the #WKCDogShow BUT I ha...</td>\n",
       "      <td>False</td>\n",
       "      <td>[0, 134]</td>\n",
       "      <td>{'hashtags': [{'text': 'WKCDogShow', 'indices'...</td>\n",
       "      <td>&lt;a href=\"http://twitter.com\" rel=\"nofollow\"&gt;Tw...</td>\n",
       "      <td>NaN</td>\n",
       "      <td>NaN</td>\n",
       "      <td>None</td>\n",
       "      <td>...</td>\n",
       "      <td>4.0</td>\n",
       "      <td>briard</td>\n",
       "      <td>0.982755</td>\n",
       "      <td>True</td>\n",
       "      <td>soft-coated_wheaten_terrier</td>\n",
       "      <td>0.009084</td>\n",
       "      <td>True</td>\n",
       "      <td>Bouvier_des_Flandres</td>\n",
       "      <td>0.004693</td>\n",
       "      <td>True</td>\n",
       "    </tr>\n",
       "  </tbody>\n",
       "</table>\n",
       "<p>294 rows × 41 columns</p>\n",
       "</div>"
      ],
      "text/plain": [
       "                   created_at            tweet_id  \\\n",
       "0   2017-08-01 16:23:56+00:00  892420643555336193   \n",
       "1   2017-08-01 00:17:27+00:00  892177421306343426   \n",
       "2   2017-07-31 00:18:03+00:00  891815181378084864   \n",
       "3   2017-07-30 15:58:51+00:00  891689557279858688   \n",
       "4   2017-07-29 16:00:24+00:00  891327558926688256   \n",
       "..                        ...                 ...   \n",
       "289 2017-02-15 01:04:21+00:00  831670449226514432   \n",
       "290 2017-02-14 23:43:18+00:00  831650051525054464   \n",
       "291 2017-02-14 17:17:22+00:00  831552930092285952   \n",
       "292 2017-02-14 02:02:51+00:00  831322785565769729   \n",
       "293 2017-02-14 01:35:49+00:00  831315979191906304   \n",
       "\n",
       "                                             full_text  truncated  \\\n",
       "0    This is Phineas. He's a mystical boy. Only eve...      False   \n",
       "1    This is Tilly. She's just checking pup on you....      False   \n",
       "2    This is Archie. He is a rare Norwegian Pouncin...      False   \n",
       "3    This is Darla. She commenced a snooze mid meal...      False   \n",
       "4    This is Franklin. He would like you to stop ca...      False   \n",
       "..                                                 ...        ...   \n",
       "289  This is Daisy. She has a heart on her butt. 13...      False   \n",
       "290  I usually only share these on Friday's, but th...      False   \n",
       "291  This is Dutch. He dressed up as his favorite e...      False   \n",
       "292  This is Pete. He has no eyes. Needs a guide do...      False   \n",
       "293  I couldn't make it to the #WKCDogShow BUT I ha...      False   \n",
       "\n",
       "    display_text_range                                           entities  \\\n",
       "0              [0, 85]  {'hashtags': [], 'symbols': [], 'user_mentions...   \n",
       "1             [0, 138]  {'hashtags': [], 'symbols': [], 'user_mentions...   \n",
       "2             [0, 121]  {'hashtags': [], 'symbols': [], 'user_mentions...   \n",
       "3              [0, 79]  {'hashtags': [], 'symbols': [], 'user_mentions...   \n",
       "4             [0, 138]  {'hashtags': [{'text': 'BarkWeek', 'indices': ...   \n",
       "..                 ...                                                ...   \n",
       "289            [0, 60]  {'hashtags': [], 'symbols': [], 'user_mentions...   \n",
       "290           [0, 138]  {'hashtags': [], 'symbols': [], 'user_mentions...   \n",
       "291           [0, 117]  {'hashtags': [], 'symbols': [], 'user_mentions...   \n",
       "292           [0, 116]  {'hashtags': [], 'symbols': [], 'user_mentions...   \n",
       "293           [0, 134]  {'hashtags': [{'text': 'WKCDogShow', 'indices'...   \n",
       "\n",
       "                                                source  in_reply_to_status_id  \\\n",
       "0    <a href=\"http://twitter.com/download/iphone\" r...                    NaN   \n",
       "1    <a href=\"http://twitter.com/download/iphone\" r...                    NaN   \n",
       "2    <a href=\"http://twitter.com/download/iphone\" r...                    NaN   \n",
       "3    <a href=\"http://twitter.com/download/iphone\" r...                    NaN   \n",
       "4    <a href=\"http://twitter.com/download/iphone\" r...                    NaN   \n",
       "..                                                 ...                    ...   \n",
       "289  <a href=\"http://twitter.com/download/iphone\" r...                    NaN   \n",
       "290  <a href=\"http://twitter.com/download/iphone\" r...                    NaN   \n",
       "291  <a href=\"http://twitter.com/download/iphone\" r...                    NaN   \n",
       "292  <a href=\"http://twitter.com/download/iphone\" r...                    NaN   \n",
       "293  <a href=\"http://twitter.com\" rel=\"nofollow\">Tw...                    NaN   \n",
       "\n",
       "     in_reply_to_user_id in_reply_to_screen_name  ... img_num  \\\n",
       "0                    NaN                    None  ...     1.0   \n",
       "1                    NaN                    None  ...     1.0   \n",
       "2                    NaN                    None  ...     1.0   \n",
       "3                    NaN                    None  ...     1.0   \n",
       "4                    NaN                    None  ...     2.0   \n",
       "..                   ...                     ...  ...     ...   \n",
       "289                  NaN                    None  ...     1.0   \n",
       "290                  NaN                    None  ...     1.0   \n",
       "291                  NaN                    None  ...     1.0   \n",
       "292                  NaN                    None  ...     1.0   \n",
       "293                  NaN                    None  ...     4.0   \n",
       "\n",
       "                       p1   p1_conf  p1_dog                           p2  \\\n",
       "0                  orange  0.097049   False                        bagel   \n",
       "1               Chihuahua  0.323581    True                     Pekinese   \n",
       "2               Chihuahua  0.716012    True                     malamute   \n",
       "3             paper_towel  0.170278   False           Labrador_retriever   \n",
       "4                  basset  0.555712    True             English_springer   \n",
       "..                    ...       ...     ...                          ...   \n",
       "289              Pembroke  0.624802    True                     Cardigan   \n",
       "290            Eskimo_dog  0.530416    True               Siberian_husky   \n",
       "291             Chihuahua  0.257415    True                     Pembroke   \n",
       "292  Old_English_sheepdog  0.999715    True              Tibetan_terrier   \n",
       "293                briard  0.982755    True  soft-coated_wheaten_terrier   \n",
       "\n",
       "      p2_conf  p2_dog                           p3   p3_conf  p3_dog  \n",
       "0    0.085851   False                       banana  0.076110   False  \n",
       "1    0.090647    True                     papillon  0.068957    True  \n",
       "2    0.078253    True                       kelpie  0.031379    True  \n",
       "3    0.168086    True                      spatula  0.040836   False  \n",
       "4    0.225770    True  German_short-haired_pointer  0.175219    True  \n",
       "..        ...     ...                          ...       ...     ...  \n",
       "289  0.362861    True                  Appenzeller  0.003926    True  \n",
       "290  0.180335    True           Norwegian_elkhound  0.104314    True  \n",
       "291  0.161442    True               French_bulldog  0.092143    True  \n",
       "292  0.000046    True                   guinea_pig  0.000041   False  \n",
       "293  0.009084    True         Bouvier_des_Flandres  0.004693    True  \n",
       "\n",
       "[294 rows x 41 columns]"
      ]
     },
     "execution_count": 296,
     "metadata": {},
     "output_type": "execute_result"
    }
   ],
   "source": [
    "dog_rating_tweets"
   ]
  },
  {
   "attachments": {},
   "cell_type": "markdown",
   "metadata": {},
   "source": [
    "### Issue #4: The kind of dog (doggo, floofer, pupper and puppo) should only be in one column"
   ]
  },
  {
   "cell_type": "markdown",
   "metadata": {},
   "source": [
    "#### Define"
   ]
  },
  {
   "cell_type": "markdown",
   "metadata": {},
   "source": [
    "1. Replace 'None' in the columns doggo, floofer, pupper and puppo to null values\n",
    "2. Create a column dog_category that will join the text from the four columns\n",
    "3. Change the blank values in the dog_kind to uncategorized\n",
    "4. Delete columns doggo, floofer, pupper, and puppo"
   ]
  },
  {
   "cell_type": "markdown",
   "metadata": {},
   "source": [
    "#### Code"
   ]
  },
  {
   "cell_type": "code",
   "execution_count": 297,
   "metadata": {},
   "outputs": [],
   "source": [
    "# Replace 'None' in the columns doggo, floofer, pupper and puppo to null values\n",
    "dog_rating_tweets['doggo']=dog_rating_tweets['doggo'].replace('None',np.nan)\n",
    "dog_rating_tweets['floofer']=dog_rating_tweets['floofer'].replace('None',np.nan)\n",
    "dog_rating_tweets['pupper']=dog_rating_tweets['pupper'].replace('None',np.nan)\n",
    "dog_rating_tweets['puppo']=dog_rating_tweets['puppo'].replace('None',np.nan)"
   ]
  },
  {
   "cell_type": "code",
   "execution_count": 298,
   "metadata": {},
   "outputs": [
    {
     "data": {
      "text/plain": [
       "array(['uncategorized', 'doggo', 'puppo', 'pupper', 'floofer',\n",
       "       'doggo_puppo', 'doggo_floofer'], dtype=object)"
      ]
     },
     "execution_count": 298,
     "metadata": {},
     "output_type": "execute_result"
    }
   ],
   "source": [
    "# Create a column dog_category that will join the text from the four column\n",
    "dog_rating_tweets['dog_category']=dog_rating_tweets[['doggo','floofer','pupper','puppo']].apply(lambda x: '_'.join(x.dropna().astype(str)), axis=1)\n",
    "# Change the blank values in the dog_kind to uncategorized\n",
    "dog_rating_tweets['dog_category']=dog_rating_tweets['dog_category'].replace('','uncategorized')\n",
    "dog_rating_tweets['dog_category'].unique()"
   ]
  },
  {
   "cell_type": "code",
   "execution_count": 299,
   "metadata": {},
   "outputs": [],
   "source": [
    "# Delete columns doggo, floofer, pupper, and puppo\n",
    "dog_rating_tweets = dog_rating_tweets.drop(columns=['doggo','floofer','pupper','pupper','puppo'])"
   ]
  },
  {
   "cell_type": "markdown",
   "metadata": {},
   "source": [
    "#### Test"
   ]
  },
  {
   "cell_type": "code",
   "execution_count": 300,
   "metadata": {},
   "outputs": [
    {
     "data": {
      "text/plain": [
       "array(['uncategorized', 'doggo', 'puppo', 'pupper', 'floofer',\n",
       "       'doggo_puppo', 'doggo_floofer'], dtype=object)"
      ]
     },
     "execution_count": 300,
     "metadata": {},
     "output_type": "execute_result"
    }
   ],
   "source": [
    "dog_rating_tweets['dog_category'].unique()"
   ]
  },
  {
   "attachments": {},
   "cell_type": "markdown",
   "metadata": {},
   "source": [
    "### Issue #5: The columns p1, p2, p3, p1_dog, p2_dog, p3_dog, p1_conf, p2_cof, p3_conf though giving a lot of information regarding the models used and the predictions, it is hard to see what dog breed the dog is most likely to be since they also include non-dog predictions and predictions that the model deemed false. As an alternative we could create 3 columns, the most likely dog_breed, the model used to determine the breed and the confidence interval for the prediction."
   ]
  },
  {
   "cell_type": "markdown",
   "metadata": {},
   "source": [
    "#### Define"
   ]
  },
  {
   "attachments": {},
   "cell_type": "markdown",
   "metadata": {},
   "source": [
    "1. Create a column named model_used that would check from the columns p1_dog, p2_dog and p3_dog the first true. if it is p1_dog then 'model 1', if p2_dog then 'model 2', if p3_dog then 'model 3' else 'none'\n",
    "2. For the dog_breed, it would check the column model_used if it is 'model 1' then the value will be of p1, for 'model 2' will be of p2, for 'model 3' will be for p3 and for 'none' 'unknown'\n",
    "3. For the conf, it would check the column model_used if it is 'model 1' then the value will be of p1_conf, for 'model 2' will be of p2_conf, for 'model 3' will be for p3_conf and for 'none' null\n",
    "4. Create a dataframe from columns tweet_id, p1, p2, p3, p1_dog, p2_dog, p3_dog, p1_conf, p2_conf and p3_conf and save it to csv \n",
    "5. Remove the columns p1, p2, p3, p1_dog, p2_dog, p3_dog, p1_conf, p2_conf, p3_conf"
   ]
  },
  {
   "cell_type": "markdown",
   "metadata": {},
   "source": [
    "#### Code"
   ]
  },
  {
   "cell_type": "code",
   "execution_count": 301,
   "metadata": {},
   "outputs": [],
   "source": [
    "# Function that would check from the columns p1_dog, p2_dog and p3_dog the first true. if it is p1_dog then 'model 1', if p2_dog then 'model 2', if p3_dog then 'model 3' else 'none'\n",
    "def select_model(row):\n",
    "    if row['p1_dog']==True:\n",
    "        return 'model 1'\n",
    "    elif row['p2_dog']==True:\n",
    "        return 'model 2'\n",
    "    elif row['p3_dog']==True:\n",
    "        return 'model 3'\n",
    "    else:\n",
    "        return 'none'\n"
   ]
  },
  {
   "cell_type": "code",
   "execution_count": 302,
   "metadata": {},
   "outputs": [],
   "source": [
    "# Create a column named model_used and run the select_model function\n",
    "dog_rating_tweets['model'] = dog_rating_tweets.apply(lambda row: select_model(row), axis=1)"
   ]
  },
  {
   "cell_type": "code",
   "execution_count": 303,
   "metadata": {},
   "outputs": [],
   "source": [
    "# Function that would check the column model_used if it is 'model 1' then the value will be of p1, for 'model 2' will be of p2, for 'model 3' will be for p3 and for 'none' 'unknown'\n",
    "def find_breed(row):\n",
    "    if row['model']=='model 1':\n",
    "        return row['p1'].lower()\n",
    "    elif row['model']=='model 2':\n",
    "        return row['p2'].lower()\n",
    "    elif row['model']=='model 3':\n",
    "        return row['p3'].lower()\n",
    "    else:\n",
    "        return 'unknown'"
   ]
  },
  {
   "cell_type": "code",
   "execution_count": 304,
   "metadata": {},
   "outputs": [],
   "source": [
    "# Create a column named dog_breed and run the find_breed function\n",
    "dog_rating_tweets['dog_breed'] = dog_rating_tweets.apply(lambda row: find_breed(row), axis=1)"
   ]
  },
  {
   "cell_type": "code",
   "execution_count": 305,
   "metadata": {},
   "outputs": [],
   "source": [
    "# Function that would check the column model_used if it is 'model 1' then the value will be of p1_conf, for 'model 2' will be of p2_conf, for 'model 3' will be for p3_conf and for 'none' null\n",
    "def get_conf(row):\n",
    "    if row['model']=='model 1':\n",
    "        return row['p1_conf']\n",
    "    elif row['model']=='model 2':\n",
    "        return row['p2_conf']\n",
    "    elif row['model']=='model 3':\n",
    "        return row['p3_conf']\n",
    "    else:\n",
    "        return np.nan"
   ]
  },
  {
   "cell_type": "code",
   "execution_count": 306,
   "metadata": {},
   "outputs": [],
   "source": [
    "# Create a column named conf and run the get_conf function\n",
    "dog_rating_tweets['conf'] = dog_rating_tweets.apply(lambda row: get_conf(row), axis=1)"
   ]
  },
  {
   "cell_type": "code",
   "execution_count": 307,
   "metadata": {},
   "outputs": [],
   "source": [
    "# Create a dataframe from columns tweet_id, p1, p2, p3, p1_dog, p2_dog, p3_dog, p1_conf, p2_conf and p3_conf and save it to csv \n",
    "model_predictions = dog_rating_tweets[['tweet_id','p1', 'p2', 'p3', 'p1_dog', 'p2_dog', 'p3_dog', 'p1_conf', 'p2_conf', 'p3_conf']]\n",
    "model_predictions.to_csv('model_predictions.csv')"
   ]
  },
  {
   "cell_type": "code",
   "execution_count": 308,
   "metadata": {},
   "outputs": [],
   "source": [
    "# Remove the columns p1, p2, p3, p1_dog, p2_dog, p3_dog, p1_conf, p2_conf, p3_conf\n",
    "dog_rating_tweets = dog_rating_tweets.drop(columns=['p1', 'p2', 'p3', 'p1_dog', 'p2_dog', 'p3_dog', 'p1_conf', 'p2_conf', 'p3_conf'])"
   ]
  },
  {
   "cell_type": "markdown",
   "metadata": {},
   "source": [
    "#### Test"
   ]
  },
  {
   "cell_type": "code",
   "execution_count": 309,
   "metadata": {},
   "outputs": [
    {
     "name": "stdout",
     "output_type": "stream",
     "text": [
      "'p1', 'p2', 'p3', 'p1_dog', 'p2_dog', 'p3_dog', 'p1_conf', 'p2_conf', 'p3_conf' are no longer in the dataframe. Instead...\n",
      "\n",
      "                dog_breed    model      conf\n",
      "0                 unknown     none       NaN\n",
      "1               chihuahua  model 1  0.323581\n",
      "2               chihuahua  model 1  0.716012\n",
      "3      labrador_retriever  model 2  0.168086\n",
      "4                  basset  model 1  0.555712\n",
      "..                    ...      ...       ...\n",
      "289              pembroke  model 1  0.624802\n",
      "290            eskimo_dog  model 1  0.530416\n",
      "291             chihuahua  model 1  0.257415\n",
      "292  old_english_sheepdog  model 1  0.999715\n",
      "293                briard  model 1  0.982755\n",
      "\n",
      "[294 rows x 3 columns]\n",
      "Unique items in the dog_breed are: ['unknown' 'chihuahua' 'labrador_retriever' 'basset'\n",
      " 'chesapeake_bay_retriever' 'appenzeller' 'pomeranian' 'irish_terrier'\n",
      " 'pembroke' 'samoyed' 'french_bulldog' 'golden_retriever' 'whippet'\n",
      " 'siberian_husky' 'mexican_hairless' 'kuvasz' 'pug' 'blenheim_spaniel'\n",
      " 'malamute' 'italian_greyhound' 'chow' 'german_shepherd' 'doberman'\n",
      " 'eskimo_dog' 'weimaraner' 'saluki' 'miniature_pinscher'\n",
      " 'german_short-haired_pointer' 'english_springer' 'vizsla' 'bloodhound'\n",
      " 'bernese_mountain_dog' 'west_highland_white_terrier' 'cocker_spaniel'\n",
      " 'flat-coated_retriever' 'cardigan' 'newfoundland' 'shetland_sheepdog'\n",
      " 'komondor' 'kelpie' 'greater_swiss_mountain_dog' 'border_collie'\n",
      " 'bull_mastiff' 'staffordshire_bullterrier' 'lakeland_terrier'\n",
      " 'australian_terrier' 'bouvier_des_flandres' 'bedlington_terrier'\n",
      " 'boston_bull' 'old_english_sheepdog' 'black-and-tan_coonhound'\n",
      " 'great_dane' 'standard_poodle' 'yorkshire_terrier' 'schipperke'\n",
      " 'airedale' 'american_staffordshire_terrier' 'giant_schnauzer'\n",
      " 'dandie_dinmont' 'irish_water_spaniel' 'afghan_hound' 'brittany_spaniel'\n",
      " 'norwich_terrier' 'leonberg' 'border_terrier' 'great_pyrenees'\n",
      " 'norwegian_elkhound' 'toy_poodle' 'borzoi' 'rottweiler'\n",
      " 'soft-coated_wheaten_terrier' 'rhodesian_ridgeback' 'boxer' 'pekinese'\n",
      " 'briard']\n",
      "\n",
      "Unique items in the model are: ['none' 'model 1' 'model 2' 'model 3']\n",
      "\n",
      "Unique items in the conf are: [        nan 3.23581e-01 7.16012e-01 1.68086e-01 5.55712e-01 4.25595e-01\n",
      " 3.41703e-01 5.66142e-01 4.87574e-01 5.11319e-01 9.57979e-01 3.77417e-01\n",
      " 9.66327e-01 9.91650e-01 9.53442e-01 6.26152e-01 7.14719e-01 4.69760e-01\n",
      " 7.00377e-01 9.95026e-01 8.21664e-01 8.09197e-01 3.30741e-01 7.33942e-01\n",
      " 7.93469e-01 3.09706e-01 9.99201e-01 9.43575e-01 9.72494e-01 3.69275e-01\n",
      " 8.12482e-01 2.59916e-01 8.22103e-01 5.46406e-01 9.93225e-01 7.07046e-01\n",
      " 6.10946e-01 9.43082e-01 9.87997e-01 9.49562e-01 4.66778e-01 8.50050e-01\n",
      " 5.42982e-01 7.62211e-01 6.94063e-03 2.91539e-01 5.29012e-01 2.81463e-01\n",
      " 7.91416e-01 9.13255e-01 2.38525e-01 1.20298e-01 8.13507e-01 4.79896e-01\n",
      " 3.83404e-01 3.34961e-02 9.60513e-01 7.34684e-01 3.20420e-01 8.39097e-01\n",
      " 8.37956e-01 9.95368e-01 5.09967e-01 9.31120e-01 5.75751e-01 8.74566e-01\n",
      " 5.34327e-01 7.99551e-01 2.45048e-01 7.14319e-01 8.36052e-01 4.37216e-01\n",
      " 8.32177e-01 8.06674e-01 6.78537e-01 6.19782e-01 4.76913e-01 9.99120e-01\n",
      " 5.13191e-01 9.31861e-01 6.67363e-02 9.69171e-01 9.21393e-01 9.74781e-01\n",
      " 3.98053e-01 9.45495e-01 8.41001e-01 6.22752e-01 9.80148e-01 9.93449e-01\n",
      " 9.55156e-01 6.64181e-01 9.99839e-02 8.68107e-01 3.78151e-01 5.22644e-01\n",
      " 6.61953e-01 6.16457e-01 4.71403e-01 5.14730e-01 9.05334e-01 9.84086e-01\n",
      " 6.73664e-01 8.32435e-01 9.89882e-01 6.68613e-01 9.45905e-01 4.13330e-01\n",
      " 6.90517e-01 2.75242e-01 9.35804e-01 2.07281e-01 3.93330e-01 6.77589e-01\n",
      " 7.71008e-01 8.26102e-02 5.07951e-01 5.83936e-01 2.86558e-01 2.54587e-01\n",
      " 8.99086e-01 8.95529e-01 2.16163e-01 5.78120e-01 9.87407e-01 8.63874e-01\n",
      " 4.32580e-01 9.19832e-01 8.41597e-01 9.98021e-01 9.68623e-01 3.06910e-01\n",
      " 7.98481e-01 8.76543e-01 3.21676e-01 3.89513e-01 6.95548e-01 2.60242e-01\n",
      " 9.07080e-01 8.54861e-01 3.54733e-01 2.92519e-01 5.09879e-01 7.83765e-01\n",
      " 7.11235e-01 1.86498e-01 4.15374e-01 3.94507e-01 5.68265e-03 9.96952e-01\n",
      " 2.49012e-01 1.05390e-01 7.59907e-01 2.92092e-01 9.07559e-01 8.23648e-01\n",
      " 5.44576e-01 3.33486e-01 9.51337e-01 4.13688e-01 4.95380e-01 2.19609e-01\n",
      " 1.13434e-01 4.50539e-01 6.50003e-01 3.46468e-01 9.61110e-01 9.79803e-01\n",
      " 8.08681e-01 3.94404e-01 5.67475e-01 1.32068e-04 7.42421e-01 7.19510e-01\n",
      " 9.22540e-01 4.30583e-01 9.58452e-01 4.61076e-01 2.93399e-02 6.85084e-01\n",
      " 8.91227e-01 2.93493e-01 5.47401e-01 4.81999e-02 9.03712e-01 9.62985e-01\n",
      " 7.11148e-01 8.63987e-01 6.04938e-01 5.24800e-02 9.27021e-01 6.64538e-01\n",
      " 2.16562e-01 9.97692e-01 8.00975e-01 8.87625e-01 9.76255e-01 7.67696e-01\n",
      " 5.88730e-03 1.15635e-02 5.64688e-01 9.63558e-01 6.10655e-01 3.41276e-01\n",
      " 8.75033e-02 6.63138e-01 1.27309e-02 1.96476e-01 1.56276e-01 2.26564e-01\n",
      " 4.68619e-01 7.54799e-01 4.52627e-02 4.94969e-01 4.38054e-01 9.18144e-01\n",
      " 7.27039e-01 7.10523e-01 5.39036e-01 1.60888e-01 5.25032e-01 9.88916e-01\n",
      " 5.04690e-01 1.34081e-01 6.01712e-01 1.53862e-01 7.77562e-01 6.24802e-01\n",
      " 5.30416e-01 2.57415e-01 9.99715e-01 9.82755e-01]\n",
      "\n"
     ]
    }
   ],
   "source": [
    "# Try to print if the deleted columns are still in the dataframe\n",
    "try:\n",
    "    print(dog_rating_tweets[['p1', 'p2', 'p3', 'p1_dog', 'p2_dog', 'p3_dog', 'p1_conf', 'p2_conf', 'p3_conf']])\n",
    "except:\n",
    "    # Test the new columns\n",
    "    print(\"'p1', 'p2', 'p3', 'p1_dog', 'p2_dog', 'p3_dog', 'p1_conf', 'p2_conf', 'p3_conf' are no longer in the dataframe. Instead...\\n\")\n",
    "    # Visual inspection\n",
    "    print(dog_rating_tweets[['dog_breed', 'model', 'conf']])\n",
    "    # Programatic evaluation\n",
    "    print(f\"Unique items in the dog_breed are: {dog_rating_tweets['dog_breed'].unique()}\\n\")\n",
    "    print(f\"Unique items in the model are: {dog_rating_tweets['model'].unique()}\\n\")\n",
    "    print(f\"Unique items in the conf are: {dog_rating_tweets['conf'].unique()}\\n\")\n",
    "\n"
   ]
  },
  {
   "attachments": {},
   "cell_type": "markdown",
   "metadata": {},
   "source": [
    "### Issue #6: The following columns should be a string ['tweet_id','in_reply_to_status_id','in_reply_to_user_id']"
   ]
  },
  {
   "cell_type": "markdown",
   "metadata": {},
   "source": [
    "#### Define"
   ]
  },
  {
   "cell_type": "markdown",
   "metadata": {},
   "source": [
    "1. Create a list of columns that needs to be made into string\n",
    "2. Use the astype() function to change the datatype of the columns in the list into string"
   ]
  },
  {
   "cell_type": "markdown",
   "metadata": {},
   "source": [
    "#### Code"
   ]
  },
  {
   "cell_type": "code",
   "execution_count": 310,
   "metadata": {},
   "outputs": [],
   "source": [
    "# Create a list of columns that needs to be made into string\n",
    "to_string = ['tweet_id','in_reply_to_status_id','in_reply_to_user_id']"
   ]
  },
  {
   "cell_type": "code",
   "execution_count": 311,
   "metadata": {},
   "outputs": [],
   "source": [
    "# Use the astype() function to change the datatype of the columns in the list into string\n",
    "dog_rating_tweets[to_string]=dog_rating_tweets[to_string].astype(str)"
   ]
  },
  {
   "cell_type": "markdown",
   "metadata": {},
   "source": [
    "#### Test"
   ]
  },
  {
   "cell_type": "code",
   "execution_count": 312,
   "metadata": {},
   "outputs": [
    {
     "name": "stdout",
     "output_type": "stream",
     "text": [
      "<class 'pandas.core.frame.DataFrame'>\n",
      "Int64Index: 294 entries, 0 to 293\n",
      "Data columns (total 3 columns):\n",
      " #   Column                 Non-Null Count  Dtype \n",
      "---  ------                 --------------  ----- \n",
      " 0   tweet_id               294 non-null    object\n",
      " 1   in_reply_to_status_id  294 non-null    object\n",
      " 2   in_reply_to_user_id    294 non-null    object\n",
      "dtypes: object(3)\n",
      "memory usage: 9.2+ KB\n"
     ]
    }
   ],
   "source": [
    "# Check the type of the columns\n",
    "dog_rating_tweets[to_string].info()"
   ]
  },
  {
   "attachments": {},
   "cell_type": "markdown",
   "metadata": {},
   "source": [
    "### Issue#7: The column possibly_sensitive should be a bool"
   ]
  },
  {
   "cell_type": "markdown",
   "metadata": {},
   "source": [
    "#### Define"
   ]
  },
  {
   "cell_type": "markdown",
   "metadata": {},
   "source": [
    "Change the column possibly_sensitive into a bool"
   ]
  },
  {
   "cell_type": "markdown",
   "metadata": {},
   "source": [
    "#### Code"
   ]
  },
  {
   "cell_type": "code",
   "execution_count": 313,
   "metadata": {},
   "outputs": [],
   "source": [
    "# Change the column possibly_sensitive into a bool\n",
    "dog_rating_tweets['possibly_sensitive']=dog_rating_tweets['possibly_sensitive'].astype(bool)"
   ]
  },
  {
   "cell_type": "markdown",
   "metadata": {},
   "source": [
    "#### Test"
   ]
  },
  {
   "cell_type": "code",
   "execution_count": 314,
   "metadata": {},
   "outputs": [
    {
     "data": {
      "text/plain": [
       "dtype('bool')"
      ]
     },
     "execution_count": 314,
     "metadata": {},
     "output_type": "execute_result"
    }
   ],
   "source": [
    "# Check the type of the column possibly_sensitive\n",
    "dog_rating_tweets['possibly_sensitive'].dtype"
   ]
  },
  {
   "cell_type": "code",
   "execution_count": 315,
   "metadata": {},
   "outputs": [
    {
     "data": {
      "text/plain": [
       "array([False,  True])"
      ]
     },
     "execution_count": 315,
     "metadata": {},
     "output_type": "execute_result"
    }
   ],
   "source": [
    "# Check the unique items in the column\n",
    "dog_rating_tweets['possibly_sensitive'].unique()"
   ]
  },
  {
   "cell_type": "code",
   "execution_count": null,
   "metadata": {},
   "outputs": [],
   "source": []
  },
  {
   "attachments": {},
   "cell_type": "markdown",
   "metadata": {},
   "source": [
    "### Issue#8: The following items in the name of dogs 'a', 'actually', 'all', 'an', 'by', 'getting', 'his', 'incredibly', 'infuriating', 'just', 'life', 'light', 'mad', 'my', 'not', 'officially', 'old', 'one', 'quite', 'space', 'such', 'the', 'this', 'unacceptable', 'very' are not names."
   ]
  },
  {
   "cell_type": "markdown",
   "metadata": {},
   "source": [
    "#### Define"
   ]
  },
  {
   "cell_type": "markdown",
   "metadata": {},
   "source": [
    "1. Create a function that uses the list of words that are not dog names and replace it with 'not known'\n",
    "2. Apply the function to the column['name'] to get dog_name\n",
    "3. Remove the column 'name'\n"
   ]
  },
  {
   "cell_type": "markdown",
   "metadata": {},
   "source": [
    "#### Code"
   ]
  },
  {
   "cell_type": "code",
   "execution_count": 316,
   "metadata": {},
   "outputs": [],
   "source": [
    "# Create a function that uses the list of words that are not dog names and replace it with 'not known\n",
    "def replace_name(row, not_names):\n",
    "    if row['name'] in not_names:\n",
    "        return 'not knwon'\n",
    "    else:\n",
    "        return row['name']"
   ]
  },
  {
   "cell_type": "code",
   "execution_count": 317,
   "metadata": {},
   "outputs": [],
   "source": [
    "# create list of not_names\n",
    "not_names = ['a', 'actually', 'all', 'an', 'by', 'getting', 'his', 'incredibly', 'infuriating', 'just', 'life', 'light', 'mad', 'my', 'not', 'officially', 'old', 'one', 'quite', 'space', 'such', 'the', 'this', 'unacceptable', 'very']\n",
    "# Apply the function to the column['name'] to get dog_name\n",
    "dog_rating_tweets['dog_name']=dog_rating_tweets.apply(lambda row: replace_name(row, not_names), axis=1)\n",
    "# Remove the column 'name'\n",
    "dog_rating_tweets.drop(columns='name', inplace=True)"
   ]
  },
  {
   "cell_type": "markdown",
   "metadata": {},
   "source": [
    "#### Test"
   ]
  },
  {
   "cell_type": "code",
   "execution_count": 318,
   "metadata": {},
   "outputs": [
    {
     "data": {
      "text/html": [
       "<div>\n",
       "<style scoped>\n",
       "    .dataframe tbody tr th:only-of-type {\n",
       "        vertical-align: middle;\n",
       "    }\n",
       "\n",
       "    .dataframe tbody tr th {\n",
       "        vertical-align: top;\n",
       "    }\n",
       "\n",
       "    .dataframe thead th {\n",
       "        text-align: right;\n",
       "    }\n",
       "</style>\n",
       "<table border=\"1\" class=\"dataframe\">\n",
       "  <thead>\n",
       "    <tr style=\"text-align: right;\">\n",
       "      <th></th>\n",
       "      <th>created_at</th>\n",
       "      <th>tweet_id</th>\n",
       "      <th>full_text</th>\n",
       "      <th>truncated</th>\n",
       "      <th>display_text_range</th>\n",
       "      <th>entities</th>\n",
       "      <th>source</th>\n",
       "      <th>in_reply_to_status_id</th>\n",
       "      <th>in_reply_to_user_id</th>\n",
       "      <th>in_reply_to_screen_name</th>\n",
       "      <th>...</th>\n",
       "      <th>expanded_urls</th>\n",
       "      <th>rating_numerator</th>\n",
       "      <th>rating_denominator</th>\n",
       "      <th>jpg_url</th>\n",
       "      <th>img_num</th>\n",
       "      <th>dog_category</th>\n",
       "      <th>model</th>\n",
       "      <th>dog_breed</th>\n",
       "      <th>conf</th>\n",
       "      <th>dog_name</th>\n",
       "    </tr>\n",
       "  </thead>\n",
       "  <tbody>\n",
       "  </tbody>\n",
       "</table>\n",
       "<p>0 rows × 32 columns</p>\n",
       "</div>"
      ],
      "text/plain": [
       "Empty DataFrame\n",
       "Columns: [created_at, tweet_id, full_text, truncated, display_text_range, entities, source, in_reply_to_status_id, in_reply_to_user_id, in_reply_to_screen_name, user, is_quote_status, retweet_count, favorite_count, favorited, retweeted, possibly_sensitive, lang, quoted_status_id, quoted_status_id_str, quoted_status_permalink, quoted_status, expanded_urls, rating_numerator, rating_denominator, jpg_url, img_num, dog_category, model, dog_breed, conf, dog_name]\n",
       "Index: []\n",
       "\n",
       "[0 rows x 32 columns]"
      ]
     },
     "execution_count": 318,
     "metadata": {},
     "output_type": "execute_result"
    }
   ],
   "source": [
    "# Check if the column dog_name have the identified not_names\n",
    "dog_rating_tweets[dog_rating_tweets['dog_name'].isin(not_names)]"
   ]
  },
  {
   "attachments": {},
   "cell_type": "markdown",
   "metadata": {},
   "source": [
    "### Issue#9: The column source is in html format. There is a need to extract the source:\n",
    "1. Twitter for iPhone\n",
    "2. Twitter for Web Client\n",
    "3. TweetDeck"
   ]
  },
  {
   "cell_type": "markdown",
   "metadata": {},
   "source": [
    "#### Define"
   ]
  },
  {
   "cell_type": "markdown",
   "metadata": {},
   "source": [
    "Use apply and lambda function on the source column to get the string in between > and <"
   ]
  },
  {
   "cell_type": "markdown",
   "metadata": {},
   "source": [
    "#### Code"
   ]
  },
  {
   "cell_type": "code",
   "execution_count": 319,
   "metadata": {},
   "outputs": [],
   "source": [
    "# Use apply and lambda function on the source column to get the string in between > and <\n",
    "dog_rating_tweets['source']=dog_rating_tweets['source'].apply(lambda x: x.split('>')[1].split('<')[0])\n"
   ]
  },
  {
   "cell_type": "markdown",
   "metadata": {},
   "source": [
    "#### Test"
   ]
  },
  {
   "cell_type": "code",
   "execution_count": 320,
   "metadata": {},
   "outputs": [
    {
     "data": {
      "text/plain": [
       "array(['Twitter for iPhone', 'Twitter Web Client'], dtype=object)"
      ]
     },
     "execution_count": 320,
     "metadata": {},
     "output_type": "execute_result"
    }
   ],
   "source": [
    "# Check the unique items in the source\n",
    "dog_rating_tweets['source'].unique()"
   ]
  },
  {
   "attachments": {},
   "cell_type": "markdown",
   "metadata": {},
   "source": [
    "### Issue 10: There are collumns that are more than one value:\n"
   ]
  },
  {
   "attachments": {},
   "cell_type": "markdown",
   "metadata": {},
   "source": [
    "#### Issue 10.A. The column display_text_range is a list. Since the first item of the list are all 0, we could just get the second item of the list and add 1"
   ]
  },
  {
   "attachments": {},
   "cell_type": "markdown",
   "metadata": {},
   "source": [
    "#### Define"
   ]
  },
  {
   "attachments": {},
   "cell_type": "markdown",
   "metadata": {},
   "source": [
    "1. Create a temporary dataframe that will split the display_text_range into start and end columns\n",
    "2. Copy the value of the end column and add 1 to the display_text_range"
   ]
  },
  {
   "attachments": {},
   "cell_type": "markdown",
   "metadata": {},
   "source": [
    "#### Code"
   ]
  },
  {
   "cell_type": "code",
   "execution_count": 321,
   "metadata": {},
   "outputs": [],
   "source": [
    "# Create a temporary dataframe that will split the display_text_range into start and end columns\n",
    "text_range = pd.DataFrame(dog_rating_tweets['display_text_range'].to_list(), columns=['start','end'])\n",
    "# Copy the value of the end column, add 1 and replace the new value to the display_text_range column\n",
    "dog_rating_tweets['display_text_range'] = text_range['end'].apply(lambda x: x+1)"
   ]
  },
  {
   "attachments": {},
   "cell_type": "markdown",
   "metadata": {},
   "source": [
    "#### Test"
   ]
  },
  {
   "cell_type": "code",
   "execution_count": 322,
   "metadata": {},
   "outputs": [
    {
     "data": {
      "text/html": [
       "<div>\n",
       "<style scoped>\n",
       "    .dataframe tbody tr th:only-of-type {\n",
       "        vertical-align: middle;\n",
       "    }\n",
       "\n",
       "    .dataframe tbody tr th {\n",
       "        vertical-align: top;\n",
       "    }\n",
       "\n",
       "    .dataframe thead th {\n",
       "        text-align: right;\n",
       "    }\n",
       "</style>\n",
       "<table border=\"1\" class=\"dataframe\">\n",
       "  <thead>\n",
       "    <tr style=\"text-align: right;\">\n",
       "      <th></th>\n",
       "      <th>start</th>\n",
       "      <th>end</th>\n",
       "      <th>display_text_range</th>\n",
       "      <th>original</th>\n",
       "    </tr>\n",
       "  </thead>\n",
       "  <tbody>\n",
       "    <tr>\n",
       "      <th>0</th>\n",
       "      <td>0</td>\n",
       "      <td>85</td>\n",
       "      <td>86</td>\n",
       "      <td>[0, 85]</td>\n",
       "    </tr>\n",
       "    <tr>\n",
       "      <th>1</th>\n",
       "      <td>0</td>\n",
       "      <td>138</td>\n",
       "      <td>139</td>\n",
       "      <td>[0, 138]</td>\n",
       "    </tr>\n",
       "    <tr>\n",
       "      <th>2</th>\n",
       "      <td>0</td>\n",
       "      <td>121</td>\n",
       "      <td>122</td>\n",
       "      <td>[0, 121]</td>\n",
       "    </tr>\n",
       "    <tr>\n",
       "      <th>3</th>\n",
       "      <td>0</td>\n",
       "      <td>79</td>\n",
       "      <td>80</td>\n",
       "      <td>[0, 79]</td>\n",
       "    </tr>\n",
       "    <tr>\n",
       "      <th>4</th>\n",
       "      <td>0</td>\n",
       "      <td>138</td>\n",
       "      <td>139</td>\n",
       "      <td>[0, 138]</td>\n",
       "    </tr>\n",
       "    <tr>\n",
       "      <th>...</th>\n",
       "      <td>...</td>\n",
       "      <td>...</td>\n",
       "      <td>...</td>\n",
       "      <td>...</td>\n",
       "    </tr>\n",
       "    <tr>\n",
       "      <th>289</th>\n",
       "      <td>0</td>\n",
       "      <td>60</td>\n",
       "      <td>61</td>\n",
       "      <td>[0, 140]</td>\n",
       "    </tr>\n",
       "    <tr>\n",
       "      <th>290</th>\n",
       "      <td>0</td>\n",
       "      <td>138</td>\n",
       "      <td>139</td>\n",
       "      <td>[0, 113]</td>\n",
       "    </tr>\n",
       "    <tr>\n",
       "      <th>291</th>\n",
       "      <td>0</td>\n",
       "      <td>117</td>\n",
       "      <td>118</td>\n",
       "      <td>[0, 140]</td>\n",
       "    </tr>\n",
       "    <tr>\n",
       "      <th>292</th>\n",
       "      <td>0</td>\n",
       "      <td>116</td>\n",
       "      <td>117</td>\n",
       "      <td>[0, 88]</td>\n",
       "    </tr>\n",
       "    <tr>\n",
       "      <th>293</th>\n",
       "      <td>0</td>\n",
       "      <td>134</td>\n",
       "      <td>135</td>\n",
       "      <td>[0, 138]</td>\n",
       "    </tr>\n",
       "  </tbody>\n",
       "</table>\n",
       "<p>294 rows × 4 columns</p>\n",
       "</div>"
      ],
      "text/plain": [
       "     start  end  display_text_range  original\n",
       "0        0   85                  86   [0, 85]\n",
       "1        0  138                 139  [0, 138]\n",
       "2        0  121                 122  [0, 121]\n",
       "3        0   79                  80   [0, 79]\n",
       "4        0  138                 139  [0, 138]\n",
       "..     ...  ...                 ...       ...\n",
       "289      0   60                  61  [0, 140]\n",
       "290      0  138                 139  [0, 113]\n",
       "291      0  117                 118  [0, 140]\n",
       "292      0  116                 117   [0, 88]\n",
       "293      0  134                 135  [0, 138]\n",
       "\n",
       "[294 rows x 4 columns]"
      ]
     },
     "execution_count": 322,
     "metadata": {},
     "output_type": "execute_result"
    }
   ],
   "source": [
    "# Compare the new display_text_range column with the start and end of the original column\n",
    "text_range['display_text_range'] = dog_rating_tweets['display_text_range']\n",
    "text_range['original'] = tweet_from_api['display_text_range']\n",
    "text_range"
   ]
  },
  {
   "attachments": {},
   "cell_type": "markdown",
   "metadata": {},
   "source": [
    "#### Issue#10.B: The column entities is a dictionary"
   ]
  },
  {
   "cell_type": "markdown",
   "metadata": {},
   "source": [
    "#### Define"
   ]
  },
  {
   "cell_type": "markdown",
   "metadata": {},
   "source": [
    "1. Create a dataframe entities_df, that expands the column 'entities'.\n",
    "2. Continue expanding the entities_df to arrive to expose all the elements."
   ]
  },
  {
   "cell_type": "markdown",
   "metadata": {},
   "source": [
    "#### Code"
   ]
  },
  {
   "cell_type": "code",
   "execution_count": 323,
   "metadata": {},
   "outputs": [],
   "source": [
    "# Create an entities_df which is a dataframe that expands the column entities\n",
    "entities_df = pd.json_normalize(dog_rating_tweets['entities'], max_level = 2)"
   ]
  },
  {
   "cell_type": "code",
   "execution_count": 324,
   "metadata": {},
   "outputs": [
    {
     "data": {
      "text/html": [
       "<div>\n",
       "<style scoped>\n",
       "    .dataframe tbody tr th:only-of-type {\n",
       "        vertical-align: middle;\n",
       "    }\n",
       "\n",
       "    .dataframe tbody tr th {\n",
       "        vertical-align: top;\n",
       "    }\n",
       "\n",
       "    .dataframe thead th {\n",
       "        text-align: right;\n",
       "    }\n",
       "</style>\n",
       "<table border=\"1\" class=\"dataframe\">\n",
       "  <thead>\n",
       "    <tr style=\"text-align: right;\">\n",
       "      <th></th>\n",
       "      <th>0</th>\n",
       "      <th>1</th>\n",
       "    </tr>\n",
       "  </thead>\n",
       "  <tbody>\n",
       "    <tr>\n",
       "      <th>0</th>\n",
       "      <td>None</td>\n",
       "      <td>None</td>\n",
       "    </tr>\n",
       "    <tr>\n",
       "      <th>1</th>\n",
       "      <td>None</td>\n",
       "      <td>None</td>\n",
       "    </tr>\n",
       "    <tr>\n",
       "      <th>2</th>\n",
       "      <td>None</td>\n",
       "      <td>None</td>\n",
       "    </tr>\n",
       "    <tr>\n",
       "      <th>3</th>\n",
       "      <td>None</td>\n",
       "      <td>None</td>\n",
       "    </tr>\n",
       "    <tr>\n",
       "      <th>4</th>\n",
       "      <td>{'text': 'BarkWeek', 'indices': [129, 138]}</td>\n",
       "      <td>None</td>\n",
       "    </tr>\n",
       "    <tr>\n",
       "      <th>...</th>\n",
       "      <td>...</td>\n",
       "      <td>...</td>\n",
       "    </tr>\n",
       "    <tr>\n",
       "      <th>289</th>\n",
       "      <td>None</td>\n",
       "      <td>None</td>\n",
       "    </tr>\n",
       "    <tr>\n",
       "      <th>290</th>\n",
       "      <td>None</td>\n",
       "      <td>None</td>\n",
       "    </tr>\n",
       "    <tr>\n",
       "      <th>291</th>\n",
       "      <td>None</td>\n",
       "      <td>None</td>\n",
       "    </tr>\n",
       "    <tr>\n",
       "      <th>292</th>\n",
       "      <td>None</td>\n",
       "      <td>None</td>\n",
       "    </tr>\n",
       "    <tr>\n",
       "      <th>293</th>\n",
       "      <td>{'text': 'WKCDogShow', 'indices': [26, 37]}</td>\n",
       "      <td>None</td>\n",
       "    </tr>\n",
       "  </tbody>\n",
       "</table>\n",
       "<p>294 rows × 2 columns</p>\n",
       "</div>"
      ],
      "text/plain": [
       "                                               0     1\n",
       "0                                           None  None\n",
       "1                                           None  None\n",
       "2                                           None  None\n",
       "3                                           None  None\n",
       "4    {'text': 'BarkWeek', 'indices': [129, 138]}  None\n",
       "..                                           ...   ...\n",
       "289                                         None  None\n",
       "290                                         None  None\n",
       "291                                         None  None\n",
       "292                                         None  None\n",
       "293  {'text': 'WKCDogShow', 'indices': [26, 37]}  None\n",
       "\n",
       "[294 rows x 2 columns]"
      ]
     },
     "execution_count": 324,
     "metadata": {},
     "output_type": "execute_result"
    }
   ],
   "source": [
    "# Create a hashtags_df which is a dataframe that expands the column hashtags\n",
    "hashtags_df = pd.json_normalize(entities_df['hashtags'])\n",
    "hashtags_df"
   ]
  },
  {
   "cell_type": "code",
   "execution_count": 325,
   "metadata": {},
   "outputs": [],
   "source": [
    "# As we can see the columns formed are also dictionaries\n",
    "# Expand both columns\n",
    "hashtags_df0 = pd.json_normalize(hashtags_df[0])\n",
    "hashtags_df1 = pd.json_normalize(hashtags_df[1])"
   ]
  },
  {
   "cell_type": "code",
   "execution_count": 326,
   "metadata": {},
   "outputs": [
    {
     "name": "stdout",
     "output_type": "stream",
     "text": [
      "           text     indices\n",
      "0           NaN         NaN\n",
      "1           NaN         NaN\n",
      "2           NaN         NaN\n",
      "3           NaN         NaN\n",
      "4      BarkWeek  [129, 138]\n",
      "..          ...         ...\n",
      "289         NaN         NaN\n",
      "290         NaN         NaN\n",
      "291         NaN         NaN\n",
      "292         NaN         NaN\n",
      "293  WKCDogShow    [26, 37]\n",
      "\n",
      "[294 rows x 2 columns]\n",
      "    text indices\n",
      "0    NaN     NaN\n",
      "1    NaN     NaN\n",
      "2    NaN     NaN\n",
      "3    NaN     NaN\n",
      "4    NaN     NaN\n",
      "..   ...     ...\n",
      "289  NaN     NaN\n",
      "290  NaN     NaN\n",
      "291  NaN     NaN\n",
      "292  NaN     NaN\n",
      "293  NaN     NaN\n",
      "\n",
      "[294 rows x 2 columns]\n"
     ]
    }
   ],
   "source": [
    "# Check both dataframes\n",
    "print(hashtags_df0)\n",
    "print(hashtags_df1)"
   ]
  },
  {
   "cell_type": "code",
   "execution_count": 327,
   "metadata": {},
   "outputs": [],
   "source": [
    "# Get the text column for both dataframes\n",
    "hashtags_df[0] = hashtags_df0['text']\n",
    "hashtags_df[1] = hashtags_df1['text']"
   ]
  },
  {
   "cell_type": "code",
   "execution_count": 328,
   "metadata": {},
   "outputs": [
    {
     "data": {
      "text/plain": [
       "array(['', 'BarkWeek', 'Canada150', 'PrideMonthPuppo; PrideMonth',\n",
       "       'PrideMonth', 'dogsatpollingstations', 'ScienceMarch',\n",
       "       'K9VeteransDay', 'WKCDogShow'], dtype=object)"
      ]
     },
     "execution_count": 328,
     "metadata": {},
     "output_type": "execute_result"
    }
   ],
   "source": [
    "# Join the two text column and replace the hashtags column of the entities_df\n",
    "entities_df['hashtags'] = hashtags_df[[0,1]].apply(lambda x: '; '.join(x.dropna().astype(str)), axis=1)\n",
    "# Check for unique items for hashtags column\n",
    "entities_df['hashtags'].unique()"
   ]
  },
  {
   "cell_type": "code",
   "execution_count": 329,
   "metadata": {},
   "outputs": [
    {
     "data": {
      "text/plain": [
       "294"
      ]
     },
     "execution_count": 329,
     "metadata": {},
     "output_type": "execute_result"
    }
   ],
   "source": [
    "# The column of symbols is a list. Check if all items are empty list\n",
    "entities_df['symbols'].to_list().count([])"
   ]
  },
  {
   "cell_type": "code",
   "execution_count": 330,
   "metadata": {},
   "outputs": [
    {
     "data": {
      "text/html": [
       "<div>\n",
       "<style scoped>\n",
       "    .dataframe tbody tr th:only-of-type {\n",
       "        vertical-align: middle;\n",
       "    }\n",
       "\n",
       "    .dataframe tbody tr th {\n",
       "        vertical-align: top;\n",
       "    }\n",
       "\n",
       "    .dataframe thead th {\n",
       "        text-align: right;\n",
       "    }\n",
       "</style>\n",
       "<table border=\"1\" class=\"dataframe\">\n",
       "  <thead>\n",
       "    <tr style=\"text-align: right;\">\n",
       "      <th></th>\n",
       "      <th>hashtags</th>\n",
       "      <th>user_mentions</th>\n",
       "      <th>urls</th>\n",
       "      <th>media</th>\n",
       "    </tr>\n",
       "  </thead>\n",
       "  <tbody>\n",
       "    <tr>\n",
       "      <th>0</th>\n",
       "      <td></td>\n",
       "      <td>[]</td>\n",
       "      <td>[]</td>\n",
       "      <td>[{'id': 892420639486877696, 'id_str': '8924206...</td>\n",
       "    </tr>\n",
       "    <tr>\n",
       "      <th>1</th>\n",
       "      <td></td>\n",
       "      <td>[]</td>\n",
       "      <td>[]</td>\n",
       "      <td>[{'id': 892177413194625024, 'id_str': '8921774...</td>\n",
       "    </tr>\n",
       "    <tr>\n",
       "      <th>2</th>\n",
       "      <td></td>\n",
       "      <td>[]</td>\n",
       "      <td>[]</td>\n",
       "      <td>[{'id': 891815175371796480, 'id_str': '8918151...</td>\n",
       "    </tr>\n",
       "    <tr>\n",
       "      <th>3</th>\n",
       "      <td></td>\n",
       "      <td>[]</td>\n",
       "      <td>[]</td>\n",
       "      <td>[{'id': 891689552724799489, 'id_str': '8916895...</td>\n",
       "    </tr>\n",
       "    <tr>\n",
       "      <th>4</th>\n",
       "      <td>BarkWeek</td>\n",
       "      <td>[]</td>\n",
       "      <td>[]</td>\n",
       "      <td>[{'id': 891327551943041024, 'id_str': '8913275...</td>\n",
       "    </tr>\n",
       "    <tr>\n",
       "      <th>...</th>\n",
       "      <td>...</td>\n",
       "      <td>...</td>\n",
       "      <td>...</td>\n",
       "      <td>...</td>\n",
       "    </tr>\n",
       "    <tr>\n",
       "      <th>289</th>\n",
       "      <td></td>\n",
       "      <td>[]</td>\n",
       "      <td>[]</td>\n",
       "      <td>[{'id': 831670443132252160, 'id_str': '8316704...</td>\n",
       "    </tr>\n",
       "    <tr>\n",
       "      <th>290</th>\n",
       "      <td></td>\n",
       "      <td>[]</td>\n",
       "      <td>[{'url': 'https://t.co/piiX0ke8Z6', 'expanded_...</td>\n",
       "      <td>[{'id': 831650039864885250, 'id_str': '8316500...</td>\n",
       "    </tr>\n",
       "    <tr>\n",
       "      <th>291</th>\n",
       "      <td></td>\n",
       "      <td>[]</td>\n",
       "      <td>[]</td>\n",
       "      <td>[{'id': 831552915512901632, 'id_str': '8315529...</td>\n",
       "    </tr>\n",
       "    <tr>\n",
       "      <th>292</th>\n",
       "      <td></td>\n",
       "      <td>[]</td>\n",
       "      <td>[]</td>\n",
       "      <td>[{'id': 831322776149430272, 'id_str': '8313227...</td>\n",
       "    </tr>\n",
       "    <tr>\n",
       "      <th>293</th>\n",
       "      <td>WKCDogShow</td>\n",
       "      <td>[]</td>\n",
       "      <td>[]</td>\n",
       "      <td>[{'id': 831314890077908992, 'id_str': '8313148...</td>\n",
       "    </tr>\n",
       "  </tbody>\n",
       "</table>\n",
       "<p>294 rows × 4 columns</p>\n",
       "</div>"
      ],
      "text/plain": [
       "       hashtags user_mentions  \\\n",
       "0                          []   \n",
       "1                          []   \n",
       "2                          []   \n",
       "3                          []   \n",
       "4      BarkWeek            []   \n",
       "..          ...           ...   \n",
       "289                        []   \n",
       "290                        []   \n",
       "291                        []   \n",
       "292                        []   \n",
       "293  WKCDogShow            []   \n",
       "\n",
       "                                                  urls  \\\n",
       "0                                                   []   \n",
       "1                                                   []   \n",
       "2                                                   []   \n",
       "3                                                   []   \n",
       "4                                                   []   \n",
       "..                                                 ...   \n",
       "289                                                 []   \n",
       "290  [{'url': 'https://t.co/piiX0ke8Z6', 'expanded_...   \n",
       "291                                                 []   \n",
       "292                                                 []   \n",
       "293                                                 []   \n",
       "\n",
       "                                                 media  \n",
       "0    [{'id': 892420639486877696, 'id_str': '8924206...  \n",
       "1    [{'id': 892177413194625024, 'id_str': '8921774...  \n",
       "2    [{'id': 891815175371796480, 'id_str': '8918151...  \n",
       "3    [{'id': 891689552724799489, 'id_str': '8916895...  \n",
       "4    [{'id': 891327551943041024, 'id_str': '8913275...  \n",
       "..                                                 ...  \n",
       "289  [{'id': 831670443132252160, 'id_str': '8316704...  \n",
       "290  [{'id': 831650039864885250, 'id_str': '8316500...  \n",
       "291  [{'id': 831552915512901632, 'id_str': '8315529...  \n",
       "292  [{'id': 831322776149430272, 'id_str': '8313227...  \n",
       "293  [{'id': 831314890077908992, 'id_str': '8313148...  \n",
       "\n",
       "[294 rows x 4 columns]"
      ]
     },
     "execution_count": 330,
     "metadata": {},
     "output_type": "execute_result"
    }
   ],
   "source": [
    "# Since all 1986 items of the column symbols is an empty list, drop the column\n",
    "entities_df.drop(columns='symbols')"
   ]
  },
  {
   "cell_type": "code",
   "execution_count": 331,
   "metadata": {},
   "outputs": [
    {
     "data": {
      "text/plain": [
       "275"
      ]
     },
     "execution_count": 331,
     "metadata": {},
     "output_type": "execute_result"
    }
   ],
   "source": [
    "# The column of user_mentions is a list. Check if all items are empty list\n",
    "entities_df['user_mentions'].to_list().count([])"
   ]
  },
  {
   "cell_type": "code",
   "execution_count": 332,
   "metadata": {},
   "outputs": [
    {
     "name": "stdout",
     "output_type": "stream",
     "text": [
      "<class 'pandas.core.frame.DataFrame'>\n",
      "RangeIndex: 294 entries, 0 to 293\n",
      "Data columns (total 2 columns):\n",
      " #   Column  Non-Null Count  Dtype \n",
      "---  ------  --------------  ----- \n",
      " 0   0       19 non-null     object\n",
      " 1   1       2 non-null      object\n",
      "dtypes: object(2)\n",
      "memory usage: 4.7+ KB\n"
     ]
    }
   ],
   "source": [
    "# Since not all of the column user_mentions is an empty list, we expand it in a new dataframe\n",
    "user_mentions_df = pd.json_normalize(entities_df['user_mentions'])\n",
    "user_mentions_df.info()"
   ]
  },
  {
   "cell_type": "code",
   "execution_count": 333,
   "metadata": {},
   "outputs": [
    {
     "name": "stdout",
     "output_type": "stream",
     "text": [
      "<class 'pandas.core.frame.DataFrame'>\n",
      "RangeIndex: 294 entries, 0 to 293\n",
      "Data columns (total 5 columns):\n",
      " #   Column       Non-Null Count  Dtype  \n",
      "---  ------       --------------  -----  \n",
      " 0   screen_name  19 non-null     object \n",
      " 1   name         19 non-null     object \n",
      " 2   id           19 non-null     float64\n",
      " 3   id_str       19 non-null     object \n",
      " 4   indices      19 non-null     object \n",
      "dtypes: float64(1), object(4)\n",
      "memory usage: 11.6+ KB\n"
     ]
    }
   ],
   "source": [
    "# There are 21 non-null items in the first column and 1 in the second column\n",
    "# Expand both columns\n",
    "user_mentions_df0 = pd.json_normalize(user_mentions_df[0])\n",
    "user_mentions_df0.info()"
   ]
  },
  {
   "cell_type": "code",
   "execution_count": 334,
   "metadata": {},
   "outputs": [
    {
     "name": "stdout",
     "output_type": "stream",
     "text": [
      "<class 'pandas.core.frame.DataFrame'>\n",
      "RangeIndex: 294 entries, 0 to 293\n",
      "Data columns (total 5 columns):\n",
      " #   Column       Non-Null Count  Dtype  \n",
      "---  ------       --------------  -----  \n",
      " 0   screen_name  2 non-null      object \n",
      " 1   name         2 non-null      object \n",
      " 2   id           2 non-null      float64\n",
      " 3   id_str       2 non-null      object \n",
      " 4   indices      2 non-null      object \n",
      "dtypes: float64(1), object(4)\n",
      "memory usage: 11.6+ KB\n"
     ]
    }
   ],
   "source": [
    "user_mentions_df1 = pd.json_normalize(user_mentions_df[1])\n",
    "user_mentions_df1.info()"
   ]
  },
  {
   "cell_type": "code",
   "execution_count": 335,
   "metadata": {},
   "outputs": [],
   "source": [
    "# I chose screen_name to represent the user_mentions\n",
    "user_mentions_df[0] = user_mentions_df0['screen_name']\n",
    "user_mentions_df[1] = user_mentions_df1['screen_name']"
   ]
  },
  {
   "cell_type": "code",
   "execution_count": 336,
   "metadata": {},
   "outputs": [
    {
     "data": {
      "text/plain": [
       "array(['', 'nonwhitehat; MayhewMayhem', 'roushfenway', 'porch_rates',\n",
       "       'RealKentMurphy', 'ComplicitOwl', 'AmiWinehouse', 'Marc_IRL',\n",
       "       'jenna_marbles', 'dhmontgomery', 's8n', 'markhoppus',\n",
       "       'breaannanicolee', '0_kelvin_0', 'Andy_Pace_', 'GoodDogsGame',\n",
       "       'jonnysun; Lin_Manuel', 'docmisterio', 'UNC'], dtype=object)"
      ]
     },
     "execution_count": 336,
     "metadata": {},
     "output_type": "execute_result"
    }
   ],
   "source": [
    "# Joint the 2 columns of screen_name and use this to replace the user_mentions column\n",
    "entities_df['user_mentions'] = user_mentions_df[[0,1]].apply(lambda x: '; '.join(x.dropna().astype(str)), axis=1)\n",
    "entities_df['user_mentions'].unique()"
   ]
  },
  {
   "cell_type": "code",
   "execution_count": 337,
   "metadata": {},
   "outputs": [
    {
     "data": {
      "text/plain": [
       "259"
      ]
     },
     "execution_count": 337,
     "metadata": {},
     "output_type": "execute_result"
    }
   ],
   "source": [
    "# Check the urls column of how many are an empty list\n",
    "entities_df['urls'].to_list().count([])"
   ]
  },
  {
   "cell_type": "code",
   "execution_count": 338,
   "metadata": {},
   "outputs": [
    {
     "name": "stdout",
     "output_type": "stream",
     "text": [
      "<class 'pandas.core.frame.DataFrame'>\n",
      "RangeIndex: 294 entries, 0 to 293\n",
      "Data columns (total 1 columns):\n",
      " #   Column  Non-Null Count  Dtype \n",
      "---  ------  --------------  ----- \n",
      " 0   0       35 non-null     object\n",
      "dtypes: object(1)\n",
      "memory usage: 2.4+ KB\n"
     ]
    }
   ],
   "source": [
    "# Since not all items are empty list, expand urls\n",
    "urls_df = pd.json_normalize(entities_df['urls'])\n",
    "urls_df.info()"
   ]
  },
  {
   "cell_type": "code",
   "execution_count": 339,
   "metadata": {},
   "outputs": [
    {
     "name": "stdout",
     "output_type": "stream",
     "text": [
      "<class 'pandas.core.frame.DataFrame'>\n",
      "RangeIndex: 294 entries, 0 to 293\n",
      "Data columns (total 4 columns):\n",
      " #   Column        Non-Null Count  Dtype \n",
      "---  ------        --------------  ----- \n",
      " 0   url           35 non-null     object\n",
      " 1   expanded_url  35 non-null     object\n",
      " 2   display_url   35 non-null     object\n",
      " 3   indices       35 non-null     object\n",
      "dtypes: object(4)\n",
      "memory usage: 9.3+ KB\n"
     ]
    }
   ],
   "source": [
    "# expand the column\n",
    "urls_df = pd.json_normalize(urls_df[0])\n",
    "urls_df.info()"
   ]
  },
  {
   "cell_type": "code",
   "execution_count": 340,
   "metadata": {},
   "outputs": [],
   "source": [
    "# Use the expanded_url column to replace the urls column\n",
    "entities_df['urls']=urls_df['expanded_url']"
   ]
  },
  {
   "cell_type": "code",
   "execution_count": 341,
   "metadata": {},
   "outputs": [
    {
     "data": {
      "text/plain": [
       "0"
      ]
     },
     "execution_count": 341,
     "metadata": {},
     "output_type": "execute_result"
    }
   ],
   "source": [
    "# Check how many empty list in the column media\n",
    "entities_df['media'].to_list().count([])"
   ]
  },
  {
   "cell_type": "code",
   "execution_count": 342,
   "metadata": {},
   "outputs": [
    {
     "data": {
      "text/html": [
       "<div>\n",
       "<style scoped>\n",
       "    .dataframe tbody tr th:only-of-type {\n",
       "        vertical-align: middle;\n",
       "    }\n",
       "\n",
       "    .dataframe tbody tr th {\n",
       "        vertical-align: top;\n",
       "    }\n",
       "\n",
       "    .dataframe thead th {\n",
       "        text-align: right;\n",
       "    }\n",
       "</style>\n",
       "<table border=\"1\" class=\"dataframe\">\n",
       "  <thead>\n",
       "    <tr style=\"text-align: right;\">\n",
       "      <th></th>\n",
       "      <th>0</th>\n",
       "    </tr>\n",
       "  </thead>\n",
       "  <tbody>\n",
       "    <tr>\n",
       "      <th>0</th>\n",
       "      <td>{'id': 892420639486877696, 'id_str': '89242063...</td>\n",
       "    </tr>\n",
       "    <tr>\n",
       "      <th>1</th>\n",
       "      <td>{'id': 892177413194625024, 'id_str': '89217741...</td>\n",
       "    </tr>\n",
       "    <tr>\n",
       "      <th>2</th>\n",
       "      <td>{'id': 891815175371796480, 'id_str': '89181517...</td>\n",
       "    </tr>\n",
       "    <tr>\n",
       "      <th>3</th>\n",
       "      <td>{'id': 891689552724799489, 'id_str': '89168955...</td>\n",
       "    </tr>\n",
       "    <tr>\n",
       "      <th>4</th>\n",
       "      <td>{'id': 891327551943041024, 'id_str': '89132755...</td>\n",
       "    </tr>\n",
       "    <tr>\n",
       "      <th>...</th>\n",
       "      <td>...</td>\n",
       "    </tr>\n",
       "    <tr>\n",
       "      <th>289</th>\n",
       "      <td>{'id': 831670443132252160, 'id_str': '83167044...</td>\n",
       "    </tr>\n",
       "    <tr>\n",
       "      <th>290</th>\n",
       "      <td>{'id': 831650039864885250, 'id_str': '83165003...</td>\n",
       "    </tr>\n",
       "    <tr>\n",
       "      <th>291</th>\n",
       "      <td>{'id': 831552915512901632, 'id_str': '83155291...</td>\n",
       "    </tr>\n",
       "    <tr>\n",
       "      <th>292</th>\n",
       "      <td>{'id': 831322776149430272, 'id_str': '83132277...</td>\n",
       "    </tr>\n",
       "    <tr>\n",
       "      <th>293</th>\n",
       "      <td>{'id': 831314890077908992, 'id_str': '83131489...</td>\n",
       "    </tr>\n",
       "  </tbody>\n",
       "</table>\n",
       "<p>294 rows × 1 columns</p>\n",
       "</div>"
      ],
      "text/plain": [
       "                                                     0\n",
       "0    {'id': 892420639486877696, 'id_str': '89242063...\n",
       "1    {'id': 892177413194625024, 'id_str': '89217741...\n",
       "2    {'id': 891815175371796480, 'id_str': '89181517...\n",
       "3    {'id': 891689552724799489, 'id_str': '89168955...\n",
       "4    {'id': 891327551943041024, 'id_str': '89132755...\n",
       "..                                                 ...\n",
       "289  {'id': 831670443132252160, 'id_str': '83167044...\n",
       "290  {'id': 831650039864885250, 'id_str': '83165003...\n",
       "291  {'id': 831552915512901632, 'id_str': '83155291...\n",
       "292  {'id': 831322776149430272, 'id_str': '83132277...\n",
       "293  {'id': 831314890077908992, 'id_str': '83131489...\n",
       "\n",
       "[294 rows x 1 columns]"
      ]
     },
     "execution_count": 342,
     "metadata": {},
     "output_type": "execute_result"
    }
   ],
   "source": [
    "# Since there is noe empty list in the column media, expand the column\n",
    "media_df = pd.json_normalize(entities_df['media'])\n",
    "media_df"
   ]
  },
  {
   "cell_type": "code",
   "execution_count": 343,
   "metadata": {},
   "outputs": [
    {
     "name": "stdout",
     "output_type": "stream",
     "text": [
      "<class 'pandas.core.frame.DataFrame'>\n",
      "RangeIndex: 294 entries, 0 to 293\n",
      "Data columns (total 21 columns):\n",
      " #   Column               Non-Null Count  Dtype  \n",
      "---  ------               --------------  -----  \n",
      " 0   id                   259 non-null    float64\n",
      " 1   id_str               259 non-null    object \n",
      " 2   indices              259 non-null    object \n",
      " 3   media_url            259 non-null    object \n",
      " 4   media_url_https      259 non-null    object \n",
      " 5   url                  259 non-null    object \n",
      " 6   display_url          259 non-null    object \n",
      " 7   expanded_url         259 non-null    object \n",
      " 8   type                 259 non-null    object \n",
      " 9   sizes.thumb.w        259 non-null    float64\n",
      " 10  sizes.thumb.h        259 non-null    float64\n",
      " 11  sizes.thumb.resize   259 non-null    object \n",
      " 12  sizes.medium.w       259 non-null    float64\n",
      " 13  sizes.medium.h       259 non-null    float64\n",
      " 14  sizes.medium.resize  259 non-null    object \n",
      " 15  sizes.small.w        259 non-null    float64\n",
      " 16  sizes.small.h        259 non-null    float64\n",
      " 17  sizes.small.resize   259 non-null    object \n",
      " 18  sizes.large.w        259 non-null    float64\n",
      " 19  sizes.large.h        259 non-null    float64\n",
      " 20  sizes.large.resize   259 non-null    object \n",
      "dtypes: float64(9), object(12)\n",
      "memory usage: 48.4+ KB\n"
     ]
    }
   ],
   "source": [
    "# Since the column is a dictionary, expand it further\n",
    "media_df = pd.json_normalize(media_df[0])\n",
    "media_df.info()"
   ]
  },
  {
   "cell_type": "code",
   "execution_count": 344,
   "metadata": {},
   "outputs": [
    {
     "data": {
      "text/html": [
       "<div>\n",
       "<style scoped>\n",
       "    .dataframe tbody tr th:only-of-type {\n",
       "        vertical-align: middle;\n",
       "    }\n",
       "\n",
       "    .dataframe tbody tr th {\n",
       "        vertical-align: top;\n",
       "    }\n",
       "\n",
       "    .dataframe thead th {\n",
       "        text-align: right;\n",
       "    }\n",
       "</style>\n",
       "<table border=\"1\" class=\"dataframe\">\n",
       "  <thead>\n",
       "    <tr style=\"text-align: right;\">\n",
       "      <th></th>\n",
       "      <th>hashtags</th>\n",
       "      <th>symbols</th>\n",
       "      <th>user_mentions</th>\n",
       "      <th>urls</th>\n",
       "      <th>id</th>\n",
       "      <th>id_str</th>\n",
       "      <th>indices</th>\n",
       "      <th>media_url</th>\n",
       "      <th>media_url_https</th>\n",
       "      <th>url</th>\n",
       "      <th>...</th>\n",
       "      <th>sizes.medium.w</th>\n",
       "      <th>sizes.medium.h</th>\n",
       "      <th>sizes.medium.resize</th>\n",
       "      <th>sizes.small.w</th>\n",
       "      <th>sizes.small.h</th>\n",
       "      <th>sizes.small.resize</th>\n",
       "      <th>sizes.large.w</th>\n",
       "      <th>sizes.large.h</th>\n",
       "      <th>sizes.large.resize</th>\n",
       "      <th>tweet_id</th>\n",
       "    </tr>\n",
       "  </thead>\n",
       "  <tbody>\n",
       "    <tr>\n",
       "      <th>0</th>\n",
       "      <td></td>\n",
       "      <td>[]</td>\n",
       "      <td></td>\n",
       "      <td>NaN</td>\n",
       "      <td>8.924206e+17</td>\n",
       "      <td>892420639486877696</td>\n",
       "      <td>[86, 109]</td>\n",
       "      <td>http://pbs.twimg.com/media/DGKD1-bXoAAIAUK.jpg</td>\n",
       "      <td>https://pbs.twimg.com/media/DGKD1-bXoAAIAUK.jpg</td>\n",
       "      <td>https://t.co/MgUWQ76dJU</td>\n",
       "      <td>...</td>\n",
       "      <td>540.0</td>\n",
       "      <td>528.0</td>\n",
       "      <td>fit</td>\n",
       "      <td>540.0</td>\n",
       "      <td>528.0</td>\n",
       "      <td>fit</td>\n",
       "      <td>540.0</td>\n",
       "      <td>528.0</td>\n",
       "      <td>fit</td>\n",
       "      <td>892420643555336193</td>\n",
       "    </tr>\n",
       "    <tr>\n",
       "      <th>1</th>\n",
       "      <td></td>\n",
       "      <td>[]</td>\n",
       "      <td></td>\n",
       "      <td>NaN</td>\n",
       "      <td>8.921774e+17</td>\n",
       "      <td>892177413194625024</td>\n",
       "      <td>[139, 162]</td>\n",
       "      <td>http://pbs.twimg.com/media/DGGmoV4XsAAUL6n.jpg</td>\n",
       "      <td>https://pbs.twimg.com/media/DGGmoV4XsAAUL6n.jpg</td>\n",
       "      <td>https://t.co/0Xxu71qeIV</td>\n",
       "      <td>...</td>\n",
       "      <td>1055.0</td>\n",
       "      <td>1200.0</td>\n",
       "      <td>fit</td>\n",
       "      <td>598.0</td>\n",
       "      <td>680.0</td>\n",
       "      <td>fit</td>\n",
       "      <td>1407.0</td>\n",
       "      <td>1600.0</td>\n",
       "      <td>fit</td>\n",
       "      <td>892177421306343426</td>\n",
       "    </tr>\n",
       "    <tr>\n",
       "      <th>2</th>\n",
       "      <td></td>\n",
       "      <td>[]</td>\n",
       "      <td></td>\n",
       "      <td>NaN</td>\n",
       "      <td>8.918152e+17</td>\n",
       "      <td>891815175371796480</td>\n",
       "      <td>[122, 145]</td>\n",
       "      <td>http://pbs.twimg.com/media/DGBdLU1WsAANxJ9.jpg</td>\n",
       "      <td>https://pbs.twimg.com/media/DGBdLU1WsAANxJ9.jpg</td>\n",
       "      <td>https://t.co/wUnZnhtVJB</td>\n",
       "      <td>...</td>\n",
       "      <td>901.0</td>\n",
       "      <td>1200.0</td>\n",
       "      <td>fit</td>\n",
       "      <td>510.0</td>\n",
       "      <td>680.0</td>\n",
       "      <td>fit</td>\n",
       "      <td>1201.0</td>\n",
       "      <td>1600.0</td>\n",
       "      <td>fit</td>\n",
       "      <td>891815181378084864</td>\n",
       "    </tr>\n",
       "    <tr>\n",
       "      <th>3</th>\n",
       "      <td></td>\n",
       "      <td>[]</td>\n",
       "      <td></td>\n",
       "      <td>NaN</td>\n",
       "      <td>8.916896e+17</td>\n",
       "      <td>891689552724799489</td>\n",
       "      <td>[80, 103]</td>\n",
       "      <td>http://pbs.twimg.com/media/DF_q7IAWsAEuuN8.jpg</td>\n",
       "      <td>https://pbs.twimg.com/media/DF_q7IAWsAEuuN8.jpg</td>\n",
       "      <td>https://t.co/tD36da7qLQ</td>\n",
       "      <td>...</td>\n",
       "      <td>901.0</td>\n",
       "      <td>1200.0</td>\n",
       "      <td>fit</td>\n",
       "      <td>510.0</td>\n",
       "      <td>680.0</td>\n",
       "      <td>fit</td>\n",
       "      <td>1201.0</td>\n",
       "      <td>1600.0</td>\n",
       "      <td>fit</td>\n",
       "      <td>891689557279858688</td>\n",
       "    </tr>\n",
       "    <tr>\n",
       "      <th>4</th>\n",
       "      <td>BarkWeek</td>\n",
       "      <td>[]</td>\n",
       "      <td></td>\n",
       "      <td>NaN</td>\n",
       "      <td>8.913276e+17</td>\n",
       "      <td>891327551943041024</td>\n",
       "      <td>[139, 162]</td>\n",
       "      <td>http://pbs.twimg.com/media/DF6hr6AVYAAZ8G8.jpg</td>\n",
       "      <td>https://pbs.twimg.com/media/DF6hr6AVYAAZ8G8.jpg</td>\n",
       "      <td>https://t.co/AtUZn91f7f</td>\n",
       "      <td>...</td>\n",
       "      <td>720.0</td>\n",
       "      <td>540.0</td>\n",
       "      <td>fit</td>\n",
       "      <td>680.0</td>\n",
       "      <td>510.0</td>\n",
       "      <td>fit</td>\n",
       "      <td>720.0</td>\n",
       "      <td>540.0</td>\n",
       "      <td>fit</td>\n",
       "      <td>891327558926688256</td>\n",
       "    </tr>\n",
       "    <tr>\n",
       "      <th>...</th>\n",
       "      <td>...</td>\n",
       "      <td>...</td>\n",
       "      <td>...</td>\n",
       "      <td>...</td>\n",
       "      <td>...</td>\n",
       "      <td>...</td>\n",
       "      <td>...</td>\n",
       "      <td>...</td>\n",
       "      <td>...</td>\n",
       "      <td>...</td>\n",
       "      <td>...</td>\n",
       "      <td>...</td>\n",
       "      <td>...</td>\n",
       "      <td>...</td>\n",
       "      <td>...</td>\n",
       "      <td>...</td>\n",
       "      <td>...</td>\n",
       "      <td>...</td>\n",
       "      <td>...</td>\n",
       "      <td>...</td>\n",
       "      <td>...</td>\n",
       "    </tr>\n",
       "    <tr>\n",
       "      <th>289</th>\n",
       "      <td></td>\n",
       "      <td>[]</td>\n",
       "      <td></td>\n",
       "      <td>NaN</td>\n",
       "      <td>8.316704e+17</td>\n",
       "      <td>831670443132252160</td>\n",
       "      <td>[61, 84]</td>\n",
       "      <td>http://pbs.twimg.com/media/C4qv3JUW8AADirb.jpg</td>\n",
       "      <td>https://pbs.twimg.com/media/C4qv3JUW8AADirb.jpg</td>\n",
       "      <td>https://t.co/u6p4LxzHKg</td>\n",
       "      <td>...</td>\n",
       "      <td>899.0</td>\n",
       "      <td>1200.0</td>\n",
       "      <td>fit</td>\n",
       "      <td>510.0</td>\n",
       "      <td>680.0</td>\n",
       "      <td>fit</td>\n",
       "      <td>1535.0</td>\n",
       "      <td>2048.0</td>\n",
       "      <td>fit</td>\n",
       "      <td>831670449226514432</td>\n",
       "    </tr>\n",
       "    <tr>\n",
       "      <th>290</th>\n",
       "      <td></td>\n",
       "      <td>[]</td>\n",
       "      <td></td>\n",
       "      <td>http://www.gofundme.com/bluethewhitehusky</td>\n",
       "      <td>8.316500e+17</td>\n",
       "      <td>831650039864885250</td>\n",
       "      <td>[139, 162]</td>\n",
       "      <td>http://pbs.twimg.com/media/C4qdThOWAAI3WX3.jpg</td>\n",
       "      <td>https://pbs.twimg.com/media/C4qdThOWAAI3WX3.jpg</td>\n",
       "      <td>https://t.co/1UHrKcaCiO</td>\n",
       "      <td>...</td>\n",
       "      <td>692.0</td>\n",
       "      <td>1200.0</td>\n",
       "      <td>fit</td>\n",
       "      <td>392.0</td>\n",
       "      <td>680.0</td>\n",
       "      <td>fit</td>\n",
       "      <td>1000.0</td>\n",
       "      <td>1734.0</td>\n",
       "      <td>fit</td>\n",
       "      <td>831650051525054464</td>\n",
       "    </tr>\n",
       "    <tr>\n",
       "      <th>291</th>\n",
       "      <td></td>\n",
       "      <td>[]</td>\n",
       "      <td></td>\n",
       "      <td>NaN</td>\n",
       "      <td>8.315529e+17</td>\n",
       "      <td>831552915512901632</td>\n",
       "      <td>[118, 141]</td>\n",
       "      <td>http://pbs.twimg.com/media/C4pE-I0WQAABveu.jpg</td>\n",
       "      <td>https://pbs.twimg.com/media/C4pE-I0WQAABveu.jpg</td>\n",
       "      <td>https://t.co/BCbmFYLrse</td>\n",
       "      <td>...</td>\n",
       "      <td>732.0</td>\n",
       "      <td>1200.0</td>\n",
       "      <td>fit</td>\n",
       "      <td>415.0</td>\n",
       "      <td>680.0</td>\n",
       "      <td>fit</td>\n",
       "      <td>1151.0</td>\n",
       "      <td>1886.0</td>\n",
       "      <td>fit</td>\n",
       "      <td>831552930092285952</td>\n",
       "    </tr>\n",
       "    <tr>\n",
       "      <th>292</th>\n",
       "      <td></td>\n",
       "      <td>[]</td>\n",
       "      <td></td>\n",
       "      <td>NaN</td>\n",
       "      <td>8.313228e+17</td>\n",
       "      <td>831322776149430272</td>\n",
       "      <td>[117, 140]</td>\n",
       "      <td>http://pbs.twimg.com/media/C4lzqQ4UEAApzU0.jpg</td>\n",
       "      <td>https://pbs.twimg.com/media/C4lzqQ4UEAApzU0.jpg</td>\n",
       "      <td>https://t.co/Xc0gyovCtK</td>\n",
       "      <td>...</td>\n",
       "      <td>900.0</td>\n",
       "      <td>1200.0</td>\n",
       "      <td>fit</td>\n",
       "      <td>510.0</td>\n",
       "      <td>680.0</td>\n",
       "      <td>fit</td>\n",
       "      <td>1224.0</td>\n",
       "      <td>1632.0</td>\n",
       "      <td>fit</td>\n",
       "      <td>831322785565769729</td>\n",
       "    </tr>\n",
       "    <tr>\n",
       "      <th>293</th>\n",
       "      <td>WKCDogShow</td>\n",
       "      <td>[]</td>\n",
       "      <td></td>\n",
       "      <td>NaN</td>\n",
       "      <td>8.313149e+17</td>\n",
       "      <td>831314890077908992</td>\n",
       "      <td>[135, 158]</td>\n",
       "      <td>http://pbs.twimg.com/media/C4lsfO-WMAAWQQj.jpg</td>\n",
       "      <td>https://pbs.twimg.com/media/C4lsfO-WMAAWQQj.jpg</td>\n",
       "      <td>https://t.co/jd6lYhfdH4</td>\n",
       "      <td>...</td>\n",
       "      <td>900.0</td>\n",
       "      <td>1200.0</td>\n",
       "      <td>fit</td>\n",
       "      <td>510.0</td>\n",
       "      <td>680.0</td>\n",
       "      <td>fit</td>\n",
       "      <td>1536.0</td>\n",
       "      <td>2048.0</td>\n",
       "      <td>fit</td>\n",
       "      <td>831315979191906304</td>\n",
       "    </tr>\n",
       "  </tbody>\n",
       "</table>\n",
       "<p>294 rows × 26 columns</p>\n",
       "</div>"
      ],
      "text/plain": [
       "       hashtags symbols user_mentions  \\\n",
       "0                    []                 \n",
       "1                    []                 \n",
       "2                    []                 \n",
       "3                    []                 \n",
       "4      BarkWeek      []                 \n",
       "..          ...     ...           ...   \n",
       "289                  []                 \n",
       "290                  []                 \n",
       "291                  []                 \n",
       "292                  []                 \n",
       "293  WKCDogShow      []                 \n",
       "\n",
       "                                          urls            id  \\\n",
       "0                                          NaN  8.924206e+17   \n",
       "1                                          NaN  8.921774e+17   \n",
       "2                                          NaN  8.918152e+17   \n",
       "3                                          NaN  8.916896e+17   \n",
       "4                                          NaN  8.913276e+17   \n",
       "..                                         ...           ...   \n",
       "289                                        NaN  8.316704e+17   \n",
       "290  http://www.gofundme.com/bluethewhitehusky  8.316500e+17   \n",
       "291                                        NaN  8.315529e+17   \n",
       "292                                        NaN  8.313228e+17   \n",
       "293                                        NaN  8.313149e+17   \n",
       "\n",
       "                 id_str     indices  \\\n",
       "0    892420639486877696   [86, 109]   \n",
       "1    892177413194625024  [139, 162]   \n",
       "2    891815175371796480  [122, 145]   \n",
       "3    891689552724799489   [80, 103]   \n",
       "4    891327551943041024  [139, 162]   \n",
       "..                  ...         ...   \n",
       "289  831670443132252160    [61, 84]   \n",
       "290  831650039864885250  [139, 162]   \n",
       "291  831552915512901632  [118, 141]   \n",
       "292  831322776149430272  [117, 140]   \n",
       "293  831314890077908992  [135, 158]   \n",
       "\n",
       "                                          media_url  \\\n",
       "0    http://pbs.twimg.com/media/DGKD1-bXoAAIAUK.jpg   \n",
       "1    http://pbs.twimg.com/media/DGGmoV4XsAAUL6n.jpg   \n",
       "2    http://pbs.twimg.com/media/DGBdLU1WsAANxJ9.jpg   \n",
       "3    http://pbs.twimg.com/media/DF_q7IAWsAEuuN8.jpg   \n",
       "4    http://pbs.twimg.com/media/DF6hr6AVYAAZ8G8.jpg   \n",
       "..                                              ...   \n",
       "289  http://pbs.twimg.com/media/C4qv3JUW8AADirb.jpg   \n",
       "290  http://pbs.twimg.com/media/C4qdThOWAAI3WX3.jpg   \n",
       "291  http://pbs.twimg.com/media/C4pE-I0WQAABveu.jpg   \n",
       "292  http://pbs.twimg.com/media/C4lzqQ4UEAApzU0.jpg   \n",
       "293  http://pbs.twimg.com/media/C4lsfO-WMAAWQQj.jpg   \n",
       "\n",
       "                                     media_url_https                      url  \\\n",
       "0    https://pbs.twimg.com/media/DGKD1-bXoAAIAUK.jpg  https://t.co/MgUWQ76dJU   \n",
       "1    https://pbs.twimg.com/media/DGGmoV4XsAAUL6n.jpg  https://t.co/0Xxu71qeIV   \n",
       "2    https://pbs.twimg.com/media/DGBdLU1WsAANxJ9.jpg  https://t.co/wUnZnhtVJB   \n",
       "3    https://pbs.twimg.com/media/DF_q7IAWsAEuuN8.jpg  https://t.co/tD36da7qLQ   \n",
       "4    https://pbs.twimg.com/media/DF6hr6AVYAAZ8G8.jpg  https://t.co/AtUZn91f7f   \n",
       "..                                               ...                      ...   \n",
       "289  https://pbs.twimg.com/media/C4qv3JUW8AADirb.jpg  https://t.co/u6p4LxzHKg   \n",
       "290  https://pbs.twimg.com/media/C4qdThOWAAI3WX3.jpg  https://t.co/1UHrKcaCiO   \n",
       "291  https://pbs.twimg.com/media/C4pE-I0WQAABveu.jpg  https://t.co/BCbmFYLrse   \n",
       "292  https://pbs.twimg.com/media/C4lzqQ4UEAApzU0.jpg  https://t.co/Xc0gyovCtK   \n",
       "293  https://pbs.twimg.com/media/C4lsfO-WMAAWQQj.jpg  https://t.co/jd6lYhfdH4   \n",
       "\n",
       "     ... sizes.medium.w sizes.medium.h sizes.medium.resize  sizes.small.w  \\\n",
       "0    ...          540.0          528.0                 fit          540.0   \n",
       "1    ...         1055.0         1200.0                 fit          598.0   \n",
       "2    ...          901.0         1200.0                 fit          510.0   \n",
       "3    ...          901.0         1200.0                 fit          510.0   \n",
       "4    ...          720.0          540.0                 fit          680.0   \n",
       "..   ...            ...            ...                 ...            ...   \n",
       "289  ...          899.0         1200.0                 fit          510.0   \n",
       "290  ...          692.0         1200.0                 fit          392.0   \n",
       "291  ...          732.0         1200.0                 fit          415.0   \n",
       "292  ...          900.0         1200.0                 fit          510.0   \n",
       "293  ...          900.0         1200.0                 fit          510.0   \n",
       "\n",
       "     sizes.small.h sizes.small.resize  sizes.large.w  sizes.large.h  \\\n",
       "0            528.0                fit          540.0          528.0   \n",
       "1            680.0                fit         1407.0         1600.0   \n",
       "2            680.0                fit         1201.0         1600.0   \n",
       "3            680.0                fit         1201.0         1600.0   \n",
       "4            510.0                fit          720.0          540.0   \n",
       "..             ...                ...            ...            ...   \n",
       "289          680.0                fit         1535.0         2048.0   \n",
       "290          680.0                fit         1000.0         1734.0   \n",
       "291          680.0                fit         1151.0         1886.0   \n",
       "292          680.0                fit         1224.0         1632.0   \n",
       "293          680.0                fit         1536.0         2048.0   \n",
       "\n",
       "    sizes.large.resize            tweet_id  \n",
       "0                  fit  892420643555336193  \n",
       "1                  fit  892177421306343426  \n",
       "2                  fit  891815181378084864  \n",
       "3                  fit  891689557279858688  \n",
       "4                  fit  891327558926688256  \n",
       "..                 ...                 ...  \n",
       "289                fit  831670449226514432  \n",
       "290                fit  831650051525054464  \n",
       "291                fit  831552930092285952  \n",
       "292                fit  831322785565769729  \n",
       "293                fit  831315979191906304  \n",
       "\n",
       "[294 rows x 26 columns]"
      ]
     },
     "execution_count": 344,
     "metadata": {},
     "output_type": "execute_result"
    }
   ],
   "source": [
    "# Join the media_df with the entities_df\n",
    "entities_df = entities_df.join(media_df)\n",
    "# Remove the media column\n",
    "entities_df = entities_df.drop(columns='media')\n",
    "# Add the column twitter_id to the entities_df\n",
    "entities_df['tweet_id'] = dog_rating_tweets['tweet_id']\n",
    "# Save the entities_df to csv\n",
    "entities_df.to_csv('entities.csv')\n",
    "entities_df"
   ]
  },
  {
   "cell_type": "code",
   "execution_count": 345,
   "metadata": {},
   "outputs": [],
   "source": [
    "# Copy the hashtags, user_mentions, url, sizes.large.w, and sizes.large.h to dog_rating_tweets\n",
    "dog_rating_tweets['entities_hashtags'] = entities_df['hashtags']\n",
    "dog_rating_tweets['entities_user_mentions'] = entities_df['user_mentions']\n",
    "dog_rating_tweets['entities_url'] = entities_df['url']\n",
    "dog_rating_tweets['entities_size_large_w'] = entities_df['sizes.large.w']\n",
    "dog_rating_tweets['entities_size_large_h'] = entities_df['sizes.large.h']\n",
    "# drop the entities column\n",
    "dog_rating_tweets = dog_rating_tweets.drop(columns = 'entities')"
   ]
  },
  {
   "cell_type": "markdown",
   "metadata": {},
   "source": [
    "#### Test"
   ]
  },
  {
   "cell_type": "code",
   "execution_count": 346,
   "metadata": {},
   "outputs": [
    {
     "name": "stdout",
     "output_type": "stream",
     "text": [
      "<class 'pandas.core.frame.DataFrame'>\n",
      "Int64Index: 294 entries, 0 to 293\n",
      "Data columns (total 36 columns):\n",
      " #   Column                   Non-Null Count  Dtype              \n",
      "---  ------                   --------------  -----              \n",
      " 0   created_at               294 non-null    datetime64[ns, UTC]\n",
      " 1   tweet_id                 294 non-null    object             \n",
      " 2   full_text                294 non-null    object             \n",
      " 3   truncated                294 non-null    bool               \n",
      " 4   display_text_range       294 non-null    int64              \n",
      " 5   source                   294 non-null    object             \n",
      " 6   in_reply_to_status_id    294 non-null    object             \n",
      " 7   in_reply_to_user_id      294 non-null    object             \n",
      " 8   in_reply_to_screen_name  20 non-null     object             \n",
      " 9   user                     294 non-null    object             \n",
      " 10  is_quote_status          294 non-null    bool               \n",
      " 11  retweet_count            294 non-null    int64              \n",
      " 12  favorite_count           294 non-null    int64              \n",
      " 13  favorited                294 non-null    bool               \n",
      " 14  retweeted                294 non-null    bool               \n",
      " 15  possibly_sensitive       294 non-null    bool               \n",
      " 16  lang                     294 non-null    object             \n",
      " 17  quoted_status_id         12 non-null     float64            \n",
      " 18  quoted_status_id_str     12 non-null     float64            \n",
      " 19  quoted_status_permalink  12 non-null     object             \n",
      " 20  quoted_status            12 non-null     object             \n",
      " 21  expanded_urls            276 non-null    object             \n",
      " 22  rating_numerator         294 non-null    int64              \n",
      " 23  rating_denominator       294 non-null    int64              \n",
      " 24  jpg_url                  259 non-null    object             \n",
      " 25  img_num                  259 non-null    float64            \n",
      " 26  dog_category             294 non-null    object             \n",
      " 27  model                    294 non-null    object             \n",
      " 28  dog_breed                294 non-null    object             \n",
      " 29  conf                     231 non-null    float64            \n",
      " 30  dog_name                 294 non-null    object             \n",
      " 31  entities_hashtags        294 non-null    object             \n",
      " 32  entities_user_mentions   294 non-null    object             \n",
      " 33  entities_url             259 non-null    object             \n",
      " 34  entities_size_large_w    259 non-null    float64            \n",
      " 35  entities_size_large_h    259 non-null    float64            \n",
      "dtypes: bool(5), datetime64[ns, UTC](1), float64(6), int64(5), object(19)\n",
      "memory usage: 74.9+ KB\n"
     ]
    }
   ],
   "source": [
    "dog_rating_tweets.info()"
   ]
  },
  {
   "attachments": {},
   "cell_type": "markdown",
   "metadata": {},
   "source": [
    "#### Issue#10.C: The column user is a dictionary"
   ]
  },
  {
   "cell_type": "markdown",
   "metadata": {},
   "source": [
    "#### Define"
   ]
  },
  {
   "cell_type": "markdown",
   "metadata": {},
   "source": [
    "1. Create a dataframe named user_df to expand the column user\n",
    "2. Get the appropriate column in the user_df to replace the user column"
   ]
  },
  {
   "cell_type": "markdown",
   "metadata": {},
   "source": [
    "#### Test"
   ]
  },
  {
   "cell_type": "code",
   "execution_count": 347,
   "metadata": {},
   "outputs": [
    {
     "name": "stdout",
     "output_type": "stream",
     "text": [
      "<class 'pandas.core.frame.DataFrame'>\n",
      "RangeIndex: 294 entries, 0 to 293\n",
      "Data columns (total 44 columns):\n",
      " #   Column                              Non-Null Count  Dtype \n",
      "---  ------                              --------------  ----- \n",
      " 0   id                                  294 non-null    int64 \n",
      " 1   id_str                              294 non-null    object\n",
      " 2   name                                294 non-null    object\n",
      " 3   screen_name                         294 non-null    object\n",
      " 4   location                            294 non-null    object\n",
      " 5   description                         294 non-null    object\n",
      " 6   url                                 294 non-null    object\n",
      " 7   protected                           294 non-null    bool  \n",
      " 8   followers_count                     294 non-null    int64 \n",
      " 9   friends_count                       294 non-null    int64 \n",
      " 10  listed_count                        294 non-null    int64 \n",
      " 11  created_at                          294 non-null    object\n",
      " 12  favourites_count                    294 non-null    int64 \n",
      " 13  utc_offset                          0 non-null      object\n",
      " 14  time_zone                           0 non-null      object\n",
      " 15  geo_enabled                         294 non-null    bool  \n",
      " 16  verified                            294 non-null    bool  \n",
      " 17  statuses_count                      294 non-null    int64 \n",
      " 18  lang                                0 non-null      object\n",
      " 19  contributors_enabled                294 non-null    bool  \n",
      " 20  is_translator                       294 non-null    bool  \n",
      " 21  is_translation_enabled              294 non-null    bool  \n",
      " 22  profile_background_color            294 non-null    object\n",
      " 23  profile_background_image_url        294 non-null    object\n",
      " 24  profile_background_image_url_https  294 non-null    object\n",
      " 25  profile_background_tile             294 non-null    bool  \n",
      " 26  profile_image_url                   294 non-null    object\n",
      " 27  profile_image_url_https             294 non-null    object\n",
      " 28  profile_banner_url                  294 non-null    object\n",
      " 29  profile_link_color                  294 non-null    object\n",
      " 30  profile_sidebar_border_color        294 non-null    object\n",
      " 31  profile_sidebar_fill_color          294 non-null    object\n",
      " 32  profile_text_color                  294 non-null    object\n",
      " 33  profile_use_background_image        294 non-null    bool  \n",
      " 34  has_extended_profile                294 non-null    bool  \n",
      " 35  default_profile                     294 non-null    bool  \n",
      " 36  default_profile_image               294 non-null    bool  \n",
      " 37  following                           0 non-null      object\n",
      " 38  follow_request_sent                 0 non-null      object\n",
      " 39  notifications                       0 non-null      object\n",
      " 40  translator_type                     294 non-null    object\n",
      " 41  withheld_in_countries               294 non-null    object\n",
      " 42  entities.url.urls                   294 non-null    object\n",
      " 43  entities.description.urls           294 non-null    object\n",
      "dtypes: bool(11), int64(6), object(27)\n",
      "memory usage: 79.1+ KB\n"
     ]
    }
   ],
   "source": [
    "# expand the user column\n",
    "user_df = pd.json_normalize(dog_rating_tweets['user'])\n",
    "user_df.info()"
   ]
  },
  {
   "cell_type": "code",
   "execution_count": 348,
   "metadata": {},
   "outputs": [],
   "source": [
    "# Use the screen_name as the user\n",
    "dog_rating_tweets['user'] = user_df['screen_name']"
   ]
  },
  {
   "cell_type": "code",
   "execution_count": 349,
   "metadata": {},
   "outputs": [],
   "source": [
    "# In order not to loose the data from the original user column, remove duplicates in user_df\n",
    "user_df.drop_duplicates(subset=['id'], inplace=True)"
   ]
  },
  {
   "cell_type": "code",
   "execution_count": 350,
   "metadata": {},
   "outputs": [],
   "source": [
    "# Save the user_df to csv\n",
    "user_df.to_csv('user.csv')"
   ]
  },
  {
   "cell_type": "markdown",
   "metadata": {},
   "source": [
    "#### Test"
   ]
  },
  {
   "cell_type": "code",
   "execution_count": 351,
   "metadata": {},
   "outputs": [
    {
     "data": {
      "text/plain": [
       "0      dog_rates\n",
       "1      dog_rates\n",
       "2      dog_rates\n",
       "3      dog_rates\n",
       "4      dog_rates\n",
       "         ...    \n",
       "289    dog_rates\n",
       "290    dog_rates\n",
       "291    dog_rates\n",
       "292    dog_rates\n",
       "293    dog_rates\n",
       "Name: user, Length: 294, dtype: object"
      ]
     },
     "execution_count": 351,
     "metadata": {},
     "output_type": "execute_result"
    }
   ],
   "source": [
    "dog_rating_tweets['user']"
   ]
  },
  {
   "cell_type": "markdown",
   "metadata": {},
   "source": [
    "## Storing Data\n",
    "Save gathered, assessed, and cleaned master dataset to a CSV file named \"twitter_archive_master.csv\"."
   ]
  },
  {
   "cell_type": "code",
   "execution_count": 352,
   "metadata": {},
   "outputs": [],
   "source": [
    "dog_rating_tweets.to_csv('twitter_archive_master.csv')"
   ]
  },
  {
   "cell_type": "code",
   "execution_count": 353,
   "metadata": {},
   "outputs": [
    {
     "name": "stdout",
     "output_type": "stream",
     "text": [
      "<class 'pandas.core.frame.DataFrame'>\n",
      "Int64Index: 294 entries, 0 to 293\n",
      "Data columns (total 36 columns):\n",
      " #   Column                   Non-Null Count  Dtype              \n",
      "---  ------                   --------------  -----              \n",
      " 0   created_at               294 non-null    datetime64[ns, UTC]\n",
      " 1   tweet_id                 294 non-null    object             \n",
      " 2   full_text                294 non-null    object             \n",
      " 3   truncated                294 non-null    bool               \n",
      " 4   display_text_range       294 non-null    int64              \n",
      " 5   source                   294 non-null    object             \n",
      " 6   in_reply_to_status_id    294 non-null    object             \n",
      " 7   in_reply_to_user_id      294 non-null    object             \n",
      " 8   in_reply_to_screen_name  20 non-null     object             \n",
      " 9   user                     294 non-null    object             \n",
      " 10  is_quote_status          294 non-null    bool               \n",
      " 11  retweet_count            294 non-null    int64              \n",
      " 12  favorite_count           294 non-null    int64              \n",
      " 13  favorited                294 non-null    bool               \n",
      " 14  retweeted                294 non-null    bool               \n",
      " 15  possibly_sensitive       294 non-null    bool               \n",
      " 16  lang                     294 non-null    object             \n",
      " 17  quoted_status_id         12 non-null     float64            \n",
      " 18  quoted_status_id_str     12 non-null     float64            \n",
      " 19  quoted_status_permalink  12 non-null     object             \n",
      " 20  quoted_status            12 non-null     object             \n",
      " 21  expanded_urls            276 non-null    object             \n",
      " 22  rating_numerator         294 non-null    int64              \n",
      " 23  rating_denominator       294 non-null    int64              \n",
      " 24  jpg_url                  259 non-null    object             \n",
      " 25  img_num                  259 non-null    float64            \n",
      " 26  dog_category             294 non-null    object             \n",
      " 27  model                    294 non-null    object             \n",
      " 28  dog_breed                294 non-null    object             \n",
      " 29  conf                     231 non-null    float64            \n",
      " 30  dog_name                 294 non-null    object             \n",
      " 31  entities_hashtags        294 non-null    object             \n",
      " 32  entities_user_mentions   294 non-null    object             \n",
      " 33  entities_url             259 non-null    object             \n",
      " 34  entities_size_large_w    259 non-null    float64            \n",
      " 35  entities_size_large_h    259 non-null    float64            \n",
      "dtypes: bool(5), datetime64[ns, UTC](1), float64(6), int64(5), object(19)\n",
      "memory usage: 74.9+ KB\n"
     ]
    }
   ],
   "source": [
    "dog_rating_tweets.info()"
   ]
  },
  {
   "cell_type": "markdown",
   "metadata": {},
   "source": [
    "## Analyzing and Visualizing Data\n",
    "In this section, analyze and visualize your wrangled data. You must produce at least **three (3) insights and one (1) visualization.**"
   ]
  },
  {
   "attachments": {},
   "cell_type": "markdown",
   "metadata": {},
   "source": [
    "In the following analysis, I would try to analyze what factors are affecting the tweeter interactions in terms of retweets and favorites to the tweets of the user dog_rates."
   ]
  },
  {
   "cell_type": "code",
   "execution_count": 354,
   "metadata": {},
   "outputs": [
    {
     "data": {
      "text/html": [
       "<div>\n",
       "<style scoped>\n",
       "    .dataframe tbody tr th:only-of-type {\n",
       "        vertical-align: middle;\n",
       "    }\n",
       "\n",
       "    .dataframe tbody tr th {\n",
       "        vertical-align: top;\n",
       "    }\n",
       "\n",
       "    .dataframe thead th {\n",
       "        text-align: right;\n",
       "    }\n",
       "</style>\n",
       "<table border=\"1\" class=\"dataframe\">\n",
       "  <thead>\n",
       "    <tr style=\"text-align: right;\">\n",
       "      <th></th>\n",
       "      <th>0</th>\n",
       "    </tr>\n",
       "  </thead>\n",
       "  <tbody>\n",
       "    <tr>\n",
       "      <th>id</th>\n",
       "      <td>4196983835</td>\n",
       "    </tr>\n",
       "    <tr>\n",
       "      <th>id_str</th>\n",
       "      <td>4196983835</td>\n",
       "    </tr>\n",
       "    <tr>\n",
       "      <th>name</th>\n",
       "      <td>WeRateDogs®</td>\n",
       "    </tr>\n",
       "    <tr>\n",
       "      <th>screen_name</th>\n",
       "      <td>dog_rates</td>\n",
       "    </tr>\n",
       "    <tr>\n",
       "      <th>location</th>\n",
       "      <td></td>\n",
       "    </tr>\n",
       "    <tr>\n",
       "      <th>description</th>\n",
       "      <td>Your Only Source For Professional Dog Ratings ...</td>\n",
       "    </tr>\n",
       "    <tr>\n",
       "      <th>url</th>\n",
       "      <td>https://t.co/YPc2Xq4Va2</td>\n",
       "    </tr>\n",
       "    <tr>\n",
       "      <th>protected</th>\n",
       "      <td>False</td>\n",
       "    </tr>\n",
       "    <tr>\n",
       "      <th>followers_count</th>\n",
       "      <td>9377120</td>\n",
       "    </tr>\n",
       "    <tr>\n",
       "      <th>friends_count</th>\n",
       "      <td>21</td>\n",
       "    </tr>\n",
       "    <tr>\n",
       "      <th>listed_count</th>\n",
       "      <td>7829</td>\n",
       "    </tr>\n",
       "    <tr>\n",
       "      <th>created_at</th>\n",
       "      <td>Sun Nov 15 21:41:29 +0000 2015</td>\n",
       "    </tr>\n",
       "    <tr>\n",
       "      <th>favourites_count</th>\n",
       "      <td>147455</td>\n",
       "    </tr>\n",
       "    <tr>\n",
       "      <th>utc_offset</th>\n",
       "      <td>None</td>\n",
       "    </tr>\n",
       "    <tr>\n",
       "      <th>time_zone</th>\n",
       "      <td>None</td>\n",
       "    </tr>\n",
       "    <tr>\n",
       "      <th>geo_enabled</th>\n",
       "      <td>True</td>\n",
       "    </tr>\n",
       "    <tr>\n",
       "      <th>verified</th>\n",
       "      <td>True</td>\n",
       "    </tr>\n",
       "    <tr>\n",
       "      <th>statuses_count</th>\n",
       "      <td>17599</td>\n",
       "    </tr>\n",
       "    <tr>\n",
       "      <th>lang</th>\n",
       "      <td>None</td>\n",
       "    </tr>\n",
       "    <tr>\n",
       "      <th>contributors_enabled</th>\n",
       "      <td>False</td>\n",
       "    </tr>\n",
       "    <tr>\n",
       "      <th>is_translator</th>\n",
       "      <td>False</td>\n",
       "    </tr>\n",
       "    <tr>\n",
       "      <th>is_translation_enabled</th>\n",
       "      <td>False</td>\n",
       "    </tr>\n",
       "    <tr>\n",
       "      <th>profile_background_color</th>\n",
       "      <td>000000</td>\n",
       "    </tr>\n",
       "    <tr>\n",
       "      <th>profile_background_image_url</th>\n",
       "      <td>http://abs.twimg.com/images/themes/theme1/bg.png</td>\n",
       "    </tr>\n",
       "    <tr>\n",
       "      <th>profile_background_image_url_https</th>\n",
       "      <td>https://abs.twimg.com/images/themes/theme1/bg.png</td>\n",
       "    </tr>\n",
       "    <tr>\n",
       "      <th>profile_background_tile</th>\n",
       "      <td>False</td>\n",
       "    </tr>\n",
       "    <tr>\n",
       "      <th>profile_image_url</th>\n",
       "      <td>http://pbs.twimg.com/profile_images/1598368568...</td>\n",
       "    </tr>\n",
       "    <tr>\n",
       "      <th>profile_image_url_https</th>\n",
       "      <td>https://pbs.twimg.com/profile_images/159836856...</td>\n",
       "    </tr>\n",
       "    <tr>\n",
       "      <th>profile_banner_url</th>\n",
       "      <td>https://pbs.twimg.com/profile_banners/41969838...</td>\n",
       "    </tr>\n",
       "    <tr>\n",
       "      <th>profile_link_color</th>\n",
       "      <td>F5ABB5</td>\n",
       "    </tr>\n",
       "    <tr>\n",
       "      <th>profile_sidebar_border_color</th>\n",
       "      <td>000000</td>\n",
       "    </tr>\n",
       "    <tr>\n",
       "      <th>profile_sidebar_fill_color</th>\n",
       "      <td>000000</td>\n",
       "    </tr>\n",
       "    <tr>\n",
       "      <th>profile_text_color</th>\n",
       "      <td>000000</td>\n",
       "    </tr>\n",
       "    <tr>\n",
       "      <th>profile_use_background_image</th>\n",
       "      <td>False</td>\n",
       "    </tr>\n",
       "    <tr>\n",
       "      <th>has_extended_profile</th>\n",
       "      <td>False</td>\n",
       "    </tr>\n",
       "    <tr>\n",
       "      <th>default_profile</th>\n",
       "      <td>False</td>\n",
       "    </tr>\n",
       "    <tr>\n",
       "      <th>default_profile_image</th>\n",
       "      <td>False</td>\n",
       "    </tr>\n",
       "    <tr>\n",
       "      <th>following</th>\n",
       "      <td>None</td>\n",
       "    </tr>\n",
       "    <tr>\n",
       "      <th>follow_request_sent</th>\n",
       "      <td>None</td>\n",
       "    </tr>\n",
       "    <tr>\n",
       "      <th>notifications</th>\n",
       "      <td>None</td>\n",
       "    </tr>\n",
       "    <tr>\n",
       "      <th>translator_type</th>\n",
       "      <td>none</td>\n",
       "    </tr>\n",
       "    <tr>\n",
       "      <th>withheld_in_countries</th>\n",
       "      <td>[]</td>\n",
       "    </tr>\n",
       "    <tr>\n",
       "      <th>entities.url.urls</th>\n",
       "      <td>[{'url': 'https://t.co/YPc2Xq4Va2', 'expanded_...</td>\n",
       "    </tr>\n",
       "    <tr>\n",
       "      <th>entities.description.urls</th>\n",
       "      <td>[]</td>\n",
       "    </tr>\n",
       "  </tbody>\n",
       "</table>\n",
       "</div>"
      ],
      "text/plain": [
       "                                                                                    0\n",
       "id                                                                         4196983835\n",
       "id_str                                                                     4196983835\n",
       "name                                                                      WeRateDogs®\n",
       "screen_name                                                                 dog_rates\n",
       "location                                                                             \n",
       "description                         Your Only Source For Professional Dog Ratings ...\n",
       "url                                                           https://t.co/YPc2Xq4Va2\n",
       "protected                                                                       False\n",
       "followers_count                                                               9377120\n",
       "friends_count                                                                      21\n",
       "listed_count                                                                     7829\n",
       "created_at                                             Sun Nov 15 21:41:29 +0000 2015\n",
       "favourites_count                                                               147455\n",
       "utc_offset                                                                       None\n",
       "time_zone                                                                        None\n",
       "geo_enabled                                                                      True\n",
       "verified                                                                         True\n",
       "statuses_count                                                                  17599\n",
       "lang                                                                             None\n",
       "contributors_enabled                                                            False\n",
       "is_translator                                                                   False\n",
       "is_translation_enabled                                                          False\n",
       "profile_background_color                                                       000000\n",
       "profile_background_image_url         http://abs.twimg.com/images/themes/theme1/bg.png\n",
       "profile_background_image_url_https  https://abs.twimg.com/images/themes/theme1/bg.png\n",
       "profile_background_tile                                                         False\n",
       "profile_image_url                   http://pbs.twimg.com/profile_images/1598368568...\n",
       "profile_image_url_https             https://pbs.twimg.com/profile_images/159836856...\n",
       "profile_banner_url                  https://pbs.twimg.com/profile_banners/41969838...\n",
       "profile_link_color                                                             F5ABB5\n",
       "profile_sidebar_border_color                                                   000000\n",
       "profile_sidebar_fill_color                                                     000000\n",
       "profile_text_color                                                             000000\n",
       "profile_use_background_image                                                    False\n",
       "has_extended_profile                                                            False\n",
       "default_profile                                                                 False\n",
       "default_profile_image                                                           False\n",
       "following                                                                        None\n",
       "follow_request_sent                                                              None\n",
       "notifications                                                                    None\n",
       "translator_type                                                                  none\n",
       "withheld_in_countries                                                              []\n",
       "entities.url.urls                   [{'url': 'https://t.co/YPc2Xq4Va2', 'expanded_...\n",
       "entities.description.urls                                                          []"
      ]
     },
     "execution_count": 354,
     "metadata": {},
     "output_type": "execute_result"
    }
   ],
   "source": [
    "# Profile of dog_rates\n",
    "user_df.T"
   ]
  },
  {
   "attachments": {},
   "cell_type": "markdown",
   "metadata": {},
   "source": [
    "The following is the summary of the profile of the tweeter account WeRateDogs"
   ]
  },
  {
   "cell_type": "code",
   "execution_count": 355,
   "metadata": {},
   "outputs": [
    {
     "name": "stdout",
     "output_type": "stream",
     "text": [
      "The tweeter account WeRateDogs® with the screen name dog_rates, discribes itself as... \n",
      "Your Only Source For Professional Dog Ratings Instagram and Facebook ➜ WeRateDogs partnerships@weratedogs.com | nonprofit: @15outof10 ⠀⠀⠀⠀⠀⠀⠀⠀⠀⠀⠀⠀\n",
      "\n",
      "The account is created on Sun Nov 15 21:41:29 +0000 2015 and currently have 9377120 followers and created a total of 17599 tweets and retweets.\n"
     ]
    }
   ],
   "source": [
    "print(f\"The tweeter account {user_df['name'][0]} with the screen name {user_df['screen_name'][0]}, discribes itself as... \\n{user_df['description'][0]}\\n\")\n",
    "print(f\"The account is created on {user_df['created_at'][0]} and currently have {user_df['followers_count'][0]} followers and created a total of {user_df['statuses_count'][0]} tweets and retweets.\")"
   ]
  },
  {
   "attachments": {},
   "cell_type": "markdown",
   "metadata": {},
   "source": [
    "Date range of the dataset"
   ]
  },
  {
   "cell_type": "code",
   "execution_count": 356,
   "metadata": {},
   "outputs": [
    {
     "data": {
      "text/plain": [
       "Timestamp('2017-02-14 01:35:49+0000', tz='UTC')"
      ]
     },
     "execution_count": 356,
     "metadata": {},
     "output_type": "execute_result"
    }
   ],
   "source": [
    "dog_rating_tweets[\"created_at\"].min()"
   ]
  },
  {
   "cell_type": "code",
   "execution_count": 357,
   "metadata": {},
   "outputs": [
    {
     "data": {
      "text/plain": [
       "Timestamp('2017-08-01 16:23:56+0000', tz='UTC')"
      ]
     },
     "execution_count": 357,
     "metadata": {},
     "output_type": "execute_result"
    }
   ],
   "source": [
    "dog_rating_tweets[\"created_at\"].max()"
   ]
  },
  {
   "attachments": {},
   "cell_type": "markdown",
   "metadata": {},
   "source": [
    "The range of the data set is from the 15th of November to the 1st of August 2017"
   ]
  },
  {
   "cell_type": "code",
   "execution_count": 358,
   "metadata": {},
   "outputs": [],
   "source": [
    "# Quarterly tweets and twitter interaction\n",
    "quarterly_tweets = dog_rating_tweets.groupby(pd.Grouper(key='created_at', axis=0, freq='QS', sort=True))\\\n",
    "    .apply(lambda x: pd.Series({\n",
    "        'num_of_tweet' : x['tweet_id'].count(),\n",
    "        'total_retweet' : x['retweet_count'].sum(),\n",
    "        'total_favorited': x['favorite_count'].sum(),\n",
    "        'average_retweet' : x['retweet_count'].mean(),\n",
    "        'average_favorited' : x['favorite_count'].mean()\n",
    "    })).reset_index()"
   ]
  },
  {
   "attachments": {},
   "cell_type": "markdown",
   "metadata": {},
   "source": [
    "The following will look how the number of tweets, total retweet, total favorited, average retweet and average favorited changed overtime"
   ]
  },
  {
   "cell_type": "code",
   "execution_count": 359,
   "metadata": {},
   "outputs": [
    {
     "data": {
      "text/html": [
       "<div>\n",
       "<style scoped>\n",
       "    .dataframe tbody tr th:only-of-type {\n",
       "        vertical-align: middle;\n",
       "    }\n",
       "\n",
       "    .dataframe tbody tr th {\n",
       "        vertical-align: top;\n",
       "    }\n",
       "\n",
       "    .dataframe thead th {\n",
       "        text-align: right;\n",
       "    }\n",
       "</style>\n",
       "<table border=\"1\" class=\"dataframe\">\n",
       "  <thead>\n",
       "    <tr style=\"text-align: right;\">\n",
       "      <th></th>\n",
       "      <th>created_at</th>\n",
       "      <th>num_of_tweet</th>\n",
       "      <th>total_retweet</th>\n",
       "      <th>total_favorited</th>\n",
       "      <th>average_retweet</th>\n",
       "      <th>average_favorited</th>\n",
       "    </tr>\n",
       "  </thead>\n",
       "  <tbody>\n",
       "    <tr>\n",
       "      <th>0</th>\n",
       "      <td>2017-01-01 00:00:00+00:00</td>\n",
       "      <td>96.0</td>\n",
       "      <td>298995.0</td>\n",
       "      <td>1388732.0</td>\n",
       "      <td>3114.531250</td>\n",
       "      <td>14465.958333</td>\n",
       "    </tr>\n",
       "    <tr>\n",
       "      <th>1</th>\n",
       "      <td>2017-04-01 00:00:00+00:00</td>\n",
       "      <td>143.0</td>\n",
       "      <td>711503.0</td>\n",
       "      <td>3086864.0</td>\n",
       "      <td>4975.545455</td>\n",
       "      <td>21586.461538</td>\n",
       "    </tr>\n",
       "    <tr>\n",
       "      <th>2</th>\n",
       "      <td>2017-07-01 00:00:00+00:00</td>\n",
       "      <td>55.0</td>\n",
       "      <td>301440.0</td>\n",
       "      <td>1471365.0</td>\n",
       "      <td>5480.727273</td>\n",
       "      <td>26752.090909</td>\n",
       "    </tr>\n",
       "  </tbody>\n",
       "</table>\n",
       "</div>"
      ],
      "text/plain": [
       "                 created_at  num_of_tweet  total_retweet  total_favorited  \\\n",
       "0 2017-01-01 00:00:00+00:00          96.0       298995.0        1388732.0   \n",
       "1 2017-04-01 00:00:00+00:00         143.0       711503.0        3086864.0   \n",
       "2 2017-07-01 00:00:00+00:00          55.0       301440.0        1471365.0   \n",
       "\n",
       "   average_retweet  average_favorited  \n",
       "0      3114.531250       14465.958333  \n",
       "1      4975.545455       21586.461538  \n",
       "2      5480.727273       26752.090909  "
      ]
     },
     "execution_count": 359,
     "metadata": {},
     "output_type": "execute_result"
    }
   ],
   "source": [
    "quarterly_tweets.head()"
   ]
  },
  {
   "cell_type": "code",
   "execution_count": 360,
   "metadata": {},
   "outputs": [
    {
     "name": "stderr",
     "output_type": "stream",
     "text": [
      "/home/biogear13/miniconda3/envs/minimal_ds/lib/python3.10/site-packages/pandas/core/arrays/datetimes.py:1143: UserWarning: Converting to PeriodArray/Index representation will drop timezone information.\n",
      "  warnings.warn(\n"
     ]
    },
    {
     "data": {
      "text/plain": [
       "<PeriodArray>\n",
       "['2017Q1', '2017Q2', '2017Q3']\n",
       "Length: 3, dtype: period[Q-DEC]"
      ]
     },
     "execution_count": 360,
     "metadata": {},
     "output_type": "execute_result"
    }
   ],
   "source": [
    "# Create a quarter column\n",
    "quarterly_tweets['quarter']=quarterly_tweets['created_at'].apply(lambda x: x.to_period(\"Q\"))\n",
    "quarterly_tweets['quarter'].unique()"
   ]
  },
  {
   "cell_type": "code",
   "execution_count": 361,
   "metadata": {},
   "outputs": [],
   "source": [
    "# import modules for graphing\n",
    "import matplotlib.pyplot as plt\n",
    "import seaborn as sns"
   ]
  },
  {
   "cell_type": "code",
   "execution_count": 362,
   "metadata": {},
   "outputs": [
    {
     "data": {
      "text/plain": [
       "[Text(0, 0.5, '')]"
      ]
     },
     "execution_count": 362,
     "metadata": {},
     "output_type": "execute_result"
    },
    {
     "data": {
      "image/png": "[encoded data removed]",
      "text/plain": [
       "<Figure size 1080x2160 with 6 Axes>"
      ]
     },
     "metadata": {
      "needs_background": "light"
     },
     "output_type": "display_data"
    }
   ],
   "source": [
    "# Plot the different stats by quarter\n",
    "fig, axes = plt.subplots(3, 2, figsize=(15,30), sharey=True)\n",
    "fig.suptitle('Tweet Stats by Quarter')\n",
    "\n",
    "# By number of tweets\n",
    "tweets_color = ['grey' if (x<max(quarterly_tweets['num_of_tweet'])) else 'cyan' for x in quarterly_tweets['num_of_tweet']]\n",
    "sns.barplot(ax=axes[0,0], data=quarterly_tweets, x='num_of_tweet', y='quarter', linewidth=3, edgecolor=\"0.5\", palette=tweets_color)\n",
    "axes[0,0].set(xlabel='Number of Tweets')\n",
    "axes[0,0].set(ylabel=None)\n",
    "\n",
    "# By total retweets\n",
    "retweets_color = ['grey' if (x<max(quarterly_tweets['total_retweet'])) else 'cyan' for x in quarterly_tweets['total_retweet']]\n",
    "sns.barplot(ax=axes[1,0], data=quarterly_tweets, x='total_retweet', y='quarter', linewidth=3, edgecolor=\"0.5\", palette=retweets_color)\n",
    "axes[1,0].set(xlabel='Total Number of Retweets')\n",
    "axes[1,0].set(ylabel=None)\n",
    "\n",
    "# By average retweets\n",
    "retweets_color = ['grey' if (x<max(quarterly_tweets['average_retweet'])) else 'cyan' for x in quarterly_tweets['average_retweet']]\n",
    "sns.barplot(ax=axes[1,1], data=quarterly_tweets, x='average_retweet', y='quarter', linewidth=3, edgecolor=\"0.5\", palette=retweets_color)\n",
    "axes[1,1].set(xlabel='Average Number of Retweets')\n",
    "axes[1,1].set(ylabel=None)\n",
    "\n",
    "# By total favorited\n",
    "favorited_color = ['grey' if (x<max(quarterly_tweets['total_favorited'])) else 'cyan' for x in quarterly_tweets['total_favorited']]\n",
    "sns.barplot(ax=axes[2,0], data=quarterly_tweets, x='total_favorited', y='quarter', linewidth=3, edgecolor=\"0.5\", palette=favorited_color)\n",
    "axes[2,0].set(xlabel='Total Number of Favorited Tweets')\n",
    "axes[2,0].set(ylabel=None)\n",
    "\n",
    "# By average favorited\n",
    "favorited_color = ['grey' if (x<max(quarterly_tweets['average_favorited'])) else 'cyan' for x in quarterly_tweets['average_favorited']]\n",
    "sns.barplot(ax=axes[2,1], data=quarterly_tweets, x='average_favorited', y='quarter', linewidth=3, edgecolor=\"0.5\", palette=favorited_color)\n",
    "axes[2,1].set(xlabel='Average Number of Favorited Tweets')\n",
    "axes[2,1].set(ylabel=None)"
   ]
  },
  {
   "attachments": {},
   "cell_type": "markdown",
   "metadata": {},
   "source": [
    "* Frequency of tweets per quarter peaked at the first quarter\n",
    "* All of the measures of user engagement were increasing"
   ]
  },
  {
   "cell_type": "code",
   "execution_count": 363,
   "metadata": {},
   "outputs": [
    {
     "data": {
      "image/png": "[encoded data removed]",
      "text/plain": [
       "<Figure size 360x360 with 1 Axes>"
      ]
     },
     "metadata": {
      "needs_background": "light"
     },
     "output_type": "display_data"
    }
   ],
   "source": [
    "# Let's see the relationship between Retweets and Favorited Tweets\n",
    "corr=dog_rating_tweets['retweet_count'].corr(dog_rating_tweets['favorite_count'])\n",
    "sns.relplot(data=dog_rating_tweets, x='retweet_count', y='favorite_count')\n",
    "plt.xlabel('Number of times the tweet was retweeted')\n",
    "plt.ylabel('Number of times the tweet was favorited')\n",
    "plt.title(f'Correlation between Retweets vs Favorited ({round(corr,2)})')\n",
    "plt.show()\n"
   ]
  },
  {
   "attachments": {},
   "cell_type": "markdown",
   "metadata": {},
   "source": [
    "Since retweets and favorited are closely correlated, I picked the number of retweets as the dependent variable in the following analysis of the factors affecting engagements to the WeRateDogs® tweets."
   ]
  },
  {
   "attachments": {},
   "cell_type": "markdown",
   "metadata": {},
   "source": [
    "For these analysis I will look at the following factors:\n",
    "1. Dog related factors:  \n",
    "    a. Dog Rating  \n",
    "    b. Dog breed  \n",
    "2. Tweet related factors:  \n",
    "    a. Length of tweet text  \n",
    "    b. Size of image  \n",
    "3. Time related factors:  \n",
    "    a. Day of the week  \n",
    "    b. Time of the day  "
   ]
  },
  {
   "cell_type": "code",
   "execution_count": 364,
   "metadata": {},
   "outputs": [],
   "source": [
    "# Get the dataframe that includes only the columns to be analysed.\n",
    "analysis = dog_rating_tweets[['created_at','retweet_count', 'favorite_count','rating_numerator', 'rating_denominator','dog_breed','display_text_range','entities_size_large_w','entities_size_large_h']]"
   ]
  },
  {
   "attachments": {},
   "cell_type": "markdown",
   "metadata": {},
   "source": [
    "1. Dog related factors"
   ]
  },
  {
   "attachments": {},
   "cell_type": "markdown",
   "metadata": {},
   "source": [
    "    a. Dog rating"
   ]
  },
  {
   "cell_type": "code",
   "execution_count": 365,
   "metadata": {},
   "outputs": [
    {
     "data": {
      "text/plain": [
       "array([10,  0, 15])"
      ]
     },
     "execution_count": 365,
     "metadata": {},
     "output_type": "execute_result"
    }
   ],
   "source": [
    "#Check the unique value of rating_denominator\n",
    "analysis['rating_denominator'].unique()"
   ]
  },
  {
   "cell_type": "code",
   "execution_count": 366,
   "metadata": {},
   "outputs": [
    {
     "name": "stderr",
     "output_type": "stream",
     "text": [
      "/tmp/ipykernel_869/2080182855.py:2: SettingWithCopyWarning: \n",
      "A value is trying to be set on a copy of a slice from a DataFrame.\n",
      "Try using .loc[row_indexer,col_indexer] = value instead\n",
      "\n",
      "See the caveats in the documentation: https://pandas.pydata.org/pandas-docs/stable/user_guide/indexing.html#returning-a-view-versus-a-copy\n",
      "  analysis['dog_rate']=round(analysis['rating_numerator']/analysis['rating_denominator'],2)\n"
     ]
    }
   ],
   "source": [
    "#Since rating_denominator is not the same for all we will compute for the rate\n",
    "analysis['dog_rate']=round(analysis['rating_numerator']/analysis['rating_denominator'],2)"
   ]
  },
  {
   "cell_type": "code",
   "execution_count": 367,
   "metadata": {},
   "outputs": [
    {
     "data": {
      "image/png": "[encoded data removed]",
      "text/plain": [
       "<Figure size 360x360 with 1 Axes>"
      ]
     },
     "metadata": {
      "needs_background": "light"
     },
     "output_type": "display_data"
    }
   ],
   "source": [
    "# Let's see the relationship between Dog Rating and Retweet Counts\n",
    "corr=analysis['dog_rate'].corr(analysis['retweet_count'])\n",
    "sns.relplot(data=analysis, x='dog_rate', y='retweet_count')\n",
    "plt.xlabel('Dog Rating')\n",
    "plt.ylabel('Number of times the tweet was retweeted')\n",
    "plt.title(f'Correlation between Dog Rating vs Retweeted ({round(corr,2)})')\n",
    "plt.show()"
   ]
  },
  {
   "attachments": {},
   "cell_type": "markdown",
   "metadata": {},
   "source": [
    "* This graph shows that there some outliers in the data that might be affecting the computed correlation"
   ]
  },
  {
   "cell_type": "code",
   "execution_count": 368,
   "metadata": {},
   "outputs": [
    {
     "data": {
      "text/html": [
       "<div>\n",
       "<style scoped>\n",
       "    .dataframe tbody tr th:only-of-type {\n",
       "        vertical-align: middle;\n",
       "    }\n",
       "\n",
       "    .dataframe tbody tr th {\n",
       "        vertical-align: top;\n",
       "    }\n",
       "\n",
       "    .dataframe thead th {\n",
       "        text-align: right;\n",
       "    }\n",
       "</style>\n",
       "<table border=\"1\" class=\"dataframe\">\n",
       "  <thead>\n",
       "    <tr style=\"text-align: right;\">\n",
       "      <th></th>\n",
       "      <th>dog_rate</th>\n",
       "      <th>num_of_tweet</th>\n",
       "      <th>median_retweet</th>\n",
       "    </tr>\n",
       "  </thead>\n",
       "  <tbody>\n",
       "    <tr>\n",
       "      <th>0</th>\n",
       "      <td>0.00</td>\n",
       "      <td>1.0</td>\n",
       "      <td>2712.0</td>\n",
       "    </tr>\n",
       "    <tr>\n",
       "      <th>1</th>\n",
       "      <td>0.50</td>\n",
       "      <td>1.0</td>\n",
       "      <td>8102.0</td>\n",
       "    </tr>\n",
       "    <tr>\n",
       "      <th>2</th>\n",
       "      <td>0.60</td>\n",
       "      <td>1.0</td>\n",
       "      <td>2669.0</td>\n",
       "    </tr>\n",
       "    <tr>\n",
       "      <th>3</th>\n",
       "      <td>0.73</td>\n",
       "      <td>1.0</td>\n",
       "      <td>2.0</td>\n",
       "    </tr>\n",
       "    <tr>\n",
       "      <th>4</th>\n",
       "      <td>1.50</td>\n",
       "      <td>1.0</td>\n",
       "      <td>0.0</td>\n",
       "    </tr>\n",
       "    <tr>\n",
       "      <th>5</th>\n",
       "      <td>1.70</td>\n",
       "      <td>1.0</td>\n",
       "      <td>8.0</td>\n",
       "    </tr>\n",
       "    <tr>\n",
       "      <th>6</th>\n",
       "      <td>18.20</td>\n",
       "      <td>1.0</td>\n",
       "      <td>297.0</td>\n",
       "    </tr>\n",
       "    <tr>\n",
       "      <th>7</th>\n",
       "      <td>42.00</td>\n",
       "      <td>1.0</td>\n",
       "      <td>21.0</td>\n",
       "    </tr>\n",
       "    <tr>\n",
       "      <th>8</th>\n",
       "      <td>66.60</td>\n",
       "      <td>1.0</td>\n",
       "      <td>843.0</td>\n",
       "    </tr>\n",
       "    <tr>\n",
       "      <th>9</th>\n",
       "      <td>inf</td>\n",
       "      <td>1.0</td>\n",
       "      <td>63.0</td>\n",
       "    </tr>\n",
       "    <tr>\n",
       "      <th>10</th>\n",
       "      <td>1.00</td>\n",
       "      <td>6.0</td>\n",
       "      <td>676.0</td>\n",
       "    </tr>\n",
       "    <tr>\n",
       "      <th>11</th>\n",
       "      <td>1.10</td>\n",
       "      <td>19.0</td>\n",
       "      <td>3035.0</td>\n",
       "    </tr>\n",
       "    <tr>\n",
       "      <th>12</th>\n",
       "      <td>1.40</td>\n",
       "      <td>23.0</td>\n",
       "      <td>5478.0</td>\n",
       "    </tr>\n",
       "    <tr>\n",
       "      <th>13</th>\n",
       "      <td>1.20</td>\n",
       "      <td>99.0</td>\n",
       "      <td>3154.0</td>\n",
       "    </tr>\n",
       "    <tr>\n",
       "      <th>14</th>\n",
       "      <td>1.30</td>\n",
       "      <td>137.0</td>\n",
       "      <td>3911.0</td>\n",
       "    </tr>\n",
       "  </tbody>\n",
       "</table>\n",
       "</div>"
      ],
      "text/plain": [
       "    dog_rate  num_of_tweet  median_retweet\n",
       "0       0.00           1.0          2712.0\n",
       "1       0.50           1.0          8102.0\n",
       "2       0.60           1.0          2669.0\n",
       "3       0.73           1.0             2.0\n",
       "4       1.50           1.0             0.0\n",
       "5       1.70           1.0             8.0\n",
       "6      18.20           1.0           297.0\n",
       "7      42.00           1.0            21.0\n",
       "8      66.60           1.0           843.0\n",
       "9        inf           1.0            63.0\n",
       "10      1.00           6.0           676.0\n",
       "11      1.10          19.0          3035.0\n",
       "12      1.40          23.0          5478.0\n",
       "13      1.20          99.0          3154.0\n",
       "14      1.30         137.0          3911.0"
      ]
     },
     "execution_count": 368,
     "metadata": {},
     "output_type": "execute_result"
    }
   ],
   "source": [
    "outlier = analysis.groupby('dog_rate')\\\n",
    "    .apply(lambda x: pd.Series({\n",
    "        'num_of_tweet' : x['dog_rate'].count(),\n",
    "        'median_retweet' : x['retweet_count'].median()\n",
    "    })).sort_values(by='num_of_tweet').reset_index()\n",
    "outlier"
   ]
  },
  {
   "cell_type": "code",
   "execution_count": 369,
   "metadata": {},
   "outputs": [
    {
     "data": {
      "text/plain": [
       "0     0.00\n",
       "1     0.50\n",
       "2     0.60\n",
       "3     0.73\n",
       "4     1.50\n",
       "5     1.70\n",
       "6    18.20\n",
       "7    42.00\n",
       "8    66.60\n",
       "9      inf\n",
       "Name: dog_rate, dtype: float64"
      ]
     },
     "execution_count": 369,
     "metadata": {},
     "output_type": "execute_result"
    }
   ],
   "source": [
    "# As can be seen in the graph, there are outliers. First we will remove the rates that was only done once\n",
    "outlier = outlier[outlier['num_of_tweet']==1]['dog_rate']\n",
    "outlier\n"
   ]
  },
  {
   "cell_type": "code",
   "execution_count": 370,
   "metadata": {},
   "outputs": [
    {
     "data": {
      "text/html": [
       "<div>\n",
       "<style scoped>\n",
       "    .dataframe tbody tr th:only-of-type {\n",
       "        vertical-align: middle;\n",
       "    }\n",
       "\n",
       "    .dataframe tbody tr th {\n",
       "        vertical-align: top;\n",
       "    }\n",
       "\n",
       "    .dataframe thead th {\n",
       "        text-align: right;\n",
       "    }\n",
       "</style>\n",
       "<table border=\"1\" class=\"dataframe\">\n",
       "  <thead>\n",
       "    <tr style=\"text-align: right;\">\n",
       "      <th></th>\n",
       "      <th>created_at</th>\n",
       "      <th>retweet_count</th>\n",
       "      <th>favorite_count</th>\n",
       "      <th>rating_numerator</th>\n",
       "      <th>rating_denominator</th>\n",
       "      <th>dog_breed</th>\n",
       "      <th>display_text_range</th>\n",
       "      <th>entities_size_large_w</th>\n",
       "      <th>entities_size_large_h</th>\n",
       "      <th>dog_rate</th>\n",
       "    </tr>\n",
       "  </thead>\n",
       "  <tbody>\n",
       "    <tr>\n",
       "      <th>0</th>\n",
       "      <td>2017-08-01 16:23:56+00:00</td>\n",
       "      <td>6881</td>\n",
       "      <td>32923</td>\n",
       "      <td>13</td>\n",
       "      <td>10</td>\n",
       "      <td>unknown</td>\n",
       "      <td>86</td>\n",
       "      <td>540.0</td>\n",
       "      <td>528.0</td>\n",
       "      <td>1.3</td>\n",
       "    </tr>\n",
       "    <tr>\n",
       "      <th>1</th>\n",
       "      <td>2017-08-01 00:17:27+00:00</td>\n",
       "      <td>5181</td>\n",
       "      <td>28456</td>\n",
       "      <td>13</td>\n",
       "      <td>10</td>\n",
       "      <td>chihuahua</td>\n",
       "      <td>139</td>\n",
       "      <td>1407.0</td>\n",
       "      <td>1600.0</td>\n",
       "      <td>1.3</td>\n",
       "    </tr>\n",
       "    <tr>\n",
       "      <th>2</th>\n",
       "      <td>2017-07-31 00:18:03+00:00</td>\n",
       "      <td>3423</td>\n",
       "      <td>21380</td>\n",
       "      <td>12</td>\n",
       "      <td>10</td>\n",
       "      <td>chihuahua</td>\n",
       "      <td>122</td>\n",
       "      <td>1201.0</td>\n",
       "      <td>1600.0</td>\n",
       "      <td>1.2</td>\n",
       "    </tr>\n",
       "    <tr>\n",
       "      <th>3</th>\n",
       "      <td>2017-07-30 15:58:51+00:00</td>\n",
       "      <td>7089</td>\n",
       "      <td>35889</td>\n",
       "      <td>13</td>\n",
       "      <td>10</td>\n",
       "      <td>labrador_retriever</td>\n",
       "      <td>80</td>\n",
       "      <td>1201.0</td>\n",
       "      <td>1600.0</td>\n",
       "      <td>1.3</td>\n",
       "    </tr>\n",
       "    <tr>\n",
       "      <th>4</th>\n",
       "      <td>2017-07-29 16:00:24+00:00</td>\n",
       "      <td>7606</td>\n",
       "      <td>34325</td>\n",
       "      <td>12</td>\n",
       "      <td>10</td>\n",
       "      <td>basset</td>\n",
       "      <td>139</td>\n",
       "      <td>720.0</td>\n",
       "      <td>540.0</td>\n",
       "      <td>1.2</td>\n",
       "    </tr>\n",
       "    <tr>\n",
       "      <th>...</th>\n",
       "      <td>...</td>\n",
       "      <td>...</td>\n",
       "      <td>...</td>\n",
       "      <td>...</td>\n",
       "      <td>...</td>\n",
       "      <td>...</td>\n",
       "      <td>...</td>\n",
       "      <td>...</td>\n",
       "      <td>...</td>\n",
       "      <td>...</td>\n",
       "    </tr>\n",
       "    <tr>\n",
       "      <th>289</th>\n",
       "      <td>2017-02-15 01:04:21+00:00</td>\n",
       "      <td>1662</td>\n",
       "      <td>9510</td>\n",
       "      <td>13</td>\n",
       "      <td>10</td>\n",
       "      <td>pembroke</td>\n",
       "      <td>61</td>\n",
       "      <td>1535.0</td>\n",
       "      <td>2048.0</td>\n",
       "      <td>1.3</td>\n",
       "    </tr>\n",
       "    <tr>\n",
       "      <th>290</th>\n",
       "      <td>2017-02-14 23:43:18+00:00</td>\n",
       "      <td>1763</td>\n",
       "      <td>6495</td>\n",
       "      <td>13</td>\n",
       "      <td>10</td>\n",
       "      <td>eskimo_dog</td>\n",
       "      <td>139</td>\n",
       "      <td>1000.0</td>\n",
       "      <td>1734.0</td>\n",
       "      <td>1.3</td>\n",
       "    </tr>\n",
       "    <tr>\n",
       "      <th>291</th>\n",
       "      <td>2017-02-14 17:17:22+00:00</td>\n",
       "      <td>2120</td>\n",
       "      <td>8240</td>\n",
       "      <td>13</td>\n",
       "      <td>10</td>\n",
       "      <td>chihuahua</td>\n",
       "      <td>118</td>\n",
       "      <td>1151.0</td>\n",
       "      <td>1886.0</td>\n",
       "      <td>1.3</td>\n",
       "    </tr>\n",
       "    <tr>\n",
       "      <th>292</th>\n",
       "      <td>2017-02-14 02:02:51+00:00</td>\n",
       "      <td>1411</td>\n",
       "      <td>8504</td>\n",
       "      <td>12</td>\n",
       "      <td>10</td>\n",
       "      <td>old_english_sheepdog</td>\n",
       "      <td>117</td>\n",
       "      <td>1224.0</td>\n",
       "      <td>1632.0</td>\n",
       "      <td>1.2</td>\n",
       "    </tr>\n",
       "    <tr>\n",
       "      <th>293</th>\n",
       "      <td>2017-02-14 01:35:49+00:00</td>\n",
       "      <td>1018</td>\n",
       "      <td>6023</td>\n",
       "      <td>13</td>\n",
       "      <td>10</td>\n",
       "      <td>briard</td>\n",
       "      <td>135</td>\n",
       "      <td>1536.0</td>\n",
       "      <td>2048.0</td>\n",
       "      <td>1.3</td>\n",
       "    </tr>\n",
       "  </tbody>\n",
       "</table>\n",
       "<p>284 rows × 10 columns</p>\n",
       "</div>"
      ],
      "text/plain": [
       "                   created_at  retweet_count  favorite_count  \\\n",
       "0   2017-08-01 16:23:56+00:00           6881           32923   \n",
       "1   2017-08-01 00:17:27+00:00           5181           28456   \n",
       "2   2017-07-31 00:18:03+00:00           3423           21380   \n",
       "3   2017-07-30 15:58:51+00:00           7089           35889   \n",
       "4   2017-07-29 16:00:24+00:00           7606           34325   \n",
       "..                        ...            ...             ...   \n",
       "289 2017-02-15 01:04:21+00:00           1662            9510   \n",
       "290 2017-02-14 23:43:18+00:00           1763            6495   \n",
       "291 2017-02-14 17:17:22+00:00           2120            8240   \n",
       "292 2017-02-14 02:02:51+00:00           1411            8504   \n",
       "293 2017-02-14 01:35:49+00:00           1018            6023   \n",
       "\n",
       "     rating_numerator  rating_denominator             dog_breed  \\\n",
       "0                  13                  10               unknown   \n",
       "1                  13                  10             chihuahua   \n",
       "2                  12                  10             chihuahua   \n",
       "3                  13                  10    labrador_retriever   \n",
       "4                  12                  10                basset   \n",
       "..                ...                 ...                   ...   \n",
       "289                13                  10              pembroke   \n",
       "290                13                  10            eskimo_dog   \n",
       "291                13                  10             chihuahua   \n",
       "292                12                  10  old_english_sheepdog   \n",
       "293                13                  10                briard   \n",
       "\n",
       "     display_text_range  entities_size_large_w  entities_size_large_h  \\\n",
       "0                    86                  540.0                  528.0   \n",
       "1                   139                 1407.0                 1600.0   \n",
       "2                   122                 1201.0                 1600.0   \n",
       "3                    80                 1201.0                 1600.0   \n",
       "4                   139                  720.0                  540.0   \n",
       "..                  ...                    ...                    ...   \n",
       "289                  61                 1535.0                 2048.0   \n",
       "290                 139                 1000.0                 1734.0   \n",
       "291                 118                 1151.0                 1886.0   \n",
       "292                 117                 1224.0                 1632.0   \n",
       "293                 135                 1536.0                 2048.0   \n",
       "\n",
       "     dog_rate  \n",
       "0         1.3  \n",
       "1         1.3  \n",
       "2         1.2  \n",
       "3         1.3  \n",
       "4         1.2  \n",
       "..        ...  \n",
       "289       1.3  \n",
       "290       1.3  \n",
       "291       1.3  \n",
       "292       1.2  \n",
       "293       1.3  \n",
       "\n",
       "[284 rows x 10 columns]"
      ]
     },
     "execution_count": 370,
     "metadata": {},
     "output_type": "execute_result"
    }
   ],
   "source": [
    "analysis=analysis[~analysis['dog_rate'].isin(outlier)]\n",
    "analysis"
   ]
  },
  {
   "cell_type": "code",
   "execution_count": 371,
   "metadata": {},
   "outputs": [
    {
     "data": {
      "text/html": [
       "<div>\n",
       "<style scoped>\n",
       "    .dataframe tbody tr th:only-of-type {\n",
       "        vertical-align: middle;\n",
       "    }\n",
       "\n",
       "    .dataframe tbody tr th {\n",
       "        vertical-align: top;\n",
       "    }\n",
       "\n",
       "    .dataframe thead th {\n",
       "        text-align: right;\n",
       "    }\n",
       "</style>\n",
       "<table border=\"1\" class=\"dataframe\">\n",
       "  <thead>\n",
       "    <tr style=\"text-align: right;\">\n",
       "      <th></th>\n",
       "      <th>dog_rate</th>\n",
       "      <th>num_of_tweet</th>\n",
       "      <th>median_retweet</th>\n",
       "    </tr>\n",
       "  </thead>\n",
       "  <tbody>\n",
       "    <tr>\n",
       "      <th>0</th>\n",
       "      <td>1.0</td>\n",
       "      <td>6.0</td>\n",
       "      <td>676.0</td>\n",
       "    </tr>\n",
       "    <tr>\n",
       "      <th>1</th>\n",
       "      <td>1.1</td>\n",
       "      <td>19.0</td>\n",
       "      <td>3035.0</td>\n",
       "    </tr>\n",
       "    <tr>\n",
       "      <th>2</th>\n",
       "      <td>1.2</td>\n",
       "      <td>99.0</td>\n",
       "      <td>3154.0</td>\n",
       "    </tr>\n",
       "    <tr>\n",
       "      <th>3</th>\n",
       "      <td>1.3</td>\n",
       "      <td>137.0</td>\n",
       "      <td>3911.0</td>\n",
       "    </tr>\n",
       "    <tr>\n",
       "      <th>4</th>\n",
       "      <td>1.4</td>\n",
       "      <td>23.0</td>\n",
       "      <td>5478.0</td>\n",
       "    </tr>\n",
       "  </tbody>\n",
       "</table>\n",
       "</div>"
      ],
      "text/plain": [
       "   dog_rate  num_of_tweet  median_retweet\n",
       "0       1.0           6.0           676.0\n",
       "1       1.1          19.0          3035.0\n",
       "2       1.2          99.0          3154.0\n",
       "3       1.3         137.0          3911.0\n",
       "4       1.4          23.0          5478.0"
      ]
     },
     "execution_count": 371,
     "metadata": {},
     "output_type": "execute_result"
    }
   ],
   "source": [
    "# number of tweets and median retweet for each dog rating\n",
    "analysis.groupby('dog_rate')\\\n",
    "    .apply(lambda x: pd.Series({\n",
    "        'num_of_tweet' : x['dog_rate'].count(),\n",
    "        'median_retweet' : x['retweet_count'].median()\n",
    "    })).reset_index()"
   ]
  },
  {
   "cell_type": "code",
   "execution_count": 372,
   "metadata": {},
   "outputs": [
    {
     "data": {
      "image/png": "[encoded data removed]",
      "text/plain": [
       "<Figure size 360x360 with 1 Axes>"
      ]
     },
     "metadata": {
      "needs_background": "light"
     },
     "output_type": "display_data"
    }
   ],
   "source": [
    "# Let's see the relationship between Dog Rating and Retweet Counts\n",
    "corr=analysis['dog_rate'].corr(analysis['retweet_count'])\n",
    "sns.relplot(data=analysis, x='dog_rate', y='retweet_count')\n",
    "plt.xlabel('Dog Rating')\n",
    "plt.ylabel('Number of times the tweet was retweeted')\n",
    "plt.title(f'Correlation between Dog Rating vs Retweeted ({round(corr,2)})')\n",
    "plt.show()"
   ]
  },
  {
   "attachments": {},
   "cell_type": "markdown",
   "metadata": {},
   "source": [
    "* Removing the outliers, increased the correlation between dog rating and retweeted"
   ]
  },
  {
   "attachments": {},
   "cell_type": "markdown",
   "metadata": {},
   "source": [
    "    b. Dog Breed"
   ]
  },
  {
   "cell_type": "code",
   "execution_count": 373,
   "metadata": {},
   "outputs": [
    {
     "data": {
      "text/html": [
       "<div>\n",
       "<style scoped>\n",
       "    .dataframe tbody tr th:only-of-type {\n",
       "        vertical-align: middle;\n",
       "    }\n",
       "\n",
       "    .dataframe tbody tr th {\n",
       "        vertical-align: top;\n",
       "    }\n",
       "\n",
       "    .dataframe thead th {\n",
       "        text-align: right;\n",
       "    }\n",
       "</style>\n",
       "<table border=\"1\" class=\"dataframe\">\n",
       "  <thead>\n",
       "    <tr style=\"text-align: right;\">\n",
       "      <th></th>\n",
       "      <th>dog_breed</th>\n",
       "      <th>num_of_tweet</th>\n",
       "      <th>median_retweet</th>\n",
       "    </tr>\n",
       "  </thead>\n",
       "  <tbody>\n",
       "    <tr>\n",
       "      <th>0</th>\n",
       "      <td>unknown</td>\n",
       "      <td>56.0</td>\n",
       "      <td>3417.5</td>\n",
       "    </tr>\n",
       "    <tr>\n",
       "      <th>1</th>\n",
       "      <td>golden_retriever</td>\n",
       "      <td>23.0</td>\n",
       "      <td>3464.0</td>\n",
       "    </tr>\n",
       "    <tr>\n",
       "      <th>2</th>\n",
       "      <td>pembroke</td>\n",
       "      <td>20.0</td>\n",
       "      <td>4843.0</td>\n",
       "    </tr>\n",
       "    <tr>\n",
       "      <th>3</th>\n",
       "      <td>labrador_retriever</td>\n",
       "      <td>19.0</td>\n",
       "      <td>3251.0</td>\n",
       "    </tr>\n",
       "    <tr>\n",
       "      <th>4</th>\n",
       "      <td>french_bulldog</td>\n",
       "      <td>11.0</td>\n",
       "      <td>3652.0</td>\n",
       "    </tr>\n",
       "    <tr>\n",
       "      <th>...</th>\n",
       "      <td>...</td>\n",
       "      <td>...</td>\n",
       "      <td>...</td>\n",
       "    </tr>\n",
       "    <tr>\n",
       "      <th>70</th>\n",
       "      <td>irish_terrier</td>\n",
       "      <td>1.0</td>\n",
       "      <td>3561.0</td>\n",
       "    </tr>\n",
       "    <tr>\n",
       "      <th>71</th>\n",
       "      <td>irish_water_spaniel</td>\n",
       "      <td>1.0</td>\n",
       "      <td>4774.0</td>\n",
       "    </tr>\n",
       "    <tr>\n",
       "      <th>72</th>\n",
       "      <td>komondor</td>\n",
       "      <td>1.0</td>\n",
       "      <td>2883.0</td>\n",
       "    </tr>\n",
       "    <tr>\n",
       "      <th>73</th>\n",
       "      <td>lakeland_terrier</td>\n",
       "      <td>1.0</td>\n",
       "      <td>939.0</td>\n",
       "    </tr>\n",
       "    <tr>\n",
       "      <th>74</th>\n",
       "      <td>yorkshire_terrier</td>\n",
       "      <td>1.0</td>\n",
       "      <td>2291.0</td>\n",
       "    </tr>\n",
       "  </tbody>\n",
       "</table>\n",
       "<p>75 rows × 3 columns</p>\n",
       "</div>"
      ],
      "text/plain": [
       "              dog_breed  num_of_tweet  median_retweet\n",
       "0               unknown          56.0          3417.5\n",
       "1      golden_retriever          23.0          3464.0\n",
       "2              pembroke          20.0          4843.0\n",
       "3    labrador_retriever          19.0          3251.0\n",
       "4        french_bulldog          11.0          3652.0\n",
       "..                  ...           ...             ...\n",
       "70        irish_terrier           1.0          3561.0\n",
       "71  irish_water_spaniel           1.0          4774.0\n",
       "72             komondor           1.0          2883.0\n",
       "73     lakeland_terrier           1.0           939.0\n",
       "74    yorkshire_terrier           1.0          2291.0\n",
       "\n",
       "[75 rows x 3 columns]"
      ]
     },
     "execution_count": 373,
     "metadata": {},
     "output_type": "execute_result"
    }
   ],
   "source": [
    "# number of tweet and median retweet for each of the dog breeds\n",
    "dog_breed=analysis.groupby(['dog_breed']).apply(lambda x: pd.Series({\n",
    "    'num_of_tweet' : x['dog_breed'].count(),\n",
    "    'median_retweet': x['retweet_count'].median()\n",
    "})).sort_values(by='num_of_tweet', ascending=False).reset_index()\n",
    "dog_breed"
   ]
  },
  {
   "cell_type": "code",
   "execution_count": 374,
   "metadata": {},
   "outputs": [
    {
     "data": {
      "text/plain": [
       "<AxesSubplot:xlabel='num_of_tweet', ylabel='Count'>"
      ]
     },
     "execution_count": 374,
     "metadata": {},
     "output_type": "execute_result"
    },
    {
     "data": {
      "image/png": "[encoded data removed]",
      "text/plain": [
       "<Figure size 432x288 with 1 Axes>"
      ]
     },
     "metadata": {
      "needs_background": "light"
     },
     "output_type": "display_data"
    }
   ],
   "source": [
    "# Removing the unknown and those dog_breeds that tweeted only once\n",
    "dog_breed_less_unknown = dog_breed[(dog_breed['dog_breed']!='unknown')]\n",
    "sns.histplot(data=dog_breed_less_unknown, x='num_of_tweet')"
   ]
  },
  {
   "cell_type": "code",
   "execution_count": 375,
   "metadata": {},
   "outputs": [],
   "source": [
    "# Get the top 10 most twweted dog_breed\n",
    "dog_breed_most_tweeted = dog_breed_less_unknown.head(10)"
   ]
  },
  {
   "cell_type": "code",
   "execution_count": 376,
   "metadata": {},
   "outputs": [
    {
     "data": {
      "text/plain": [
       "[Text(0, 0.5, '')]"
      ]
     },
     "execution_count": 376,
     "metadata": {},
     "output_type": "execute_result"
    },
    {
     "data": {
      "image/png": "[encoded data removed]",
      "text/plain": [
       "<Figure size 1080x720 with 2 Axes>"
      ]
     },
     "metadata": {
      "needs_background": "light"
     },
     "output_type": "display_data"
    }
   ],
   "source": [
    "# Plot the different stats by quarter\n",
    "fig, axes = plt.subplots(1, 2, figsize=(15,10), sharey=True)\n",
    "fig.suptitle('Top 10 most tweeted Dog Breed')\n",
    "\n",
    "# By number of tweets\n",
    "tweets_color = ['grey' if (x<max(dog_breed_most_tweeted['num_of_tweet'])) else 'cyan' for x in dog_breed_most_tweeted['num_of_tweet']]\n",
    "sns.barplot(ax=axes[0], data=dog_breed_most_tweeted, x='num_of_tweet', y='dog_breed', linewidth=3, edgecolor=\"0.5\", palette=tweets_color)\n",
    "axes[0].set(xlabel='Number of Tweets')\n",
    "axes[0].set(ylabel=None)\n",
    "\n",
    "# By average retweets\n",
    "retweets_color = ['grey' if (x<max(dog_breed_most_tweeted['median_retweet'])) else 'cyan' for x in dog_breed_most_tweeted['median_retweet']]\n",
    "sns.barplot(ax=axes[1], data=dog_breed_most_tweeted, x='median_retweet', y='dog_breed', linewidth=3, edgecolor=\"0.5\", palette=retweets_color)\n",
    "axes[1].set(xlabel='Median number of Retweets')\n",
    "axes[1].set(ylabel=None)"
   ]
  },
  {
   "attachments": {},
   "cell_type": "markdown",
   "metadata": {},
   "source": [
    "* Golden retriever is the top most tweeted dog breeed but samoyed recieves the highest median number of retweets for the top 10 most tweeted breeds."
   ]
  },
  {
   "attachments": {},
   "cell_type": "markdown",
   "metadata": {},
   "source": [
    "2. Tweet related factors:"
   ]
  },
  {
   "attachments": {},
   "cell_type": "markdown",
   "metadata": {},
   "source": [
    "    a. Length of tweet text"
   ]
  },
  {
   "attachments": {},
   "cell_type": "markdown",
   "metadata": {},
   "source": [
    "This section will look at the length of tweet text in relation to user retweets"
   ]
  },
  {
   "cell_type": "code",
   "execution_count": 377,
   "metadata": {},
   "outputs": [
    {
     "data": {
      "text/plain": [
       "<seaborn.axisgrid.FacetGrid at 0x7f299973ebf0>"
      ]
     },
     "execution_count": 377,
     "metadata": {},
     "output_type": "execute_result"
    },
    {
     "data": {
      "image/png": "[encoded data removed]",
      "text/plain": [
       "<Figure size 360x360 with 1 Axes>"
      ]
     },
     "metadata": {
      "needs_background": "light"
     },
     "output_type": "display_data"
    }
   ],
   "source": [
    "sns.displot(data=analysis, x='display_text_range')"
   ]
  },
  {
   "attachments": {},
   "cell_type": "markdown",
   "metadata": {},
   "source": [
    "The distribution of the of the text length of the tweets are negatively distributed with the length of around 140 characters as the most numerous."
   ]
  },
  {
   "cell_type": "code",
   "execution_count": 378,
   "metadata": {},
   "outputs": [
    {
     "data": {
      "image/png": "[encoded data removed]",
      "text/plain": [
       "<Figure size 360x360 with 1 Axes>"
      ]
     },
     "metadata": {
      "needs_background": "light"
     },
     "output_type": "display_data"
    }
   ],
   "source": [
    "# Let's see the relationship between Length of Texts and Retweet Counts\n",
    "corr=analysis['display_text_range'].corr(analysis['retweet_count'])\n",
    "sns.relplot(data=analysis, x='display_text_range', y='retweet_count')\n",
    "plt.xlabel('Tweet Text Length')\n",
    "plt.ylabel('Number of times the tweet was retweeted')\n",
    "plt.title(f'Correlation between Tweet Text Length vs Retweeted ({round(corr,2)})')\n",
    "plt.show()"
   ]
  },
  {
   "attachments": {},
   "cell_type": "markdown",
   "metadata": {},
   "source": [
    "* There is only a small negative correlation between the tect lengthe and the number of retweet"
   ]
  },
  {
   "attachments": {},
   "cell_type": "markdown",
   "metadata": {},
   "source": [
    "    b. Size of Image"
   ]
  },
  {
   "attachments": {},
   "cell_type": "markdown",
   "metadata": {},
   "source": [
    "The following will look into the largest size of the dog image and how it relates to retweets"
   ]
  },
  {
   "cell_type": "code",
   "execution_count": 379,
   "metadata": {},
   "outputs": [
    {
     "data": {
      "text/html": [
       "<div>\n",
       "<style scoped>\n",
       "    .dataframe tbody tr th:only-of-type {\n",
       "        vertical-align: middle;\n",
       "    }\n",
       "\n",
       "    .dataframe tbody tr th {\n",
       "        vertical-align: top;\n",
       "    }\n",
       "\n",
       "    .dataframe thead th {\n",
       "        text-align: right;\n",
       "    }\n",
       "</style>\n",
       "<table border=\"1\" class=\"dataframe\">\n",
       "  <thead>\n",
       "    <tr style=\"text-align: right;\">\n",
       "      <th></th>\n",
       "      <th>size</th>\n",
       "      <th>num_of_tweet</th>\n",
       "      <th>median_retweet</th>\n",
       "    </tr>\n",
       "  </thead>\n",
       "  <tbody>\n",
       "    <tr>\n",
       "      <th>0</th>\n",
       "      <td>1921600.0</td>\n",
       "      <td>47.0</td>\n",
       "      <td>3652.0</td>\n",
       "    </tr>\n",
       "    <tr>\n",
       "      <th>1</th>\n",
       "      <td>3145728.0</td>\n",
       "      <td>47.0</td>\n",
       "      <td>3372.0</td>\n",
       "    </tr>\n",
       "    <tr>\n",
       "      <th>2</th>\n",
       "      <td>2359296.0</td>\n",
       "      <td>6.0</td>\n",
       "      <td>4223.5</td>\n",
       "    </tr>\n",
       "    <tr>\n",
       "      <th>3</th>\n",
       "      <td>1441600.0</td>\n",
       "      <td>5.0</td>\n",
       "      <td>5186.0</td>\n",
       "    </tr>\n",
       "    <tr>\n",
       "      <th>4</th>\n",
       "      <td>1920000.0</td>\n",
       "      <td>4.0</td>\n",
       "      <td>3499.5</td>\n",
       "    </tr>\n",
       "    <tr>\n",
       "      <th>...</th>\n",
       "      <td>...</td>\n",
       "      <td>...</td>\n",
       "      <td>...</td>\n",
       "    </tr>\n",
       "    <tr>\n",
       "      <th>115</th>\n",
       "      <td>1271146.0</td>\n",
       "      <td>1.0</td>\n",
       "      <td>5238.0</td>\n",
       "    </tr>\n",
       "    <tr>\n",
       "      <th>116</th>\n",
       "      <td>1241870.0</td>\n",
       "      <td>1.0</td>\n",
       "      <td>2952.0</td>\n",
       "    </tr>\n",
       "    <tr>\n",
       "      <th>117</th>\n",
       "      <td>1228800.0</td>\n",
       "      <td>1.0</td>\n",
       "      <td>14733.0</td>\n",
       "    </tr>\n",
       "    <tr>\n",
       "      <th>118</th>\n",
       "      <td>1212624.0</td>\n",
       "      <td>1.0</td>\n",
       "      <td>3141.0</td>\n",
       "    </tr>\n",
       "    <tr>\n",
       "      <th>119</th>\n",
       "      <td>1734000.0</td>\n",
       "      <td>1.0</td>\n",
       "      <td>1763.0</td>\n",
       "    </tr>\n",
       "  </tbody>\n",
       "</table>\n",
       "<p>120 rows × 3 columns</p>\n",
       "</div>"
      ],
      "text/plain": [
       "          size  num_of_tweet  median_retweet\n",
       "0    1921600.0          47.0          3652.0\n",
       "1    3145728.0          47.0          3372.0\n",
       "2    2359296.0           6.0          4223.5\n",
       "3    1441600.0           5.0          5186.0\n",
       "4    1920000.0           4.0          3499.5\n",
       "..         ...           ...             ...\n",
       "115  1271146.0           1.0          5238.0\n",
       "116  1241870.0           1.0          2952.0\n",
       "117  1228800.0           1.0         14733.0\n",
       "118  1212624.0           1.0          3141.0\n",
       "119  1734000.0           1.0          1763.0\n",
       "\n",
       "[120 rows x 3 columns]"
      ]
     },
     "execution_count": 379,
     "metadata": {},
     "output_type": "execute_result"
    }
   ],
   "source": [
    "# Number of tweets and median retweet by image size\n",
    "analysis['size'] = analysis['entities_size_large_w']*analysis['entities_size_large_h']\n",
    "analysis.groupby(['size']).apply(lambda x: pd.Series({\n",
    "    'num_of_tweet' : x['retweet_count'].count(),\n",
    "    'median_retweet': x['retweet_count'].median()\n",
    "})).sort_values(by='num_of_tweet', ascending=False).reset_index()"
   ]
  },
  {
   "cell_type": "code",
   "execution_count": 380,
   "metadata": {},
   "outputs": [
    {
     "data": {
      "image/png": "[encoded data removed]",
      "text/plain": [
       "<Figure size 360x360 with 1 Axes>"
      ]
     },
     "metadata": {
      "needs_background": "light"
     },
     "output_type": "display_data"
    }
   ],
   "source": [
    "# Let's see the relationship between Size and Retweet Counts\n",
    "corr=analysis['size'].corr(analysis['retweet_count'])\n",
    "sns.relplot(data=analysis, x='size', y='retweet_count')\n",
    "plt.xlabel('Size of Image')\n",
    "plt.ylabel('Number of times the tweet was retweeted')\n",
    "plt.title(f'Correlation between Image Size vs Retweeted ({round(corr,2)})')\n",
    "plt.show()"
   ]
  },
  {
   "attachments": {},
   "cell_type": "markdown",
   "metadata": {},
   "source": [
    "* There seems to be a small postive correlation between the maximum size and the number of retweets"
   ]
  },
  {
   "attachments": {},
   "cell_type": "markdown",
   "metadata": {},
   "source": [
    "3. Time Related Factors"
   ]
  },
  {
   "attachments": {},
   "cell_type": "markdown",
   "metadata": {},
   "source": [
    "    a. Day of the Week"
   ]
  },
  {
   "attachments": {},
   "cell_type": "markdown",
   "metadata": {},
   "source": [
    "This section will look at the day of the week the tweets are sent and the amount of retweet it gets."
   ]
  },
  {
   "cell_type": "code",
   "execution_count": 381,
   "metadata": {},
   "outputs": [
    {
     "data": {
      "text/html": [
       "<div>\n",
       "<style scoped>\n",
       "    .dataframe tbody tr th:only-of-type {\n",
       "        vertical-align: middle;\n",
       "    }\n",
       "\n",
       "    .dataframe tbody tr th {\n",
       "        vertical-align: top;\n",
       "    }\n",
       "\n",
       "    .dataframe thead th {\n",
       "        text-align: right;\n",
       "    }\n",
       "</style>\n",
       "<table border=\"1\" class=\"dataframe\">\n",
       "  <thead>\n",
       "    <tr style=\"text-align: right;\">\n",
       "      <th></th>\n",
       "      <th>created_at</th>\n",
       "      <th>retweet_count</th>\n",
       "      <th>favorite_count</th>\n",
       "      <th>rating_numerator</th>\n",
       "      <th>rating_denominator</th>\n",
       "      <th>dog_breed</th>\n",
       "      <th>display_text_range</th>\n",
       "      <th>entities_size_large_w</th>\n",
       "      <th>entities_size_large_h</th>\n",
       "      <th>dog_rate</th>\n",
       "      <th>size</th>\n",
       "      <th>week_day</th>\n",
       "    </tr>\n",
       "  </thead>\n",
       "  <tbody>\n",
       "    <tr>\n",
       "      <th>0</th>\n",
       "      <td>2017-08-01 16:23:56+00:00</td>\n",
       "      <td>6881</td>\n",
       "      <td>32923</td>\n",
       "      <td>13</td>\n",
       "      <td>10</td>\n",
       "      <td>unknown</td>\n",
       "      <td>86</td>\n",
       "      <td>540.0</td>\n",
       "      <td>528.0</td>\n",
       "      <td>1.3</td>\n",
       "      <td>285120.0</td>\n",
       "      <td>Tuesday</td>\n",
       "    </tr>\n",
       "    <tr>\n",
       "      <th>1</th>\n",
       "      <td>2017-08-01 00:17:27+00:00</td>\n",
       "      <td>5181</td>\n",
       "      <td>28456</td>\n",
       "      <td>13</td>\n",
       "      <td>10</td>\n",
       "      <td>chihuahua</td>\n",
       "      <td>139</td>\n",
       "      <td>1407.0</td>\n",
       "      <td>1600.0</td>\n",
       "      <td>1.3</td>\n",
       "      <td>2251200.0</td>\n",
       "      <td>Tuesday</td>\n",
       "    </tr>\n",
       "    <tr>\n",
       "      <th>2</th>\n",
       "      <td>2017-07-31 00:18:03+00:00</td>\n",
       "      <td>3423</td>\n",
       "      <td>21380</td>\n",
       "      <td>12</td>\n",
       "      <td>10</td>\n",
       "      <td>chihuahua</td>\n",
       "      <td>122</td>\n",
       "      <td>1201.0</td>\n",
       "      <td>1600.0</td>\n",
       "      <td>1.2</td>\n",
       "      <td>1921600.0</td>\n",
       "      <td>Monday</td>\n",
       "    </tr>\n",
       "    <tr>\n",
       "      <th>3</th>\n",
       "      <td>2017-07-30 15:58:51+00:00</td>\n",
       "      <td>7089</td>\n",
       "      <td>35889</td>\n",
       "      <td>13</td>\n",
       "      <td>10</td>\n",
       "      <td>labrador_retriever</td>\n",
       "      <td>80</td>\n",
       "      <td>1201.0</td>\n",
       "      <td>1600.0</td>\n",
       "      <td>1.3</td>\n",
       "      <td>1921600.0</td>\n",
       "      <td>Sunday</td>\n",
       "    </tr>\n",
       "    <tr>\n",
       "      <th>4</th>\n",
       "      <td>2017-07-29 16:00:24+00:00</td>\n",
       "      <td>7606</td>\n",
       "      <td>34325</td>\n",
       "      <td>12</td>\n",
       "      <td>10</td>\n",
       "      <td>basset</td>\n",
       "      <td>139</td>\n",
       "      <td>720.0</td>\n",
       "      <td>540.0</td>\n",
       "      <td>1.2</td>\n",
       "      <td>388800.0</td>\n",
       "      <td>Saturday</td>\n",
       "    </tr>\n",
       "    <tr>\n",
       "      <th>...</th>\n",
       "      <td>...</td>\n",
       "      <td>...</td>\n",
       "      <td>...</td>\n",
       "      <td>...</td>\n",
       "      <td>...</td>\n",
       "      <td>...</td>\n",
       "      <td>...</td>\n",
       "      <td>...</td>\n",
       "      <td>...</td>\n",
       "      <td>...</td>\n",
       "      <td>...</td>\n",
       "      <td>...</td>\n",
       "    </tr>\n",
       "    <tr>\n",
       "      <th>289</th>\n",
       "      <td>2017-02-15 01:04:21+00:00</td>\n",
       "      <td>1662</td>\n",
       "      <td>9510</td>\n",
       "      <td>13</td>\n",
       "      <td>10</td>\n",
       "      <td>pembroke</td>\n",
       "      <td>61</td>\n",
       "      <td>1535.0</td>\n",
       "      <td>2048.0</td>\n",
       "      <td>1.3</td>\n",
       "      <td>3143680.0</td>\n",
       "      <td>Wednesday</td>\n",
       "    </tr>\n",
       "    <tr>\n",
       "      <th>290</th>\n",
       "      <td>2017-02-14 23:43:18+00:00</td>\n",
       "      <td>1763</td>\n",
       "      <td>6495</td>\n",
       "      <td>13</td>\n",
       "      <td>10</td>\n",
       "      <td>eskimo_dog</td>\n",
       "      <td>139</td>\n",
       "      <td>1000.0</td>\n",
       "      <td>1734.0</td>\n",
       "      <td>1.3</td>\n",
       "      <td>1734000.0</td>\n",
       "      <td>Tuesday</td>\n",
       "    </tr>\n",
       "    <tr>\n",
       "      <th>291</th>\n",
       "      <td>2017-02-14 17:17:22+00:00</td>\n",
       "      <td>2120</td>\n",
       "      <td>8240</td>\n",
       "      <td>13</td>\n",
       "      <td>10</td>\n",
       "      <td>chihuahua</td>\n",
       "      <td>118</td>\n",
       "      <td>1151.0</td>\n",
       "      <td>1886.0</td>\n",
       "      <td>1.3</td>\n",
       "      <td>2170786.0</td>\n",
       "      <td>Tuesday</td>\n",
       "    </tr>\n",
       "    <tr>\n",
       "      <th>292</th>\n",
       "      <td>2017-02-14 02:02:51+00:00</td>\n",
       "      <td>1411</td>\n",
       "      <td>8504</td>\n",
       "      <td>12</td>\n",
       "      <td>10</td>\n",
       "      <td>old_english_sheepdog</td>\n",
       "      <td>117</td>\n",
       "      <td>1224.0</td>\n",
       "      <td>1632.0</td>\n",
       "      <td>1.2</td>\n",
       "      <td>1997568.0</td>\n",
       "      <td>Tuesday</td>\n",
       "    </tr>\n",
       "    <tr>\n",
       "      <th>293</th>\n",
       "      <td>2017-02-14 01:35:49+00:00</td>\n",
       "      <td>1018</td>\n",
       "      <td>6023</td>\n",
       "      <td>13</td>\n",
       "      <td>10</td>\n",
       "      <td>briard</td>\n",
       "      <td>135</td>\n",
       "      <td>1536.0</td>\n",
       "      <td>2048.0</td>\n",
       "      <td>1.3</td>\n",
       "      <td>3145728.0</td>\n",
       "      <td>Tuesday</td>\n",
       "    </tr>\n",
       "  </tbody>\n",
       "</table>\n",
       "<p>284 rows × 12 columns</p>\n",
       "</div>"
      ],
      "text/plain": [
       "                   created_at  retweet_count  favorite_count  \\\n",
       "0   2017-08-01 16:23:56+00:00           6881           32923   \n",
       "1   2017-08-01 00:17:27+00:00           5181           28456   \n",
       "2   2017-07-31 00:18:03+00:00           3423           21380   \n",
       "3   2017-07-30 15:58:51+00:00           7089           35889   \n",
       "4   2017-07-29 16:00:24+00:00           7606           34325   \n",
       "..                        ...            ...             ...   \n",
       "289 2017-02-15 01:04:21+00:00           1662            9510   \n",
       "290 2017-02-14 23:43:18+00:00           1763            6495   \n",
       "291 2017-02-14 17:17:22+00:00           2120            8240   \n",
       "292 2017-02-14 02:02:51+00:00           1411            8504   \n",
       "293 2017-02-14 01:35:49+00:00           1018            6023   \n",
       "\n",
       "     rating_numerator  rating_denominator             dog_breed  \\\n",
       "0                  13                  10               unknown   \n",
       "1                  13                  10             chihuahua   \n",
       "2                  12                  10             chihuahua   \n",
       "3                  13                  10    labrador_retriever   \n",
       "4                  12                  10                basset   \n",
       "..                ...                 ...                   ...   \n",
       "289                13                  10              pembroke   \n",
       "290                13                  10            eskimo_dog   \n",
       "291                13                  10             chihuahua   \n",
       "292                12                  10  old_english_sheepdog   \n",
       "293                13                  10                briard   \n",
       "\n",
       "     display_text_range  entities_size_large_w  entities_size_large_h  \\\n",
       "0                    86                  540.0                  528.0   \n",
       "1                   139                 1407.0                 1600.0   \n",
       "2                   122                 1201.0                 1600.0   \n",
       "3                    80                 1201.0                 1600.0   \n",
       "4                   139                  720.0                  540.0   \n",
       "..                  ...                    ...                    ...   \n",
       "289                  61                 1535.0                 2048.0   \n",
       "290                 139                 1000.0                 1734.0   \n",
       "291                 118                 1151.0                 1886.0   \n",
       "292                 117                 1224.0                 1632.0   \n",
       "293                 135                 1536.0                 2048.0   \n",
       "\n",
       "     dog_rate       size   week_day  \n",
       "0         1.3   285120.0    Tuesday  \n",
       "1         1.3  2251200.0    Tuesday  \n",
       "2         1.2  1921600.0     Monday  \n",
       "3         1.3  1921600.0     Sunday  \n",
       "4         1.2   388800.0   Saturday  \n",
       "..        ...        ...        ...  \n",
       "289       1.3  3143680.0  Wednesday  \n",
       "290       1.3  1734000.0    Tuesday  \n",
       "291       1.3  2170786.0    Tuesday  \n",
       "292       1.2  1997568.0    Tuesday  \n",
       "293       1.3  3145728.0    Tuesday  \n",
       "\n",
       "[284 rows x 12 columns]"
      ]
     },
     "execution_count": 381,
     "metadata": {},
     "output_type": "execute_result"
    }
   ],
   "source": [
    "# Add the day of the week from the created_at column\n",
    "analysis['week_day'] = analysis['created_at'].apply(lambda x: x.strftime('%A'))\n",
    "analysis"
   ]
  },
  {
   "cell_type": "code",
   "execution_count": 382,
   "metadata": {},
   "outputs": [
    {
     "data": {
      "text/plain": [
       "week_day\n",
       "Friday       49\n",
       "Tuesday      45\n",
       "Wednesday    43\n",
       "Monday       42\n",
       "Saturday     37\n",
       "Thursday     37\n",
       "Sunday       31\n",
       "Name: week_day, dtype: int64"
      ]
     },
     "execution_count": 382,
     "metadata": {},
     "output_type": "execute_result"
    }
   ],
   "source": [
    "# Number of tweets by day of the week\n",
    "analysis.groupby(['week_day'])['week_day'].count().sort_values(ascending=False)"
   ]
  },
  {
   "attachments": {},
   "cell_type": "markdown",
   "metadata": {},
   "source": [
    "* The amount of tweets sent by day ranged from 252 to 324, with Mondays having the most number of tweets and Saturdays having the least."
   ]
  },
  {
   "cell_type": "code",
   "execution_count": 383,
   "metadata": {},
   "outputs": [
    {
     "data": {
      "text/plain": [
       "<AxesSubplot:xlabel='week_day', ylabel='retweet_count'>"
      ]
     },
     "execution_count": 383,
     "metadata": {},
     "output_type": "execute_result"
    },
    {
     "data": {
      "image/png": "[encoded data removed]",
      "text/plain": [
       "<Figure size 1440x1440 with 1 Axes>"
      ]
     },
     "metadata": {
      "needs_background": "light"
     },
     "output_type": "display_data"
    }
   ],
   "source": [
    "order = analysis.groupby(['week_day'])['retweet_count'].median().iloc[::-1].index\n",
    "plt.figure(figsize=(20, 20))\n",
    "sns.boxplot(data=analysis, x='week_day', y='retweet_count', showfliers = False, order=order)"
   ]
  },
  {
   "attachments": {},
   "cell_type": "markdown",
   "metadata": {},
   "source": [
    "* All days have similar ranges of the amount of retweet"
   ]
  },
  {
   "attachments": {},
   "cell_type": "markdown",
   "metadata": {},
   "source": [
    "    b. Hour of the Day"
   ]
  },
  {
   "attachments": {},
   "cell_type": "markdown",
   "metadata": {},
   "source": [
    "The following will look at the hour of day that tweets are being sent"
   ]
  },
  {
   "cell_type": "code",
   "execution_count": 384,
   "metadata": {},
   "outputs": [
    {
     "data": {
      "text/html": [
       "<div>\n",
       "<style scoped>\n",
       "    .dataframe tbody tr th:only-of-type {\n",
       "        vertical-align: middle;\n",
       "    }\n",
       "\n",
       "    .dataframe tbody tr th {\n",
       "        vertical-align: top;\n",
       "    }\n",
       "\n",
       "    .dataframe thead th {\n",
       "        text-align: right;\n",
       "    }\n",
       "</style>\n",
       "<table border=\"1\" class=\"dataframe\">\n",
       "  <thead>\n",
       "    <tr style=\"text-align: right;\">\n",
       "      <th></th>\n",
       "      <th>created_at</th>\n",
       "      <th>retweet_count</th>\n",
       "      <th>favorite_count</th>\n",
       "      <th>rating_numerator</th>\n",
       "      <th>rating_denominator</th>\n",
       "      <th>dog_breed</th>\n",
       "      <th>display_text_range</th>\n",
       "      <th>entities_size_large_w</th>\n",
       "      <th>entities_size_large_h</th>\n",
       "      <th>dog_rate</th>\n",
       "      <th>size</th>\n",
       "      <th>week_day</th>\n",
       "      <th>hour_of_day</th>\n",
       "    </tr>\n",
       "  </thead>\n",
       "  <tbody>\n",
       "    <tr>\n",
       "      <th>0</th>\n",
       "      <td>2017-08-01 16:23:56+00:00</td>\n",
       "      <td>6881</td>\n",
       "      <td>32923</td>\n",
       "      <td>13</td>\n",
       "      <td>10</td>\n",
       "      <td>unknown</td>\n",
       "      <td>86</td>\n",
       "      <td>540.0</td>\n",
       "      <td>528.0</td>\n",
       "      <td>1.3</td>\n",
       "      <td>285120.0</td>\n",
       "      <td>Tuesday</td>\n",
       "      <td>16</td>\n",
       "    </tr>\n",
       "    <tr>\n",
       "      <th>1</th>\n",
       "      <td>2017-08-01 00:17:27+00:00</td>\n",
       "      <td>5181</td>\n",
       "      <td>28456</td>\n",
       "      <td>13</td>\n",
       "      <td>10</td>\n",
       "      <td>chihuahua</td>\n",
       "      <td>139</td>\n",
       "      <td>1407.0</td>\n",
       "      <td>1600.0</td>\n",
       "      <td>1.3</td>\n",
       "      <td>2251200.0</td>\n",
       "      <td>Tuesday</td>\n",
       "      <td>00</td>\n",
       "    </tr>\n",
       "    <tr>\n",
       "      <th>2</th>\n",
       "      <td>2017-07-31 00:18:03+00:00</td>\n",
       "      <td>3423</td>\n",
       "      <td>21380</td>\n",
       "      <td>12</td>\n",
       "      <td>10</td>\n",
       "      <td>chihuahua</td>\n",
       "      <td>122</td>\n",
       "      <td>1201.0</td>\n",
       "      <td>1600.0</td>\n",
       "      <td>1.2</td>\n",
       "      <td>1921600.0</td>\n",
       "      <td>Monday</td>\n",
       "      <td>00</td>\n",
       "    </tr>\n",
       "    <tr>\n",
       "      <th>3</th>\n",
       "      <td>2017-07-30 15:58:51+00:00</td>\n",
       "      <td>7089</td>\n",
       "      <td>35889</td>\n",
       "      <td>13</td>\n",
       "      <td>10</td>\n",
       "      <td>labrador_retriever</td>\n",
       "      <td>80</td>\n",
       "      <td>1201.0</td>\n",
       "      <td>1600.0</td>\n",
       "      <td>1.3</td>\n",
       "      <td>1921600.0</td>\n",
       "      <td>Sunday</td>\n",
       "      <td>15</td>\n",
       "    </tr>\n",
       "    <tr>\n",
       "      <th>4</th>\n",
       "      <td>2017-07-29 16:00:24+00:00</td>\n",
       "      <td>7606</td>\n",
       "      <td>34325</td>\n",
       "      <td>12</td>\n",
       "      <td>10</td>\n",
       "      <td>basset</td>\n",
       "      <td>139</td>\n",
       "      <td>720.0</td>\n",
       "      <td>540.0</td>\n",
       "      <td>1.2</td>\n",
       "      <td>388800.0</td>\n",
       "      <td>Saturday</td>\n",
       "      <td>16</td>\n",
       "    </tr>\n",
       "    <tr>\n",
       "      <th>...</th>\n",
       "      <td>...</td>\n",
       "      <td>...</td>\n",
       "      <td>...</td>\n",
       "      <td>...</td>\n",
       "      <td>...</td>\n",
       "      <td>...</td>\n",
       "      <td>...</td>\n",
       "      <td>...</td>\n",
       "      <td>...</td>\n",
       "      <td>...</td>\n",
       "      <td>...</td>\n",
       "      <td>...</td>\n",
       "      <td>...</td>\n",
       "    </tr>\n",
       "    <tr>\n",
       "      <th>289</th>\n",
       "      <td>2017-02-15 01:04:21+00:00</td>\n",
       "      <td>1662</td>\n",
       "      <td>9510</td>\n",
       "      <td>13</td>\n",
       "      <td>10</td>\n",
       "      <td>pembroke</td>\n",
       "      <td>61</td>\n",
       "      <td>1535.0</td>\n",
       "      <td>2048.0</td>\n",
       "      <td>1.3</td>\n",
       "      <td>3143680.0</td>\n",
       "      <td>Wednesday</td>\n",
       "      <td>01</td>\n",
       "    </tr>\n",
       "    <tr>\n",
       "      <th>290</th>\n",
       "      <td>2017-02-14 23:43:18+00:00</td>\n",
       "      <td>1763</td>\n",
       "      <td>6495</td>\n",
       "      <td>13</td>\n",
       "      <td>10</td>\n",
       "      <td>eskimo_dog</td>\n",
       "      <td>139</td>\n",
       "      <td>1000.0</td>\n",
       "      <td>1734.0</td>\n",
       "      <td>1.3</td>\n",
       "      <td>1734000.0</td>\n",
       "      <td>Tuesday</td>\n",
       "      <td>23</td>\n",
       "    </tr>\n",
       "    <tr>\n",
       "      <th>291</th>\n",
       "      <td>2017-02-14 17:17:22+00:00</td>\n",
       "      <td>2120</td>\n",
       "      <td>8240</td>\n",
       "      <td>13</td>\n",
       "      <td>10</td>\n",
       "      <td>chihuahua</td>\n",
       "      <td>118</td>\n",
       "      <td>1151.0</td>\n",
       "      <td>1886.0</td>\n",
       "      <td>1.3</td>\n",
       "      <td>2170786.0</td>\n",
       "      <td>Tuesday</td>\n",
       "      <td>17</td>\n",
       "    </tr>\n",
       "    <tr>\n",
       "      <th>292</th>\n",
       "      <td>2017-02-14 02:02:51+00:00</td>\n",
       "      <td>1411</td>\n",
       "      <td>8504</td>\n",
       "      <td>12</td>\n",
       "      <td>10</td>\n",
       "      <td>old_english_sheepdog</td>\n",
       "      <td>117</td>\n",
       "      <td>1224.0</td>\n",
       "      <td>1632.0</td>\n",
       "      <td>1.2</td>\n",
       "      <td>1997568.0</td>\n",
       "      <td>Tuesday</td>\n",
       "      <td>02</td>\n",
       "    </tr>\n",
       "    <tr>\n",
       "      <th>293</th>\n",
       "      <td>2017-02-14 01:35:49+00:00</td>\n",
       "      <td>1018</td>\n",
       "      <td>6023</td>\n",
       "      <td>13</td>\n",
       "      <td>10</td>\n",
       "      <td>briard</td>\n",
       "      <td>135</td>\n",
       "      <td>1536.0</td>\n",
       "      <td>2048.0</td>\n",
       "      <td>1.3</td>\n",
       "      <td>3145728.0</td>\n",
       "      <td>Tuesday</td>\n",
       "      <td>01</td>\n",
       "    </tr>\n",
       "  </tbody>\n",
       "</table>\n",
       "<p>284 rows × 13 columns</p>\n",
       "</div>"
      ],
      "text/plain": [
       "                   created_at  retweet_count  favorite_count  \\\n",
       "0   2017-08-01 16:23:56+00:00           6881           32923   \n",
       "1   2017-08-01 00:17:27+00:00           5181           28456   \n",
       "2   2017-07-31 00:18:03+00:00           3423           21380   \n",
       "3   2017-07-30 15:58:51+00:00           7089           35889   \n",
       "4   2017-07-29 16:00:24+00:00           7606           34325   \n",
       "..                        ...            ...             ...   \n",
       "289 2017-02-15 01:04:21+00:00           1662            9510   \n",
       "290 2017-02-14 23:43:18+00:00           1763            6495   \n",
       "291 2017-02-14 17:17:22+00:00           2120            8240   \n",
       "292 2017-02-14 02:02:51+00:00           1411            8504   \n",
       "293 2017-02-14 01:35:49+00:00           1018            6023   \n",
       "\n",
       "     rating_numerator  rating_denominator             dog_breed  \\\n",
       "0                  13                  10               unknown   \n",
       "1                  13                  10             chihuahua   \n",
       "2                  12                  10             chihuahua   \n",
       "3                  13                  10    labrador_retriever   \n",
       "4                  12                  10                basset   \n",
       "..                ...                 ...                   ...   \n",
       "289                13                  10              pembroke   \n",
       "290                13                  10            eskimo_dog   \n",
       "291                13                  10             chihuahua   \n",
       "292                12                  10  old_english_sheepdog   \n",
       "293                13                  10                briard   \n",
       "\n",
       "     display_text_range  entities_size_large_w  entities_size_large_h  \\\n",
       "0                    86                  540.0                  528.0   \n",
       "1                   139                 1407.0                 1600.0   \n",
       "2                   122                 1201.0                 1600.0   \n",
       "3                    80                 1201.0                 1600.0   \n",
       "4                   139                  720.0                  540.0   \n",
       "..                  ...                    ...                    ...   \n",
       "289                  61                 1535.0                 2048.0   \n",
       "290                 139                 1000.0                 1734.0   \n",
       "291                 118                 1151.0                 1886.0   \n",
       "292                 117                 1224.0                 1632.0   \n",
       "293                 135                 1536.0                 2048.0   \n",
       "\n",
       "     dog_rate       size   week_day hour_of_day  \n",
       "0         1.3   285120.0    Tuesday          16  \n",
       "1         1.3  2251200.0    Tuesday          00  \n",
       "2         1.2  1921600.0     Monday          00  \n",
       "3         1.3  1921600.0     Sunday          15  \n",
       "4         1.2   388800.0   Saturday          16  \n",
       "..        ...        ...        ...         ...  \n",
       "289       1.3  3143680.0  Wednesday          01  \n",
       "290       1.3  1734000.0    Tuesday          23  \n",
       "291       1.3  2170786.0    Tuesday          17  \n",
       "292       1.2  1997568.0    Tuesday          02  \n",
       "293       1.3  3145728.0    Tuesday          01  \n",
       "\n",
       "[284 rows x 13 columns]"
      ]
     },
     "execution_count": 384,
     "metadata": {},
     "output_type": "execute_result"
    }
   ],
   "source": [
    "# Create the hour of day based on the created_at column\n",
    "analysis['hour_of_day'] = analysis['created_at'].apply(lambda x: x.strftime('%H'))\n",
    "analysis"
   ]
  },
  {
   "cell_type": "code",
   "execution_count": 385,
   "metadata": {},
   "outputs": [
    {
     "data": {
      "text/html": [
       "<div>\n",
       "<style scoped>\n",
       "    .dataframe tbody tr th:only-of-type {\n",
       "        vertical-align: middle;\n",
       "    }\n",
       "\n",
       "    .dataframe tbody tr th {\n",
       "        vertical-align: top;\n",
       "    }\n",
       "\n",
       "    .dataframe thead th {\n",
       "        text-align: right;\n",
       "    }\n",
       "</style>\n",
       "<table border=\"1\" class=\"dataframe\">\n",
       "  <thead>\n",
       "    <tr style=\"text-align: right;\">\n",
       "      <th></th>\n",
       "      <th>hour_of_day</th>\n",
       "      <th>num_of_tweet</th>\n",
       "      <th>median_retweet</th>\n",
       "    </tr>\n",
       "  </thead>\n",
       "  <tbody>\n",
       "    <tr>\n",
       "      <th>0</th>\n",
       "      <td>00</td>\n",
       "      <td>70.0</td>\n",
       "      <td>4132.0</td>\n",
       "    </tr>\n",
       "    <tr>\n",
       "      <th>1</th>\n",
       "      <td>01</td>\n",
       "      <td>24.0</td>\n",
       "      <td>2697.5</td>\n",
       "    </tr>\n",
       "    <tr>\n",
       "      <th>2</th>\n",
       "      <td>02</td>\n",
       "      <td>2.0</td>\n",
       "      <td>1790.0</td>\n",
       "    </tr>\n",
       "    <tr>\n",
       "      <th>3</th>\n",
       "      <td>03</td>\n",
       "      <td>5.0</td>\n",
       "      <td>9657.0</td>\n",
       "    </tr>\n",
       "    <tr>\n",
       "      <th>4</th>\n",
       "      <td>04</td>\n",
       "      <td>1.0</td>\n",
       "      <td>8500.0</td>\n",
       "    </tr>\n",
       "    <tr>\n",
       "      <th>5</th>\n",
       "      <td>12</td>\n",
       "      <td>2.0</td>\n",
       "      <td>12.5</td>\n",
       "    </tr>\n",
       "    <tr>\n",
       "      <th>6</th>\n",
       "      <td>13</td>\n",
       "      <td>2.0</td>\n",
       "      <td>3057.0</td>\n",
       "    </tr>\n",
       "    <tr>\n",
       "      <th>7</th>\n",
       "      <td>14</td>\n",
       "      <td>1.0</td>\n",
       "      <td>3104.0</td>\n",
       "    </tr>\n",
       "    <tr>\n",
       "      <th>8</th>\n",
       "      <td>15</td>\n",
       "      <td>17.0</td>\n",
       "      <td>4167.0</td>\n",
       "    </tr>\n",
       "    <tr>\n",
       "      <th>9</th>\n",
       "      <td>16</td>\n",
       "      <td>72.0</td>\n",
       "      <td>3571.0</td>\n",
       "    </tr>\n",
       "    <tr>\n",
       "      <th>10</th>\n",
       "      <td>17</td>\n",
       "      <td>21.0</td>\n",
       "      <td>2507.0</td>\n",
       "    </tr>\n",
       "    <tr>\n",
       "      <th>11</th>\n",
       "      <td>18</td>\n",
       "      <td>15.0</td>\n",
       "      <td>3871.0</td>\n",
       "    </tr>\n",
       "    <tr>\n",
       "      <th>12</th>\n",
       "      <td>19</td>\n",
       "      <td>9.0</td>\n",
       "      <td>3154.0</td>\n",
       "    </tr>\n",
       "    <tr>\n",
       "      <th>13</th>\n",
       "      <td>20</td>\n",
       "      <td>8.0</td>\n",
       "      <td>3781.0</td>\n",
       "    </tr>\n",
       "    <tr>\n",
       "      <th>14</th>\n",
       "      <td>21</td>\n",
       "      <td>5.0</td>\n",
       "      <td>4395.0</td>\n",
       "    </tr>\n",
       "    <tr>\n",
       "      <th>15</th>\n",
       "      <td>22</td>\n",
       "      <td>7.0</td>\n",
       "      <td>3300.0</td>\n",
       "    </tr>\n",
       "    <tr>\n",
       "      <th>16</th>\n",
       "      <td>23</td>\n",
       "      <td>23.0</td>\n",
       "      <td>2883.0</td>\n",
       "    </tr>\n",
       "  </tbody>\n",
       "</table>\n",
       "</div>"
      ],
      "text/plain": [
       "   hour_of_day  num_of_tweet  median_retweet\n",
       "0           00          70.0          4132.0\n",
       "1           01          24.0          2697.5\n",
       "2           02           2.0          1790.0\n",
       "3           03           5.0          9657.0\n",
       "4           04           1.0          8500.0\n",
       "5           12           2.0            12.5\n",
       "6           13           2.0          3057.0\n",
       "7           14           1.0          3104.0\n",
       "8           15          17.0          4167.0\n",
       "9           16          72.0          3571.0\n",
       "10          17          21.0          2507.0\n",
       "11          18          15.0          3871.0\n",
       "12          19           9.0          3154.0\n",
       "13          20           8.0          3781.0\n",
       "14          21           5.0          4395.0\n",
       "15          22           7.0          3300.0\n",
       "16          23          23.0          2883.0"
      ]
     },
     "execution_count": 385,
     "metadata": {},
     "output_type": "execute_result"
    }
   ],
   "source": [
    "hour=analysis.groupby(['hour_of_day']).apply(lambda x: pd.Series({\n",
    "    'num_of_tweet' : x['hour_of_day'].count(),\n",
    "    'median_retweet': x['retweet_count'].median()\n",
    "})).reset_index()\n",
    "hour"
   ]
  },
  {
   "cell_type": "code",
   "execution_count": 386,
   "metadata": {},
   "outputs": [],
   "source": [
    "# Since there are missing hours we coul add them\n",
    "dict_missing_hours = {'hour_of_day': ['07', '08', '09', '10', '11', '13'],\n",
    "                     'num_of_tweet': [0, 0, 0, 0, 0, 0]}\n",
    "missing_hours = pd.DataFrame(dict_missing_hours)\n",
    "hour = hour.append(missing_hours, ignore_index =True)\n",
    "hour = hour.sort_values(by='hour_of_day')"
   ]
  },
  {
   "cell_type": "code",
   "execution_count": 387,
   "metadata": {},
   "outputs": [
    {
     "data": {
      "text/plain": [
       "Text(0, 0.5, 'Number of Tweet')"
      ]
     },
     "execution_count": 387,
     "metadata": {},
     "output_type": "execute_result"
    },
    {
     "data": {
      "image/png": "[encoded data removed]",
      "text/plain": [
       "<Figure size 1440x1440 with 1 Axes>"
      ]
     },
     "metadata": {
      "needs_background": "light"
     },
     "output_type": "display_data"
    }
   ],
   "source": [
    "#Graph the number of tweets by the hour\n",
    "plt.figure(figsize=(20, 20))\n",
    "tweets_color = ['cyan' if (x in ['01', '15']) else 'grey' for x in hour['hour_of_day']]\n",
    "sns.barplot(data=hour, x='hour_of_day', y='num_of_tweet', linewidth=3, edgecolor=\"0.5\", palette=tweets_color)\n",
    "plt.title('Total number of Tweets by the Hour of the Day')\n",
    "plt.xlabel('Hour of the Day')\n",
    "plt.ylabel('Number of Tweet')"
   ]
  },
  {
   "attachments": {},
   "cell_type": "markdown",
   "metadata": {},
   "source": [
    "* There are two peaks. One is at 0100 and the other is at 1600"
   ]
  },
  {
   "cell_type": "code",
   "execution_count": 388,
   "metadata": {},
   "outputs": [
    {
     "data": {
      "text/plain": [
       "9657.0"
      ]
     },
     "execution_count": 388,
     "metadata": {},
     "output_type": "execute_result"
    }
   ],
   "source": [
    "max(hour['median_retweet'])"
   ]
  },
  {
   "cell_type": "code",
   "execution_count": 389,
   "metadata": {},
   "outputs": [
    {
     "data": {
      "text/plain": [
       "Text(0, 0.5, 'Median Number of Retweet')"
      ]
     },
     "execution_count": 389,
     "metadata": {},
     "output_type": "execute_result"
    },
    {
     "data": {
      "image/png": "[encoded data removed]",
      "text/plain": [
       "<Figure size 1440x1440 with 1 Axes>"
      ]
     },
     "metadata": {
      "needs_background": "light"
     },
     "output_type": "display_data"
    }
   ],
   "source": [
    "#Graph the median number of retweets by the hour\n",
    "plt.figure(figsize=(20, 20))\n",
    "retweets_color = ['cyan' if (x=='15') else 'grey' for x in hour['hour_of_day']]\n",
    "sns.barplot(data=hour, x='hour_of_day', y='median_retweet', linewidth=3, edgecolor=\"0.5\", palette=retweets_color)\n",
    "plt.title('Median number of Retweets by the Hour of the Day')\n",
    "plt.xlabel('Hour of the Day')\n",
    "plt.ylabel('Median Number of Retweet')"
   ]
  },
  {
   "attachments": {},
   "cell_type": "markdown",
   "metadata": {},
   "source": [
    "* Tweets sent at 1600 have the highest median number of retweets"
   ]
  },
  {
   "attachments": {},
   "cell_type": "markdown",
   "metadata": {},
   "source": [
    "### Insights:\n",
    "1. WeRateDogs® had posted the most tweets in the first quarter since they created their accounts and since decreased the rate of their posts. Though their number of tweets per quarter had decreased the number of times that their tweets are retweeted and favorited are increasing.\n",
    "\n",
    "2. Dog rating is directly proportional to the number of retweets\n",
    "\n",
    "3. Golden retriever images is the most number of tweets but Samoyed images have the highest median number of retweets among the top 10 most tweeted dog breed\n",
    "\n",
    "4. There is a slight negative relationship between the length of text and number of retweets while the size of image have a positive correlation to the number of retweets.\n",
    "\n",
    "5. Most tweets are sent on Mondays and Saturday has the least but the number of retweets is similar among the different days.\n",
    "\n",
    "6. In terms of number of time tweets are being sent out, there are two peaks. One at 0100 and another at 1600. Tweets sent at 1600 has the highest median number of retweets\n"
   ]
  },
  {
   "cell_type": "markdown",
   "metadata": {
    "collapsed": true
   },
   "source": [
    "### Visualization"
   ]
  },
  {
   "cell_type": "code",
   "execution_count": 390,
   "metadata": {},
   "outputs": [],
   "source": [
    "def define_dog_breed(x):\n",
    "    if x in ['samoyed']:\n",
    "        return 'Highest median number of retweets'\n",
    "    else:\n",
    "        return 'Others'\n",
    "analysis['high_retweet_dog_breed'] = analysis['dog_breed'].apply(lambda x: define_dog_breed(x))"
   ]
  },
  {
   "cell_type": "code",
   "execution_count": 391,
   "metadata": {},
   "outputs": [],
   "source": [
    "def define_hour(x):\n",
    "    if x == '16':\n",
    "        return 'Yes'\n",
    "    else:\n",
    "        return 'No'\n",
    "analysis['hour_1600'] = analysis['hour_of_day'].apply(lambda x: define_hour(x))"
   ]
  },
  {
   "cell_type": "code",
   "execution_count": 392,
   "metadata": {},
   "outputs": [
    {
     "data": {
      "text/plain": [
       "<Figure size 6480x360 with 0 Axes>"
      ]
     },
     "metadata": {},
     "output_type": "display_data"
    },
    {
     "data": {
      "image/png": "[encoded data removed]",
      "text/plain": [
       "<Figure size 1296.25x1080 with 1 Axes>"
      ]
     },
     "metadata": {
      "needs_background": "light"
     },
     "output_type": "display_data"
    }
   ],
   "source": [
    "plt.figure(figsize=(90, 5))\n",
    "sns.relplot(data=analysis, x='dog_rate', y='retweet_count', hue = 'high_retweet_dog_breed', style='hour_1600', legend=True, height=15, s=200, alpha=0.5)\n",
    "plt.xlabel('Dog Rating')\n",
    "plt.ylabel('Number of times the tweet was retweeted')\n",
    "plt.title('Dog Rating vs Retweeted')\n",
    "plt.show()"
   ]
  }
 ],
 "metadata": {
  "extensions": {
   "jupyter_dashboards": {
    "activeView": "report_default",
    "version": 1,
    "views": {
     "grid_default": {
      "cellMargin": 10,
      "defaultCellHeight": 20,
      "maxColumns": 12,
      "name": "grid",
      "type": "grid"
     },
     "report_default": {
      "name": "report",
      "type": "report"
     }
    }
   }
  },
  "kernelspec": {
   "display_name": "minimal_ds",
   "language": "python",
   "name": "python3"
  },
  "language_info": {
   "codemirror_mode": {
    "name": "ipython",
    "version": 3
   },
   "file_extension": ".py",
   "mimetype": "text/x-python",
   "name": "python",
   "nbconvert_exporter": "python",
   "pygments_lexer": "ipython3",
   "version": "3.10.0 | packaged by conda-forge | (default, Nov 20 2021, 02:25:18) [GCC 9.4.0]"
  },
  "vscode": {
   "interpreter": {
    "hash": "faa3abadd7b8b9169c06be42e72c83f3ab18538879e29609763ee83ad051eacb"
   }
  }
 },
 "nbformat": 4,
 "nbformat_minor": 2
}
